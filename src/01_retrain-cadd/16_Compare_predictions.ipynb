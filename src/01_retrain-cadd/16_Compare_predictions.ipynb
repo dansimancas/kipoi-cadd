{
 "cells": [
  {
   "cell_type": "markdown",
   "metadata": {},
   "source": [
    "## Obtain the last trained model and predict scores for 10k random variants"
   ]
  },
  {
   "cell_type": "code",
   "execution_count": 88,
   "metadata": {},
   "outputs": [],
   "source": [
    "from sklearn.externals import joblib\n",
    "from kipoi_cadd.data import CaddDataset\n",
    "from kipoi_cadd.utils import load_pickle\n",
    "from scipy.sparse import csr_matrix\n",
    "import cyvcf2\n",
    "import numpy as np"
   ]
  },
  {
   "cell_type": "code",
   "execution_count": 93,
   "metadata": {},
   "outputs": [],
   "source": [
    "training_dir = \"/s/project/kipoi-cadd/data/raw/v1.3/training_data/\"\n",
    "kipoi_features_dir = \"/s/project/kipoi-cadd/data/processed/v1.3/kipoi_features/\"\n",
    "lmdb_dir = training_dir + \"lmdb\"\n",
    "model_file = \"/tmp/gin-train/62cdc2663f484ba9a9614dcd8283aad9/model.h5\"\n",
    "shuff_10k_file = training_dir + \"shuffle_splits/shuffled_index_10k.pkl\"\n",
    "vars_to_compare = kipoi_features_dir + \"vars_to_compare.vcf\""
   ]
  },
  {
   "cell_type": "code",
   "execution_count": 94,
   "metadata": {},
   "outputs": [],
   "source": [
    "def variants_to_basic_vcf(variants, output_file=None):\n",
    "    vcf_string = \"\"\n",
    "    for var in variants:\n",
    "        if isinstance(var, cyvcf2.Variant):\n",
    "            vcf_string += var.CHROM + \"\\t\" + var.POS + \"\\t\" + var.ID + \"\\t\" + var.REF + \"\\t\" + var.ALT[0] + \"\\n\"\n",
    "        else:\n",
    "            chrom, pos, ref, alt = var.split(\":\")\n",
    "            vcf_string += chrom + \"\\t\" + pos + \"\\t.\\t\" + ref + \"\\t\" + alt.split(\"'\")[1] + \"\\n\"\n",
    "    \n",
    "    if output_file is not None:\n",
    "        with open(output_file, \"w\") as f:\n",
    "            f.write(vcf_string)\n",
    "        return None\n",
    "    else:\n",
    "        return vcf_string\n",
    "\n",
    "variants_to_basic_vcf(shuff_10k, vars_to_compare)"
   ]
  },
  {
   "cell_type": "code",
   "execution_count": 10,
   "metadata": {},
   "outputs": [
    {
     "data": {
      "text/plain": [
       "3299    1:1088349:C:['T']\n",
       "3730    1:1106143:T:['C']\n",
       "9371    1:1967148:T:['C']\n",
       "8435    1:1840772:T:['G']\n",
       "1694     1:991451:C:['T']\n",
       "dtype: object"
      ]
     },
     "execution_count": 10,
     "metadata": {},
     "output_type": "execute_result"
    }
   ],
   "source": [
    "shuff_10k = load_pickle(shuff_10k_file)\n",
    "shuff_10k.head()"
   ]
  },
  {
   "cell_type": "code",
   "execution_count": 3,
   "metadata": {},
   "outputs": [],
   "source": [
    "clf = joblib.load(model_file)"
   ]
  },
  {
   "cell_type": "code",
   "execution_count": 13,
   "metadata": {},
   "outputs": [],
   "source": [
    "ds = CaddDataset(lmdb_dir, shuff_10k_file)"
   ]
  },
  {
   "cell_type": "code",
   "execution_count": 15,
   "metadata": {},
   "outputs": [
    {
     "name": "stderr",
     "output_type": "stream",
     "text": [
      "100%|██████████| 157/157 [00:00<00:00, 526.71it/s]\n"
     ]
    }
   ],
   "source": [
    "X, y = ds.load_all(shuffle=False)"
   ]
  },
  {
   "cell_type": "code",
   "execution_count": 20,
   "metadata": {},
   "outputs": [
    {
     "data": {
      "text/plain": [
       "dtype('int64')"
      ]
     },
     "execution_count": 20,
     "metadata": {},
     "output_type": "execute_result"
    }
   ],
   "source": [
    "# TODO: Why is this y.dtype = dtype('int64') ???\n",
    "y.dtype"
   ]
  },
  {
   "cell_type": "code",
   "execution_count": 23,
   "metadata": {},
   "outputs": [],
   "source": [
    "# Do the same process as the trainer\n",
    "X_sparse = csr_matrix(X, shape=None, dtype=np.float32, copy=True)\n",
    "X = X_sparse\n",
    "y = y.astype(np.float32)\n",
    "del X_sparse"
   ]
  },
  {
   "cell_type": "code",
   "execution_count": 25,
   "metadata": {},
   "outputs": [
    {
     "data": {
      "text/plain": [
       "dtype('float32')"
      ]
     },
     "execution_count": 25,
     "metadata": {},
     "output_type": "execute_result"
    }
   ],
   "source": [
    "y.dtype"
   ]
  },
  {
   "cell_type": "code",
   "execution_count": 30,
   "metadata": {},
   "outputs": [
    {
     "data": {
      "text/plain": [
       "array([[0.62682846, 0.37317154],\n",
       "       [0.46786106, 0.53213894],\n",
       "       [0.53893632, 0.46106368],\n",
       "       ...,\n",
       "       [0.58041913, 0.41958087],\n",
       "       [0.48847238, 0.51152762],\n",
       "       [0.66130594, 0.33869406]])"
      ]
     },
     "execution_count": 30,
     "metadata": {},
     "output_type": "execute_result"
    }
   ],
   "source": [
    "y_pred = clf.predict_proba(X)\n",
    "y_pred"
   ]
  },
  {
   "cell_type": "markdown",
   "metadata": {},
   "source": [
    "## Try read gzipped vcf file\n",
    "Used this command:\n",
    "`vep --input_file myVariants.vcf.gz --output_file myOutput.vcf --vcf --fields \"CADD_PHRED,CADD_RAW\" --cache --dir_cache /opt/modules/i12g/ensembl-vep/92/cachedir --assembly GRCh37 --offline --force_overwrite --plugin CADD,{path-to}/whole_genome_SNVs_1.3.tsv.gz,{path-to}/InDels_1.3.tsv.gz`\n",
    "\n",
    "The INFO field presents itself as follows: `<key>=<data>[,data]`."
   ]
  },
  {
   "cell_type": "code",
   "execution_count": 96,
   "metadata": {},
   "outputs": [],
   "source": [
    "vcf_gz = \"/s/databases/cadd/CADD_v1.3/test_output_1.3.vcf.gz\"\n",
    "test_vcf_gz = \"/s/databases/cadd/CADD_v1.3/test.vcf\"\n",
    "my_vcf_output = kipoi_features_dir + \"vars_to_compare_output_1.3.vcf\""
   ]
  },
  {
   "cell_type": "code",
   "execution_count": 32,
   "metadata": {},
   "outputs": [],
   "source": [
    "from cyvcf2 import VCF"
   ]
  },
  {
   "cell_type": "code",
   "execution_count": 79,
   "metadata": {},
   "outputs": [
    {
     "name": "stdout",
     "output_type": "stream",
     "text": [
      "4.364 0.170357\n",
      "7.346 0.488985\n",
      "7.333 0.487299\n",
      "2.104 -0.053137\n",
      "1.315 -0.161708\n",
      "6.129 0.345946\n",
      "3.435 0.083762\n",
      "4.25 0.159686\n",
      "8.461 0.644741\n",
      "27.2 5.824971\n",
      "27.3 5.856453\n",
      "1.045 -0.210303\n",
      "22.3 3.030159\n",
      "5.45 0.275144\n",
      "18.7 2.381732\n",
      "23.7 4.078581\n",
      "25.9 5.342419\n",
      "34.0 7.472678\n",
      "6.93 0.437075\n"
     ]
    }
   ],
   "source": [
    "myVar = None\n",
    "for var in VCF(vcf_gz):\n",
    "    myVar = var\n",
    "    scores = [(float(x.split(\"|\")[0]), float(x.split(\"|\")[1])) for x in myVar.INFO.get('CSQ').split(\",\")]\n",
    "    cadd_phred, cadd_raw = scores[0][0], scores[0][1]\n",
    "    print(cadd_phred, cadd_raw)"
   ]
  },
  {
   "cell_type": "code",
   "execution_count": 69,
   "metadata": {},
   "outputs": [
    {
     "data": {
      "text/plain": [
       "25"
      ]
     },
     "execution_count": 69,
     "metadata": {},
     "output_type": "execute_result"
    }
   ],
   "source": [
    "header_info = \"Allele|Consequence|IMPACT|SYMBOL|Gene|Feature_type|Feature|BIOTYPE|EXON|INTRON|HGVSc|HGVSp|cDNA_position|CDS_position|Protein_position|Amino_acids|Codons|Existing_variation|DISTANCE|STRAND|FLAGS|SYMBOL_SOURCE|HGNC_ID|CADD_PHRED|CADD_RAW\"\n",
    "len(header_info.split(\"|\"))"
   ]
  },
  {
   "cell_type": "code",
   "execution_count": 84,
   "metadata": {},
   "outputs": [
    {
     "name": "stdout",
     "output_type": "stream",
     "text": [
      "1\t14673\trs11582131\tG\tC\n",
      "1\t14677\t.\tG\tA\n",
      "1\t14699\trs11490464\tC\tG\n",
      "1\t14907\trs6682375\tA\tG\n",
      "1\t14930\trs6682385\tA\tG\n",
      "1\t15906\t.\tA\tG\n",
      "1\t15922\trs80168857\tA\tG\n",
      "1\t15956\t.\tG\tA\n",
      "1\t16949\trs708637\tA\tC\n",
      "1\t3519049\t.\tAC\tA\n"
     ]
    }
   ],
   "source": [
    "! head -10 {test_vcf_gz}"
   ]
  },
  {
   "cell_type": "code",
   "execution_count": 98,
   "metadata": {},
   "outputs": [
    {
     "name": "stdout",
     "output_type": "stream",
     "text": [
      "##fileformat=VCFv4.1\n",
      "##VEP=\"v92\" time=\"2019-01-02 04:28:27\" cache=\"/opt/modules/i12g/ensembl-vep/92/cachedir/homo_sapiens/92_GRCh37\" 1000genomes=\"phase3\" COSMIC=\"81\" ClinVar=\"201706\" ESP=\"20141103\" HGMD-PUBLIC=\"20164\" assembly=\"GRCh37.p13\" dbSNP=\"150\" gencode=\"GENCODE 19\" genebuild=\"2011-04\" gnomAD=\"170228\" polyphen=\"2.2.2\" regbuild=\"1.0\" sift=\"sift5.2.2\"\n",
      "##INFO=<ID=CSQ,Number=.,Type=String,Description=\"Consequence annotations from Ensembl VEP. Format: CADD_PHRED|CADD_RAW\">\n",
      "##CADD_PHRED=PHRED-like scaled CADD score\n",
      "##CADD_RAW=Raw CADD score\n",
      "#CHROM\tPOS\tID\tREF\tALT\tQUAL\tFILTER\tINFO\n",
      "1\t1088349\t.\tC\tT\t.\t.\tCSQ=|\n",
      "1\t1106143\t.\tT\tC\t.\t.\tCSQ=|,|,|,|,|,|,|,|\n",
      "1\t1967148\t.\tT\tC\t.\t.\tCSQ=|\n",
      "1\t1840772\t.\tT\tG\t.\t.\tCSQ=|\n",
      "1\t991451\t.\tC\tT\t.\t.\tCSQ=|,|,|,|,|,|\n",
      "1\t1308686\t.\tC\tT\t.\t.\tCSQ=|,|,|,|,|,|\n",
      "1\t1747349\t.\tC\tT\t.\t.\tCSQ=|,|,|,|,|\n",
      "1\t1317646\t.\tC\tT\t.\t.\tCSQ=|,|,|,|,|,|,|,|,|,|,|,|\n",
      "1\t2007148\t.\tC\tT\t.\t.\tCSQ=|,|,|,|,|,|,|,|,|,|\n",
      "1\t1986400\t.\tT\tA\t.\t.\tCSQ=|,|,|,|,|,|,|\n",
      "1\t1253092\t.\tG\tC\t.\t.\tCSQ=|,|,|,|,|,|,|,|,|,|,|,|,|,|,|,|,|,|,|,|,|,|,|,|,|,|,|,|,|,|,|,|,|,|,|,|,|,|,|,|,|,|,|,|,|,|,|\n",
      "1\t1059009\t.\tC\tA\t.\t.\tCSQ=|\n",
      "1\t1471582\t.\tA\tG\t.\t.\tCSQ=|,|,|,|,|,|\n",
      "1\t1546777\t.\tG\tT\t.\t.\tCSQ=|,|,|,|,|,|,|,|,|,|,|,|,|,|,|,|,|,|,|,|,|\n",
      "1\t408114\t.\tT\tC\t.\t.\tCSQ=|\n",
      "1\t1042869\t.\tA\tG\t.\t.\tCSQ=|,|,|,|,|,|,|,|,|,|,|,|,|,|,|\n",
      "1\t1812987\t.\tC\tT\t.\t.\tCSQ=|,|,|,|\n",
      "1\t969662\t.\tC\tT\t.\t.\tCSQ=|,|,|\n",
      "1\t401648\t.\tC\tT\t.\t.\tCSQ=|\n",
      "1\t900010\t.\tA\tG\t.\t.\tCSQ=|,|,|,|,|,|,|\n",
      "1\t2049125\t.\tT\tC\t.\t.\tCSQ=|,|,|,|,|,|,|,|,|,|,|,|,|,|,|\n",
      "1\t1937902\t.\tT\tC\t.\t.\tCSQ=|,|,|,|\n",
      "1\t1283397\t.\tG\tC\t.\t.\tCSQ=|,|,|,|,|,|,|,|\n",
      "1\t1079797\t.\tC\tT\t.\t.\tCSQ=|\n",
      "1\t1263719\t.\tC\tT\t.\t.\tCSQ=|,|,|,|,|,|,|,|,|,|,|,|,|,|,|,|,|,|,|,|,|,|,|,|,|,|,|,|,|,|,|,|,|,|,|,|,|\n",
      "1\t1688485\t.\tG\tA\t.\t.\tCSQ=|,|,|,|,|,|,|,|,|,|,|,|,|,|,|,|,|,|\n",
      "1\t1914430\t.\tT\tC\t.\t.\tCSQ=|,|,|,|\n",
      "1\t1946424\t.\tA\tC\t.\t.\tCSQ=|,|\n",
      "1\t397271\t.\tG\tA\t.\t.\tCSQ=|\n",
      "1\t953193\t.\tT\tC\t.\t.\tCSQ=|,|,|\n",
      "1\t1871954\t.\tA\tG\t.\t.\tCSQ=|\n",
      "1\t1272789\t.\tA\tC\t.\t.\tCSQ=|,|,|,|\n",
      "1\t1275322\t.\tA\tC\t.\t.\tCSQ=|,|,|,|\n",
      "1\t973205\t.\tT\tA\t.\t.\tCSQ=|,|,|\n",
      "1\t1080474\t.\tC\tT\t.\t.\tCSQ=|\n",
      "1\t1600179\t.\tA\tG\t.\t.\tCSQ=|,|,|,|,|,|\n",
      "1\t1754767\t.\tT\tC\t.\t.\tCSQ=|,|,|,|,|,|,|\n",
      "1\t1878645\t.\tG\tC\t.\t.\tCSQ=|,|\n",
      "1\t952139\t.\tA\tG\t.\t.\tCSQ=|,|,|\n",
      "1\t1913208\t.\tA\tG\t.\t.\tCSQ=|,|,|\n",
      "1\t876184\t.\tT\tA\t.\t.\tCSQ=|,|,|,|,|,|,|,|,|,|,|,|\n",
      "1\t1079070\t.\tA\tG\t.\t.\tCSQ=|\n",
      "1\t1027156\t.\tT\tA\t.\t.\tCSQ=|,|,|,|,|,|,|,|,|,|,|,|,|,|,|,|,|,|,|,|,|\n",
      "1\t1097992\t.\tT\tC\t.\t.\tCSQ=|\n",
      "1\t408717\t.\tC\tT\t.\t.\tCSQ=|\n",
      "1\t915332\t.\tT\tC\t.\t.\tCSQ=|,|,|,|,|,|,|\n",
      "1\t1087534\t.\tG\tA\t.\t.\tCSQ=|\n",
      "1\t1112554\t.\tG\tA\t.\t.\tCSQ=|,|,|,|,|,|,|\n",
      "1\t1101952\t.\tA\tG\t.\t.\tCSQ=|,|,|,|\n",
      "1\t1087828\t.\tT\tC\t.\t.\tCSQ=|\n",
      "1\t1629374\t.\tT\tC\t.\t.\tCSQ=|,|,|,|,|,|,|,|,|,|,|,|,|\n",
      "1\t974922\t.\tC\tG\t.\t.\tCSQ=|,|,|\n",
      "1\t1593704\t.\tT\tG\t.\t.\tCSQ=|,|,|,|,|,|,|,|,|\n",
      "1\t1930735\t.\tG\tA\t.\t.\tCSQ=|,|,|,|\n",
      "1\t1081975\t.\tA\tG\t.\t.\tCSQ=|\n",
      "1\t2002814\t.\tG\tA\t.\t.\tCSQ=|,|,|,|,|,|,|,|,|,|\n",
      "1\t600878\t.\tT\tC\t.\t.\tCSQ=|\n",
      "1\t1688481\t.\tG\tA\t.\t.\tCSQ=|,|,|,|,|,|,|,|,|,|,|,|,|,|,|,|,|,|\n",
      "1\t1929225\t.\tG\tA\t.\t.\tCSQ=|,|,|,|\n",
      "1\t1069760\t.\tA\tG\t.\t.\tCSQ=|\n",
      "1\t1321522\t.\tA\tG\t.\t.\tCSQ=|,|,|,|,|,|,|,|,|,|,|,|,|,|\n",
      "1\t1618669\t.\tT\tC\t.\t.\tCSQ=|,|,|\n",
      "1\t1966929\t.\tC\tA\t.\t.\tCSQ=|\n",
      "1\t1747163\t.\tT\tA\t.\t.\tCSQ=|,|,|,|,|\n",
      "1\t958236\t.\tC\tT\t.\t.\tCSQ=|\n",
      "1\t1366388\t.\tT\tA\t.\t.\tCSQ=|,|,|,|,|,|,|,|,|,|\n",
      "1\t1196609\t.\tG\tT\t.\t.\tCSQ=|,|,|,|,|,|,|,|,|,|,|,|,|,|,|,|,|,|,|,|,|\n",
      "1\t1202087\t.\tA\tG\t.\t.\tCSQ=|,|,|,|,|,|,|,|,|,|,|,|,|,|,|,|,|,|,|,|,|\n",
      "1\t1007237\t.\tG\tC\t.\t.\tCSQ=|,|\n",
      "1\t915557\t.\tG\tA\t.\t.\tCSQ=|,|,|,|\n",
      "1\t2034866\t.\tC\tT\t.\t.\tCSQ=|,|,|,|,|,|,|,|,|,|,|,|,|\n",
      "1\t1334306\t.\tG\tA\t.\t.\tCSQ=|,|,|,|,|,|,|,|,|,|,|,|,|,|,|,|,|,|,|,|,|,|,|,|\n",
      "1\t1530816\t.\tC\tG\t.\t.\tCSQ=|\n",
      "1\t877474\t.\tT\tC\t.\t.\tCSQ=|,|,|,|,|,|,|,|,|,|,|,|\n",
      "1\t1187076\t.\tT\tC\t.\t.\tCSQ=|,|,|,|,|,|,|,|,|,|,|,|,|,|,|,|\n",
      "1\t1366226\t.\tA\tG\t.\t.\tCSQ=|,|,|,|,|,|,|,|,|,|\n",
      "1\t1811624\t.\tG\tA\t.\t.\tCSQ=|,|,|,|\n",
      "1\t1274040\t.\tG\tA\t.\t.\tCSQ=|,|,|,|\n",
      "1\t1224888\t.\tT\tC\t.\t.\tCSQ=|,|,|,|,|,|,|,|,|,|,|,|,|\n",
      "1\t1120182\t.\tT\tG\t.\t.\tCSQ=|,|,|,|,|,|\n",
      "1\t1613046\t.\tT\tA\t.\t.\tCSQ=|,|,|\n",
      "1\t2045324\t.\tC\tT\t.\t.\tCSQ=|,|,|,|,|,|,|,|,|,|,|,|,|,|,|\n",
      "1\t409666\t.\tC\tT\t.\t.\tCSQ=|\n",
      "1\t1960617\t.\tG\tA\t.\t.\tCSQ=|\n",
      "1\t1070974\t.\tA\tG\t.\t.\tCSQ=|\n",
      "1\t1538817\t.\tG\tA\t.\t.\tCSQ=|\n",
      "1\t1338038\t.\tC\tT\t.\t.\tCSQ=|,|,|,|,|,|,|,|,|,|,|,|,|,|,|,|,|,|,|,|,|,|,|,|,|,|,|\n",
      "1\t1612966\t.\tT\tG\t.\t.\tCSQ=|,|,|\n",
      "1\t1084681\t.\tT\tC\t.\t.\tCSQ=|\n",
      "1\t962560\t.\tC\tT\t.\t.\tCSQ=|\n",
      "1\t1247320\t.\tG\tA\t.\t.\tCSQ=|,|,|,|,|,|,|,|,|,|,|,|,|,|,|,|,|,|,|,|,|,|,|,|,|,|,|,|,|,|,|,|,|,|,|,|,|,|,|,|,|,|,|,|,|,|,|\n",
      "1\t987470\t.\tT\tG\t.\t.\tCSQ=|,|,|,|,|,|,|\n",
      "1\t877797\t.\tT\tC\t.\t.\tCSQ=|,|,|,|,|,|,|,|,|,|,|,|\n",
      "1\t1883762\t.\tA\tG\t.\t.\tCSQ=|,|,|,|,|\n"
     ]
    }
   ],
   "source": [
    "! head -100 {my_vcf_output}"
   ]
  },
  {
   "cell_type": "code",
   "execution_count": null,
   "metadata": {},
   "outputs": [],
   "source": []
  }
 ],
 "metadata": {
  "kernelspec": {
   "display_name": "Python [conda env:kipoi-cadd2]",
   "language": "python",
   "name": "conda-env-kipoi-cadd2-py"
  },
  "language_info": {
   "codemirror_mode": {
    "name": "ipython",
    "version": 3
   },
   "file_extension": ".py",
   "mimetype": "text/x-python",
   "name": "python",
   "nbconvert_exporter": "python",
   "pygments_lexer": "ipython3",
   "version": "3.6.7"
  }
 },
 "nbformat": 4,
 "nbformat_minor": 2
}
