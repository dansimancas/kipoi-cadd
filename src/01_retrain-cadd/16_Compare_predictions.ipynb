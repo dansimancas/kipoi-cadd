{
 "cells": [
  {
   "cell_type": "markdown",
   "metadata": {},
   "source": [
    "## Obtain the last trained model and predict scores for 10k random variants"
   ]
  },
  {
   "cell_type": "code",
   "execution_count": 66,
   "metadata": {},
   "outputs": [],
   "source": [
    "from sklearn.externals import joblib\n",
    "from kipoi_cadd.data import CaddDataset\n",
    "from kipoi_cadd.utils import load_pickle, dump_to_pickle\n",
    "from tqdm import tqdm\n",
    "from math import log\n",
    "from kipoi_cadd.utils import variant_id_string\n",
    "from scipy.sparse import csr_matrix\n",
    "import matplotlib.pyplot as plt\n",
    "import cyvcf2\n",
    "import numpy as np\n",
    "import pandas as pd"
   ]
  },
  {
   "cell_type": "code",
   "execution_count": 12,
   "metadata": {},
   "outputs": [],
   "source": [
    "training_dir = \"/s/project/kipoi-cadd/data/raw/v1.3/training_data/\"\n",
    "kipoi_features_dir = \"/s/project/kipoi-cadd/data/processed/v1.3/kipoi_features/\"\n",
    "lmdb_dir = training_dir + \"lmdb\"\n",
    "model_file = \"/tmp/gin-train/62cdc2663f484ba9a9614dcd8283aad9/model.h5\"\n",
    "shuff_10k_file = training_dir + \"ids_10k.pkl\"\n",
    "vars_to_compare = kipoi_features_dir + \"vars_to_compare.vcf\"\n",
    "regions_txt = kipoi_features_dir + \"regions.txt\"\n",
    "regions_output = kipoi_features_dir + \"regions_output.vcf\""
   ]
  },
  {
   "cell_type": "code",
   "execution_count": 13,
   "metadata": {},
   "outputs": [
    {
     "data": {
      "text/plain": [
       "17783505     1:49000062:A:['G']\n",
       "7981343      8:98127146:T:['G']\n",
       "33540028    12:47011284:N:['N']\n",
       "9066941     10:25408052:A:['C']\n",
       "1223325       2:5430769:G:['C']\n",
       "dtype: object"
      ]
     },
     "execution_count": 13,
     "metadata": {},
     "output_type": "execute_result"
    }
   ],
   "source": [
    "shuff_10k = load_pickle(shuff_10k_file)\n",
    "shuff_10k.head()"
   ]
  },
  {
   "cell_type": "code",
   "execution_count": 15,
   "metadata": {},
   "outputs": [
    {
     "data": {
      "image/png": "[encoded data removed]",
      "text/plain": [
       "<Figure size 432x288 with 1 Axes>"
      ]
     },
     "metadata": {
      "needs_background": "light"
     },
     "output_type": "display_data"
    }
   ],
   "source": [
    "plt.hist(shuff_10k.index.values, bins=30);\n",
    "plt.show()"
   ]
  },
  {
   "cell_type": "code",
   "execution_count": 17,
   "metadata": {},
   "outputs": [],
   "source": [
    "def variants_to_basic_vcf(variants, output_file=None, n_lines=None):\n",
    "    vcf_string = \"\"\n",
    "    for i, var in enumerate(variants):\n",
    "        if isinstance(var, cyvcf2.Variant):\n",
    "            vcf_string += var.CHROM + \"\\t\" + var.POS + \"\\t\" + var.ID + \"\\t\" + var.REF + \"\\t\" + var.ALT[0] + \"\\n\"\n",
    "        else:\n",
    "            chrom, pos, ref, alt = var.split(\":\")\n",
    "            vcf_string += chrom + \"\\t\" + pos + \"\\tv\" + str(i+1) + \"\\t\" + ref + \"\\t\" + alt.split(\"'\")[1] + \"\\n\"\n",
    "        if n_lines is not None:\n",
    "            if i >= n_lines: break\n",
    "\n",
    "    if output_file is not None:\n",
    "        with open(output_file, \"w\") as f:\n",
    "            f.write(vcf_string)\n",
    "        return None\n",
    "    else:\n",
    "        return vcf_string\n",
    "    \n",
    "def variants_to_basic_regions(variants, output_file=None, n_lines=None):\n",
    "    region_df = {'CHROM': [], 'POS': [], 'REF': [], 'ALT': []}\n",
    "    for i, var in enumerate(variants):\n",
    "        if isinstance(var, cyvcf2.Variant):\n",
    "            # region_string += var.CHROM + \"\\t\" + var.POS + \"\\n\"\n",
    "            region_df['CHROM'].append(int(var.CHROM))\n",
    "            region_df['POS'].append(int(var.POS))\n",
    "            region_df['REF'].append(var.REF)\n",
    "            region_df['ALT'].append(var.ALT[0])\n",
    "        else:\n",
    "            chrom, pos, ref, alt = var.split(\":\")\n",
    "            # region_string += chrom + \"\\t\" + pos + \"\\n\"\n",
    "            if chrom == 'X' or chrom == 'Y':\n",
    "                region_df['CHROM'].append(chrom)                \n",
    "            else:\n",
    "                region_df['CHROM'].append(int(chrom))\n",
    "            region_df['POS'].append(int(pos))\n",
    "            region_df['REF'].append(ref)\n",
    "            region_df['ALT'].append(alt.split(\"'\")[1])\n",
    "    \n",
    "        if n_lines is not None:\n",
    "            if i >= n_lines: break\n",
    "    \n",
    "    df = pd.DataFrame(region_df)\n",
    "    df.sort_values(by=['CHROM', 'POS'], inplace=True)\n",
    "    # df['region'] = [':'.join([str(r.CHROM), str(r.POS) + \"-\" + str(r.POS), \"1/\" + r.ALT]) for r in df.itertuples()]\n",
    "    # SNP\n",
    "    # 5:140532-140532:1/C\n",
    "    if output_file is not None:\n",
    "        # df.region.to_csv(output_file, sep='\\t', index=None, header=None)\n",
    "        df.to_csv(output_file, sep='\\t', index=None, header=None)\n",
    "        return None\n",
    "    else:\n",
    "        return df\n",
    "\n",
    "variants_to_basic_regions(shuff_10k, regions_txt)\n",
    "# variants_to_basic_vcf(shuff_10k, vars_to_compare, n_lines=3)"
   ]
  },
  {
   "cell_type": "markdown",
   "metadata": {},
   "source": [
    "### Load the model and the variants to be compared"
   ]
  },
  {
   "cell_type": "code",
   "execution_count": 18,
   "metadata": {},
   "outputs": [
    {
     "name": "stderr",
     "output_type": "stream",
     "text": [
      "100%|██████████| 157/157 [00:40<00:00,  3.90it/s]\n"
     ]
    }
   ],
   "source": [
    "clf = joblib.load(model_file)\n",
    "ds = CaddDataset(lmdb_dir, shuff_10k_file)\n",
    "X, y = ds.load_all(shuffle=False)"
   ]
  },
  {
   "cell_type": "code",
   "execution_count": 19,
   "metadata": {},
   "outputs": [
    {
     "data": {
      "text/plain": [
       "dtype('float64')"
      ]
     },
     "execution_count": 19,
     "metadata": {},
     "output_type": "execute_result"
    }
   ],
   "source": [
    "# TODO: Why is this y.dtype = dtype('int64') ???\n",
    "y.dtype"
   ]
  },
  {
   "cell_type": "code",
   "execution_count": 20,
   "metadata": {},
   "outputs": [],
   "source": [
    "# Do the same process as the trainer\n",
    "X_sparse = csr_matrix(X, shape=None, dtype=np.float32, copy=True)\n",
    "X = X_sparse\n",
    "y = y.astype(np.float32)\n",
    "del X_sparse"
   ]
  },
  {
   "cell_type": "code",
   "execution_count": 21,
   "metadata": {},
   "outputs": [
    {
     "data": {
      "text/plain": [
       "dtype('float32')"
      ]
     },
     "execution_count": 21,
     "metadata": {},
     "output_type": "execute_result"
    }
   ],
   "source": [
    "y.dtype"
   ]
  },
  {
   "cell_type": "code",
   "execution_count": 23,
   "metadata": {},
   "outputs": [
    {
     "data": {
      "text/plain": [
       "array([[0.4649066 , 0.5350934 ],\n",
       "       [0.39847899, 0.60152101],\n",
       "       [0.44384684, 0.55615316],\n",
       "       ...,\n",
       "       [0.50736969, 0.49263031],\n",
       "       [0.49401669, 0.50598331],\n",
       "       [0.48529792, 0.51470208]])"
      ]
     },
     "execution_count": 23,
     "metadata": {},
     "output_type": "execute_result"
    }
   ],
   "source": [
    "y_pred_kipoi = clf.predict_proba(X)\n",
    "y_pred_kipoi"
   ]
  },
  {
   "cell_type": "markdown",
   "metadata": {},
   "source": [
    "## a. Use VEP to obtain CADD scores\n",
    "Used this command:\n",
    "`vep --input_file myVariants.vcf.gz --output_file myOutput.vcf --vcf --fields \"CADD_PHRED,CADD_RAW\" --cache --dir_cache /opt/modules/i12g/ensembl-vep/92/cachedir --assembly GRCh37 --offline --force_overwrite --plugin CADD,{path-to}/whole_genome_SNVs_1.3.tsv.gz,{path-to}/InDels_1.3.tsv.gz`\n",
    "\n",
    "vep --input_file /s/project/kipoi-cadd/data/processed/v1.3/kipoi_features/vars_to_compare.vcf --output_file /s/project/kipoi-cadd/data/processed/v1.3/kipoi_features/vars_to_compare_output.vcf --vcf --fields \"CADD_PHRED,CADD_RAW\" --cache --dir_cache /opt/modules/i12g/ensembl-vep/92/cachedir --assembly GRCh37 --port 3337 --force_overwrite --plugin CADD,whole_genome_SNVs_1.3.tsv.gz,InDels_1.3.tsv.gz\n",
    "\n",
    "vep --input_file /s/project/kipoi-cadd/data/processed/v1.3/kipoi_features/regions.txt --format region --output_file /s/project/kipoi-cadd/data/processed/v1.3/kipoi_features/regions_output.vcf --vcf --fields \"CADD_PHRED,CADD_RAW\" --cache --dir_cache /opt/modules/i12g/ensembl-vep/92/cachedir --assembly GRCh37 --port 3337 --force_overwrite --plugin CADD,whole_genome_SNVs_1.3.tsv.gz,InDels_1.3.tsv.gz\n",
    "\n",
    "The INFO field presents itself as follows: `<key>=<data>[,data]`."
   ]
  },
  {
   "cell_type": "code",
   "execution_count": 143,
   "metadata": {},
   "outputs": [],
   "source": [
    "vcf_gz = \"/s/databases/cadd/CADD_v1.3/test_output_1.3.vcf.gz\"\n",
    "test_vcf_gz = \"/s/databases/cadd/CADD_v1.3/test.vcf\"\n",
    "my_vcf_output = kipoi_features_dir + \"vars_to_compare_output.vcf\""
   ]
  },
  {
   "cell_type": "code",
   "execution_count": 32,
   "metadata": {},
   "outputs": [],
   "source": [
    "from cyvcf2 import VCF"
   ]
  },
  {
   "cell_type": "code",
   "execution_count": 107,
   "metadata": {},
   "outputs": [],
   "source": [
    "def get_cadd_scores_from_vcf(vcf_file):\n",
    "    cadd_scores = {'CADD_PHRED': [], 'CADD_RAW': []}\n",
    "    var_ids = []\n",
    "    for var in VCF(vcf_file):\n",
    "        scores = [(x.split('|')[0], x.split('|')[1]) for x in var.INFO.get('CSQ').split(',')]\n",
    "        phred = float(scores[0][0]) if scores[0][0] != '' else None\n",
    "        raw = float(scores[0][1]) if scores[0][1] != '' else None\n",
    "        cadd_scores['CADD_PHRED'], cadd_scores['CADD_RAW'] = phred, raw\n",
    "        var_ids.append(variant_id_string(var.CHROM, var.POS, var.REF, var.ALT))\n",
    "    return pd.DataFrame(cadd_scores, index=var_ids)"
   ]
  },
  {
   "cell_type": "code",
   "execution_count": 151,
   "metadata": {},
   "outputs": [
    {
     "data": {
      "text/html": [
       "<div>\n",
       "<style scoped>\n",
       "    .dataframe tbody tr th:only-of-type {\n",
       "        vertical-align: middle;\n",
       "    }\n",
       "\n",
       "    .dataframe tbody tr th {\n",
       "        vertical-align: top;\n",
       "    }\n",
       "\n",
       "    .dataframe thead th {\n",
       "        text-align: right;\n",
       "    }\n",
       "</style>\n",
       "<table border=\"1\" class=\"dataframe\">\n",
       "  <thead>\n",
       "    <tr style=\"text-align: right;\">\n",
       "      <th></th>\n",
       "      <th>CADD_PHRED</th>\n",
       "      <th>CADD_RAW</th>\n",
       "    </tr>\n",
       "  </thead>\n",
       "  <tbody>\n",
       "    <tr>\n",
       "      <th>1:1088349:C:['T']</th>\n",
       "      <td>None</td>\n",
       "      <td>None</td>\n",
       "    </tr>\n",
       "    <tr>\n",
       "      <th>1:1106143:T:['C']</th>\n",
       "      <td>None</td>\n",
       "      <td>None</td>\n",
       "    </tr>\n",
       "    <tr>\n",
       "      <th>1:1967148:T:['C']</th>\n",
       "      <td>None</td>\n",
       "      <td>None</td>\n",
       "    </tr>\n",
       "    <tr>\n",
       "      <th>1:1840772:T:['G']</th>\n",
       "      <td>None</td>\n",
       "      <td>None</td>\n",
       "    </tr>\n",
       "  </tbody>\n",
       "</table>\n",
       "</div>"
      ],
      "text/plain": [
       "                  CADD_PHRED CADD_RAW\n",
       "1:1088349:C:['T']       None     None\n",
       "1:1106143:T:['C']       None     None\n",
       "1:1967148:T:['C']       None     None\n",
       "1:1840772:T:['G']       None     None"
      ]
     },
     "execution_count": 151,
     "metadata": {},
     "output_type": "execute_result"
    }
   ],
   "source": [
    "my_scores = get_cadd_scores_from_vcf(my_vcf_output)\n",
    "my_scores.head()"
   ]
  },
  {
   "cell_type": "code",
   "execution_count": 111,
   "metadata": {},
   "outputs": [
    {
     "data": {
      "text/plain": [
       "(10000, 2)"
      ]
     },
     "execution_count": 111,
     "metadata": {},
     "output_type": "execute_result"
    }
   ],
   "source": [
    "my_scores.shape"
   ]
  },
  {
   "cell_type": "code",
   "execution_count": 69,
   "metadata": {},
   "outputs": [
    {
     "data": {
      "text/plain": [
       "25"
      ]
     },
     "execution_count": 69,
     "metadata": {},
     "output_type": "execute_result"
    }
   ],
   "source": [
    "header_info = \"Allele|Consequence|IMPACT|SYMBOL|Gene|Feature_type|Feature|BIOTYPE|EXON|INTRON|HGVSc|HGVSp|cDNA_position|CDS_position|Protein_position|Amino_acids|Codons|Existing_variation|DISTANCE|STRAND|FLAGS|SYMBOL_SOURCE|HGNC_ID|CADD_PHRED|CADD_RAW\"\n",
    "len(header_info.split(\"|\"))"
   ]
  },
  {
   "cell_type": "code",
   "execution_count": 149,
   "metadata": {},
   "outputs": [
    {
     "name": "stdout",
     "output_type": "stream",
     "text": [
      "1\t14673\trs11582131\tG\tC\n",
      "1\t14677\t.\tG\tA\n",
      "1\t14699\trs11490464\tC\tG\n",
      "1\t14907\trs6682375\tA\tG\n",
      "1\t14930\trs6682385\tA\tG\n",
      "1\t15906\t.\tA\tG\n",
      "1\t15922\trs80168857\tA\tG\n",
      "1\t15956\t.\tG\tA\n",
      "1\t16949\trs708637\tA\tC\n",
      "1\t3519049\t.\tAC\tA\n"
     ]
    }
   ],
   "source": [
    "! head -10 {test_vcf_gz}"
   ]
  },
  {
   "cell_type": "code",
   "execution_count": 146,
   "metadata": {},
   "outputs": [
    {
     "name": "stdout",
     "output_type": "stream",
     "text": [
      "##fileformat=VCFv4.1\n",
      "##VEP=\"v92\" time=\"2019-01-02 15:57:56\" cache=\"/opt/modules/i12g/ensembl-vep/92/cachedir/homo_sapiens/92_GRCh37\" db=\"homo_sapiens_core_92_37@ensembldb.ensembl.org\" 1000genomes=\"phase3\" COSMIC=\"81\" ClinVar=\"201706\" ESP=\"20141103\" HGMD-PUBLIC=\"20164\" assembly=\"GRCh37.p13\" dbSNP=\"150\" gencode=\"GENCODE 19\" genebuild=\"2011-04\" gnomAD=\"170228\" polyphen=\"2.2.2\" regbuild=\"1.0\" sift=\"sift5.2.2\"\n",
      "##INFO=<ID=CSQ,Number=.,Type=String,Description=\"Consequence annotations from Ensembl VEP. Format: CADD_PHRED|CADD_RAW\">\n",
      "##CADD_PHRED=PHRED-like scaled CADD score\n",
      "##CADD_RAW=Raw CADD score\n",
      "#CHROM\tPOS\tID\tREF\tALT\tQUAL\tFILTER\tINFO\n",
      "1\t1088349\t1:1088349-1088349:1/T\tT\tT\t.\t.\t.\n",
      "1\t1106143\t1:1106143-1106143:1/C\tC\tC\t.\t.\t.\n",
      "1\t1840772\t1:1840772-1840772:1/G\tG\tG\t.\t.\t.\n",
      "1\t1967148\t1:1967148-1967148:1/C\tC\tC\t.\t.\t.\n"
     ]
    }
   ],
   "source": [
    "! head -10 {regions_output}"
   ]
  },
  {
   "cell_type": "code",
   "execution_count": 145,
   "metadata": {},
   "outputs": [
    {
     "name": "stdout",
     "output_type": "stream",
     "text": [
      "##fileformat=VCFv4.1\n",
      "##VEP=\"v92\" time=\"2019-01-02 16:04:02\" cache=\"/opt/modules/i12g/ensembl-vep/92/cachedir/homo_sapiens/92_GRCh37\" db=\"homo_sapiens_core_92_37@ensembldb.ensembl.org\" 1000genomes=\"phase3\" COSMIC=\"81\" ClinVar=\"201706\" ESP=\"20141103\" HGMD-PUBLIC=\"20164\" assembly=\"GRCh37.p13\" dbSNP=\"150\" gencode=\"GENCODE 19\" genebuild=\"2011-04\" gnomAD=\"170228\" polyphen=\"2.2.2\" regbuild=\"1.0\" sift=\"sift5.2.2\"\n",
      "##INFO=<ID=CSQ,Number=.,Type=String,Description=\"Consequence annotations from Ensembl VEP. Format: CADD_PHRED|CADD_RAW\">\n",
      "##CADD_PHRED=PHRED-like scaled CADD score\n",
      "##CADD_RAW=Raw CADD score\n",
      "#CHROM\tPOS\tID\tREF\tALT\tQUAL\tFILTER\tINFO\n",
      "1\t1088349\tv1\tC\tT\t.\t.\tCSQ=|\n",
      "1\t1106143\tv2\tT\tC\t.\t.\tCSQ=|,|,|,|,|,|,|,|\n",
      "1\t1967148\tv3\tT\tC\t.\t.\tCSQ=|\n",
      "1\t1840772\tv4\tT\tG\t.\t.\tCSQ=|\n"
     ]
    }
   ],
   "source": [
    "! head -10 {my_vcf_output}"
   ]
  },
  {
   "cell_type": "markdown",
   "metadata": {},
   "source": [
    "## b. Use tabix to obtain precomputed CADD scores\n",
    "We have the `whole_genome_SNVs_1.3.tsv.gz` file that is supposed to contain all possible SNV's. InDels are in a separate file `InDels_1.3.tsv.gz`.\n",
    "Use the following command:\n",
    "`tabix -R /s/project/kipoi-cadd/data/processed/v1.3/kipoi_features/regions.txt whole_genome_SNVs_1.3.tsv.gz > /s/project/kipoi-cadd/data/processed/v1.3/kipoi_features/regions_tabix_output.tsv`"
   ]
  },
  {
   "cell_type": "code",
   "execution_count": 25,
   "metadata": {},
   "outputs": [],
   "source": [
    "tabix_output = \"/s/project/kipoi-cadd/data/processed/v1.3/kipoi_features/regions_tabix_output.tsv\""
   ]
  },
  {
   "cell_type": "code",
   "execution_count": 26,
   "metadata": {},
   "outputs": [
    {
     "name": "stdout",
     "output_type": "stream",
     "text": [
      "X\t154240995\tA\tT\t-0.353328\t0.500\n",
      "X\t154244215\tC\tA\t0.170769\t4.369\n",
      "X\t154244215\tC\tG\t0.015649\t2.738\n",
      "X\t154244215\tC\tT\t0.172373\t4.386\n",
      "X\t154310637\tG\tA\t0.026135\t2.841\n",
      "X\t154310637\tG\tC\t-0.325204\t0.582\n",
      "X\t154310637\tG\tT\t-0.188821\t1.158\n",
      "X\t154436548\tA\tC\t-0.310916\t0.627\n",
      "X\t154436548\tA\tG\t-0.040874\t2.210\n",
      "X\t154436548\tA\tT\t-0.255049\t0.837\n"
     ]
    }
   ],
   "source": [
    "# Check results\n",
    "! tail -10 {tabix_output}"
   ]
  },
  {
   "cell_type": "code",
   "execution_count": 27,
   "metadata": {},
   "outputs": [
    {
     "data": {
      "text/html": [
       "<div>\n",
       "<style scoped>\n",
       "    .dataframe tbody tr th:only-of-type {\n",
       "        vertical-align: middle;\n",
       "    }\n",
       "\n",
       "    .dataframe tbody tr th {\n",
       "        vertical-align: top;\n",
       "    }\n",
       "\n",
       "    .dataframe thead th {\n",
       "        text-align: right;\n",
       "    }\n",
       "</style>\n",
       "<table border=\"1\" class=\"dataframe\">\n",
       "  <thead>\n",
       "    <tr style=\"text-align: right;\">\n",
       "      <th></th>\n",
       "      <th>CHROM</th>\n",
       "      <th>POS</th>\n",
       "      <th>REF</th>\n",
       "      <th>ALT</th>\n",
       "      <th>CADD_RAW</th>\n",
       "      <th>CADD_PHRED</th>\n",
       "    </tr>\n",
       "  </thead>\n",
       "  <tbody>\n",
       "    <tr>\n",
       "      <th>0</th>\n",
       "      <td>1</td>\n",
       "      <td>1194852</td>\n",
       "      <td>A</td>\n",
       "      <td>C</td>\n",
       "      <td>-0.412101</td>\n",
       "      <td>0.362</td>\n",
       "    </tr>\n",
       "    <tr>\n",
       "      <th>1</th>\n",
       "      <td>1</td>\n",
       "      <td>1194852</td>\n",
       "      <td>A</td>\n",
       "      <td>G</td>\n",
       "      <td>-0.183134</td>\n",
       "      <td>1.190</td>\n",
       "    </tr>\n",
       "    <tr>\n",
       "      <th>2</th>\n",
       "      <td>1</td>\n",
       "      <td>1194852</td>\n",
       "      <td>A</td>\n",
       "      <td>T</td>\n",
       "      <td>-0.295577</td>\n",
       "      <td>0.680</td>\n",
       "    </tr>\n",
       "    <tr>\n",
       "      <th>3</th>\n",
       "      <td>1</td>\n",
       "      <td>1305423</td>\n",
       "      <td>C</td>\n",
       "      <td>A</td>\n",
       "      <td>-0.452872</td>\n",
       "      <td>0.287</td>\n",
       "    </tr>\n",
       "    <tr>\n",
       "      <th>4</th>\n",
       "      <td>1</td>\n",
       "      <td>1305423</td>\n",
       "      <td>C</td>\n",
       "      <td>G</td>\n",
       "      <td>-0.638686</td>\n",
       "      <td>0.101</td>\n",
       "    </tr>\n",
       "    <tr>\n",
       "      <th>5</th>\n",
       "      <td>1</td>\n",
       "      <td>1305423</td>\n",
       "      <td>C</td>\n",
       "      <td>T</td>\n",
       "      <td>-0.458521</td>\n",
       "      <td>0.278</td>\n",
       "    </tr>\n",
       "    <tr>\n",
       "      <th>6</th>\n",
       "      <td>1</td>\n",
       "      <td>1731300</td>\n",
       "      <td>A</td>\n",
       "      <td>C</td>\n",
       "      <td>-0.582638</td>\n",
       "      <td>0.138</td>\n",
       "    </tr>\n",
       "    <tr>\n",
       "      <th>7</th>\n",
       "      <td>1</td>\n",
       "      <td>1731300</td>\n",
       "      <td>A</td>\n",
       "      <td>G</td>\n",
       "      <td>-0.371959</td>\n",
       "      <td>0.452</td>\n",
       "    </tr>\n",
       "    <tr>\n",
       "      <th>8</th>\n",
       "      <td>1</td>\n",
       "      <td>1731300</td>\n",
       "      <td>A</td>\n",
       "      <td>T</td>\n",
       "      <td>-0.539548</td>\n",
       "      <td>0.176</td>\n",
       "    </tr>\n",
       "    <tr>\n",
       "      <th>9</th>\n",
       "      <td>1</td>\n",
       "      <td>1755811</td>\n",
       "      <td>A</td>\n",
       "      <td>C</td>\n",
       "      <td>-0.358875</td>\n",
       "      <td>0.485</td>\n",
       "    </tr>\n",
       "  </tbody>\n",
       "</table>\n",
       "</div>"
      ],
      "text/plain": [
       "  CHROM      POS REF ALT  CADD_RAW  CADD_PHRED\n",
       "0     1  1194852   A   C -0.412101       0.362\n",
       "1     1  1194852   A   G -0.183134       1.190\n",
       "2     1  1194852   A   T -0.295577       0.680\n",
       "3     1  1305423   C   A -0.452872       0.287\n",
       "4     1  1305423   C   G -0.638686       0.101\n",
       "5     1  1305423   C   T -0.458521       0.278\n",
       "6     1  1731300   A   C -0.582638       0.138\n",
       "7     1  1731300   A   G -0.371959       0.452\n",
       "8     1  1731300   A   T -0.539548       0.176\n",
       "9     1  1755811   A   C -0.358875       0.485"
      ]
     },
     "execution_count": 27,
     "metadata": {},
     "output_type": "execute_result"
    }
   ],
   "source": [
    "tabix_df = pd.read_csv(tabix_output, sep='\\t', header=None, names=['CHROM', 'POS', 'REF', 'ALT', 'CADD_RAW', 'CADD_PHRED'])\n",
    "tabix_df.head(10)"
   ]
  },
  {
   "cell_type": "code",
   "execution_count": 46,
   "metadata": {},
   "outputs": [
    {
     "data": {
      "image/png": "[encoded data removed]",
      "text/plain": [
       "<Figure size 432x288 with 1 Axes>"
      ]
     },
     "metadata": {
      "needs_background": "light"
     },
     "output_type": "display_data"
    }
   ],
   "source": [
    "plt.hist(tabix_df.CADD_RAW, bins=60);\n",
    "plt.show()"
   ]
  },
  {
   "cell_type": "code",
   "execution_count": null,
   "metadata": {},
   "outputs": [],
   "source": [
    "# apply logit transformation i.e logodds, spearman correlation\n",
    "ln of p/(1-p)"
   ]
  },
  {
   "cell_type": "code",
   "execution_count": 45,
   "metadata": {},
   "outputs": [
    {
     "name": "stdout",
     "output_type": "stream",
     "text": [
      "count    30000.000000\n",
      "mean         0.034819\n",
      "std          0.670035\n",
      "min         -2.837239\n",
      "25%         -0.278502\n",
      "50%         -0.062474\n",
      "75%          0.177309\n",
      "max         16.052379\n",
      "Name: CADD_RAW, dtype: float64\n"
     ]
    },
    {
     "data": {
      "text/plain": [
       "10000.0"
      ]
     },
     "execution_count": 45,
     "metadata": {},
     "output_type": "execute_result"
    }
   ],
   "source": [
    "print(tabix_df.CADD_RAW.describe())\n",
    "tabix_df.shape[0]/3"
   ]
  },
  {
   "cell_type": "code",
   "execution_count": 41,
   "metadata": {},
   "outputs": [
    {
     "data": {
      "text/html": [
       "<div>\n",
       "<style scoped>\n",
       "    .dataframe tbody tr th:only-of-type {\n",
       "        vertical-align: middle;\n",
       "    }\n",
       "\n",
       "    .dataframe tbody tr th {\n",
       "        vertical-align: top;\n",
       "    }\n",
       "\n",
       "    .dataframe thead th {\n",
       "        text-align: right;\n",
       "    }\n",
       "</style>\n",
       "<table border=\"1\" class=\"dataframe\">\n",
       "  <thead>\n",
       "    <tr style=\"text-align: right;\">\n",
       "      <th></th>\n",
       "      <th>CHROM</th>\n",
       "      <th>POS</th>\n",
       "      <th>REF</th>\n",
       "      <th>ALT</th>\n",
       "    </tr>\n",
       "  </thead>\n",
       "  <tbody>\n",
       "    <tr>\n",
       "      <th>0</th>\n",
       "      <td>1</td>\n",
       "      <td>1194852</td>\n",
       "      <td>G</td>\n",
       "      <td>A</td>\n",
       "    </tr>\n",
       "    <tr>\n",
       "      <th>1</th>\n",
       "      <td>1</td>\n",
       "      <td>1305423</td>\n",
       "      <td>T</td>\n",
       "      <td>C</td>\n",
       "    </tr>\n",
       "    <tr>\n",
       "      <th>2</th>\n",
       "      <td>1</td>\n",
       "      <td>1731300</td>\n",
       "      <td>A</td>\n",
       "      <td>C</td>\n",
       "    </tr>\n",
       "    <tr>\n",
       "      <th>3</th>\n",
       "      <td>1</td>\n",
       "      <td>1755811</td>\n",
       "      <td>N</td>\n",
       "      <td>N</td>\n",
       "    </tr>\n",
       "    <tr>\n",
       "      <th>4</th>\n",
       "      <td>1</td>\n",
       "      <td>2175480</td>\n",
       "      <td>C</td>\n",
       "      <td>T</td>\n",
       "    </tr>\n",
       "  </tbody>\n",
       "</table>\n",
       "</div>"
      ],
      "text/plain": [
       "  CHROM      POS REF ALT\n",
       "0     1  1194852   G   A\n",
       "1     1  1305423   T   C\n",
       "2     1  1731300   A   C\n",
       "3     1  1755811   N   N\n",
       "4     1  2175480   C   T"
      ]
     },
     "execution_count": 41,
     "metadata": {},
     "output_type": "execute_result"
    }
   ],
   "source": [
    "desired = pd.read_csv(regions_txt, sep='\\t', header=None, names=['CHROM', 'POS', 'REF', 'ALT'])\n",
    "desired.head()"
   ]
  },
  {
   "cell_type": "code",
   "execution_count": 60,
   "metadata": {},
   "outputs": [
    {
     "name": "stdout",
     "output_type": "stream",
     "text": [
      "(4427, 6)\n"
     ]
    }
   ],
   "source": [
    "found_vars = pd.merge(desired, tabix_df, how='inner', on=['CHROM', 'POS', 'REF', 'ALT'])\n",
    "print(found_vars.shape)"
   ]
  },
  {
   "cell_type": "code",
   "execution_count": 48,
   "metadata": {},
   "outputs": [],
   "source": [
    "found_var_ids = [variant_id_string(r.CHROM, r.POS, r.REF, r.ALT) for r in found_vars.itertuples()]"
   ]
  },
  {
   "cell_type": "code",
   "execution_count": 58,
   "metadata": {},
   "outputs": [
    {
     "name": "stderr",
     "output_type": "stream",
     "text": [
      "100%|██████████| 4427/4427 [00:14<00:00, 307.79it/s]\n"
     ]
    }
   ],
   "source": [
    "found_var_nums = []\n",
    "for found_var in tqdm(found_var_ids):\n",
    "    for var_num, var_id in shuff_10k.items():\n",
    "        if var_id == found_var:\n",
    "            found_var_nums.append(var_num)"
   ]
  },
  {
   "cell_type": "code",
   "execution_count": 67,
   "metadata": {},
   "outputs": [],
   "source": [
    "pro_training_dir = \"/s/project/kipoi-cadd/data/processed/v1.3/training_data/\"\n",
    "found_var_ids = pro_training_dir + \"found_var_ids.pkl\"\n",
    "dump_to_pickle(found_var_ids, shuff_10k.loc[found_var_nums])"
   ]
  },
  {
   "cell_type": "code",
   "execution_count": 68,
   "metadata": {},
   "outputs": [],
   "source": [
    "ds_found = CaddDataset(lmdb_dir, found_var_ids)\n",
    "X_found, y_found = ds_found.load_all(shuffle=False)\n",
    "# Do the same process as the trainer\n",
    "X_sparse_found = csr_matrix(X_found, shape=None, dtype=np.float32, copy=True)\n",
    "X_found = X_sparse_found\n",
    "y_found = y_found.astype(np.float32)\n",
    "del X_sparse_found"
   ]
  },
  {
   "cell_type": "markdown",
   "metadata": {},
   "source": [
    "Obtain log odd ratios:\n",
    "https://stats.idre.ucla.edu/stata/faq/how-do-i-interpret-odds-ratios-in-logistic-regression/"
   ]
  },
  {
   "cell_type": "code",
   "execution_count": 95,
   "metadata": {},
   "outputs": [],
   "source": [
    "y_pred_kipoi_found = clf.predict_proba(X_found)\n",
    "y_pred_kipoi_found = np.array([log(p[1]/p[0]) for p in y_pred_kipoi_found])"
   ]
  },
  {
   "cell_type": "markdown",
   "metadata": {},
   "source": [
    "### b. 1. Calculate Pearson Correlation between my scores and theirs"
   ]
  },
  {
   "cell_type": "code",
   "execution_count": 100,
   "metadata": {},
   "outputs": [
    {
     "data": {
      "text/plain": [
       "(0.7764666974344197, 0.0)"
      ]
     },
     "execution_count": 100,
     "metadata": {},
     "output_type": "execute_result"
    }
   ],
   "source": [
    "from scipy.stats import pearsonr\n",
    "pearsonr(y_pred_kipoi_found, found_vars.CADD_RAW)"
   ]
  },
  {
   "cell_type": "code",
   "execution_count": 99,
   "metadata": {},
   "outputs": [
    {
     "data": {
      "image/png": "[encoded data removed]",
      "text/plain": [
       "<Figure size 432x288 with 1 Axes>"
      ]
     },
     "metadata": {
      "needs_background": "light"
     },
     "output_type": "display_data"
    }
   ],
   "source": [
    "plt.scatter(y_pred_kipoi_found, found_vars.CADD_RAW);\n",
    "plt.show()"
   ]
  }
 ],
 "metadata": {
  "kernelspec": {
   "display_name": "Python [conda env:kipoi-cadd2]",
   "language": "python",
   "name": "conda-env-kipoi-cadd2-py"
  },
  "language_info": {
   "codemirror_mode": {
    "name": "ipython",
    "version": 3
   },
   "file_extension": ".py",
   "mimetype": "text/x-python",
   "name": "python",
   "nbconvert_exporter": "python",
   "pygments_lexer": "ipython3",
   "version": "3.6.7"
  }
 },
 "nbformat": 4,
 "nbformat_minor": 2
}
