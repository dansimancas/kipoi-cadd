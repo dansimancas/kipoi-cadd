{
 "cells": [
  {
   "cell_type": "code",
   "execution_count": 3,
   "metadata": {},
   "outputs": [],
   "source": [
    "from gin_train.trainers import KerasTrainer\n",
    "from kipoi_cadd.data import (CaddDataset, cadd_train_valid_data, cadd_serialize_string_row,\n",
    "                             train_test_split_indexes)\n",
    "from kipoi_cadd.utils import load_pickle, dump_to_pickle\n",
    "from kipoi_cadd.config import get_data_dir\n",
    "import pandas as pd\n",
    "import numpy as np\n",
    "from random import shuffle\n",
    "from kipoi_cadd.models import logistic_regression_scikit, logistic_regression_keras\n",
    "from gin_train.metrics import ClassificationMetrics\n",
    "from kipoi_cadd.data_utils import create_lmdb_from_iterator\n",
    "from sklearn.model_selection import train_test_split\n",
    "import lmdb\n",
    "from joblib import Parallel, delayed\n",
    "import pyarrow as pa\n",
    "from tqdm import tqdm\n",
    "import blosc\n",
    "import matplotlib.pyplot as plt\n",
    "%load_ext line_profiler"
   ]
  },
  {
   "cell_type": "code",
   "execution_count": 4,
   "metadata": {},
   "outputs": [],
   "source": [
    "lmdb_dir = \"/s/project/kipoi-cadd/data/raw/v1.3/training_data/lmdb\""
   ]
  },
  {
   "cell_type": "code",
   "execution_count": 6,
   "metadata": {},
   "outputs": [],
   "source": [
    "ds = CaddDataset(lmdb_dir, \"/s/project/kipoi-cadd/data/raw/v1.3/training_data/variant_ids.pkl\")\n",
    "it = ds.batch_train_iter(batch_size=256, num_workers=10)\n",
    "batch = next(it)"
   ]
  },
  {
   "cell_type": "code",
   "execution_count": 12,
   "metadata": {},
   "outputs": [
    {
     "data": {
      "text/plain": [
       "{'inputs': array([[0., 0., 1., ..., 0., 0., 0.],\n",
       "        [0., 0., 0., ..., 0., 0., 0.],\n",
       "        [0., 0., 1., ..., 0., 0., 0.],\n",
       "        ...,\n",
       "        [0., 1., 0., ..., 0., 0., 0.],\n",
       "        [0., 1., 0., ..., 0., 0., 0.],\n",
       "        [1., 0., 0., ..., 0., 0., 0.]]),\n",
       " 'targets': array([1., 1., 0., 1., 0., 0., 1., 0., 0., 0.]),\n",
       " 'metadata': {'variant_id': array([\"3:14064880:G:['C']\", \"4:94628524:T:['G']\", \"13:89491811:G:['A']\",\n",
       "         \"18:10457071:A:['G']\", \"X:40583166:A:['T']\", \"7:39541347:C:['G']\",\n",
       "         \"8:23152524:A:['G']\", \"8:52353048:C:['T']\", \"10:51673843:C:['G']\",\n",
       "         \"X:11648445:A:['G']\"], dtype='<U19')}}"
      ]
     },
     "execution_count": 12,
     "metadata": {},
     "output_type": "execute_result"
    }
   ],
   "source": [
    "next(ds.batch_iter(batch_size=10, shuffle=True))"
   ]
  },
  {
   "cell_type": "markdown",
   "metadata": {},
   "source": [
    "## Check compression ratios of blosc for different batch sizes"
   ]
  },
  {
   "cell_type": "code",
   "execution_count": null,
   "metadata": {},
   "outputs": [],
   "source": [
    "%%time\n",
    "batch = next(ds.batch_train_iter(batch_size=256, num_workers=10))\n",
    "buff = pa.serialize(batch).to_buffer()\n",
    "blzpacked = blosc.compress(buff, typesize=8, cname='blosclz')\n",
    "print(\"Buff\", len(buff), \"blosclz\", len(blzpacked))\n",
    "print(round(len(buff) / float(len(blzpacked)), 3))"
   ]
  },
  {
   "cell_type": "code",
   "execution_count": null,
   "metadata": {},
   "outputs": [],
   "source": [
    "%%time\n",
    "batch = next(ds.batch_train_iter(batch_size=512, num_workers=10))\n",
    "buff = pa.serialize(batch).to_buffer()\n",
    "blzpacked = blosc.compress(buff, typesize=8, cname='blosclz')\n",
    "print(\"Buff\", len(buff), \"blosclz\", len(blzpacked))\n",
    "print(round(len(buff) / float(len(blzpacked)), 3))"
   ]
  },
  {
   "cell_type": "code",
   "execution_count": null,
   "metadata": {},
   "outputs": [],
   "source": [
    "%%time\n",
    "batch = next(ds.batch_train_iter(batch_size=1024, num_workers=10))\n",
    "buff = pa.serialize(batch).to_buffer()\n",
    "blzpacked = blosc.compress(buff, typesize=8, cname='blosclz')\n",
    "print(\"Buff\", len(buff), \"blosclz\", len(blzpacked))\n",
    "print(round(len(buff) / float(len(blzpacked)), 3))"
   ]
  },
  {
   "cell_type": "code",
   "execution_count": null,
   "metadata": {},
   "outputs": [],
   "source": [
    "%%time\n",
    "batch = next(ds.batch_train_iter(batch_size=2048, num_workers=10))\n",
    "buff = pa.serialize(batch).to_buffer()\n",
    "blzpacked = blosc.compress(buff, typesize=8, cname='blosclz')\n",
    "print(\"Buff\", len(buff), \"blosclz\", len(blzpacked))\n",
    "print(round(len(buff) / float(len(blzpacked)), 3))"
   ]
  },
  {
   "cell_type": "code",
   "execution_count": null,
   "metadata": {},
   "outputs": [],
   "source": [
    "plot_data = {'batch_size': [], 'compression_ratio': []}\n",
    "for i in [32, 64, 128, 256, 512, 1024, 2048]:\n",
    "    batch = next(ds.batch_train_iter(batch_size=i, num_workers=10))\n",
    "    buff = pa.serialize(batch).to_buffer()\n",
    "    blzpacked = blosc.compress(buff, typesize=8, cname='blosclz')\n",
    "    ratio = round(len(buff) / float(len(blzpacked)), 3)\n",
    "    plot_data['batch_size'].append(i)\n",
    "    plot_data['compression_ratio'].append(ratio)"
   ]
  },
  {
   "cell_type": "code",
   "execution_count": 34,
   "metadata": {},
   "outputs": [
    {
     "data": {
      "text/plain": [
       "{'batch_size': [32, 64, 128, 256, 512, 1024, 2048],\n",
       " 'compression_ratio': [34.136, 36.324, 36.149, 37.036, 35.821, 31.704, 29.323]}"
      ]
     },
     "execution_count": 34,
     "metadata": {},
     "output_type": "execute_result"
    }
   ],
   "source": [
    "plot_data"
   ]
  },
  {
   "cell_type": "markdown",
   "metadata": {},
   "source": [
    "## Checking different compression ratios for batch sizes"
   ]
  },
  {
   "cell_type": "code",
   "execution_count": 36,
   "metadata": {},
   "outputs": [
    {
     "data": {
      "image/png": "[encoded data removed]",
      "text/plain": [
       "<Figure size 432x288 with 1 Axes>"
      ]
     },
     "metadata": {
      "needs_background": "light"
     },
     "output_type": "display_data"
    }
   ],
   "source": [
    "plt.plot(plot_data['batch_size'], plot_data['compression_ratio'])\n",
    "plt.ylabel('Compression ratio')\n",
    "plt.xlabel('Batch size')\n",
    "plt.show()"
   ]
  },
  {
   "cell_type": "code",
   "execution_count": 55,
   "metadata": {},
   "outputs": [
    {
     "data": {
      "text/plain": [
       "OrderedDict([(0,\n",
       "              {'row_nrs': [1, 2],\n",
       "               'variant_ids': [\"1:380798:A:['G']\", \"1:380798:A:['G']\"]}),\n",
       "             (1,\n",
       "              {'row_nrs': [3, 4],\n",
       "               'variant_ids': [\"1:33450798:A:['G']\", \"1:33450798:A:['G']\"]})])"
      ]
     },
     "execution_count": 55,
     "metadata": {},
     "output_type": "execute_result"
    }
   ],
   "source": [
    "from collections import OrderedDict\n",
    "batch = OrderedDict()\n",
    "batch[0] = {\"row_nrs\": [1,2], \"variant_ids\":[\"1:380798:A:['G']\", \"1:380798:A:['G']\"]}\n",
    "batch[1] = {\"row_nrs\": [3,4], \"variant_ids\":[\"1:33450798:A:['G']\", \"1:33450798:A:['G']\"]}\n",
    "batch\n",
    "#pd.DataFrame(batch).values"
   ]
  },
  {
   "cell_type": "code",
   "execution_count": null,
   "metadata": {},
   "outputs": [],
   "source": [
    "ds2 = CaddDataset(lmdb_dir, \"/s/project/kipoi-cadd/data/raw/v1.3/training_data/variant_ids.pkl\")\n",
    "batch = next(ds2.batch_train_iter(batch_size=256, num_workers=10))\n",
    "batch"
   ]
  }
 ],
 "metadata": {
  "kernelspec": {
   "display_name": "Python [conda env:kipoi-cadd2]",
   "language": "python",
   "name": "conda-env-kipoi-cadd2-py"
  },
  "language_info": {
   "codemirror_mode": {
    "name": "ipython",
    "version": 3
   },
   "file_extension": ".py",
   "mimetype": "text/x-python",
   "name": "python",
   "nbconvert_exporter": "python",
   "pygments_lexer": "ipython3",
   "version": "3.6.7"
  }
 },
 "nbformat": 4,
 "nbformat_minor": 2
}
