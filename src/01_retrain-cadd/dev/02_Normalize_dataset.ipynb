{
 "cells": [
  {
   "cell_type": "code",
   "execution_count": 1,
   "metadata": {},
   "outputs": [
    {
     "name": "stderr",
     "output_type": "stream",
     "text": [
      "Using TensorFlow backend.\n"
     ]
    }
   ],
   "source": [
    "from gin_train.trainers import KerasTrainer\n",
    "from kipoi_cadd.data import CaddDataset\n",
    "from kipoi_cadd.data import cadd_train_valid_data, cadd_serialize_string_row\n",
    "from kipoi_cadd.data import save_variant_ids\n",
    "from kipoi_cadd.data import train_test_split_indexes\n",
    "from kipoi_cadd.config import get_data_dir\n",
    "import pandas as pd\n",
    "import numpy as np\n",
    "from random import shuffle\n",
    "from kipoi_cadd.models import logistic_regression_scikit, logistic_regression_keras\n",
    "from gin_train.metrics import ClassificationMetrics\n",
    "from sklearn.model_selection import train_test_split\n",
    "%load_ext line_profiler"
   ]
  },
  {
   "cell_type": "code",
   "execution_count": 2,
   "metadata": {},
   "outputs": [],
   "source": [
    "# Paths\n",
    "all_variant_id_file = \"/s/project/kipoi-cadd/data/raw/v1.3/training_data/variant_ids.pkl\"\n",
    "training_data_dir = \"/s/project/kipoi-cadd/data/raw/v1.3/training_data/\"\n",
    "train_idx_path = training_data_dir + \"train_idx.pkl\"\n",
    "test_idx_path = training_data_dir + \"test_idx.pkl\"\n",
    "valid_idx_path = training_data_dir + \"valid_idx.pkl\"\n",
    "lmdb_dir = training_data_dir + \"lmdb\"\n",
    "inputfile2 = training_data_dir + \"training_data.imputed.csv\""
   ]
  },
  {
   "cell_type": "code",
   "execution_count": null,
   "metadata": {},
   "outputs": [],
   "source": [
    "imputed = pd.read_csv(inputfile2,sep=',')"
   ]
  },
  {
   "cell_type": "code",
   "execution_count": null,
   "metadata": {},
   "outputs": [],
   "source": [
    "imputed.describe(include='all')"
   ]
  },
  {
   "cell_type": "code",
   "execution_count": 3,
   "metadata": {},
   "outputs": [
    {
     "data": {
      "text/plain": [
       "65536"
      ]
     },
     "execution_count": 3,
     "metadata": {},
     "output_type": "execute_result"
    }
   ],
   "source": [
    "2**16"
   ]
  }
 ],
 "metadata": {
  "kernelspec": {
   "display_name": "Python [conda env:kipoi-cadd2]",
   "language": "python",
   "name": "conda-env-kipoi-cadd2-py"
  },
  "language_info": {
   "codemirror_mode": {
    "name": "ipython",
    "version": 3
   },
   "file_extension": ".py",
   "mimetype": "text/x-python",
   "name": "python",
   "nbconvert_exporter": "python",
   "pygments_lexer": "ipython3",
   "version": "3.6.7"
  }
 },
 "nbformat": 4,
 "nbformat_minor": 2
}
