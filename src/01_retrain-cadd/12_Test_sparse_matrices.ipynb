{
 "cells": [
  {
   "cell_type": "code",
   "execution_count": 1,
   "metadata": {},
   "outputs": [
    {
     "name": "stderr",
     "output_type": "stream",
     "text": [
      "Using TensorFlow backend.\n"
     ]
    }
   ],
   "source": [
    "from kipoi_cadd.data_utils import load_csv_to_sparse_matrix\n",
    "from kipoi_cadd.data import cadd_train_valid_data, train_test_split_indexes, CaddDataset\n",
    "from kipoi_cadd.utils import dump_to_pickle, load_pickle\n",
    "import pandas as pd\n",
    "import time\n",
    "from tqdm import tqdm, trange\n",
    "import numpy as np\n",
    "from kipoi.data_utils import numpy_collate_concat\n",
    "from scipy.sparse import csr_matrix, save_npz, load_npz\n",
    "%load_ext line_profiler"
   ]
  },
  {
   "cell_type": "code",
   "execution_count": 2,
   "metadata": {},
   "outputs": [],
   "source": [
    "training_dir = \"/s/project/kipoi-cadd/data/raw/v1.3/training_data/\"\n",
    "lmdb_dir = training_dir + \"lmdb\"\n",
    "csv_file = training_dir + \"training_data.imputed.csv\"\n",
    "valid_id_file = training_dir + \"valid_idx.pkl\"\n",
    "all_ids_file = training_dir + \"variant_ids.pkl\"\n",
    "ids_10k_file = training_dir + \"sample_indices/ids_10k.pkl\"\n",
    "std_scaler_file = training_dir + \"stats/standard_scaler_first10k.pkl\"\n",
    "short_csv = training_dir + \"last10k.csv\"\n",
    "sparse_all = training_dir +  \"sparse_all.npz\""
   ]
  },
  {
   "cell_type": "markdown",
   "metadata": {},
   "source": [
    "## Use read_csv with file buffer and nrows\n",
    "Here we realize that `nrows` is probably not meant to be used together with buffers. We obtain weird results."
   ]
  },
  {
   "cell_type": "code",
   "execution_count": 32,
   "metadata": {},
   "outputs": [],
   "source": [
    "f = open(csv_file, \"rb\")"
   ]
  },
  {
   "cell_type": "code",
   "execution_count": 33,
   "metadata": {},
   "outputs": [
    {
     "data": {
      "text/html": [
       "<div>\n",
       "<style scoped>\n",
       "    .dataframe tbody tr th:only-of-type {\n",
       "        vertical-align: middle;\n",
       "    }\n",
       "\n",
       "    .dataframe tbody tr th {\n",
       "        vertical-align: top;\n",
       "    }\n",
       "\n",
       "    .dataframe thead th {\n",
       "        text-align: right;\n",
       "    }\n",
       "</style>\n",
       "<table border=\"1\" class=\"dataframe\">\n",
       "  <thead>\n",
       "    <tr style=\"text-align: right;\">\n",
       "      <th></th>\n",
       "      <th>y</th>\n",
       "      <th>RefxA</th>\n",
       "      <th>RefxC</th>\n",
       "      <th>RefxG</th>\n",
       "      <th>RefxT</th>\n",
       "      <th>RefxN</th>\n",
       "      <th>AltxA</th>\n",
       "      <th>AltxC</th>\n",
       "      <th>AltxG</th>\n",
       "      <th>AltxT</th>\n",
       "      <th>...</th>\n",
       "      <th>YxM</th>\n",
       "      <th>YxN</th>\n",
       "      <th>YxP</th>\n",
       "      <th>YxQ</th>\n",
       "      <th>YxR</th>\n",
       "      <th>YxS</th>\n",
       "      <th>YxT</th>\n",
       "      <th>YxV</th>\n",
       "      <th>YxW</th>\n",
       "      <th>YxY</th>\n",
       "    </tr>\n",
       "  </thead>\n",
       "  <tbody>\n",
       "    <tr>\n",
       "      <th>0</th>\n",
       "      <td>-1</td>\n",
       "      <td>0</td>\n",
       "      <td>0</td>\n",
       "      <td>0</td>\n",
       "      <td>1</td>\n",
       "      <td>0</td>\n",
       "      <td>0</td>\n",
       "      <td>0</td>\n",
       "      <td>1</td>\n",
       "      <td>0</td>\n",
       "      <td>...</td>\n",
       "      <td>0</td>\n",
       "      <td>0</td>\n",
       "      <td>0</td>\n",
       "      <td>0</td>\n",
       "      <td>0</td>\n",
       "      <td>0</td>\n",
       "      <td>0</td>\n",
       "      <td>0</td>\n",
       "      <td>0</td>\n",
       "      <td>0</td>\n",
       "    </tr>\n",
       "    <tr>\n",
       "      <th>1</th>\n",
       "      <td>-1</td>\n",
       "      <td>0</td>\n",
       "      <td>1</td>\n",
       "      <td>0</td>\n",
       "      <td>0</td>\n",
       "      <td>0</td>\n",
       "      <td>0</td>\n",
       "      <td>0</td>\n",
       "      <td>1</td>\n",
       "      <td>0</td>\n",
       "      <td>...</td>\n",
       "      <td>0</td>\n",
       "      <td>0</td>\n",
       "      <td>0</td>\n",
       "      <td>0</td>\n",
       "      <td>0</td>\n",
       "      <td>0</td>\n",
       "      <td>0</td>\n",
       "      <td>0</td>\n",
       "      <td>0</td>\n",
       "      <td>0</td>\n",
       "    </tr>\n",
       "    <tr>\n",
       "      <th>2</th>\n",
       "      <td>-1</td>\n",
       "      <td>1</td>\n",
       "      <td>0</td>\n",
       "      <td>0</td>\n",
       "      <td>0</td>\n",
       "      <td>0</td>\n",
       "      <td>0</td>\n",
       "      <td>0</td>\n",
       "      <td>0</td>\n",
       "      <td>1</td>\n",
       "      <td>...</td>\n",
       "      <td>0</td>\n",
       "      <td>0</td>\n",
       "      <td>0</td>\n",
       "      <td>0</td>\n",
       "      <td>0</td>\n",
       "      <td>0</td>\n",
       "      <td>0</td>\n",
       "      <td>0</td>\n",
       "      <td>0</td>\n",
       "      <td>0</td>\n",
       "    </tr>\n",
       "    <tr>\n",
       "      <th>3</th>\n",
       "      <td>-1</td>\n",
       "      <td>0</td>\n",
       "      <td>1</td>\n",
       "      <td>0</td>\n",
       "      <td>0</td>\n",
       "      <td>0</td>\n",
       "      <td>0</td>\n",
       "      <td>0</td>\n",
       "      <td>1</td>\n",
       "      <td>0</td>\n",
       "      <td>...</td>\n",
       "      <td>0</td>\n",
       "      <td>0</td>\n",
       "      <td>0</td>\n",
       "      <td>0</td>\n",
       "      <td>0</td>\n",
       "      <td>0</td>\n",
       "      <td>0</td>\n",
       "      <td>0</td>\n",
       "      <td>0</td>\n",
       "      <td>0</td>\n",
       "    </tr>\n",
       "    <tr>\n",
       "      <th>4</th>\n",
       "      <td>-1</td>\n",
       "      <td>1</td>\n",
       "      <td>0</td>\n",
       "      <td>0</td>\n",
       "      <td>0</td>\n",
       "      <td>0</td>\n",
       "      <td>0</td>\n",
       "      <td>0</td>\n",
       "      <td>1</td>\n",
       "      <td>0</td>\n",
       "      <td>...</td>\n",
       "      <td>0</td>\n",
       "      <td>0</td>\n",
       "      <td>0</td>\n",
       "      <td>0</td>\n",
       "      <td>0</td>\n",
       "      <td>0</td>\n",
       "      <td>0</td>\n",
       "      <td>0</td>\n",
       "      <td>0</td>\n",
       "      <td>0</td>\n",
       "    </tr>\n",
       "  </tbody>\n",
       "</table>\n",
       "<p>5 rows × 1064 columns</p>\n",
       "</div>"
      ],
      "text/plain": [
       "   y  RefxA  RefxC  RefxG  RefxT  RefxN  AltxA  AltxC  AltxG  AltxT ...   YxM  \\\n",
       "0 -1      0      0      0      1      0      0      0      1      0 ...     0   \n",
       "1 -1      0      1      0      0      0      0      0      1      0 ...     0   \n",
       "2 -1      1      0      0      0      0      0      0      0      1 ...     0   \n",
       "3 -1      0      1      0      0      0      0      0      1      0 ...     0   \n",
       "4 -1      1      0      0      0      0      0      0      1      0 ...     0   \n",
       "\n",
       "   YxN  YxP  YxQ  YxR  YxS  YxT  YxV  YxW  YxY  \n",
       "0    0    0    0    0    0    0    0    0    0  \n",
       "1    0    0    0    0    0    0    0    0    0  \n",
       "2    0    0    0    0    0    0    0    0    0  \n",
       "3    0    0    0    0    0    0    0    0    0  \n",
       "4    0    0    0    0    0    0    0    0    0  \n",
       "\n",
       "[5 rows x 1064 columns]"
      ]
     },
     "execution_count": 33,
     "metadata": {},
     "output_type": "execute_result"
    }
   ],
   "source": [
    "df = pd.read_csv(f, nrows=1000)\n",
    "header = df.columns.values\n",
    "dtypes = df.dtypes.to_dict()\n",
    "df.head()"
   ]
  },
  {
   "cell_type": "code",
   "execution_count": 34,
   "metadata": {},
   "outputs": [
    {
     "data": {
      "text/html": [
       "<div>\n",
       "<style scoped>\n",
       "    .dataframe tbody tr th:only-of-type {\n",
       "        vertical-align: middle;\n",
       "    }\n",
       "\n",
       "    .dataframe tbody tr th {\n",
       "        vertical-align: top;\n",
       "    }\n",
       "\n",
       "    .dataframe thead th {\n",
       "        text-align: right;\n",
       "    }\n",
       "</style>\n",
       "<table border=\"1\" class=\"dataframe\">\n",
       "  <thead>\n",
       "    <tr style=\"text-align: right;\">\n",
       "      <th></th>\n",
       "      <th>y</th>\n",
       "      <th>RefxA</th>\n",
       "      <th>RefxC</th>\n",
       "      <th>RefxG</th>\n",
       "      <th>RefxT</th>\n",
       "      <th>RefxN</th>\n",
       "      <th>AltxA</th>\n",
       "      <th>AltxC</th>\n",
       "      <th>AltxG</th>\n",
       "      <th>AltxT</th>\n",
       "      <th>...</th>\n",
       "      <th>YxM</th>\n",
       "      <th>YxN</th>\n",
       "      <th>YxP</th>\n",
       "      <th>YxQ</th>\n",
       "      <th>YxR</th>\n",
       "      <th>YxS</th>\n",
       "      <th>YxT</th>\n",
       "      <th>YxV</th>\n",
       "      <th>YxW</th>\n",
       "      <th>YxY</th>\n",
       "    </tr>\n",
       "  </thead>\n",
       "  <tbody>\n",
       "    <tr>\n",
       "      <th>0</th>\n",
       "      <td>0</td>\n",
       "      <td>0</td>\n",
       "      <td>0</td>\n",
       "      <td>0</td>\n",
       "      <td>0</td>\n",
       "      <td>0</td>\n",
       "      <td>0</td>\n",
       "      <td>0</td>\n",
       "      <td>0</td>\n",
       "      <td>0</td>\n",
       "      <td>...</td>\n",
       "      <td>NaN</td>\n",
       "      <td>NaN</td>\n",
       "      <td>NaN</td>\n",
       "      <td>NaN</td>\n",
       "      <td>NaN</td>\n",
       "      <td>NaN</td>\n",
       "      <td>NaN</td>\n",
       "      <td>NaN</td>\n",
       "      <td>NaN</td>\n",
       "      <td>NaN</td>\n",
       "    </tr>\n",
       "    <tr>\n",
       "      <th>1</th>\n",
       "      <td>-1</td>\n",
       "      <td>0</td>\n",
       "      <td>1</td>\n",
       "      <td>0</td>\n",
       "      <td>0</td>\n",
       "      <td>0</td>\n",
       "      <td>0</td>\n",
       "      <td>0</td>\n",
       "      <td>0</td>\n",
       "      <td>1</td>\n",
       "      <td>...</td>\n",
       "      <td>0.0</td>\n",
       "      <td>0.0</td>\n",
       "      <td>0.0</td>\n",
       "      <td>0.0</td>\n",
       "      <td>0.0</td>\n",
       "      <td>0.0</td>\n",
       "      <td>0.0</td>\n",
       "      <td>0.0</td>\n",
       "      <td>0.0</td>\n",
       "      <td>0.0</td>\n",
       "    </tr>\n",
       "    <tr>\n",
       "      <th>2</th>\n",
       "      <td>-1</td>\n",
       "      <td>0</td>\n",
       "      <td>1</td>\n",
       "      <td>0</td>\n",
       "      <td>0</td>\n",
       "      <td>0</td>\n",
       "      <td>1</td>\n",
       "      <td>0</td>\n",
       "      <td>0</td>\n",
       "      <td>0</td>\n",
       "      <td>...</td>\n",
       "      <td>0.0</td>\n",
       "      <td>0.0</td>\n",
       "      <td>0.0</td>\n",
       "      <td>0.0</td>\n",
       "      <td>0.0</td>\n",
       "      <td>0.0</td>\n",
       "      <td>0.0</td>\n",
       "      <td>0.0</td>\n",
       "      <td>0.0</td>\n",
       "      <td>0.0</td>\n",
       "    </tr>\n",
       "    <tr>\n",
       "      <th>3</th>\n",
       "      <td>-1</td>\n",
       "      <td>0</td>\n",
       "      <td>0</td>\n",
       "      <td>0</td>\n",
       "      <td>1</td>\n",
       "      <td>0</td>\n",
       "      <td>0</td>\n",
       "      <td>1</td>\n",
       "      <td>0</td>\n",
       "      <td>0</td>\n",
       "      <td>...</td>\n",
       "      <td>0.0</td>\n",
       "      <td>0.0</td>\n",
       "      <td>0.0</td>\n",
       "      <td>0.0</td>\n",
       "      <td>0.0</td>\n",
       "      <td>0.0</td>\n",
       "      <td>0.0</td>\n",
       "      <td>0.0</td>\n",
       "      <td>0.0</td>\n",
       "      <td>0.0</td>\n",
       "    </tr>\n",
       "    <tr>\n",
       "      <th>4</th>\n",
       "      <td>-1</td>\n",
       "      <td>0</td>\n",
       "      <td>0</td>\n",
       "      <td>0</td>\n",
       "      <td>1</td>\n",
       "      <td>0</td>\n",
       "      <td>0</td>\n",
       "      <td>1</td>\n",
       "      <td>0</td>\n",
       "      <td>0</td>\n",
       "      <td>...</td>\n",
       "      <td>0.0</td>\n",
       "      <td>0.0</td>\n",
       "      <td>0.0</td>\n",
       "      <td>0.0</td>\n",
       "      <td>0.0</td>\n",
       "      <td>0.0</td>\n",
       "      <td>0.0</td>\n",
       "      <td>0.0</td>\n",
       "      <td>0.0</td>\n",
       "      <td>0.0</td>\n",
       "    </tr>\n",
       "  </tbody>\n",
       "</table>\n",
       "<p>5 rows × 1064 columns</p>\n",
       "</div>"
      ],
      "text/plain": [
       "   y  RefxA  RefxC  RefxG  RefxT  RefxN  AltxA  AltxC  AltxG  AltxT ...   YxM  \\\n",
       "0  0      0      0      0      0      0      0      0      0      0 ...   NaN   \n",
       "1 -1      0      1      0      0      0      0      0      0      1 ...   0.0   \n",
       "2 -1      0      1      0      0      0      1      0      0      0 ...   0.0   \n",
       "3 -1      0      0      0      1      0      0      1      0      0 ...   0.0   \n",
       "4 -1      0      0      0      1      0      0      1      0      0 ...   0.0   \n",
       "\n",
       "   YxN  YxP  YxQ  YxR  YxS  YxT  YxV  YxW  YxY  \n",
       "0  NaN  NaN  NaN  NaN  NaN  NaN  NaN  NaN  NaN  \n",
       "1  0.0  0.0  0.0  0.0  0.0  0.0  0.0  0.0  0.0  \n",
       "2  0.0  0.0  0.0  0.0  0.0  0.0  0.0  0.0  0.0  \n",
       "3  0.0  0.0  0.0  0.0  0.0  0.0  0.0  0.0  0.0  \n",
       "4  0.0  0.0  0.0  0.0  0.0  0.0  0.0  0.0  0.0  \n",
       "\n",
       "[5 rows x 1064 columns]"
      ]
     },
     "execution_count": 34,
     "metadata": {},
     "output_type": "execute_result"
    }
   ],
   "source": [
    "df2 = pd.read_csv(f, nrows=1000, names=header)\n",
    "df2.head()"
   ]
  },
  {
   "cell_type": "code",
   "execution_count": 36,
   "metadata": {},
   "outputs": [],
   "source": [
    "f.close()"
   ]
  },
  {
   "cell_type": "code",
   "execution_count": 37,
   "metadata": {},
   "outputs": [
    {
     "data": {
      "text/html": [
       "<div>\n",
       "<style scoped>\n",
       "    .dataframe tbody tr th:only-of-type {\n",
       "        vertical-align: middle;\n",
       "    }\n",
       "\n",
       "    .dataframe tbody tr th {\n",
       "        vertical-align: top;\n",
       "    }\n",
       "\n",
       "    .dataframe thead th {\n",
       "        text-align: right;\n",
       "    }\n",
       "</style>\n",
       "<table border=\"1\" class=\"dataframe\">\n",
       "  <thead>\n",
       "    <tr style=\"text-align: right;\">\n",
       "      <th></th>\n",
       "      <th>y</th>\n",
       "      <th>RefxA</th>\n",
       "      <th>RefxC</th>\n",
       "      <th>RefxG</th>\n",
       "      <th>RefxT</th>\n",
       "      <th>RefxN</th>\n",
       "      <th>AltxA</th>\n",
       "      <th>AltxC</th>\n",
       "      <th>AltxG</th>\n",
       "      <th>AltxT</th>\n",
       "      <th>...</th>\n",
       "      <th>YxM</th>\n",
       "      <th>YxN</th>\n",
       "      <th>YxP</th>\n",
       "      <th>YxQ</th>\n",
       "      <th>YxR</th>\n",
       "      <th>YxS</th>\n",
       "      <th>YxT</th>\n",
       "      <th>YxV</th>\n",
       "      <th>YxW</th>\n",
       "      <th>YxY</th>\n",
       "    </tr>\n",
       "  </thead>\n",
       "  <tbody>\n",
       "    <tr>\n",
       "      <th>99</th>\n",
       "      <td>-1</td>\n",
       "      <td>0</td>\n",
       "      <td>0</td>\n",
       "      <td>0</td>\n",
       "      <td>1</td>\n",
       "      <td>0</td>\n",
       "      <td>0</td>\n",
       "      <td>1</td>\n",
       "      <td>0</td>\n",
       "      <td>0</td>\n",
       "      <td>...</td>\n",
       "      <td>0</td>\n",
       "      <td>0</td>\n",
       "      <td>0</td>\n",
       "      <td>0</td>\n",
       "      <td>0</td>\n",
       "      <td>0</td>\n",
       "      <td>0</td>\n",
       "      <td>0</td>\n",
       "      <td>0</td>\n",
       "      <td>0</td>\n",
       "    </tr>\n",
       "    <tr>\n",
       "      <th>100</th>\n",
       "      <td>-1</td>\n",
       "      <td>0</td>\n",
       "      <td>0</td>\n",
       "      <td>0</td>\n",
       "      <td>1</td>\n",
       "      <td>0</td>\n",
       "      <td>0</td>\n",
       "      <td>1</td>\n",
       "      <td>0</td>\n",
       "      <td>0</td>\n",
       "      <td>...</td>\n",
       "      <td>0</td>\n",
       "      <td>0</td>\n",
       "      <td>0</td>\n",
       "      <td>0</td>\n",
       "      <td>0</td>\n",
       "      <td>0</td>\n",
       "      <td>0</td>\n",
       "      <td>0</td>\n",
       "      <td>0</td>\n",
       "      <td>0</td>\n",
       "    </tr>\n",
       "    <tr>\n",
       "      <th>101</th>\n",
       "      <td>-1</td>\n",
       "      <td>0</td>\n",
       "      <td>0</td>\n",
       "      <td>1</td>\n",
       "      <td>0</td>\n",
       "      <td>0</td>\n",
       "      <td>1</td>\n",
       "      <td>0</td>\n",
       "      <td>0</td>\n",
       "      <td>0</td>\n",
       "      <td>...</td>\n",
       "      <td>0</td>\n",
       "      <td>0</td>\n",
       "      <td>0</td>\n",
       "      <td>0</td>\n",
       "      <td>0</td>\n",
       "      <td>0</td>\n",
       "      <td>0</td>\n",
       "      <td>0</td>\n",
       "      <td>0</td>\n",
       "      <td>0</td>\n",
       "    </tr>\n",
       "    <tr>\n",
       "      <th>102</th>\n",
       "      <td>-1</td>\n",
       "      <td>0</td>\n",
       "      <td>0</td>\n",
       "      <td>0</td>\n",
       "      <td>1</td>\n",
       "      <td>0</td>\n",
       "      <td>0</td>\n",
       "      <td>1</td>\n",
       "      <td>0</td>\n",
       "      <td>0</td>\n",
       "      <td>...</td>\n",
       "      <td>0</td>\n",
       "      <td>0</td>\n",
       "      <td>0</td>\n",
       "      <td>0</td>\n",
       "      <td>0</td>\n",
       "      <td>0</td>\n",
       "      <td>0</td>\n",
       "      <td>0</td>\n",
       "      <td>0</td>\n",
       "      <td>0</td>\n",
       "    </tr>\n",
       "    <tr>\n",
       "      <th>103</th>\n",
       "      <td>-1</td>\n",
       "      <td>0</td>\n",
       "      <td>1</td>\n",
       "      <td>0</td>\n",
       "      <td>0</td>\n",
       "      <td>0</td>\n",
       "      <td>0</td>\n",
       "      <td>0</td>\n",
       "      <td>0</td>\n",
       "      <td>1</td>\n",
       "      <td>...</td>\n",
       "      <td>0</td>\n",
       "      <td>0</td>\n",
       "      <td>0</td>\n",
       "      <td>0</td>\n",
       "      <td>0</td>\n",
       "      <td>0</td>\n",
       "      <td>0</td>\n",
       "      <td>0</td>\n",
       "      <td>0</td>\n",
       "      <td>0</td>\n",
       "    </tr>\n",
       "    <tr>\n",
       "      <th>104</th>\n",
       "      <td>-1</td>\n",
       "      <td>0</td>\n",
       "      <td>0</td>\n",
       "      <td>0</td>\n",
       "      <td>1</td>\n",
       "      <td>0</td>\n",
       "      <td>0</td>\n",
       "      <td>1</td>\n",
       "      <td>0</td>\n",
       "      <td>0</td>\n",
       "      <td>...</td>\n",
       "      <td>0</td>\n",
       "      <td>0</td>\n",
       "      <td>0</td>\n",
       "      <td>0</td>\n",
       "      <td>0</td>\n",
       "      <td>0</td>\n",
       "      <td>0</td>\n",
       "      <td>0</td>\n",
       "      <td>0</td>\n",
       "      <td>0</td>\n",
       "    </tr>\n",
       "    <tr>\n",
       "      <th>105</th>\n",
       "      <td>-1</td>\n",
       "      <td>1</td>\n",
       "      <td>0</td>\n",
       "      <td>0</td>\n",
       "      <td>0</td>\n",
       "      <td>0</td>\n",
       "      <td>0</td>\n",
       "      <td>0</td>\n",
       "      <td>1</td>\n",
       "      <td>0</td>\n",
       "      <td>...</td>\n",
       "      <td>0</td>\n",
       "      <td>0</td>\n",
       "      <td>0</td>\n",
       "      <td>0</td>\n",
       "      <td>0</td>\n",
       "      <td>0</td>\n",
       "      <td>0</td>\n",
       "      <td>0</td>\n",
       "      <td>0</td>\n",
       "      <td>0</td>\n",
       "    </tr>\n",
       "  </tbody>\n",
       "</table>\n",
       "<p>7 rows × 1064 columns</p>\n",
       "</div>"
      ],
      "text/plain": [
       "     y  RefxA  RefxC  RefxG  RefxT  RefxN  AltxA  AltxC  AltxG  AltxT ...   \\\n",
       "99  -1      0      0      0      1      0      0      1      0      0 ...    \n",
       "100 -1      0      0      0      1      0      0      1      0      0 ...    \n",
       "101 -1      0      0      1      0      0      1      0      0      0 ...    \n",
       "102 -1      0      0      0      1      0      0      1      0      0 ...    \n",
       "103 -1      0      1      0      0      0      0      0      0      1 ...    \n",
       "104 -1      0      0      0      1      0      0      1      0      0 ...    \n",
       "105 -1      1      0      0      0      0      0      0      1      0 ...    \n",
       "\n",
       "     YxM  YxN  YxP  YxQ  YxR  YxS  YxT  YxV  YxW  YxY  \n",
       "99     0    0    0    0    0    0    0    0    0    0  \n",
       "100    0    0    0    0    0    0    0    0    0    0  \n",
       "101    0    0    0    0    0    0    0    0    0    0  \n",
       "102    0    0    0    0    0    0    0    0    0    0  \n",
       "103    0    0    0    0    0    0    0    0    0    0  \n",
       "104    0    0    0    0    0    0    0    0    0    0  \n",
       "105    0    0    0    0    0    0    0    0    0    0  \n",
       "\n",
       "[7 rows x 1064 columns]"
      ]
     },
     "execution_count": 37,
     "metadata": {},
     "output_type": "execute_result"
    }
   ],
   "source": [
    "df3 = pd.read_csv(csv_file, nrows=200)\n",
    "df3.loc[99:105,:]"
   ]
  },
  {
   "cell_type": "markdown",
   "metadata": {},
   "source": [
    "## Load entire sparse csv directly into a sparse matrix using Dask\n",
    "I saw this approach here https://stackoverflow.com/questions/31888856/read-a-large-csv-into-a-sparse-pandas-dataframe-in-a-memory-efficient-way.\n",
    "After loading the sparse matrix, we want to **shuffle** it and then **persist** it. The dataset size in disk should be considerably reduced."
   ]
  },
  {
   "cell_type": "code",
   "execution_count": 28,
   "metadata": {},
   "outputs": [],
   "source": [
    "colnames = pd.read_csv(short_csv, nrows=1).columns.values\n",
    "dic = {}\n",
    "for i, col in enumerate(colnames):\n",
    "    dic[col] = i"
   ]
  },
  {
   "cell_type": "code",
   "execution_count": 12,
   "metadata": {},
   "outputs": [
    {
     "name": "stdout",
     "output_type": "stream",
     "text": [
      "Started dask task.\n",
      "[########################################] | 100% Completed | 15.6s\n",
      "Finished dask task.\n",
      "Finished transforming to csr_matrix.\n",
      "CPU times: user 23.2 s, sys: 4.14 s, total: 27.3 s\n",
      "Wall time: 18.7 s\n"
     ]
    }
   ],
   "source": [
    "%%time\n",
    "# Load sparse matrix directly from csv file\n",
    "res = load_csv_to_sparse_matrix(short_csv)"
   ]
  },
  {
   "cell_type": "code",
   "execution_count": 40,
   "metadata": {},
   "outputs": [
    {
     "name": "stdout",
     "output_type": "stream",
     "text": [
      "[3299 3730 9371 ... 7391 8441 3889]\n"
     ]
    },
    {
     "data": {
      "text/plain": [
       "<10000x1064 sparse matrix of type '<class 'numpy.float32'>'\n",
       "\twith 665816 stored elements in Compressed Sparse Row format>"
      ]
     },
     "execution_count": 40,
     "metadata": {},
     "output_type": "execute_result"
    }
   ],
   "source": [
    "# Shuffle a sparse matrix\n",
    "index = load_pickle(training_dir + \"shuffle_splits/shuffled_index_10k.pkl\")\n",
    "print(index)\n",
    "shuff_res = res[index, :]\n",
    "shuff_res"
   ]
  },
  {
   "cell_type": "code",
   "execution_count": 46,
   "metadata": {},
   "outputs": [
    {
     "name": "stdout",
     "output_type": "stream",
     "text": [
      "(10000, 1)\n",
      "(10000, 1063)\n"
     ]
    }
   ],
   "source": [
    "print(shuff_res[:,0].shape)\n",
    "print(shuff_res[:,1:].shape)"
   ]
  },
  {
   "cell_type": "code",
   "execution_count": 47,
   "metadata": {},
   "outputs": [],
   "source": [
    "# Persist csr_matrix\n",
    "save_npz(training_dir + \"example_sparse.npz\", shuff_res)"
   ]
  },
  {
   "cell_type": "markdown",
   "metadata": {},
   "source": [
    "## Extract training and validation set from sparse matrix in disk"
   ]
  },
  {
   "cell_type": "code",
   "execution_count": 55,
   "metadata": {},
   "outputs": [],
   "source": [
    "from sklearn.model_selection import train_test_split\n",
    "def sparse_cadd_datset(sparse_matrix_file, split=0.3, random_state=42):\n",
    "    sparse_matrix = load_npz(sparse_matrix_file)\n",
    "    y = sparse_matrix[:,0]\n",
    "    X = sparse_matrix[:,1:]\n",
    "    del sparse_matrix\n",
    "\n",
    "    X_train, X_valid, y_train, y_valid = train_test_split(X, y, test_size=split, random_state=random_state)\n",
    "    return (X_train, y_train), (X_valid, y_valid)"
   ]
  },
  {
   "cell_type": "code",
   "execution_count": 56,
   "metadata": {},
   "outputs": [
    {
     "data": {
      "text/plain": [
       "<3000x1 sparse matrix of type '<class 'numpy.float32'>'\n",
       "\twith 3000 stored elements in Compressed Sparse Row format>"
      ]
     },
     "execution_count": 56,
     "metadata": {},
     "output_type": "execute_result"
    }
   ],
   "source": [
    "(X_train, y_train), (X_valid, y_valid) = sparse_cadd_datset(training_dir + \"example_sparse.npz\")"
   ]
  },
  {
   "cell_type": "code",
   "execution_count": 59,
   "metadata": {},
   "outputs": [
    {
     "name": "stdout",
     "output_type": "stream",
     "text": [
      "Finished loading training dataset. Shape:  (7000, 1063) True values:   (0, 0)\t1.0\n"
     ]
    }
   ],
   "source": [
    "print(\"Finished loading training dataset. Shape: \", X_train.shape, \"True values:\", y_train.sum()/y_train.shape[0])"
   ]
  },
  {
   "cell_type": "code",
   "execution_count": 62,
   "metadata": {},
   "outputs": [
    {
     "data": {
      "text/plain": [
       "7000"
      ]
     },
     "execution_count": 62,
     "metadata": {},
     "output_type": "execute_result"
    }
   ],
   "source": [
    "y_train.shape[0]"
   ]
  },
  {
   "cell_type": "markdown",
   "metadata": {},
   "source": [
    "## Verify order of variants in sparse matrix\n",
    "The original csv was loaded into sparse format using delayed functions of dask. This probably disrupted the order of variants so we want to verify if this is the case."
   ]
  },
  {
   "cell_type": "code",
   "execution_count": 6,
   "metadata": {},
   "outputs": [],
   "source": [
    "# Load first 10k rows of sparse matrix\n",
    "tmp = load_npz(sparse_all)\n",
    "sparse_10k = tmp[:10000, :]\n",
    "sparse_10k = sparse_10k.toarray()\n",
    "del tmp"
   ]
  },
  {
   "cell_type": "code",
   "execution_count": 10,
   "metadata": {},
   "outputs": [],
   "source": [
    "# Load first 10k rows of csv\n",
    "tmp = pd.read_csv(csv_file, nrows=10000)\n",
    "dense_10k = tmp.values\n",
    "del tmp"
   ]
  },
  {
   "cell_type": "code",
   "execution_count": 16,
   "metadata": {},
   "outputs": [
    {
     "data": {
      "text/plain": [
       "array([False,  True])"
      ]
     },
     "execution_count": 16,
     "metadata": {},
     "output_type": "execute_result"
    }
   ],
   "source": [
    "# Compare\n",
    "sparse_10k.dtype == dense_10k.dtype\n",
    "np.unique(sparse_10k[:, 1:] == dense_10k[:, 1:])"
   ]
  },
  {
   "cell_type": "markdown",
   "metadata": {},
   "source": [
    "# THEY ARE NOT EQUAL!!!   D':\n",
    "Fix this"
   ]
  },
  {
   "cell_type": "code",
   "execution_count": null,
   "metadata": {},
   "outputs": [],
   "source": [
    "\"\"\"\n",
    "# Add idx column to dataset\n",
    "awk -F'\\t' -v OFS=',' '\n",
    "  NR == 1 {print \"ID\", $0; next}\n",
    "  {print (NR-2), $0}\n",
    "' training_data.imputed.csv > /s/project/kipoi-cadd/data/processed/v1.3/training_data/training_data.imputed.index.csv\n",
    "\n",
    "awk -F'\\t' -v OFS=',' '\n",
    "    NR == 1 {print \"ID\", $0; next}\n",
    "    {print (NR-2), $0}\n",
    "    ' shuffled_10k.csv > /s/project/kipoi-cadd/data/processed/v1.3/training_data/shuffled_10k.index.csv\n",
    "\"\"\""
   ]
  },
  {
   "cell_type": "code",
   "execution_count": 26,
   "metadata": {},
   "outputs": [
    {
     "name": "stdout",
     "output_type": "stream",
     "text": [
      "      y  RefxA  RefxC  RefxG  RefxT  RefxN  AltxA  AltxC  AltxG  AltxT ...   \\\n",
      "0     1      0      0      0      0      1      0      0      0      0 ...    \n",
      "1     1      0      0      0      0      1      0      0      0      0 ...    \n",
      "2     1      0      0      0      0      1      0      0      0      0 ...    \n",
      "3     1      0      0      0      0      1      0      0      0      0 ...    \n",
      "4     1      0      0      0      0      1      0      0      0      0 ...    \n",
      "5     1      0      0      0      0      1      0      0      0      0 ...    \n",
      "6     1      0      0      0      0      1      0      0      0      0 ...    \n",
      "7     1      0      0      0      0      1      0      0      0      0 ...    \n",
      "8     1      0      0      0      0      1      0      0      0      0 ...    \n",
      "9     1      0      0      0      0      1      0      0      0      0 ...    \n",
      "10    1      0      0      0      0      1      0      0      0      0 ...    \n",
      "11    1      0      0      0      0      1      0      0      0      0 ...    \n",
      "12    1      0      0      0      0      1      0      0      0      0 ...    \n",
      "13    1      0      0      0      0      1      0      0      0      0 ...    \n",
      "14    1      0      0      0      0      1      0      0      0      0 ...    \n",
      "15    1      0      0      0      0      1      0      0      0      0 ...    \n",
      "16    1      0      0      0      0      1      0      0      0      0 ...    \n",
      "17    1      0      0      0      0      1      0      0      0      0 ...    \n",
      "18    1      0      0      0      0      1      0      0      0      0 ...    \n",
      "19    1      0      0      0      0      1      0      0      0      0 ...    \n",
      "20    1      0      0      0      0      1      0      0      0      0 ...    \n",
      "21    1      0      0      0      0      1      0      0      0      0 ...    \n",
      "22    1      0      0      0      0      1      0      0      0      0 ...    \n",
      "23    1      0      0      0      0      1      0      0      0      0 ...    \n",
      "24    1      0      0      0      0      1      0      0      0      0 ...    \n",
      "25    1      0      0      0      0      1      0      0      0      0 ...    \n",
      "26    1      0      0      0      0      1      0      0      0      0 ...    \n",
      "27    1      0      0      0      0      1      0      0      0      0 ...    \n",
      "28    1      0      0      0      0      1      0      0      0      0 ...    \n",
      "29    1      0      0      0      0      1      0      0      0      0 ...    \n",
      "...  ..    ...    ...    ...    ...    ...    ...    ...    ...    ... ...    \n",
      "9970  1      0      0      0      0      1      0      0      0      0 ...    \n",
      "9971  1      0      0      0      0      1      0      0      0      0 ...    \n",
      "9972  1      0      0      0      0      1      0      0      0      0 ...    \n",
      "9973  1      0      0      0      0      1      0      0      0      0 ...    \n",
      "9974  1      0      0      0      0      1      0      0      0      0 ...    \n",
      "9975  1      0      0      0      0      1      0      0      0      0 ...    \n",
      "9976  1      0      0      0      0      1      0      0      0      0 ...    \n",
      "9977  1      0      0      0      0      1      0      0      0      0 ...    \n",
      "9978  1      0      0      0      0      1      0      0      0      0 ...    \n",
      "9979  1      0      0      0      0      1      0      0      0      0 ...    \n",
      "9980  1      0      0      0      0      1      0      0      0      0 ...    \n",
      "9981  1      0      0      0      0      1      0      0      0      0 ...    \n",
      "9982  1      0      0      0      0      1      0      0      0      0 ...    \n",
      "9983  1      0      0      0      0      1      0      0      0      0 ...    \n",
      "9984  1      0      0      0      0      1      0      0      0      0 ...    \n",
      "9985  1      0      0      0      0      1      0      0      0      0 ...    \n",
      "9986  1      0      0      0      0      1      0      0      0      0 ...    \n",
      "9987  1      0      0      0      0      1      0      0      0      0 ...    \n",
      "9988  1      0      0      0      0      1      0      0      0      0 ...    \n",
      "9989  1      0      0      0      0      1      0      0      0      0 ...    \n",
      "9990  1      0      0      0      0      1      0      0      0      0 ...    \n",
      "9991  1      0      0      0      0      1      0      0      0      0 ...    \n",
      "9992  1      0      0      0      0      1      0      0      0      0 ...    \n",
      "9993  1      0      0      0      0      1      0      0      0      0 ...    \n",
      "9994  1      0      0      0      0      1      0      0      0      0 ...    \n",
      "9995  1      0      0      0      0      1      0      0      0      0 ...    \n",
      "9996  1      0      0      0      0      1      0      0      0      0 ...    \n",
      "9997  1      0      0      0      0      1      0      0      0      0 ...    \n",
      "9998  1      0      0      0      0      1      0      0      0      0 ...    \n",
      "9999  1      0      0      0      0      1      0      0      0      0 ...    \n",
      "\n",
      "      YxM  YxN  YxP  YxQ  YxR  YxS  YxT  YxV  YxW  YxY  \n",
      "0       0    0    0    0    0    0    0    0    0    0  \n",
      "1       0    0    0    0    0    0    0    0    0    0  \n",
      "2       0    0    0    0    0    0    0    0    0    0  \n",
      "3       0    0    0    0    0    0    0    0    0    0  \n",
      "4       0    0    0    0    0    0    0    0    0    0  \n",
      "5       0    0    0    0    0    0    0    0    0    0  \n",
      "6       0    0    0    0    0    0    0    0    0    0  \n",
      "7       0    0    0    0    0    0    0    0    0    0  \n",
      "8       0    0    0    0    0    0    0    0    0    0  \n",
      "9       0    0    0    0    0    0    0    0    0    0  \n",
      "10      0    0    0    0    0    0    0    0    0    0  \n",
      "11      0    0    0    0    0    0    0    0    0    0  \n",
      "12      0    0    0    0    0    0    0    0    0    0  \n",
      "13      0    0    0    0    0    0    0    0    0    0  \n",
      "14      0    0    0    0    0    0    0    0    0    0  \n",
      "15      0    0    0    0    0    0    0    0    0    0  \n",
      "16      0    0    0    0    0    0    0    0    0    0  \n",
      "17      0    0    0    0    0    0    0    0    0    0  \n",
      "18      0    0    0    0    0    0    0    0    0    0  \n",
      "19      0    0    0    0    0    0    0    0    0    0  \n",
      "20      0    0    0    0    0    0    0    0    0    0  \n",
      "21      0    0    0    0    0    0    0    0    0    0  \n",
      "22      0    0    0    0    0    0    0    0    0    0  \n",
      "23      0    0    0    0    0    0    0    0    0    0  \n",
      "24      0    0    0    0    0    0    0    0    0    0  \n",
      "25      0    0    0    0    0    0    0    0    0    0  \n",
      "26      0    0    0    0    0    0    0    0    0    0  \n",
      "27      0    0    0    0    0    0    0    0    0    0  \n",
      "28      0    0    0    0    0    0    0    0    0    0  \n",
      "29      0    0    0    0    0    0    0    0    0    0  \n",
      "...   ...  ...  ...  ...  ...  ...  ...  ...  ...  ...  \n",
      "9970    0    0    0    0    0    0    0    0    0    0  \n",
      "9971    0    0    0    0    0    0    0    0    0    0  \n",
      "9972    0    0    0    0    0    0    0    0    0    0  \n",
      "9973    0    0    0    0    0    0    0    0    0    0  \n",
      "9974    0    0    0    0    0    0    0    0    0    0  \n",
      "9975    0    0    0    0    0    0    0    0    0    0  \n",
      "9976    0    0    0    0    0    0    0    0    0    0  \n",
      "9977    0    0    0    0    0    0    0    0    0    0  \n",
      "9978    0    0    0    0    0    0    0    0    0    0  \n",
      "9979    0    0    0    0    0    0    0    0    0    0  \n",
      "9980    0    0    0    0    0    0    0    0    0    0  \n",
      "9981    0    0    0    0    0    0    0    0    0    0  \n",
      "9982    0    0    0    0    0    0    0    0    0    0  \n",
      "9983    0    0    0    0    0    0    0    0    0    0  \n",
      "9984    0    0    0    0    0    0    0    0    0    0  \n",
      "9985    0    0    0    0    0    0    0    0    0    0  \n",
      "9986    0    0    0    0    0    0    0    0    0    0  \n",
      "9987    0    0    0    0    0    0    0    0    0    0  \n",
      "9988    0    0    0    0    0    0    0    0    0    0  \n",
      "9989    0    0    0    0    0    0    0    0    0    0  \n",
      "9990    0    0    0    0    0    0    0    0    0    0  \n",
      "9991    0    0    0    0    0    0    0    0    0    0  \n",
      "9992    0    0    0    0    0    0    0    0    0    0  \n",
      "9993    0    0    0    0    0    0    0    0    0    0  \n",
      "9994    0    0    0    0    0    0    0    0    0    0  \n",
      "9995    0    0    0    0    0    0    0    0    0    0  \n",
      "9996    0    0    0    0    0    0    0    0    0    0  \n",
      "9997    0    0    0    0    0    0    0    0    0    0  \n",
      "9998    0    0    0    0    0    0    0    0    0    0  \n",
      "9999    0    0    0    0    0    0    0    0    0    0  \n",
      "\n",
      "[10000 rows x 1064 columns]\n"
     ]
    }
   ],
   "source": [
    "i = 0\n",
    "for chunk in pd.read_csv(short_csv, iterator=True, chunksize=10000):\n",
    "    print(chunk)\n",
    "    i += 1\n",
    "    if i >= 2: break"
   ]
  },
  {
   "cell_type": "markdown",
   "metadata": {},
   "source": [
    "## Sparse matrices transformations with scikit scalers"
   ]
  },
  {
   "cell_type": "code",
   "execution_count": 9,
   "metadata": {},
   "outputs": [
    {
     "name": "stderr",
     "output_type": "stream",
     "text": [
      "100%|██████████| 157/157 [00:00<00:00, 502.63it/s]\n"
     ]
    }
   ],
   "source": [
    "X, y = CaddDataset(lmdb_dir, ids_10k_file).load_all(drop_last=False)\n",
    "X_sparse = csr_matrix(X, shape=None, dtype=np.float32, copy=False)"
   ]
  },
  {
   "cell_type": "code",
   "execution_count": 10,
   "metadata": {},
   "outputs": [],
   "source": [
    "scaler = load_pickle(std_scaler_file)"
   ]
  },
  {
   "cell_type": "code",
   "execution_count": 11,
   "metadata": {},
   "outputs": [],
   "source": [
    "X_sp_tr = scaler.transform(X_sparse)"
   ]
  },
  {
   "cell_type": "code",
   "execution_count": 14,
   "metadata": {},
   "outputs": [
    {
     "data": {
      "text/plain": [
       "<10000x1063 sparse matrix of type '<class 'numpy.float32'>'\n",
       "\twith 647432 stored elements in Compressed Sparse Row format>"
      ]
     },
     "execution_count": 14,
     "metadata": {},
     "output_type": "execute_result"
    }
   ],
   "source": [
    "X_sp_tr"
   ]
  },
  {
   "cell_type": "code",
   "execution_count": null,
   "metadata": {},
   "outputs": [],
   "source": [
    "save_npz(training_dir + \"sparse_matrix_10percent.npz\", X_sparse)\n",
    "# save_npz(\"/s/project/kipoi-cadd/data/raw/v1.3/training_data/sparse_all.npz\", res)"
   ]
  }
 ],
 "metadata": {
  "kernelspec": {
   "display_name": "Python [conda env:kipoi-cadd2]",
   "language": "python",
   "name": "conda-env-kipoi-cadd2-py"
  },
  "language_info": {
   "codemirror_mode": {
    "name": "ipython",
    "version": 3
   },
   "file_extension": ".py",
   "mimetype": "text/x-python",
   "name": "python",
   "nbconvert_exporter": "python",
   "pygments_lexer": "ipython3",
   "version": "3.6.7"
  }
 },
 "nbformat": 4,
 "nbformat_minor": 2
}
