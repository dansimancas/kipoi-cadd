{
 "cells": [
  {
   "cell_type": "markdown",
   "metadata": {},
   "source": [
    "## Summary statistics"
   ]
  },
  {
   "cell_type": "code",
   "execution_count": 2,
   "metadata": {},
   "outputs": [],
   "source": [
    "from kipoi_cadd.data import cadd_train_valid_data, train_test_split_indexes, CaddDataset\n",
    "from kipoi_cadd.utils import dump_to_pickle, load_pickle\n",
    "import pandas as pd\n",
    "import time\n",
    "from tqdm import tqdm, trange\n",
    "import numpy as np\n",
    "from kipoi.data_utils import numpy_collate_concat\n",
    "from sklearn.preprocessing import StandardScaler\n",
    "%load_ext line_profiler"
   ]
  },
  {
   "cell_type": "code",
   "execution_count": 3,
   "metadata": {},
   "outputs": [],
   "source": [
    "training_dir = \"/s/project/kipoi-cadd/data/raw/v1.3/training_data/\"\n",
    "lmdb_dir = training_dir + \"lmdb\"\n",
    "csv_file = training_dir + \"training_data.imputed.csv\"\n",
    "valid_id_file = training_dir + \"valid_idx.pkl\"\n",
    "all_ids_file = training_dir + \"variant_ids.pkl\"\n",
    "ids_10k_file = training_dir + \"sample_indices/ids_10k.pkl\"\n",
    "first_10k_file = training_dir + \"sample_indices/first_10k_ids.pkl\"\n",
    "last_10k_file = training_dir + \"sample_indices/last_10k_ids.pkl\"\n",
    "last_10k_csv = training_dir + \"last10k.csv\""
   ]
  },
  {
   "cell_type": "markdown",
   "metadata": {},
   "source": [
    "## Fist 10k rows of the csv file"
   ]
  },
  {
   "cell_type": "code",
   "execution_count": 4,
   "metadata": {},
   "outputs": [
    {
     "data": {
      "text/html": [
       "<div>\n",
       "<style scoped>\n",
       "    .dataframe tbody tr th:only-of-type {\n",
       "        vertical-align: middle;\n",
       "    }\n",
       "\n",
       "    .dataframe tbody tr th {\n",
       "        vertical-align: top;\n",
       "    }\n",
       "\n",
       "    .dataframe thead th {\n",
       "        text-align: right;\n",
       "    }\n",
       "</style>\n",
       "<table border=\"1\" class=\"dataframe\">\n",
       "  <thead>\n",
       "    <tr style=\"text-align: right;\">\n",
       "      <th></th>\n",
       "      <th>RefxA</th>\n",
       "      <th>RefxC</th>\n",
       "      <th>RefxG</th>\n",
       "      <th>RefxT</th>\n",
       "      <th>RefxN</th>\n",
       "      <th>AltxA</th>\n",
       "      <th>AltxC</th>\n",
       "      <th>AltxG</th>\n",
       "      <th>AltxT</th>\n",
       "      <th>AltxN</th>\n",
       "      <th>...</th>\n",
       "      <th>YxM</th>\n",
       "      <th>YxN</th>\n",
       "      <th>YxP</th>\n",
       "      <th>YxQ</th>\n",
       "      <th>YxR</th>\n",
       "      <th>YxS</th>\n",
       "      <th>YxT</th>\n",
       "      <th>YxV</th>\n",
       "      <th>YxW</th>\n",
       "      <th>YxY</th>\n",
       "    </tr>\n",
       "  </thead>\n",
       "  <tbody>\n",
       "    <tr>\n",
       "      <th>count</th>\n",
       "      <td>10000.000000</td>\n",
       "      <td>10000.000000</td>\n",
       "      <td>10000.000000</td>\n",
       "      <td>10000.000000</td>\n",
       "      <td>10000.0</td>\n",
       "      <td>10000.000000</td>\n",
       "      <td>10000.000000</td>\n",
       "      <td>10000.000000</td>\n",
       "      <td>10000.000000</td>\n",
       "      <td>10000.0</td>\n",
       "      <td>...</td>\n",
       "      <td>10000.0</td>\n",
       "      <td>10000.0</td>\n",
       "      <td>10000.0</td>\n",
       "      <td>10000.0</td>\n",
       "      <td>10000.0</td>\n",
       "      <td>10000.0</td>\n",
       "      <td>10000.0</td>\n",
       "      <td>10000.0</td>\n",
       "      <td>10000.0</td>\n",
       "      <td>10000.000000</td>\n",
       "    </tr>\n",
       "    <tr>\n",
       "      <th>mean</th>\n",
       "      <td>0.221500</td>\n",
       "      <td>0.274200</td>\n",
       "      <td>0.287200</td>\n",
       "      <td>0.217100</td>\n",
       "      <td>0.0</td>\n",
       "      <td>0.256200</td>\n",
       "      <td>0.257600</td>\n",
       "      <td>0.242800</td>\n",
       "      <td>0.243400</td>\n",
       "      <td>0.0</td>\n",
       "      <td>...</td>\n",
       "      <td>0.0</td>\n",
       "      <td>0.0</td>\n",
       "      <td>0.0</td>\n",
       "      <td>0.0</td>\n",
       "      <td>0.0</td>\n",
       "      <td>0.0</td>\n",
       "      <td>0.0</td>\n",
       "      <td>0.0</td>\n",
       "      <td>0.0</td>\n",
       "      <td>0.000400</td>\n",
       "    </tr>\n",
       "    <tr>\n",
       "      <th>std</th>\n",
       "      <td>0.415277</td>\n",
       "      <td>0.446133</td>\n",
       "      <td>0.452478</td>\n",
       "      <td>0.412292</td>\n",
       "      <td>0.0</td>\n",
       "      <td>0.436555</td>\n",
       "      <td>0.437334</td>\n",
       "      <td>0.428797</td>\n",
       "      <td>0.429156</td>\n",
       "      <td>0.0</td>\n",
       "      <td>...</td>\n",
       "      <td>0.0</td>\n",
       "      <td>0.0</td>\n",
       "      <td>0.0</td>\n",
       "      <td>0.0</td>\n",
       "      <td>0.0</td>\n",
       "      <td>0.0</td>\n",
       "      <td>0.0</td>\n",
       "      <td>0.0</td>\n",
       "      <td>0.0</td>\n",
       "      <td>0.019997</td>\n",
       "    </tr>\n",
       "    <tr>\n",
       "      <th>min</th>\n",
       "      <td>0.000000</td>\n",
       "      <td>0.000000</td>\n",
       "      <td>0.000000</td>\n",
       "      <td>0.000000</td>\n",
       "      <td>0.0</td>\n",
       "      <td>0.000000</td>\n",
       "      <td>0.000000</td>\n",
       "      <td>0.000000</td>\n",
       "      <td>0.000000</td>\n",
       "      <td>0.0</td>\n",
       "      <td>...</td>\n",
       "      <td>0.0</td>\n",
       "      <td>0.0</td>\n",
       "      <td>0.0</td>\n",
       "      <td>0.0</td>\n",
       "      <td>0.0</td>\n",
       "      <td>0.0</td>\n",
       "      <td>0.0</td>\n",
       "      <td>0.0</td>\n",
       "      <td>0.0</td>\n",
       "      <td>0.000000</td>\n",
       "    </tr>\n",
       "    <tr>\n",
       "      <th>25%</th>\n",
       "      <td>0.000000</td>\n",
       "      <td>0.000000</td>\n",
       "      <td>0.000000</td>\n",
       "      <td>0.000000</td>\n",
       "      <td>0.0</td>\n",
       "      <td>0.000000</td>\n",
       "      <td>0.000000</td>\n",
       "      <td>0.000000</td>\n",
       "      <td>0.000000</td>\n",
       "      <td>0.0</td>\n",
       "      <td>...</td>\n",
       "      <td>0.0</td>\n",
       "      <td>0.0</td>\n",
       "      <td>0.0</td>\n",
       "      <td>0.0</td>\n",
       "      <td>0.0</td>\n",
       "      <td>0.0</td>\n",
       "      <td>0.0</td>\n",
       "      <td>0.0</td>\n",
       "      <td>0.0</td>\n",
       "      <td>0.000000</td>\n",
       "    </tr>\n",
       "    <tr>\n",
       "      <th>50%</th>\n",
       "      <td>0.000000</td>\n",
       "      <td>0.000000</td>\n",
       "      <td>0.000000</td>\n",
       "      <td>0.000000</td>\n",
       "      <td>0.0</td>\n",
       "      <td>0.000000</td>\n",
       "      <td>0.000000</td>\n",
       "      <td>0.000000</td>\n",
       "      <td>0.000000</td>\n",
       "      <td>0.0</td>\n",
       "      <td>...</td>\n",
       "      <td>0.0</td>\n",
       "      <td>0.0</td>\n",
       "      <td>0.0</td>\n",
       "      <td>0.0</td>\n",
       "      <td>0.0</td>\n",
       "      <td>0.0</td>\n",
       "      <td>0.0</td>\n",
       "      <td>0.0</td>\n",
       "      <td>0.0</td>\n",
       "      <td>0.000000</td>\n",
       "    </tr>\n",
       "    <tr>\n",
       "      <th>75%</th>\n",
       "      <td>0.000000</td>\n",
       "      <td>1.000000</td>\n",
       "      <td>1.000000</td>\n",
       "      <td>0.000000</td>\n",
       "      <td>0.0</td>\n",
       "      <td>1.000000</td>\n",
       "      <td>1.000000</td>\n",
       "      <td>0.000000</td>\n",
       "      <td>0.000000</td>\n",
       "      <td>0.0</td>\n",
       "      <td>...</td>\n",
       "      <td>0.0</td>\n",
       "      <td>0.0</td>\n",
       "      <td>0.0</td>\n",
       "      <td>0.0</td>\n",
       "      <td>0.0</td>\n",
       "      <td>0.0</td>\n",
       "      <td>0.0</td>\n",
       "      <td>0.0</td>\n",
       "      <td>0.0</td>\n",
       "      <td>0.000000</td>\n",
       "    </tr>\n",
       "    <tr>\n",
       "      <th>max</th>\n",
       "      <td>1.000000</td>\n",
       "      <td>1.000000</td>\n",
       "      <td>1.000000</td>\n",
       "      <td>1.000000</td>\n",
       "      <td>0.0</td>\n",
       "      <td>1.000000</td>\n",
       "      <td>1.000000</td>\n",
       "      <td>1.000000</td>\n",
       "      <td>1.000000</td>\n",
       "      <td>0.0</td>\n",
       "      <td>...</td>\n",
       "      <td>0.0</td>\n",
       "      <td>0.0</td>\n",
       "      <td>0.0</td>\n",
       "      <td>0.0</td>\n",
       "      <td>0.0</td>\n",
       "      <td>0.0</td>\n",
       "      <td>0.0</td>\n",
       "      <td>0.0</td>\n",
       "      <td>0.0</td>\n",
       "      <td>1.000000</td>\n",
       "    </tr>\n",
       "  </tbody>\n",
       "</table>\n",
       "<p>8 rows × 1063 columns</p>\n",
       "</div>"
      ],
      "text/plain": [
       "              RefxA         RefxC         RefxG         RefxT    RefxN  \\\n",
       "count  10000.000000  10000.000000  10000.000000  10000.000000  10000.0   \n",
       "mean       0.221500      0.274200      0.287200      0.217100      0.0   \n",
       "std        0.415277      0.446133      0.452478      0.412292      0.0   \n",
       "min        0.000000      0.000000      0.000000      0.000000      0.0   \n",
       "25%        0.000000      0.000000      0.000000      0.000000      0.0   \n",
       "50%        0.000000      0.000000      0.000000      0.000000      0.0   \n",
       "75%        0.000000      1.000000      1.000000      0.000000      0.0   \n",
       "max        1.000000      1.000000      1.000000      1.000000      0.0   \n",
       "\n",
       "              AltxA         AltxC         AltxG         AltxT    AltxN  \\\n",
       "count  10000.000000  10000.000000  10000.000000  10000.000000  10000.0   \n",
       "mean       0.256200      0.257600      0.242800      0.243400      0.0   \n",
       "std        0.436555      0.437334      0.428797      0.429156      0.0   \n",
       "min        0.000000      0.000000      0.000000      0.000000      0.0   \n",
       "25%        0.000000      0.000000      0.000000      0.000000      0.0   \n",
       "50%        0.000000      0.000000      0.000000      0.000000      0.0   \n",
       "75%        1.000000      1.000000      0.000000      0.000000      0.0   \n",
       "max        1.000000      1.000000      1.000000      1.000000      0.0   \n",
       "\n",
       "           ...           YxM      YxN      YxP      YxQ      YxR      YxS  \\\n",
       "count      ...       10000.0  10000.0  10000.0  10000.0  10000.0  10000.0   \n",
       "mean       ...           0.0      0.0      0.0      0.0      0.0      0.0   \n",
       "std        ...           0.0      0.0      0.0      0.0      0.0      0.0   \n",
       "min        ...           0.0      0.0      0.0      0.0      0.0      0.0   \n",
       "25%        ...           0.0      0.0      0.0      0.0      0.0      0.0   \n",
       "50%        ...           0.0      0.0      0.0      0.0      0.0      0.0   \n",
       "75%        ...           0.0      0.0      0.0      0.0      0.0      0.0   \n",
       "max        ...           0.0      0.0      0.0      0.0      0.0      0.0   \n",
       "\n",
       "           YxT      YxV      YxW           YxY  \n",
       "count  10000.0  10000.0  10000.0  10000.000000  \n",
       "mean       0.0      0.0      0.0      0.000400  \n",
       "std        0.0      0.0      0.0      0.019997  \n",
       "min        0.0      0.0      0.0      0.000000  \n",
       "25%        0.0      0.0      0.0      0.000000  \n",
       "50%        0.0      0.0      0.0      0.000000  \n",
       "75%        0.0      0.0      0.0      0.000000  \n",
       "max        0.0      0.0      0.0      1.000000  \n",
       "\n",
       "[8 rows x 1063 columns]"
      ]
     },
     "execution_count": 4,
     "metadata": {},
     "output_type": "execute_result"
    }
   ],
   "source": [
    "df10k = pd.read_csv(csv_file, nrows=10000)\n",
    "df10k_y = [0 if s == -1 else 1 for s in df10k.y]\n",
    "df10k.drop('y', axis=1, inplace=True)\n",
    "pd_description = df10k.describe(include='all')\n",
    "dump_to_pickle(training_dir + \"stats/summary_stats_first10k.pkl\", pd_description)\n",
    "pd_description"
   ]
  },
  {
   "cell_type": "code",
   "execution_count": 5,
   "metadata": {},
   "outputs": [
    {
     "data": {
      "text/plain": [
       "'\\nall_ids = load_pickle(all_ids_file)\\nfirst_10k = all_ids.iloc[:10000]\\nfirst_10k_file = training_dir + \"first_10k_ids.pkl\"\\ndump_to_pickle(first_10k_file, first_10k)\\n'"
      ]
     },
     "execution_count": 5,
     "metadata": {},
     "output_type": "execute_result"
    }
   ],
   "source": [
    "\"\"\"\n",
    "all_ids = load_pickle(all_ids_file)\n",
    "first_10k = all_ids.iloc[:10000]\n",
    "first_10k_file = training_dir + \"first_10k_ids.pkl\"\n",
    "dump_to_pickle(first_10k_file, first_10k)\n",
    "\"\"\""
   ]
  },
  {
   "cell_type": "code",
   "execution_count": 6,
   "metadata": {},
   "outputs": [
    {
     "name": "stderr",
     "output_type": "stream",
     "text": [
      "100%|██████████| 157/157 [00:00<00:00, 187.46it/s]\n"
     ]
    }
   ],
   "source": [
    "first_10k_ds = CaddDataset(lmdb_dir, first_10k_file)\n",
    "X, y = first_10k_ds.load_all(shuffle=False, drop_last=False)"
   ]
  },
  {
   "cell_type": "code",
   "execution_count": 7,
   "metadata": {},
   "outputs": [
    {
     "data": {
      "text/plain": [
       "True"
      ]
     },
     "execution_count": 7,
     "metadata": {},
     "output_type": "execute_result"
    }
   ],
   "source": [
    "np.allclose(np.array(df10k, dtype=np.float16), X, rtol=1e-05, atol=1e-07)"
   ]
  },
  {
   "cell_type": "code",
   "execution_count": 8,
   "metadata": {},
   "outputs": [
    {
     "data": {
      "text/plain": [
       "True"
      ]
     },
     "execution_count": 8,
     "metadata": {},
     "output_type": "execute_result"
    }
   ],
   "source": [
    "np.allclose(np.array(df10k_y, dtype=np.float16), y, rtol=1e-05, atol=1e-07)"
   ]
  },
  {
   "cell_type": "markdown",
   "metadata": {},
   "source": [
    "## Last 10k rows of the csv file"
   ]
  },
  {
   "cell_type": "code",
   "execution_count": 9,
   "metadata": {},
   "outputs": [
    {
     "data": {
      "text/plain": [
       "'\\n! head {csv_file} -n 1 > last10k.csv\\n! tail {csv_file} -n 10000 >> last10k.csv\\n'"
      ]
     },
     "execution_count": 9,
     "metadata": {},
     "output_type": "execute_result"
    }
   ],
   "source": [
    "\"\"\"\n",
    "! head {csv_file} -n 1 > last10k.csv\n",
    "! tail {csv_file} -n 10000 >> last10k.csv\n",
    "\"\"\""
   ]
  },
  {
   "cell_type": "code",
   "execution_count": 10,
   "metadata": {},
   "outputs": [
    {
     "data": {
      "text/html": [
       "<div>\n",
       "<style scoped>\n",
       "    .dataframe tbody tr th:only-of-type {\n",
       "        vertical-align: middle;\n",
       "    }\n",
       "\n",
       "    .dataframe tbody tr th {\n",
       "        vertical-align: top;\n",
       "    }\n",
       "\n",
       "    .dataframe thead th {\n",
       "        text-align: right;\n",
       "    }\n",
       "</style>\n",
       "<table border=\"1\" class=\"dataframe\">\n",
       "  <thead>\n",
       "    <tr style=\"text-align: right;\">\n",
       "      <th></th>\n",
       "      <th>RefxA</th>\n",
       "      <th>RefxC</th>\n",
       "      <th>RefxG</th>\n",
       "      <th>RefxT</th>\n",
       "      <th>RefxN</th>\n",
       "      <th>AltxA</th>\n",
       "      <th>AltxC</th>\n",
       "      <th>AltxG</th>\n",
       "      <th>AltxT</th>\n",
       "      <th>AltxN</th>\n",
       "      <th>...</th>\n",
       "      <th>YxM</th>\n",
       "      <th>YxN</th>\n",
       "      <th>YxP</th>\n",
       "      <th>YxQ</th>\n",
       "      <th>YxR</th>\n",
       "      <th>YxS</th>\n",
       "      <th>YxT</th>\n",
       "      <th>YxV</th>\n",
       "      <th>YxW</th>\n",
       "      <th>YxY</th>\n",
       "    </tr>\n",
       "  </thead>\n",
       "  <tbody>\n",
       "    <tr>\n",
       "      <th>count</th>\n",
       "      <td>10000.0</td>\n",
       "      <td>10000.0</td>\n",
       "      <td>10000.0</td>\n",
       "      <td>10000.0</td>\n",
       "      <td>10000.0</td>\n",
       "      <td>10000.0</td>\n",
       "      <td>10000.0</td>\n",
       "      <td>10000.0</td>\n",
       "      <td>10000.0</td>\n",
       "      <td>10000.0</td>\n",
       "      <td>...</td>\n",
       "      <td>10000.0</td>\n",
       "      <td>10000.0</td>\n",
       "      <td>10000.0</td>\n",
       "      <td>10000.0</td>\n",
       "      <td>10000.0</td>\n",
       "      <td>10000.0</td>\n",
       "      <td>10000.0</td>\n",
       "      <td>10000.0</td>\n",
       "      <td>10000.0</td>\n",
       "      <td>10000.0</td>\n",
       "    </tr>\n",
       "    <tr>\n",
       "      <th>mean</th>\n",
       "      <td>0.0</td>\n",
       "      <td>0.0</td>\n",
       "      <td>0.0</td>\n",
       "      <td>0.0</td>\n",
       "      <td>1.0</td>\n",
       "      <td>0.0</td>\n",
       "      <td>0.0</td>\n",
       "      <td>0.0</td>\n",
       "      <td>0.0</td>\n",
       "      <td>1.0</td>\n",
       "      <td>...</td>\n",
       "      <td>0.0</td>\n",
       "      <td>0.0</td>\n",
       "      <td>0.0</td>\n",
       "      <td>0.0</td>\n",
       "      <td>0.0</td>\n",
       "      <td>0.0</td>\n",
       "      <td>0.0</td>\n",
       "      <td>0.0</td>\n",
       "      <td>0.0</td>\n",
       "      <td>0.0</td>\n",
       "    </tr>\n",
       "    <tr>\n",
       "      <th>std</th>\n",
       "      <td>0.0</td>\n",
       "      <td>0.0</td>\n",
       "      <td>0.0</td>\n",
       "      <td>0.0</td>\n",
       "      <td>0.0</td>\n",
       "      <td>0.0</td>\n",
       "      <td>0.0</td>\n",
       "      <td>0.0</td>\n",
       "      <td>0.0</td>\n",
       "      <td>0.0</td>\n",
       "      <td>...</td>\n",
       "      <td>0.0</td>\n",
       "      <td>0.0</td>\n",
       "      <td>0.0</td>\n",
       "      <td>0.0</td>\n",
       "      <td>0.0</td>\n",
       "      <td>0.0</td>\n",
       "      <td>0.0</td>\n",
       "      <td>0.0</td>\n",
       "      <td>0.0</td>\n",
       "      <td>0.0</td>\n",
       "    </tr>\n",
       "    <tr>\n",
       "      <th>min</th>\n",
       "      <td>0.0</td>\n",
       "      <td>0.0</td>\n",
       "      <td>0.0</td>\n",
       "      <td>0.0</td>\n",
       "      <td>1.0</td>\n",
       "      <td>0.0</td>\n",
       "      <td>0.0</td>\n",
       "      <td>0.0</td>\n",
       "      <td>0.0</td>\n",
       "      <td>1.0</td>\n",
       "      <td>...</td>\n",
       "      <td>0.0</td>\n",
       "      <td>0.0</td>\n",
       "      <td>0.0</td>\n",
       "      <td>0.0</td>\n",
       "      <td>0.0</td>\n",
       "      <td>0.0</td>\n",
       "      <td>0.0</td>\n",
       "      <td>0.0</td>\n",
       "      <td>0.0</td>\n",
       "      <td>0.0</td>\n",
       "    </tr>\n",
       "    <tr>\n",
       "      <th>25%</th>\n",
       "      <td>0.0</td>\n",
       "      <td>0.0</td>\n",
       "      <td>0.0</td>\n",
       "      <td>0.0</td>\n",
       "      <td>1.0</td>\n",
       "      <td>0.0</td>\n",
       "      <td>0.0</td>\n",
       "      <td>0.0</td>\n",
       "      <td>0.0</td>\n",
       "      <td>1.0</td>\n",
       "      <td>...</td>\n",
       "      <td>0.0</td>\n",
       "      <td>0.0</td>\n",
       "      <td>0.0</td>\n",
       "      <td>0.0</td>\n",
       "      <td>0.0</td>\n",
       "      <td>0.0</td>\n",
       "      <td>0.0</td>\n",
       "      <td>0.0</td>\n",
       "      <td>0.0</td>\n",
       "      <td>0.0</td>\n",
       "    </tr>\n",
       "    <tr>\n",
       "      <th>50%</th>\n",
       "      <td>0.0</td>\n",
       "      <td>0.0</td>\n",
       "      <td>0.0</td>\n",
       "      <td>0.0</td>\n",
       "      <td>1.0</td>\n",
       "      <td>0.0</td>\n",
       "      <td>0.0</td>\n",
       "      <td>0.0</td>\n",
       "      <td>0.0</td>\n",
       "      <td>1.0</td>\n",
       "      <td>...</td>\n",
       "      <td>0.0</td>\n",
       "      <td>0.0</td>\n",
       "      <td>0.0</td>\n",
       "      <td>0.0</td>\n",
       "      <td>0.0</td>\n",
       "      <td>0.0</td>\n",
       "      <td>0.0</td>\n",
       "      <td>0.0</td>\n",
       "      <td>0.0</td>\n",
       "      <td>0.0</td>\n",
       "    </tr>\n",
       "    <tr>\n",
       "      <th>75%</th>\n",
       "      <td>0.0</td>\n",
       "      <td>0.0</td>\n",
       "      <td>0.0</td>\n",
       "      <td>0.0</td>\n",
       "      <td>1.0</td>\n",
       "      <td>0.0</td>\n",
       "      <td>0.0</td>\n",
       "      <td>0.0</td>\n",
       "      <td>0.0</td>\n",
       "      <td>1.0</td>\n",
       "      <td>...</td>\n",
       "      <td>0.0</td>\n",
       "      <td>0.0</td>\n",
       "      <td>0.0</td>\n",
       "      <td>0.0</td>\n",
       "      <td>0.0</td>\n",
       "      <td>0.0</td>\n",
       "      <td>0.0</td>\n",
       "      <td>0.0</td>\n",
       "      <td>0.0</td>\n",
       "      <td>0.0</td>\n",
       "    </tr>\n",
       "    <tr>\n",
       "      <th>max</th>\n",
       "      <td>0.0</td>\n",
       "      <td>0.0</td>\n",
       "      <td>0.0</td>\n",
       "      <td>0.0</td>\n",
       "      <td>1.0</td>\n",
       "      <td>0.0</td>\n",
       "      <td>0.0</td>\n",
       "      <td>0.0</td>\n",
       "      <td>0.0</td>\n",
       "      <td>1.0</td>\n",
       "      <td>...</td>\n",
       "      <td>0.0</td>\n",
       "      <td>0.0</td>\n",
       "      <td>0.0</td>\n",
       "      <td>0.0</td>\n",
       "      <td>0.0</td>\n",
       "      <td>0.0</td>\n",
       "      <td>0.0</td>\n",
       "      <td>0.0</td>\n",
       "      <td>0.0</td>\n",
       "      <td>0.0</td>\n",
       "    </tr>\n",
       "  </tbody>\n",
       "</table>\n",
       "<p>8 rows × 1063 columns</p>\n",
       "</div>"
      ],
      "text/plain": [
       "         RefxA    RefxC    RefxG    RefxT    RefxN    AltxA    AltxC    AltxG  \\\n",
       "count  10000.0  10000.0  10000.0  10000.0  10000.0  10000.0  10000.0  10000.0   \n",
       "mean       0.0      0.0      0.0      0.0      1.0      0.0      0.0      0.0   \n",
       "std        0.0      0.0      0.0      0.0      0.0      0.0      0.0      0.0   \n",
       "min        0.0      0.0      0.0      0.0      1.0      0.0      0.0      0.0   \n",
       "25%        0.0      0.0      0.0      0.0      1.0      0.0      0.0      0.0   \n",
       "50%        0.0      0.0      0.0      0.0      1.0      0.0      0.0      0.0   \n",
       "75%        0.0      0.0      0.0      0.0      1.0      0.0      0.0      0.0   \n",
       "max        0.0      0.0      0.0      0.0      1.0      0.0      0.0      0.0   \n",
       "\n",
       "         AltxT    AltxN   ...         YxM      YxN      YxP      YxQ      YxR  \\\n",
       "count  10000.0  10000.0   ...     10000.0  10000.0  10000.0  10000.0  10000.0   \n",
       "mean       0.0      1.0   ...         0.0      0.0      0.0      0.0      0.0   \n",
       "std        0.0      0.0   ...         0.0      0.0      0.0      0.0      0.0   \n",
       "min        0.0      1.0   ...         0.0      0.0      0.0      0.0      0.0   \n",
       "25%        0.0      1.0   ...         0.0      0.0      0.0      0.0      0.0   \n",
       "50%        0.0      1.0   ...         0.0      0.0      0.0      0.0      0.0   \n",
       "75%        0.0      1.0   ...         0.0      0.0      0.0      0.0      0.0   \n",
       "max        0.0      1.0   ...         0.0      0.0      0.0      0.0      0.0   \n",
       "\n",
       "           YxS      YxT      YxV      YxW      YxY  \n",
       "count  10000.0  10000.0  10000.0  10000.0  10000.0  \n",
       "mean       0.0      0.0      0.0      0.0      0.0  \n",
       "std        0.0      0.0      0.0      0.0      0.0  \n",
       "min        0.0      0.0      0.0      0.0      0.0  \n",
       "25%        0.0      0.0      0.0      0.0      0.0  \n",
       "50%        0.0      0.0      0.0      0.0      0.0  \n",
       "75%        0.0      0.0      0.0      0.0      0.0  \n",
       "max        0.0      0.0      0.0      0.0      0.0  \n",
       "\n",
       "[8 rows x 1063 columns]"
      ]
     },
     "execution_count": 10,
     "metadata": {},
     "output_type": "execute_result"
    }
   ],
   "source": [
    "df_last10k = pd.read_csv(last_10k_csv)\n",
    "df_last10k_y = [0 if s == -1 else 1 for s in df_last10k.y]\n",
    "df_last10k.drop('y', axis=1, inplace=True)\n",
    "pd_description_last10k = df_last10k.describe(include='all')\n",
    "dump_to_pickle(training_dir + \"stats/summary_stats_last10k.pkl\", pd_description_last10k)\n",
    "pd_description_last10k"
   ]
  },
  {
   "cell_type": "code",
   "execution_count": 11,
   "metadata": {},
   "outputs": [],
   "source": [
    "\"\"\"\n",
    "all_ids = load_pickle(all_ids_file)\n",
    "last_10k = all_ids.tail(10000)\n",
    "dump_to_pickle(last_10k_file, last_10k)\n",
    "\"\"\"\n",
    "last_10k = load_pickle(last_10k_file)"
   ]
  },
  {
   "cell_type": "code",
   "execution_count": 12,
   "metadata": {},
   "outputs": [
    {
     "name": "stderr",
     "output_type": "stream",
     "text": [
      "100%|██████████| 157/157 [00:00<00:00, 294.97it/s]\n"
     ]
    }
   ],
   "source": [
    "last_10k_ds = CaddDataset(lmdb_dir, last_10k_file)\n",
    "X, y = last_10k_ds.load_all(shuffle=False, drop_last=False)"
   ]
  },
  {
   "cell_type": "code",
   "execution_count": 13,
   "metadata": {},
   "outputs": [
    {
     "name": "stderr",
     "output_type": "stream",
     "text": [
      "100%|██████████| 157/157 [00:00<00:00, 359.19it/s]\n"
     ]
    }
   ],
   "source": [
    "ds = CaddDataset(lmdb_dir, last_10k_file)\n",
    "full_info = ds.load_all_with_metadata(shuffle=False, drop_last=False)"
   ]
  },
  {
   "cell_type": "code",
   "execution_count": 14,
   "metadata": {},
   "outputs": [],
   "source": [
    "equality = np.array(df_last10k, dtype=np.float16) == X"
   ]
  },
  {
   "cell_type": "code",
   "execution_count": 15,
   "metadata": {},
   "outputs": [],
   "source": [
    "dif_idx = {}\n",
    "for i in range(10000):\n",
    "    for j in range(1063):\n",
    "        if not equality[i,j]:\n",
    "            if i in dif_idx.keys():\n",
    "                dif_idx[i].append(j)\n",
    "            else:\n",
    "                dif_idx[i] = []"
   ]
  },
  {
   "cell_type": "code",
   "execution_count": 16,
   "metadata": {},
   "outputs": [
    {
     "data": {
      "text/plain": [
       "10000"
      ]
     },
     "execution_count": 16,
     "metadata": {},
     "output_type": "execute_result"
    }
   ],
   "source": [
    "len([v if \"N\" in v else \"\" for v in full_info['metadata']['variant_id']])"
   ]
  },
  {
   "cell_type": "code",
   "execution_count": 17,
   "metadata": {},
   "outputs": [
    {
     "name": "stdout",
     "output_type": "stream",
     "text": [
      "26\n",
      "26\n",
      "29\n"
     ]
    }
   ],
   "source": [
    "for k, v in dif_idx.items():\n",
    "    print(len(v))"
   ]
  },
  {
   "cell_type": "code",
   "execution_count": 19,
   "metadata": {},
   "outputs": [
    {
     "data": {
      "text/html": [
       "<div>\n",
       "<style scoped>\n",
       "    .dataframe tbody tr th:only-of-type {\n",
       "        vertical-align: middle;\n",
       "    }\n",
       "\n",
       "    .dataframe tbody tr th {\n",
       "        vertical-align: top;\n",
       "    }\n",
       "\n",
       "    .dataframe thead th {\n",
       "        text-align: right;\n",
       "    }\n",
       "</style>\n",
       "<table border=\"1\" class=\"dataframe\">\n",
       "  <thead>\n",
       "    <tr style=\"text-align: right;\">\n",
       "      <th></th>\n",
       "      <th>10</th>\n",
       "      <th>11</th>\n",
       "      <th>12</th>\n",
       "      <th>13</th>\n",
       "      <th>14</th>\n",
       "      <th>15</th>\n",
       "      <th>16</th>\n",
       "      <th>17</th>\n",
       "      <th>18</th>\n",
       "      <th>19</th>\n",
       "      <th>...</th>\n",
       "      <th>40</th>\n",
       "      <th>41</th>\n",
       "      <th>42</th>\n",
       "      <th>43</th>\n",
       "      <th>44</th>\n",
       "      <th>45</th>\n",
       "      <th>46</th>\n",
       "      <th>47</th>\n",
       "      <th>48</th>\n",
       "      <th>49</th>\n",
       "    </tr>\n",
       "  </thead>\n",
       "  <tbody>\n",
       "    <tr>\n",
       "      <th>0</th>\n",
       "      <td>0.0</td>\n",
       "      <td>1.0</td>\n",
       "      <td>0.0</td>\n",
       "      <td>8.0</td>\n",
       "      <td>0.5</td>\n",
       "      <td>0.0</td>\n",
       "      <td>0.0</td>\n",
       "      <td>0.0</td>\n",
       "      <td>0.0</td>\n",
       "      <td>1.0</td>\n",
       "      <td>...</td>\n",
       "      <td>0.117981</td>\n",
       "      <td>0.117981</td>\n",
       "      <td>0.0</td>\n",
       "      <td>0.0</td>\n",
       "      <td>800.0</td>\n",
       "      <td>-11.0</td>\n",
       "      <td>0.280029</td>\n",
       "      <td>-0.280029</td>\n",
       "      <td>-2.929688</td>\n",
       "      <td>-2.279297</td>\n",
       "    </tr>\n",
       "    <tr>\n",
       "      <th>1</th>\n",
       "      <td>0.0</td>\n",
       "      <td>0.0</td>\n",
       "      <td>1.0</td>\n",
       "      <td>2.0</td>\n",
       "      <td>0.5</td>\n",
       "      <td>0.0</td>\n",
       "      <td>0.0</td>\n",
       "      <td>0.0</td>\n",
       "      <td>0.0</td>\n",
       "      <td>1.0</td>\n",
       "      <td>...</td>\n",
       "      <td>0.117981</td>\n",
       "      <td>0.117981</td>\n",
       "      <td>0.0</td>\n",
       "      <td>0.0</td>\n",
       "      <td>800.0</td>\n",
       "      <td>-59.0</td>\n",
       "      <td>4.949219</td>\n",
       "      <td>-0.160034</td>\n",
       "      <td>-4.671875</td>\n",
       "      <td>-2.210938</td>\n",
       "    </tr>\n",
       "  </tbody>\n",
       "</table>\n",
       "<p>2 rows × 40 columns</p>\n",
       "</div>"
      ],
      "text/plain": [
       "    10   11   12   13   14   15   16   17   18   19    ...           40  \\\n",
       "0  0.0  1.0  0.0  8.0  0.5  0.0  0.0  0.0  0.0  1.0    ...     0.117981   \n",
       "1  0.0  0.0  1.0  2.0  0.5  0.0  0.0  0.0  0.0  1.0    ...     0.117981   \n",
       "\n",
       "         41   42   43     44    45        46        47        48        49  \n",
       "0  0.117981  0.0  0.0  800.0 -11.0  0.280029 -0.280029 -2.929688 -2.279297  \n",
       "1  0.117981  0.0  0.0  800.0 -59.0  4.949219 -0.160034 -4.671875 -2.210938  \n",
       "\n",
       "[2 rows x 40 columns]"
      ]
     },
     "execution_count": 19,
     "metadata": {},
     "output_type": "execute_result"
    }
   ],
   "source": [
    "# dif_idx has only these rows 915, 7008, 9223\n",
    "pd.DataFrame([np.array(df_last10k, dtype=np.float16)[915], full_info['inputs'][915]]).iloc[:,10:50]"
   ]
  },
  {
   "cell_type": "code",
   "execution_count": 20,
   "metadata": {},
   "outputs": [
    {
     "data": {
      "text/plain": [
       "array([0., 0., 0., ..., 0., 0., 0.], dtype=float16)"
      ]
     },
     "execution_count": 20,
     "metadata": {},
     "output_type": "execute_result"
    }
   ],
   "source": [
    "full_info['inputs'][915]"
   ]
  },
  {
   "cell_type": "code",
   "execution_count": 22,
   "metadata": {},
   "outputs": [
    {
     "data": {
      "text/plain": [
       "False"
      ]
     },
     "execution_count": 22,
     "metadata": {},
     "output_type": "execute_result"
    }
   ],
   "source": [
    "np.allclose(np.array(df_last10k, dtype=np.float16), full_info['inputs'], rtol=1e-05, atol=1e-07)"
   ]
  },
  {
   "cell_type": "code",
   "execution_count": 21,
   "metadata": {},
   "outputs": [
    {
     "data": {
      "text/plain": [
       "True"
      ]
     },
     "execution_count": 21,
     "metadata": {},
     "output_type": "execute_result"
    }
   ],
   "source": [
    "np.allclose(np.array(df_last10k_y, dtype=np.float16), full_info['targets'], rtol=1e-05, atol=1e-07)"
   ]
  },
  {
   "cell_type": "markdown",
   "metadata": {},
   "source": [
    "## Standardize dataset using StandardScaler"
   ]
  },
  {
   "cell_type": "code",
   "execution_count": 23,
   "metadata": {},
   "outputs": [
    {
     "name": "stderr",
     "output_type": "stream",
     "text": [
      "100%|██████████| 157/157 [00:00<00:00, 485.84it/s]\n"
     ]
    }
   ],
   "source": [
    "first_10k_ds = CaddDataset(lmdb_dir, first_10k_file)\n",
    "X, y = first_10k_ds.load_all(shuffle=False, drop_last=False)"
   ]
  },
  {
   "cell_type": "code",
   "execution_count": 24,
   "metadata": {},
   "outputs": [],
   "source": [
    "scaler = StandardScaler(with_mean=False) # Used with_mean=False, for it to work with sparse matrices too.\n",
    "X = X.astype(np.float32)\n",
    "X_transformed = scaler.fit_transform(X)"
   ]
  },
  {
   "cell_type": "code",
   "execution_count": 25,
   "metadata": {},
   "outputs": [
    {
     "data": {
      "text/html": [
       "<div>\n",
       "<style scoped>\n",
       "    .dataframe tbody tr th:only-of-type {\n",
       "        vertical-align: middle;\n",
       "    }\n",
       "\n",
       "    .dataframe tbody tr th {\n",
       "        vertical-align: top;\n",
       "    }\n",
       "\n",
       "    .dataframe thead th {\n",
       "        text-align: right;\n",
       "    }\n",
       "</style>\n",
       "<table border=\"1\" class=\"dataframe\">\n",
       "  <thead>\n",
       "    <tr style=\"text-align: right;\">\n",
       "      <th></th>\n",
       "      <th>0</th>\n",
       "      <th>1</th>\n",
       "      <th>2</th>\n",
       "      <th>3</th>\n",
       "      <th>4</th>\n",
       "      <th>5</th>\n",
       "      <th>6</th>\n",
       "      <th>7</th>\n",
       "      <th>8</th>\n",
       "      <th>9</th>\n",
       "      <th>...</th>\n",
       "      <th>1053</th>\n",
       "      <th>1054</th>\n",
       "      <th>1055</th>\n",
       "      <th>1056</th>\n",
       "      <th>1057</th>\n",
       "      <th>1058</th>\n",
       "      <th>1059</th>\n",
       "      <th>1060</th>\n",
       "      <th>1061</th>\n",
       "      <th>1062</th>\n",
       "    </tr>\n",
       "  </thead>\n",
       "  <tbody>\n",
       "    <tr>\n",
       "      <th>count</th>\n",
       "      <td>10000.000000</td>\n",
       "      <td>10000.000000</td>\n",
       "      <td>10000.000000</td>\n",
       "      <td>10000.000000</td>\n",
       "      <td>10000.0</td>\n",
       "      <td>10000.000000</td>\n",
       "      <td>10000.000000</td>\n",
       "      <td>10000.000000</td>\n",
       "      <td>10000.000000</td>\n",
       "      <td>10000.0</td>\n",
       "      <td>...</td>\n",
       "      <td>10000.0</td>\n",
       "      <td>10000.0</td>\n",
       "      <td>10000.0</td>\n",
       "      <td>10000.0</td>\n",
       "      <td>10000.0</td>\n",
       "      <td>10000.0</td>\n",
       "      <td>10000.0</td>\n",
       "      <td>10000.0</td>\n",
       "      <td>10000.0</td>\n",
       "      <td>10000.000000</td>\n",
       "    </tr>\n",
       "    <tr>\n",
       "      <th>mean</th>\n",
       "      <td>0.221500</td>\n",
       "      <td>0.274200</td>\n",
       "      <td>0.287200</td>\n",
       "      <td>0.217100</td>\n",
       "      <td>0.0</td>\n",
       "      <td>0.256200</td>\n",
       "      <td>0.257600</td>\n",
       "      <td>0.242800</td>\n",
       "      <td>0.243400</td>\n",
       "      <td>0.0</td>\n",
       "      <td>...</td>\n",
       "      <td>0.0</td>\n",
       "      <td>0.0</td>\n",
       "      <td>0.0</td>\n",
       "      <td>0.0</td>\n",
       "      <td>0.0</td>\n",
       "      <td>0.0</td>\n",
       "      <td>0.0</td>\n",
       "      <td>0.0</td>\n",
       "      <td>0.0</td>\n",
       "      <td>0.000400</td>\n",
       "    </tr>\n",
       "    <tr>\n",
       "      <th>std</th>\n",
       "      <td>0.415277</td>\n",
       "      <td>0.446133</td>\n",
       "      <td>0.452478</td>\n",
       "      <td>0.412292</td>\n",
       "      <td>0.0</td>\n",
       "      <td>0.436555</td>\n",
       "      <td>0.437334</td>\n",
       "      <td>0.428797</td>\n",
       "      <td>0.429156</td>\n",
       "      <td>0.0</td>\n",
       "      <td>...</td>\n",
       "      <td>0.0</td>\n",
       "      <td>0.0</td>\n",
       "      <td>0.0</td>\n",
       "      <td>0.0</td>\n",
       "      <td>0.0</td>\n",
       "      <td>0.0</td>\n",
       "      <td>0.0</td>\n",
       "      <td>0.0</td>\n",
       "      <td>0.0</td>\n",
       "      <td>0.019997</td>\n",
       "    </tr>\n",
       "    <tr>\n",
       "      <th>min</th>\n",
       "      <td>0.000000</td>\n",
       "      <td>0.000000</td>\n",
       "      <td>0.000000</td>\n",
       "      <td>0.000000</td>\n",
       "      <td>0.0</td>\n",
       "      <td>0.000000</td>\n",
       "      <td>0.000000</td>\n",
       "      <td>0.000000</td>\n",
       "      <td>0.000000</td>\n",
       "      <td>0.0</td>\n",
       "      <td>...</td>\n",
       "      <td>0.0</td>\n",
       "      <td>0.0</td>\n",
       "      <td>0.0</td>\n",
       "      <td>0.0</td>\n",
       "      <td>0.0</td>\n",
       "      <td>0.0</td>\n",
       "      <td>0.0</td>\n",
       "      <td>0.0</td>\n",
       "      <td>0.0</td>\n",
       "      <td>0.000000</td>\n",
       "    </tr>\n",
       "    <tr>\n",
       "      <th>25%</th>\n",
       "      <td>0.000000</td>\n",
       "      <td>0.000000</td>\n",
       "      <td>0.000000</td>\n",
       "      <td>0.000000</td>\n",
       "      <td>0.0</td>\n",
       "      <td>0.000000</td>\n",
       "      <td>0.000000</td>\n",
       "      <td>0.000000</td>\n",
       "      <td>0.000000</td>\n",
       "      <td>0.0</td>\n",
       "      <td>...</td>\n",
       "      <td>0.0</td>\n",
       "      <td>0.0</td>\n",
       "      <td>0.0</td>\n",
       "      <td>0.0</td>\n",
       "      <td>0.0</td>\n",
       "      <td>0.0</td>\n",
       "      <td>0.0</td>\n",
       "      <td>0.0</td>\n",
       "      <td>0.0</td>\n",
       "      <td>0.000000</td>\n",
       "    </tr>\n",
       "    <tr>\n",
       "      <th>50%</th>\n",
       "      <td>0.000000</td>\n",
       "      <td>0.000000</td>\n",
       "      <td>0.000000</td>\n",
       "      <td>0.000000</td>\n",
       "      <td>0.0</td>\n",
       "      <td>0.000000</td>\n",
       "      <td>0.000000</td>\n",
       "      <td>0.000000</td>\n",
       "      <td>0.000000</td>\n",
       "      <td>0.0</td>\n",
       "      <td>...</td>\n",
       "      <td>0.0</td>\n",
       "      <td>0.0</td>\n",
       "      <td>0.0</td>\n",
       "      <td>0.0</td>\n",
       "      <td>0.0</td>\n",
       "      <td>0.0</td>\n",
       "      <td>0.0</td>\n",
       "      <td>0.0</td>\n",
       "      <td>0.0</td>\n",
       "      <td>0.000000</td>\n",
       "    </tr>\n",
       "    <tr>\n",
       "      <th>75%</th>\n",
       "      <td>0.000000</td>\n",
       "      <td>1.000000</td>\n",
       "      <td>1.000000</td>\n",
       "      <td>0.000000</td>\n",
       "      <td>0.0</td>\n",
       "      <td>1.000000</td>\n",
       "      <td>1.000000</td>\n",
       "      <td>0.000000</td>\n",
       "      <td>0.000000</td>\n",
       "      <td>0.0</td>\n",
       "      <td>...</td>\n",
       "      <td>0.0</td>\n",
       "      <td>0.0</td>\n",
       "      <td>0.0</td>\n",
       "      <td>0.0</td>\n",
       "      <td>0.0</td>\n",
       "      <td>0.0</td>\n",
       "      <td>0.0</td>\n",
       "      <td>0.0</td>\n",
       "      <td>0.0</td>\n",
       "      <td>0.000000</td>\n",
       "    </tr>\n",
       "    <tr>\n",
       "      <th>max</th>\n",
       "      <td>1.000000</td>\n",
       "      <td>1.000000</td>\n",
       "      <td>1.000000</td>\n",
       "      <td>1.000000</td>\n",
       "      <td>0.0</td>\n",
       "      <td>1.000000</td>\n",
       "      <td>1.000000</td>\n",
       "      <td>1.000000</td>\n",
       "      <td>1.000000</td>\n",
       "      <td>0.0</td>\n",
       "      <td>...</td>\n",
       "      <td>0.0</td>\n",
       "      <td>0.0</td>\n",
       "      <td>0.0</td>\n",
       "      <td>0.0</td>\n",
       "      <td>0.0</td>\n",
       "      <td>0.0</td>\n",
       "      <td>0.0</td>\n",
       "      <td>0.0</td>\n",
       "      <td>0.0</td>\n",
       "      <td>1.000000</td>\n",
       "    </tr>\n",
       "  </tbody>\n",
       "</table>\n",
       "<p>8 rows × 1063 columns</p>\n",
       "</div>"
      ],
      "text/plain": [
       "               0             1             2             3        4     \\\n",
       "count  10000.000000  10000.000000  10000.000000  10000.000000  10000.0   \n",
       "mean       0.221500      0.274200      0.287200      0.217100      0.0   \n",
       "std        0.415277      0.446133      0.452478      0.412292      0.0   \n",
       "min        0.000000      0.000000      0.000000      0.000000      0.0   \n",
       "25%        0.000000      0.000000      0.000000      0.000000      0.0   \n",
       "50%        0.000000      0.000000      0.000000      0.000000      0.0   \n",
       "75%        0.000000      1.000000      1.000000      0.000000      0.0   \n",
       "max        1.000000      1.000000      1.000000      1.000000      0.0   \n",
       "\n",
       "               5             6             7             8        9     \\\n",
       "count  10000.000000  10000.000000  10000.000000  10000.000000  10000.0   \n",
       "mean       0.256200      0.257600      0.242800      0.243400      0.0   \n",
       "std        0.436555      0.437334      0.428797      0.429156      0.0   \n",
       "min        0.000000      0.000000      0.000000      0.000000      0.0   \n",
       "25%        0.000000      0.000000      0.000000      0.000000      0.0   \n",
       "50%        0.000000      0.000000      0.000000      0.000000      0.0   \n",
       "75%        1.000000      1.000000      0.000000      0.000000      0.0   \n",
       "max        1.000000      1.000000      1.000000      1.000000      0.0   \n",
       "\n",
       "           ...          1053     1054     1055     1056     1057     1058  \\\n",
       "count      ...       10000.0  10000.0  10000.0  10000.0  10000.0  10000.0   \n",
       "mean       ...           0.0      0.0      0.0      0.0      0.0      0.0   \n",
       "std        ...           0.0      0.0      0.0      0.0      0.0      0.0   \n",
       "min        ...           0.0      0.0      0.0      0.0      0.0      0.0   \n",
       "25%        ...           0.0      0.0      0.0      0.0      0.0      0.0   \n",
       "50%        ...           0.0      0.0      0.0      0.0      0.0      0.0   \n",
       "75%        ...           0.0      0.0      0.0      0.0      0.0      0.0   \n",
       "max        ...           0.0      0.0      0.0      0.0      0.0      0.0   \n",
       "\n",
       "          1059     1060     1061          1062  \n",
       "count  10000.0  10000.0  10000.0  10000.000000  \n",
       "mean       0.0      0.0      0.0      0.000400  \n",
       "std        0.0      0.0      0.0      0.019997  \n",
       "min        0.0      0.0      0.0      0.000000  \n",
       "25%        0.0      0.0      0.0      0.000000  \n",
       "50%        0.0      0.0      0.0      0.000000  \n",
       "75%        0.0      0.0      0.0      0.000000  \n",
       "max        0.0      0.0      0.0      1.000000  \n",
       "\n",
       "[8 rows x 1063 columns]"
      ]
     },
     "execution_count": 25,
     "metadata": {},
     "output_type": "execute_result"
    }
   ],
   "source": [
    "pd.DataFrame(X).describe(include='all')"
   ]
  },
  {
   "cell_type": "code",
   "execution_count": 19,
   "metadata": {},
   "outputs": [
    {
     "data": {
      "text/plain": [
       "count    1.000000e+04\n",
       "mean    -3.051758e-09\n",
       "std      1.000055e+00\n",
       "min     -9.438202e-02\n",
       "25%     -9.438202e-02\n",
       "50%     -9.438202e-02\n",
       "75%     -9.438202e-02\n",
       "max      3.436163e+01\n",
       "Name: 124, dtype: float64"
      ]
     },
     "execution_count": 19,
     "metadata": {},
     "output_type": "execute_result"
    }
   ],
   "source": [
    "pd.DataFrame(X_transformed).describe(include='all').loc[:,124]"
   ]
  },
  {
   "cell_type": "code",
   "execution_count": 30,
   "metadata": {},
   "outputs": [
    {
     "data": {
      "text/plain": [
       "count    10000.000000\n",
       "mean         0.000028\n",
       "std          1.000000\n",
       "min         -0.094360\n",
       "25%         -0.094360\n",
       "50%         -0.094360\n",
       "75%         -0.094360\n",
       "max         34.375000\n",
       "Name: 124, dtype: float64"
      ]
     },
     "execution_count": 30,
     "metadata": {},
     "output_type": "execute_result"
    }
   ],
   "source": [
    "X_small = X_transformed.astype(np.float16)\n",
    "pd.DataFrame(X_small).describe(include='all').loc[:,124]"
   ]
  },
  {
   "cell_type": "code",
   "execution_count": 26,
   "metadata": {},
   "outputs": [],
   "source": [
    "# Save scaler for later\n",
    "dump_to_pickle(training_dir + \"stats/standard_scaler_first10k.pkl\", scaler)"
   ]
  },
  {
   "cell_type": "markdown",
   "metadata": {},
   "source": [
    "## Standardize dataset using MinMaxScaler"
   ]
  },
  {
   "cell_type": "code",
   "execution_count": 27,
   "metadata": {},
   "outputs": [
    {
     "name": "stderr",
     "output_type": "stream",
     "text": [
      "100%|██████████| 157/157 [00:00<00:00, 355.74it/s]\n"
     ]
    }
   ],
   "source": [
    "first_10k_ds = CaddDataset(lmdb_dir, first_10k_file)\n",
    "X, y = first_10k_ds.load_all(shuffle=False, drop_last=False)"
   ]
  },
  {
   "cell_type": "code",
   "execution_count": 28,
   "metadata": {},
   "outputs": [
    {
     "name": "stdout",
     "output_type": "stream",
     "text": [
      "[0.2215 0.2742 0.2872 ... 0.     0.     0.0004]\n"
     ]
    }
   ],
   "source": [
    "scaler = StandardScaler(with_mean=False) # Used with_mean=False, for it to work with sparse matrices too.\n",
    "X = X.astype(np.float32)\n",
    "X_transformed = scaler.fit_transform(X)\n",
    "print(scaler.mean_)"
   ]
  },
  {
   "cell_type": "code",
   "execution_count": 29,
   "metadata": {},
   "outputs": [],
   "source": [
    "# Save scaler for later\n",
    "dump_to_pickle(training_dir + \"stats/minmax_scaler_first10k.pkl\", scaler)"
   ]
  },
  {
   "cell_type": "code",
   "execution_count": 40,
   "metadata": {},
   "outputs": [
    {
     "data": {
      "text/plain": [
       "array([[ 1.8746974,  1.626955 ,  1.5753938, ...,  1.       ,  1.       ,\n",
       "        49.986115 ],\n",
       "       [ 1.8746974,  1.626955 ,  1.5753938, ...,  1.       ,  1.       ,\n",
       "        49.986115 ],\n",
       "       [ 1.8746974,  1.626955 ,  1.5753938, ...,  1.       ,  1.       ,\n",
       "        49.986115 ],\n",
       "       ...,\n",
       "       [ 1.8746974,  1.626955 ,  1.5753938, ...,  1.       ,  1.       ,\n",
       "        49.986115 ],\n",
       "       [ 1.8746974,  1.626955 ,  1.5753938, ...,  1.       ,  1.       ,\n",
       "        49.986115 ],\n",
       "       [ 1.8746974,  1.626955 ,  1.5753938, ...,  1.       ,  1.       ,\n",
       "        49.986115 ]], dtype=float32)"
      ]
     },
     "execution_count": 40,
     "metadata": {},
     "output_type": "execute_result"
    }
   ],
   "source": [
    "recovered = load_pickle(training_dir + \"stats/minmax_scaler_first10k.pkl\")\n",
    "recovered.transform(np.ones_like(X))"
   ]
  },
  {
   "cell_type": "code",
   "execution_count": 42,
   "metadata": {},
   "outputs": [
    {
     "data": {
      "text/plain": [
       "array([0.2215, 0.2742, 0.2872, ..., 0.    , 0.    , 0.0004])"
      ]
     },
     "execution_count": 42,
     "metadata": {},
     "output_type": "execute_result"
    }
   ],
   "source": [
    "recovered.mean_"
   ]
  }
 ],
 "metadata": {
  "kernelspec": {
   "display_name": "Python [conda env:kipoi-cadd2]",
   "language": "python",
   "name": "conda-env-kipoi-cadd2-py"
  },
  "language_info": {
   "codemirror_mode": {
    "name": "ipython",
    "version": 3
   },
   "file_extension": ".py",
   "mimetype": "text/x-python",
   "name": "python",
   "nbconvert_exporter": "python",
   "pygments_lexer": "ipython3",
   "version": "3.6.7"
  }
 },
 "nbformat": 4,
 "nbformat_minor": 2
}
