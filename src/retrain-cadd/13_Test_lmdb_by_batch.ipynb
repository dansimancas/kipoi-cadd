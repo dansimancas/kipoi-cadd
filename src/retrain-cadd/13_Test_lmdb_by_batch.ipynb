{
 "cells": [
  {
   "cell_type": "markdown",
   "metadata": {},
   "source": [
    "## Generate LMDB by batches\n",
    "First we will test the functionality in place and check it works for a small amount of batches before generating the whole DB."
   ]
  },
  {
   "cell_type": "code",
   "execution_count": 74,
   "metadata": {},
   "outputs": [],
   "source": [
    "from kipoi_cadd.data import CaddBatchDataset, cadd_serialize_numpy_row\n",
    "from kipoi_cadd.data_utils import dir_batch_generator, OrderedDict, get_one_batch\n",
    "from kipoi_cadd.utils import dump_to_pickle, load_pickle\n",
    "import time\n",
    "import pyarrow as pa\n",
    "import lmdb\n",
    "from tqdm import tqdm\n",
    "import blosc\n",
    "import pandas as pd\n",
    "import numpy as np"
   ]
  },
  {
   "cell_type": "code",
   "execution_count": 78,
   "metadata": {},
   "outputs": [],
   "source": [
    "training_dir = \"/s/project/kipoi-cadd/data/raw/v1.3/training_data/\"\n",
    "lmdb_dir = training_dir + \"lmdb\"\n",
    "lmdb_batch_dir = training_dir + \"lmdb_batched\"\n",
    "csv_file = training_dir + \"training_data.imputed.csv\"\n",
    "valid_id_file = training_dir + \"valid_idx.pkl\"\n",
    "all_ids_file = training_dir + \"variant_ids.pkl\"\n",
    "ids_10k_file = training_dir + \"sample_indices/ids_10k.pkl\"\n",
    "std_scaler_file = training_dir + \"stats/standard_scaler_first10k.pkl\"\n",
    "short_csv = training_dir + \"last10k.csv\"\n",
    "batch_idx_file = training_dir + \"shuffle_splits/batch_idxs_256.pkl\"\n",
    "csv_folder = training_dir + \"shuffle_splits/\""
   ]
  },
  {
   "cell_type": "code",
   "execution_count": 44,
   "metadata": {},
   "outputs": [
    {
     "data": {
      "text/plain": [
       "2147483647"
      ]
     },
     "execution_count": 44,
     "metadata": {},
     "output_type": "execute_result"
    }
   ],
   "source": [
    "np.iinfo(np.int32).max"
   ]
  },
  {
   "cell_type": "code",
   "execution_count": 63,
   "metadata": {},
   "outputs": [],
   "source": [
    "def create_lmdb_from_iterator(it, lmdb_batch_dir, variant_ids_file, num_batches=-1,\n",
    "                              map_size=23399354270):\n",
    "    start = time.time()\n",
    "\n",
    "    index_mapping = OrderedDict()\n",
    "    map_size = None\n",
    "    txn = None\n",
    "    batch_num = 0\n",
    "    variant_ids = load_pickle(variant_ids_file)\n",
    "\n",
    "    env = lmdb.Environment(lmdb_batch_dir, map_size=map_size, max_dbs=0, lock=False)\n",
    "    with env.begin(write=True, buffers=True) as txn:\n",
    "        for batch in tqdm(it, total=num_batches):\n",
    "            b = {\n",
    "                \"batch_id\": np.int32(batch_num),\n",
    "                \"inputs\": batch[0].values.astype(np.float16),\n",
    "                \"targets\": batch[1].values.astype(np.float16),\n",
    "                \"metadata\": {\n",
    "                    \"row_num\": np.array(batch[0].index, dtype=np.int32),\n",
    "                    \"variant_id\": np.array(variant_ids.loc[batch[0].index], dtype='<U20')\n",
    "                }\n",
    "            }\n",
    "\n",
    "            # Serialize and compress\n",
    "            buff = pa.serialize(b).to_buffer()\n",
    "            blzpacked = blosc.compress(buff, typesize=8, cname='blosclz')\n",
    "\n",
    "            try:\n",
    "                txn.put(str(batch_num).encode('ascii'), blzpacked)\n",
    "            except lmdb.MapFullError as err:\n",
    "                print(str(err) + \". Exiting the program.\")\n",
    "\n",
    "            batch_num += 1\n",
    "            if batch_num >= num_batches: break\n",
    "\n",
    "    print(\"Finished putting \" + str(batch_num) + \" batches to lmdb.\")\n",
    "    end = time.time()\n",
    "    print(\"Total elapsed time: {:.2f} minutes.\".format(\n",
    "        (end - start) / 60))\n",
    "\n",
    "def calculate_map_size(row_example, nrows, multiplier=1.9):\n",
    "    row_size = pa.serialize(row_example).to_buffer().size\n",
    "    map_size = int(row_size * nrows * multiplier)\n",
    "    return map_size"
   ]
  },
  {
   "cell_type": "code",
   "execution_count": 56,
   "metadata": {},
   "outputs": [],
   "source": [
    "it = dir_batch_generator(training_dir + \"shuffle_splits/training/\", 256)\n",
    "test_batch = next(it)\n",
    "variant_ids = load_pickle(all_ids_file)\n",
    "nrows = len(variant_ids)"
   ]
  },
  {
   "cell_type": "code",
   "execution_count": 59,
   "metadata": {},
   "outputs": [],
   "source": [
    "row_example = {\n",
    "    \"batch_id\": np.int32(0),\n",
    "    \"inputs\": test_batch[0].values.astype(np.float16),\n",
    "    \"targets\": test_batch[1].values.astype(np.float16),\n",
    "    \"metadata\": {\n",
    "        \"row_num\": np.array(test_batch[0].index, dtype=np.int32),\n",
    "        \"variant_id\": np.array(variant_ids.loc[test_batch[0].index], dtype='<U20')\n",
    "        }\n",
    "    }"
   ]
  },
  {
   "cell_type": "code",
   "execution_count": 72,
   "metadata": {},
   "outputs": [
    {
     "name": "stderr",
     "output_type": "stream",
     "text": [
      " 33%|███▎      | 1/3 [00:07<00:14,  7.42s/it]\n"
     ]
    },
    {
     "name": "stdout",
     "output_type": "stream",
     "text": [
      "Finished putting 3 batches to lmdb.\n",
      "Total elapsed time: 0.29 minutes.\n"
     ]
    }
   ],
   "source": [
    "ms = calculate_map_size(row_example, 3)\n",
    "it = dir_batch_generator(training_dir + \"shuffle_splits/training/\", 256)\n",
    "create_lmdb_from_iterator(it, lmdb_batch_dir, all_ids_file, num_batches=3, map_size=ms)"
   ]
  },
  {
   "cell_type": "code",
   "execution_count": 115,
   "metadata": {},
   "outputs": [],
   "source": [
    "batch = get_one_batch(lmdb_batch_dir, 0)"
   ]
  },
  {
   "cell_type": "code",
   "execution_count": 106,
   "metadata": {},
   "outputs": [
    {
     "data": {
      "text/plain": [
       "(256, 1063)"
      ]
     },
     "execution_count": 106,
     "metadata": {},
     "output_type": "execute_result"
    }
   ],
   "source": [
    "batch['inputs'].shape"
   ]
  },
  {
   "cell_type": "code",
   "execution_count": 107,
   "metadata": {},
   "outputs": [],
   "source": [
    "aja = load_pickle(batch_idx_file)"
   ]
  },
  {
   "cell_type": "code",
   "execution_count": 108,
   "metadata": {},
   "outputs": [
    {
     "data": {
      "text/plain": [
       "array([False])"
      ]
     },
     "execution_count": 108,
     "metadata": {},
     "output_type": "execute_result"
    }
   ],
   "source": [
    "np.unique(batch['metadata']['variant_id'] == np.array(list(aja[2][\"variant_ids\"]), dtype='<U20'))"
   ]
  },
  {
   "cell_type": "code",
   "execution_count": null,
   "metadata": {},
   "outputs": [],
   "source": [
    "np.array(list(aja[2][\"variant_ids\"]), dtype='<U20')"
   ]
  },
  {
   "cell_type": "code",
   "execution_count": 117,
   "metadata": {},
   "outputs": [],
   "source": [
    "df = pd.read_csv(\"/s/project/kipoi-cadd/data/raw/v1.3/training_data/shuffle_splits/training/1.csv\", nrows=256, index_col=0)"
   ]
  },
  {
   "cell_type": "code",
   "execution_count": 120,
   "metadata": {},
   "outputs": [
    {
     "data": {
      "text/plain": [
       "array([ True])"
      ]
     },
     "execution_count": 120,
     "metadata": {},
     "output_type": "execute_result"
    }
   ],
   "source": [
    "np.unique(df.index.values == batch['metadata']['row_num'])"
   ]
  },
  {
   "cell_type": "code",
   "execution_count": 119,
   "metadata": {},
   "outputs": [
    {
     "data": {
      "text/plain": [
       "array([  4144,   5520,  10989,  11561,  22753,  27405,  34208,  36401,\n",
       "        40030,  42797,  43490,  47133,  48173,  49555,  51536,  51790,\n",
       "        55042,  65924,  70222,  75696,  84510,  86846,  87233,  87555,\n",
       "        89820,  91016,  91162,  92174,  95554, 101771, 106002, 109120,\n",
       "       116459, 116662, 116980, 131516, 132235, 132726, 134684, 143608,\n",
       "       144456, 145863, 148454, 148522, 149192, 150911, 153727, 153926,\n",
       "       155002, 159122, 172325, 173566, 174851, 189663, 194331, 195512,\n",
       "       199216, 201159, 201994, 202977, 215951, 222627, 231284, 234575,\n",
       "       235140, 236271, 237225, 238171, 243617, 251878, 253858, 255525,\n",
       "       264728, 265715, 269402, 274299, 275764, 283943, 286478, 289395,\n",
       "       290387, 293957, 295314, 296892, 301884, 313565, 321225, 326149,\n",
       "       327454, 331049, 331216, 333209, 333429, 336846, 341371, 342022,\n",
       "       342977, 348426, 348611, 351716, 359720, 375612, 376450, 380540,\n",
       "       384247, 387233, 390550, 391014, 396582, 406199, 406344, 407821,\n",
       "       408682, 410566, 413945, 418485, 422733, 423388, 424056, 424965,\n",
       "       434906, 435204, 435457, 436907, 437945, 441499, 447883, 448462,\n",
       "       450368, 452917, 465983, 470065, 474692, 489025, 491680, 492761,\n",
       "       498689, 500952, 501315, 504368, 506646, 509297, 510523, 518129,\n",
       "       519305, 523118, 530518, 533286, 535703, 538623, 540546, 543459,\n",
       "       543561, 550750, 552520, 552549, 554171, 558303, 562971, 565124,\n",
       "       566869, 569150, 571008, 573467, 580422, 583895, 586563, 587329,\n",
       "       590153, 596856, 597651, 601669, 608004, 610236, 614260, 618800,\n",
       "       621770, 622734, 628513, 630707, 633255, 635590, 636293, 637820,\n",
       "       641019, 641208, 642828, 647976, 648021, 653794, 669117, 669944,\n",
       "       673545, 676338, 677020, 688025, 689522, 689957, 691336, 694316,\n",
       "       695301, 698175, 699654, 699987, 703534, 705242, 705771, 706010,\n",
       "       708471, 708746, 713411, 715380, 718140, 720233, 727331, 727486,\n",
       "       728546, 738639, 740606, 753749, 754328, 758538, 772065, 774405,\n",
       "       775865, 776295, 778765, 783407, 786560, 791277, 795542, 800874,\n",
       "       810160, 811814, 812001, 819706, 820237, 820279, 823116, 823910,\n",
       "       823971, 824202, 825327, 825770, 826180, 834668, 835777, 837006,\n",
       "       838185, 841406, 841843, 841905, 844605, 854376, 868690, 868778],\n",
       "      dtype=int32)"
      ]
     },
     "execution_count": 119,
     "metadata": {},
     "output_type": "execute_result"
    }
   ],
   "source": []
  },
  {
   "cell_type": "markdown",
   "metadata": {},
   "source": [
    "## Try with the function"
   ]
  },
  {
   "cell_type": "code",
   "execution_count": 88,
   "metadata": {},
   "outputs": [],
   "source": [
    "from kipoi_cadd.data_utils import cadd_generate_batched_lmdb_from_many_csv\n",
    "training_dir = \"/s/project/kipoi-cadd/data/raw/v1.3/training_data/\"\n",
    "lmdb_batch_dir = training_dir + \"lmdb_batched\"\n",
    "all_ids_file = training_dir + \"variant_ids.pkl\"\n",
    "csv_folder = training_dir + \"shuffle_splits/\""
   ]
  },
  {
   "cell_type": "code",
   "execution_count": 104,
   "metadata": {},
   "outputs": [
    {
     "name": "stderr",
     "output_type": "stream",
     "text": [
      " 33%|███▎      | 1/3 [00:06<00:13,  6.90s/it]\n"
     ]
    },
    {
     "name": "stdout",
     "output_type": "stream",
     "text": [
      "Finished putting 3 batches to lmdb.\n",
      "Total elapsed time: 0.29 minutes.\n"
     ]
    }
   ],
   "source": [
    "cadd_generate_batched_lmdb_from_many_csv(lmdb_batch_dir, csv_folder, all_ids_file, num_batches=-1, batch_size=256)"
   ]
  },
  {
   "cell_type": "code",
   "execution_count": 112,
   "metadata": {},
   "outputs": [],
   "source": [
    "from kipoi_cadd.utils import get_all_files_extension"
   ]
  },
  {
   "cell_type": "code",
   "execution_count": null,
   "metadata": {},
   "outputs": [],
   "source": [
    "li = get_all_files_extension(csv_folder, \".csv\")\n",
    "yui= [print(e) for e in li]"
   ]
  },
  {
   "cell_type": "code",
   "execution_count": null,
   "metadata": {},
   "outputs": [],
   "source": []
  }
 ],
 "metadata": {
  "kernelspec": {
   "display_name": "Python [conda env:kipoi-cadd2]",
   "language": "python",
   "name": "conda-env-kipoi-cadd2-py"
  },
  "language_info": {
   "codemirror_mode": {
    "name": "ipython",
    "version": 3
   },
   "file_extension": ".py",
   "mimetype": "text/x-python",
   "name": "python",
   "nbconvert_exporter": "python",
   "pygments_lexer": "ipython3",
   "version": "3.6.7"
  }
 },
 "nbformat": 4,
 "nbformat_minor": 2
}
