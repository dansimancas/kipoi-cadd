{
 "cells": [
  {
   "cell_type": "code",
   "execution_count": 35,
   "metadata": {},
   "outputs": [
    {
     "name": "stdout",
     "output_type": "stream",
     "text": [
      "The line_profiler extension is already loaded. To reload it, use:\n",
      "  %reload_ext line_profiler\n"
     ]
    }
   ],
   "source": [
    "from kipoi_cadd.data import cadd_train_valid_data, train_test_split_indexes, CaddDataset\n",
    "from kipoi_cadd.utils import dump_to_pickle, load_pickle\n",
    "import pandas as pd\n",
    "import time\n",
    "from tqdm import tqdm, trange\n",
    "import numpy as np\n",
    "from kipoi.data_utils import numpy_collate_concat\n",
    "%load_ext line_profiler"
   ]
  },
  {
   "cell_type": "code",
   "execution_count": 36,
   "metadata": {},
   "outputs": [],
   "source": [
    "training_dir = \"/s/project/kipoi-cadd/data/raw/v1.3/training_data/\"\n",
    "lmdb_dir = training_dir + \"lmdb\"\n",
    "valid_id_file = training_dir + \"valid_idx.pkl\"\n",
    "all_ids_file = training_dir + \"variant_ids.pkl\"\n",
    "ids_10k_file = training_dir + \"sample_indices/ids_10k.pkl\""
   ]
  },
  {
   "cell_type": "code",
   "execution_count": 34,
   "metadata": {},
   "outputs": [
    {
     "data": {
      "text/plain": [
       "65500.0"
      ]
     },
     "execution_count": 34,
     "metadata": {},
     "output_type": "execute_result"
    }
   ],
   "source": [
    "np.finfo(np.float16).max"
   ]
  },
  {
   "cell_type": "code",
   "execution_count": 24,
   "metadata": {},
   "outputs": [],
   "source": [
    "def load_n_batch(ds, num_workers=1, shuffle=False, drop_last=False):\n",
    "    D = len(ds.__getitem__(0)['inputs'])\n",
    "    N = ds.__len__()\n",
    "    X = np.zeros((N, D), dtype=np.float16)\n",
    "    y = np.zeros(N, dtype=np.float16)\n",
    "\n",
    "    it = ds.batch_iter(batch_size=N, shuffle=shuffle, num_workers=num_workers, drop_last=drop_last)\n",
    "    item = next(it)\n",
    "    return item['inputs'], item['targets']\n",
    "\n",
    "def load_n_single(ds, shuffle=False):\n",
    "    D = len(ds.__getitem__(0)['inputs'])\n",
    "    N = ds.__len__()\n",
    "    X = np.zeros((N, D), dtype=np.float16)\n",
    "    y = np.zeros(N, dtype=np.float16)\n",
    "\n",
    "    for idx in trange(N):\n",
    "        item = ds.__getitem__(idx)\n",
    "        X[idx,:] = item['inputs']\n",
    "        y[idx] = item['targets']\n",
    "    return X, y\n",
    "\n",
    "def load_n_batch_loop(ds, num_workers=1, batch_size=64, shuffle=False):\n",
    "    D = len(ds.__getitem__(0)['inputs'])\n",
    "    N = ds.__len__()\n",
    "    X = np.zeros((N, D), dtype=np.float16)\n",
    "    y = np.zeros(N, dtype=np.float16)\n",
    "    \n",
    "    # Batch iter does not loop infinetly. When the ds will end, the last batch's size, will be that\n",
    "    # of the number of remaining samples\n",
    "    it = ds.batch_iter(batch_size=batch_size, shuffle=shuffle, num_workers=num_workers)\n",
    "    i = 0\n",
    "    for sample in tqdm(it):\n",
    "        bs = sample['inputs'].shape[0]\n",
    "        X[i:i+bs,:] = sample['inputs']\n",
    "        y[i:i+bs] = sample['targets']\n",
    "        i = i + bs\n",
    "    return X, y\n",
    "\n",
    "def load_n_collate(ds, num_workers=1, batch_size=64, shuffle=False, drop_last=True):\n",
    "    it = ds.batch_iter(batch_size=batch_size, num_workers=num_workers, shuffle=shuffle, drop_last=drop_last)\n",
    "    return numpy_collate_concat([x for x in tqdm(it)])"
   ]
  },
  {
   "cell_type": "code",
   "execution_count": 25,
   "metadata": {},
   "outputs": [
    {
     "name": "stdout",
     "output_type": "stream",
     "text": [
      "5071.0 (10000, 1063) 6.983842372894287 10\n",
      "24827.0 (50000, 1063) 16.2116961479187 10\n",
      "50079.0 (100000, 1063) 34.42905831336975 10\n",
      "0 (1,) 0 10\n",
      "0 (1,) 0 10\n",
      "CPU times: user 763 ms, sys: 10.8 s, total: 11.5 s\n",
      "Wall time: 57.9 s\n"
     ]
    }
   ],
   "source": [
    "%%time\n",
    "times_n_batch = {'bs': [], 'time': [], 'pos': []}\n",
    "for s in [\"10k\", \"50k\", \"100k\", \"500k\", \"1M\"]:\n",
    "    filename = training_dir + \"sample_indices/sample\" + s + \".pkl\"\n",
    "    num_workers = 10\n",
    "    if s == \"500k\" or s == \"1M\":\n",
    "        start = end = 0\n",
    "        X = y = np.array([0])\n",
    "    else:\n",
    "        ds = CaddDataset(lmdb_dir, filename)\n",
    "        start = time.time()\n",
    "        X, y = load_n_batch(ds, num_workers=num_workers, shuffle=False)\n",
    "        end = time.time()\n",
    "\n",
    "    times_n_batch['bs'].append(ds.__len__())\n",
    "    times_n_batch['time'].append(end-start)\n",
    "    times_n_batch['pos'].append(sum(y))\n",
    "    \n",
    "    print(sum(y), X.shape, end-start, num_workers)"
   ]
  },
  {
   "cell_type": "code",
   "execution_count": 26,
   "metadata": {},
   "outputs": [
    {
     "name": "stderr",
     "output_type": "stream",
     "text": [
      "100%|██████████| 10000/10000 [00:01<00:00, 5396.81it/s]\n",
      "  0%|          | 0/50000 [00:00<?, ?it/s]"
     ]
    },
    {
     "name": "stdout",
     "output_type": "stream",
     "text": [
      "5071.0 (10000, 1063) 1.8878169059753418 10\n"
     ]
    },
    {
     "name": "stderr",
     "output_type": "stream",
     "text": [
      "100%|██████████| 50000/50000 [00:09<00:00, 5534.69it/s]\n"
     ]
    },
    {
     "name": "stdout",
     "output_type": "stream",
     "text": [
      "24827.0 (50000, 1063) 9.167554378509521 10\n"
     ]
    },
    {
     "name": "stderr",
     "output_type": "stream",
     "text": [
      "100%|██████████| 100000/100000 [00:17<00:00, 5571.49it/s]\n"
     ]
    },
    {
     "name": "stdout",
     "output_type": "stream",
     "text": [
      "50079.0 (100000, 1063) 18.19524359703064 10\n"
     ]
    },
    {
     "name": "stderr",
     "output_type": "stream",
     "text": [
      "100%|██████████| 500000/500000 [01:25<00:00, 5853.96it/s]\n"
     ]
    },
    {
     "name": "stdout",
     "output_type": "stream",
     "text": [
      "249625.0 (500000, 1063) 86.34629440307617 10\n"
     ]
    },
    {
     "name": "stderr",
     "output_type": "stream",
     "text": [
      "100%|██████████| 1000000/1000000 [02:43<00:00, 6106.01it/s]\n"
     ]
    },
    {
     "name": "stdout",
     "output_type": "stream",
     "text": [
      "499784.0 (1000000, 1063) 163.77932715415955 10\n",
      "CPU times: user 4min 16s, sys: 26.9 s, total: 4min 43s\n",
      "Wall time: 4min 42s\n"
     ]
    }
   ],
   "source": [
    "%%time\n",
    "times_n_single = {'bs': [], 'time': [], 'pos': []}\n",
    "for s in [\"10k\", \"50k\", \"100k\", \"500k\", \"1M\"]:\n",
    "    filename = training_dir + \"sample_indices/sample\" + s + \".pkl\"\n",
    "    ds = CaddDataset(lmdb_dir, filename)\n",
    "    \n",
    "    start = time.time()\n",
    "    X, y = load_n_single(ds, shuffle=False)\n",
    "    end = time.time()\n",
    "    times_n_single['bs'].append(ds.__len__())\n",
    "    times_n_single['time'].append(end-start)\n",
    "    times_n_single['pos'].append(sum(y))\n",
    "    \n",
    "    print(sum(y), X.shape, end-start, num_workers)"
   ]
  },
  {
   "cell_type": "code",
   "execution_count": 27,
   "metadata": {},
   "outputs": [
    {
     "name": "stderr",
     "output_type": "stream",
     "text": [
      "100%|██████████| 157/157 [00:00<00:00, 200.54it/s]\n"
     ]
    },
    {
     "name": "stdout",
     "output_type": "stream",
     "text": [
      "5071.0 (10000, 1063) 4.025237798690796\n"
     ]
    },
    {
     "name": "stderr",
     "output_type": "stream",
     "text": [
      "100%|██████████| 782/782 [00:01<00:00, 494.21it/s]"
     ]
    },
    {
     "name": "stdout",
     "output_type": "stream",
     "text": [
      "24827.0 (50000, 1063) 2.7535035610198975\n"
     ]
    },
    {
     "name": "stderr",
     "output_type": "stream",
     "text": [
      "\n",
      "100%|██████████| 1563/1563 [00:03<00:00, 449.30it/s]\n"
     ]
    },
    {
     "name": "stdout",
     "output_type": "stream",
     "text": [
      "50079.0 (100000, 1063) 5.628856658935547\n"
     ]
    },
    {
     "name": "stderr",
     "output_type": "stream",
     "text": [
      "100%|██████████| 7813/7813 [00:14<00:00, 552.92it/s]\n"
     ]
    },
    {
     "name": "stdout",
     "output_type": "stream",
     "text": [
      "249625.0 (500000, 1063) 21.753267288208008\n"
     ]
    },
    {
     "name": "stderr",
     "output_type": "stream",
     "text": [
      "100%|██████████| 15625/15625 [00:27<00:00, 574.41it/s]\n"
     ]
    },
    {
     "name": "stdout",
     "output_type": "stream",
     "text": [
      "499784.0 (1000000, 1063) 41.00003981590271\n",
      "CPU times: user 23.6 s, sys: 29.5 s, total: 53.2 s\n",
      "Wall time: 1min 17s\n"
     ]
    }
   ],
   "source": [
    "%%time\n",
    "times_n_collate = {'bs': [], 'time': [], 'pos': []}\n",
    "for s in [\"10k\", \"50k\", \"100k\", \"500k\", \"1M\"]:\n",
    "    filename = training_dir + \"sample_indices/sample\" + s + \".pkl\"\n",
    "    ds = CaddDataset(lmdb_dir, filename)\n",
    "    \n",
    "    start = time.time()\n",
    "    items = load_n_collate(ds, batch_size=64, num_workers=10, shuffle=False, drop_last=False)\n",
    "    end = time.time()\n",
    "    times_n_collate['bs'].append(ds.__len__())\n",
    "    times_n_collate['time'].append(end-start)\n",
    "    times_n_collate['pos'].append(sum(items['targets']))\n",
    "\n",
    "    print(sum(items['targets']), items['inputs'].shape, end-start)"
   ]
  },
  {
   "cell_type": "code",
   "execution_count": 28,
   "metadata": {},
   "outputs": [
    {
     "name": "stderr",
     "output_type": "stream",
     "text": [
      "100%|██████████| 157/157 [00:00<00:00, 208.25it/s]\n"
     ]
    },
    {
     "name": "stdout",
     "output_type": "stream",
     "text": [
      "5071.0 (10000, 1063) 3.313337564468384\n"
     ]
    },
    {
     "name": "stderr",
     "output_type": "stream",
     "text": [
      "100%|██████████| 782/782 [00:01<00:00, 469.16it/s]\n"
     ]
    },
    {
     "name": "stdout",
     "output_type": "stream",
     "text": [
      "24827.0 (50000, 1063) 3.341358184814453\n"
     ]
    },
    {
     "name": "stderr",
     "output_type": "stream",
     "text": [
      "100%|██████████| 1563/1563 [00:03<00:00, 487.22it/s]\n"
     ]
    },
    {
     "name": "stdout",
     "output_type": "stream",
     "text": [
      "50079.0 (100000, 1063) 4.969335079193115\n"
     ]
    },
    {
     "name": "stderr",
     "output_type": "stream",
     "text": [
      "100%|██████████| 7813/7813 [00:14<00:00, 552.88it/s]\n"
     ]
    },
    {
     "name": "stdout",
     "output_type": "stream",
     "text": [
      "249625.0 (500000, 1063) 15.849244356155396\n"
     ]
    },
    {
     "name": "stderr",
     "output_type": "stream",
     "text": [
      "100%|██████████| 15625/15625 [00:25<00:00, 616.63it/s]\n"
     ]
    },
    {
     "name": "stdout",
     "output_type": "stream",
     "text": [
      "499784.0 (1000000, 1063) 27.458829641342163\n",
      "CPU times: user 13.9 s, sys: 18.3 s, total: 32.1 s\n",
      "Wall time: 56.7 s\n"
     ]
    }
   ],
   "source": [
    "%%time\n",
    "times_n_batch_loop = {'bs': [], 'time': [], 'pos': []}\n",
    "for s in [\"10k\", \"50k\", \"100k\", \"500k\", \"1M\"]:\n",
    "    filename = training_dir + \"sample_indices/sample\" + s + \".pkl\"\n",
    "    ds = CaddDataset(lmdb_dir, filename)\n",
    "    start = time.time()\n",
    "    X, y = load_n_batch_loop(ds, num_workers=10, batch_size=64, shuffle=False)\n",
    "    end = time.time()\n",
    "    times_n_batch_loop['bs'].append(ds.__len__())\n",
    "    times_n_batch_loop['time'].append(end-start)\n",
    "    times_n_batch_loop['pos'].append(sum(y))\n",
    "\n",
    "    print(sum(y), X.shape, end-start)"
   ]
  },
  {
   "cell_type": "markdown",
   "metadata": {},
   "source": [
    "## Now we want to plot these speeds\n",
    "https://python-graph-gallery.com/122-multiple-lines-chart/"
   ]
  },
  {
   "cell_type": "code",
   "execution_count": 12,
   "metadata": {},
   "outputs": [],
   "source": [
    "import matplotlib.pyplot as plt"
   ]
  },
  {
   "cell_type": "code",
   "execution_count": 16,
   "metadata": {},
   "outputs": [
    {
     "name": "stdout",
     "output_type": "stream",
     "text": [
      "{'bs': [10000, 50000, 100000, 500000, 1000000], 'time': [1.8848204612731934, 9.160690307617188, 18.593568325042725, 83.70752692222595, 167.90151858329773], 'pos': [5071.0, 24827.0, 50079.0, 249625.0, 499784.0]}\n",
      "{'bs': [10000, 50000, 100000, 500000, 1000000], 'time': [1.8190932273864746, 8.74219822883606, 17.99203085899353, 84.04953575134277, 168.44957613945007], 'pos': [5071.0, 24827.0, 50079.0, 249625.0, 499784.0]}\n"
     ]
    }
   ],
   "source": [
    "print(times_n_collate)\n",
    "print(times_n_single)"
   ]
  },
  {
   "cell_type": "code",
   "execution_count": 32,
   "metadata": {},
   "outputs": [
    {
     "data": {
      "text/plain": [
       "<matplotlib.legend.Legend at 0x7f80d0670f60>"
      ]
     },
     "execution_count": 32,
     "metadata": {},
     "output_type": "execute_result"
    },
    {
     "data": {
      "image/png": "[encoded data removed]",
      "text/plain": [
       "<Figure size 640x480 with 1 Axes>"
      ]
     },
     "metadata": {
      "needs_background": "light"
     },
     "output_type": "display_data"
    }
   ],
   "source": [
    "plt.figure(figsize=(8, 6), dpi=80)\n",
    "plt.plot('bs', 'time', data=times_n_batch, marker='o', markerfacecolor='blue', markersize=12, color='skyblue', linewidth=4, label=\"One big batch\")\n",
    "plt.plot('bs', 'time', data=times_n_single, marker='o', color='skyblue', linewidth=2, label=\"One by one\")\n",
    "plt.plot('bs', 'time', data=times_n_collate, marker='o', color='black', linewidth=2, linestyle='dashed', label=\"Using numpy collate\")\n",
    "plt.plot('bs', 'time', data=times_n_batch_loop, marker='o', color='orange', linewidth=2, linestyle='dashed', label=\"Using batch loop\")\n",
    "plt.legend()"
   ]
  },
  {
   "cell_type": "code",
   "execution_count": 9,
   "metadata": {},
   "outputs": [],
   "source": [
    "\"\"\"\n",
    "valid_ids = load_pickle(valid_id_file)\n",
    "sample10k = valid_ids.sample(10000)\n",
    "sample50k = valid_ids.sample(50000)\n",
    "sample100k = valid_ids.sample(100000)\n",
    "sample500k = valid_ids.sample(500000)\n",
    "sample1M = valid_ids.sample(1000000)\n",
    "dump_to_pickle(training_dir + \"sample_indices/sample10k.pkl\", sample10k)\n",
    "dump_to_pickle(training_dir + \"sample_indices/sample50k.pkl\", sample50k)\n",
    "dump_to_pickle(training_dir + \"sample_indices/sample100k.pkl\", sample100k)\n",
    "dump_to_pickle(training_dir + \"sample_indices/sample500k.pkl\", sample500k)\n",
    "dump_to_pickle(training_dir + \"sample_indices/sample1M.pkl\", sample1M)\n",
    "\"\"\""
   ]
  },
  {
   "cell_type": "code",
   "execution_count": 38,
   "metadata": {},
   "outputs": [
    {
     "name": "stderr",
     "output_type": "stream",
     "text": [
      "\n",
      "  0%|          | 0/156 [00:00<?, ?it/s]\u001b[A\n",
      "  1%|          | 1/156 [00:24<1:03:28, 24.57s/it]\u001b[A\n",
      "  3%|▎         | 4/156 [00:25<43:46, 17.28s/it]  \u001b[A\n",
      "  4%|▍         | 6/156 [00:25<30:23, 12.16s/it]\u001b[A\n",
      " 13%|█▎        | 20/156 [00:26<19:18,  8.52s/it]\u001b[A\n",
      " 34%|███▍      | 53/156 [00:26<10:14,  5.97s/it]\u001b[A\n",
      " 38%|███▊      | 59/156 [00:27<06:51,  4.25s/it]\u001b[A\n",
      " 38%|███▊      | 59/156 [00:39<06:51,  4.25s/it]\u001b[A\n",
      " 42%|████▏     | 65/156 [00:46<05:55,  3.90s/it]\u001b[A\n",
      " 46%|████▌     | 72/156 [00:47<03:53,  2.77s/it]\u001b[A\n",
      " 54%|█████▍    | 84/156 [00:47<02:20,  1.95s/it]\u001b[A\n",
      " 78%|███████▊  | 121/156 [00:48<00:48,  1.37s/it]\u001b[A\n",
      " 83%|████████▎ | 129/156 [00:55<00:32,  1.21s/it]\u001b[A\n",
      " 84%|████████▍ | 131/156 [00:55<00:21,  1.16it/s]\u001b[A\n",
      " 85%|████████▌ | 133/156 [00:55<00:14,  1.61it/s]\u001b[A\n",
      " 89%|████████▉ | 139/156 [00:55<00:07,  2.21it/s]\u001b[A\n",
      "100%|██████████| 156/156 [00:59<00:00,  2.61it/s]\u001b[A"
     ]
    }
   ],
   "source": [
    "ds = CaddDataset(lmdb_dir, ids_10k_file)\n",
    "df = ds.load_all_with_metadata()"
   ]
  },
  {
   "cell_type": "code",
   "execution_count": 39,
   "metadata": {},
   "outputs": [
    {
     "data": {
      "text/plain": [
       "{'inputs': array([[1., 0., 0., ..., 0., 0., 0.],\n",
       "        [0., 0., 0., ..., 0., 0., 0.],\n",
       "        [1., 0., 0., ..., 0., 0., 0.],\n",
       "        ...,\n",
       "        [0., 0., 1., ..., 0., 0., 0.],\n",
       "        [0., 0., 1., ..., 0., 0., 0.],\n",
       "        [0., 0., 0., ..., 0., 0., 0.]], dtype=float16),\n",
       " 'targets': array([0., 0., 0., ..., 0., 0., 0.]),\n",
       " 'metadata': {'variant_id': array([\"5:171125664:A:['G']\", \"7:153470120:N:['N']\",\n",
       "         \"2:203575895:A:['G']\", ..., \"10:91069765:G:['A']\",\n",
       "         \"4:140409513:G:['A']\", \"4:190445229:N:['N']\"], dtype='<U20')}}"
      ]
     },
     "execution_count": 39,
     "metadata": {},
     "output_type": "execute_result"
    }
   ],
   "source": [
    "df"
   ]
  },
  {
   "cell_type": "code",
   "execution_count": null,
   "metadata": {},
   "outputs": [],
   "source": []
  }
 ],
 "metadata": {
  "kernelspec": {
   "display_name": "Python [conda env:kipoi-cadd2]",
   "language": "python",
   "name": "conda-env-kipoi-cadd2-py"
  },
  "language_info": {
   "codemirror_mode": {
    "name": "ipython",
    "version": 3
   },
   "file_extension": ".py",
   "mimetype": "text/x-python",
   "name": "python",
   "nbconvert_exporter": "python",
   "pygments_lexer": "ipython3",
   "version": "3.6.7"
  }
 },
 "nbformat": 4,
 "nbformat_minor": 2
}
