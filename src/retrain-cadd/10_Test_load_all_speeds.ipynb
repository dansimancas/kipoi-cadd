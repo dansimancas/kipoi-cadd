{
 "cells": [
  {
   "cell_type": "code",
   "execution_count": 3,
   "metadata": {},
   "outputs": [],
   "source": [
    "from kipoi_cadd.data import cadd_train_valid_data, train_test_split_indexes, CaddDataset\n",
    "from kipoi_cadd.utils import dump_to_pickle, load_pickle\n",
    "import pandas as pd\n",
    "import time\n",
    "from tqdm import tqdm, trange\n",
    "import numpy as np\n",
    "from kipoi.data_utils import numpy_collate_concat\n",
    "%load_ext line_profiler"
   ]
  },
  {
   "cell_type": "code",
   "execution_count": 4,
   "metadata": {},
   "outputs": [],
   "source": [
    "training_dir = \"/s/project/kipoi-cadd/data/raw/v1.3/training_data/\"\n",
    "lmdb_dir = training_dir + \"lmdb\"\n",
    "valid_id_file = training_dir + \"valid_idx.pkl\"\n",
    "all_ids_file = training_dir + \"variant_ids.pkl\"\n",
    "ids_10k_file = training_dir + \"ids_10k.pkl\""
   ]
  },
  {
   "cell_type": "code",
   "execution_count": 6,
   "metadata": {},
   "outputs": [
    {
     "data": {
      "text/plain": [
       "65500.0"
      ]
     },
     "execution_count": 6,
     "metadata": {},
     "output_type": "execute_result"
    }
   ],
   "source": [
    "np.finfo(np.float16).max"
   ]
  },
  {
   "cell_type": "code",
   "execution_count": 7,
   "metadata": {},
   "outputs": [],
   "source": [
    "def load_n_batch(ds, num_workers=1, shuffle=False):\n",
    "    D = len(ds.__getitem__(0)['inputs'])\n",
    "    N = ds.__len__()\n",
    "    X = np.zeros((N, D), dtype=np.float16)\n",
    "    y = np.zeros(N, dtype=np.float16)\n",
    "\n",
    "    it = ds.batch_train_iter(batch_size=N, shuffle=shuffle, num_workers=num_workers)\n",
    "    X, y = next(it)\n",
    "    return X, y\n",
    "\n",
    "def load_n_single(ds, num_workers=1, shuffle=False):\n",
    "    D = len(ds.__getitem__(0)['inputs'])\n",
    "    N = ds.__len__()\n",
    "    X = np.zeros((N, D), dtype=np.float16)\n",
    "    y = np.zeros(N, dtype=np.float16)\n",
    "\n",
    "    for idx in trange(N):\n",
    "        item = ds.__getitem__(idx)\n",
    "        X[idx,:] = item['inputs']\n",
    "        y[idx] = item['targets']\n",
    "    return X, y\n",
    "\n",
    "def load_n_batch_loop(ds, num_workers=1, batch_size=64, shuffle=False):\n",
    "    D = len(ds.__getitem__(0)['inputs'])\n",
    "    N = ds.__len__()\n",
    "    X = np.zeros((N, D), dtype=np.float16)\n",
    "    y = np.zeros(N, dtype=np.float16)\n",
    "    \n",
    "    # Batch iter does not loop infinetly. When the ds will end, the last batch's size, will be that\n",
    "    # of the number of remaining samples\n",
    "    it = ds.batch_iter(batch_size=batch_size, shuffle=shuffle, num_workers=num_workers)\n",
    "    i = 0\n",
    "    for sample in tqdm(it, total=(n//64)-1):\n",
    "        bs = sample['inputs'].shape[0]\n",
    "        end = min(i+bs, n)\n",
    "        X[i:end,:] = sample['inputs'][:end-i]\n",
    "        y[i:end] = sample['targets'][:end-i]\n",
    "        i = i + bs + 1\n",
    "    return X, y\n",
    "\n",
    "def load_n_collate(ds, num_workers=1, batch_size=64, shuffle=False):\n",
    "    my_list = []\n",
    "    it = ds.batch_iter(64, num_workers=num_workers, shuffle=shuffle)\n",
    "    i = 0\n",
    "    for x in tqdm(it, total=(n//64)-1):\n",
    "        bs = x['inputs'].shape[0]\n",
    "        if n - i >= bs:\n",
    "            my_list.append(x)\n",
    "        else:\n",
    "            x['targets'] = x['targets'][:n-i]\n",
    "            x['inputs'] = x['inputs'][:n-i]\n",
    "            x['metadata']['variant_id'] = x['metadata']['variant_id'][:n-i]\n",
    "            my_list.append(x)\n",
    "        i = i + bs\n",
    "        if i >= n:\n",
    "            break\n",
    "            \n",
    "    return numpy_collate_concat(my_list)"
   ]
  },
  {
   "cell_type": "code",
   "execution_count": 8,
   "metadata": {},
   "outputs": [
    {
     "ename": "NameError",
     "evalue": "name 's' is not defined",
     "output_type": "error",
     "traceback": [
      "\u001b[0;31m---------------------------------------------------------------------------\u001b[0m",
      "\u001b[0;31mNameError\u001b[0m                                 Traceback (most recent call last)",
      "\u001b[0;32m<timed exec>\u001b[0m in \u001b[0;36m<module>\u001b[0;34m\u001b[0m\n",
      "\u001b[0;31mNameError\u001b[0m: name 's' is not defined"
     ]
    }
   ],
   "source": [
    "%%time\n",
    "\"\"\"\n",
    "times_n_batch = {'bs': [], 'time': [], 'pos': []}\n",
    "for s in [10000, 50000, 100000, 1000000, 10000000]:\n",
    "    if s < 1000000:\n",
    "        start = time.time()\n",
    "        X, y = load_n_batch(valid_ds, n=s, num_workers=1, shuffle=False)\n",
    "        end = time.time()\n",
    "    else:\n",
    "        end = start = 0\n",
    "        y = [0]\n",
    "    times_n_batch['bs'].append(s)\n",
    "    times_n_batch['time'].append(end-start)\n",
    "    times_n_batch['pos'].append(sum(y))\n",
    "    \n",
    "    print(sum(y), X.shape, end-start)\n",
    "\"\"\"\n",
    "valid_ds = CaddDataset(lmdb_dir, valid_id_file)\n",
    "X, y = load_n_batch(valid_ds, n=1, num_workers=1, shuffle=False)\n",
    "print(sum(y), X.shape, end-start)"
   ]
  },
  {
   "cell_type": "code",
   "execution_count": null,
   "metadata": {},
   "outputs": [],
   "source": [
    "\"\"\"\n",
    "times_n_single = {'bs': [], 'time': [], 'pos': []}\n",
    "for s in [10000, 100000, 1000000, 7008611]:\n",
    "    start = time.time()\n",
    "    X, y = load_n_single(valid_ds, n=s, num_workers=10, shuffle=False)\n",
    "    end = time.time()\n",
    "    times_n_single['bs'].append(s)\n",
    "    times_n_single['time'].append(end-start)\n",
    "    times_n_single['pos'].append(y.sum())\n",
    "    print(y.sum(), X.shape, end-start)\n",
    "\"\"\"\n",
    "valid_ds = CaddDataset(lmdb_dir, valid_id_file)\n",
    "X, y = load_n_single(valid_ds, n=s, num_workers=10, shuffle=False)\n",
    "print(sum(y), X.shape, end-start)"
   ]
  },
  {
   "cell_type": "code",
   "execution_count": null,
   "metadata": {},
   "outputs": [],
   "source": [
    "\"\"\"\n",
    "times_n_collate = {'bs': [], 'time': [], 'pos': []}\n",
    "for s in [10000, 100000, 1000000, 7008611]:\n",
    "    start = time.time()\n",
    "    items = load_n_collate(valid_ds, n=s, num_workers=10, shuffle=False)\n",
    "    end = time.time()\n",
    "    times_n_collate['bs'].append(s)\n",
    "    times_n_collate['time'].append(end-start)\n",
    "    times_n_collate['pos'].append(items['targets'].sum())\n",
    "    print(items['targets'].sum(), items['inputs'].shape, end-start)\n",
    "\"\"\"\n",
    "valid_ds = CaddDataset(lmdb_dir, valid_id_file)\n",
    "%time items = load_n_collate(valid_ds, n=s, num_workers=10, shuffle=False)\n",
    "print(items['targets'].sum(), items['inputs'].shape, end-start)"
   ]
  },
  {
   "cell_type": "code",
   "execution_count": null,
   "metadata": {},
   "outputs": [],
   "source": [
    "\"\"\"\n",
    "times_n_batch_loop = {'bs': [], 'time': [], 'pos': []}\n",
    "for s in [10000, 100000, 1000000, 7008611]:\n",
    "    start = time.time()\n",
    "    X, y = load_n_batch_loop(valid_ds, n=s, num_workers=10, shuffle=False)\n",
    "    end = time.time()\n",
    "    times_n_batch_loop['bs'].append(s)\n",
    "    times_n_batch_loop['time'].append(end-start)\n",
    "    times_n_batch_loop['pos'].append(y.sum())\n",
    "    print(y.sum(), X.shape, end-start)\n",
    "\"\"\"\n",
    "valid_ds = CaddDataset(lmdb_dir, valid_id_file)\n",
    "%time X, y = load_n_batch_loop(valid_ds, n=s, num_workers=10, shuffle=False)\n",
    "print(y.sum(), X.shape, end-start)"
   ]
  },
  {
   "cell_type": "code",
   "execution_count": null,
   "metadata": {},
   "outputs": [],
   "source": [
    "%%time\n",
    "X, y = load_all_batch(valid_ds, num_workers=1, shuffle=False)\n",
    "print(y.sum()/len(y), y.sum(), len(y))"
   ]
  },
  {
   "cell_type": "code",
   "execution_count": null,
   "metadata": {},
   "outputs": [],
   "source": [
    "%%time\n",
    "X, y = load_all_single(valid_ds, num_workers=1, shuffle=False)\n",
    "print(y.sum()/len(y), y.sum(), len(y))"
   ]
  }
 ],
 "metadata": {
  "kernelspec": {
   "display_name": "Python [conda env:kipoi-cadd2]",
   "language": "python",
   "name": "conda-env-kipoi-cadd2-py"
  },
  "language_info": {
   "codemirror_mode": {
    "name": "ipython",
    "version": 3
   },
   "file_extension": ".py",
   "mimetype": "text/x-python",
   "name": "python",
   "nbconvert_exporter": "python",
   "pygments_lexer": "ipython3",
   "version": "3.6.7"
  }
 },
 "nbformat": 4,
 "nbformat_minor": 2
}
