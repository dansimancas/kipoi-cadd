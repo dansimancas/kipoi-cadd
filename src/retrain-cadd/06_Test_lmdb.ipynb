{
 "cells": [
  {
   "cell_type": "markdown",
   "metadata": {},
   "source": [
    "## Test put/get from lmdb\n",
    "### ouga04"
   ]
  },
  {
   "cell_type": "code",
   "execution_count": 11,
   "metadata": {},
   "outputs": [],
   "source": [
    "from kipoi_cadd.tests.test_lmdb import test_get_10000_variants, test_put_10000_variants"
   ]
  },
  {
   "cell_type": "code",
   "execution_count": null,
   "metadata": {},
   "outputs": [],
   "source": [
    "%%time\n",
    "test_put_10000_variants()"
   ]
  },
  {
   "cell_type": "code",
   "execution_count": null,
   "metadata": {},
   "outputs": [],
   "source": [
    "%%time\n",
    "test_get_10000_variants()"
   ]
  },
  {
   "cell_type": "code",
   "execution_count": null,
   "metadata": {},
   "outputs": [],
   "source": [
    "# In hours\n",
    "put_whole_dataset = ((34000000/10000)*6.42)/3600 # 6.42 seconds per 10000\n",
    "# In seconds\n",
    "get_whole_dataset = ((34000000/10000)*6.36)/1000 # 6.36 ms per 10000\n",
    "print(\"Put: {:0.3f}\".format(put_whole_dataset), \"hours\", \"\\nGet:\", get_whole_dataset, \"seconds\")"
   ]
  },
  {
   "cell_type": "markdown",
   "metadata": {},
   "source": [
    "## gpu01"
   ]
  },
  {
   "cell_type": "code",
   "execution_count": 12,
   "metadata": {},
   "outputs": [
    {
     "name": "stderr",
     "output_type": "stream",
     "text": [
      "9870it [00:04, 2450.64it/s]\n"
     ]
    },
    {
     "name": "stdout",
     "output_type": "stream",
     "text": [
      "CPU times: user 4.27 s, sys: 214 ms, total: 4.48 s\n",
      "Wall time: 5.97 s\n"
     ]
    }
   ],
   "source": [
    "%%time\n",
    "test_put_10000_variants()"
   ]
  },
  {
   "cell_type": "code",
   "execution_count": 24,
   "metadata": {},
   "outputs": [
    {
     "name": "stdout",
     "output_type": "stream",
     "text": [
      "Finished getting 10000 rows.\n",
      "CPU times: user 49.3 ms, sys: 32.7 ms, total: 82 ms\n",
      "Wall time: 81.2 ms\n"
     ]
    }
   ],
   "source": [
    "%%time\n",
    "test_get_10000_variants()"
   ]
  },
  {
   "cell_type": "code",
   "execution_count": 28,
   "metadata": {},
   "outputs": [
    {
     "name": "stdout",
     "output_type": "stream",
     "text": [
      "Put: 5.062 hours \n",
      "Get: 4.601 minutes\n"
     ]
    }
   ],
   "source": [
    "# In hours\n",
    "put_whole_dataset = ((34000000/10000)*5.36)/3600 # 5.36 seconds per 10000\n",
    "# In seconds\n",
    "get_whole_dataset = ((34000000/10000)*81.2)/1000/60 # 81.2 ms per 10000\n",
    "print(\"Put: {:0.3f}\".format(put_whole_dataset), \"hours\", \"\\nGet: {:0.3f}\".format(get_whole_dataset), \"minutes\")"
   ]
  },
  {
   "cell_type": "code",
   "execution_count": null,
   "metadata": {},
   "outputs": [],
   "source": [
    "(34000000/10000)*44160000"
   ]
  },
  {
   "cell_type": "code",
   "execution_count": null,
   "metadata": {},
   "outputs": [],
   "source": [
    "83904000/1.9"
   ]
  },
  {
   "cell_type": "code",
   "execution_count": 30,
   "metadata": {},
   "outputs": [
    {
     "data": {
      "text/plain": [
       "285.0"
      ]
     },
     "execution_count": 30,
     "metadata": {},
     "output_type": "execute_result"
    }
   ],
   "source": [
    "150*1.9"
   ]
  }
 ],
 "metadata": {
  "kernelspec": {
   "display_name": "Python [conda env:kipoi-cadd2]",
   "language": "python",
   "name": "conda-env-kipoi-cadd2-py"
  },
  "language_info": {
   "codemirror_mode": {
    "name": "ipython",
    "version": 3
   },
   "file_extension": ".py",
   "mimetype": "text/x-python",
   "name": "python",
   "nbconvert_exporter": "python",
   "pygments_lexer": "ipython3",
   "version": "3.6.7"
  }
 },
 "nbformat": 4,
 "nbformat_minor": 2
}
