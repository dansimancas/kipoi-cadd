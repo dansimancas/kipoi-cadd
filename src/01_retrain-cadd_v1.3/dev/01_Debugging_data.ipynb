{
 "cells": [
  {
   "cell_type": "code",
   "execution_count": 1,
   "metadata": {},
   "outputs": [
    {
     "name": "stderr",
     "output_type": "stream",
     "text": [
      "Using TensorFlow backend.\n"
     ]
    }
   ],
   "source": [
    "from gin_train.trainers import KerasTrainer\n",
    "from kipoi_cadd.data import CaddDataset\n",
    "from kipoi_cadd.data import cadd_train_valid_data, cadd_serialize_string_row\n",
    "from kipoi_cadd.data import save_variant_ids\n",
    "from kipoi_cadd.data import train_test_split_indexes\n",
    "from kipoi_cadd.config import get_data_dir\n",
    "import pandas as pd\n",
    "import numpy as np\n",
    "from random import shuffle\n",
    "from kipoi_cadd.models import logistic_regression_scikit, logistic_regression_keras\n",
    "from gin_train.metrics import ClassificationMetrics\n",
    "from sklearn.model_selection import train_test_split\n",
    "%load_ext line_profiler"
   ]
  },
  {
   "cell_type": "code",
   "execution_count": 2,
   "metadata": {},
   "outputs": [],
   "source": [
    "# Create train, test and validation indexes\n",
    "all_variant_id_file = \"/s/project/kipoi-cadd/data/raw/v1.3/training_data/variant_ids.pkl\"\n",
    "training_data_dir = \"/s/project/kipoi-cadd/data/raw/v1.3/training_data/\"\n",
    "train_idx_path = training_data_dir + \"train_idx.pkl\"\n",
    "test_idx_path = training_data_dir + \"test_idx.pkl\"\n",
    "valid_idx_path = training_data_dir + \"valid_idx.pkl\"\n",
    "lmdb_dir = training_data_dir + \"lmdb\""
   ]
  },
  {
   "cell_type": "code",
   "execution_count": 3,
   "metadata": {},
   "outputs": [],
   "source": [
    "ds2 = CaddDataset(lmdb_dir, train_idx_path)\n",
    "# it = ds2.batch_iter()"
   ]
  },
  {
   "cell_type": "code",
   "execution_count": null,
   "metadata": {},
   "outputs": [],
   "source": []
  },
  {
   "cell_type": "code",
   "execution_count": 24,
   "metadata": {},
   "outputs": [
    {
     "data": {
      "text/plain": [
       "Timer unit: 1e-06 s\n",
       "\n",
       "Total time: 0.000289 s\n",
       "File: /data/ouga04b/ag_gagneur/project_local/kipoi-cadd/kipoi_cadd/data.py\n",
       "Function: __getitem__ at line 43\n",
       "\n",
       "Line #      Hits         Time  Per Hit   % Time  Line Contents\n",
       "==============================================================\n",
       "    43                                               def __getitem__(self, idx):\n",
       "    44         1          2.0      2.0      0.7          if self.lmdb_cadd is None:\n",
       "    45                                                       self.lmdb_cadd = lmdb.open(self.lmdb_cadd_path, readonly=True, lock=False)\n",
       "    46                                                       self.txn = self.lmdb_cadd.begin()\n",
       "    47                                           \n",
       "    48                                                   # TODO: Make this distiction clearer, do we want to search by loc or iloc?\n",
       "    49                                                   # Loc breaks when a splitted dataset doesn't have idx.\n",
       "    50                                                   # variant_id = self.variant_ids.loc[idx]\n",
       "    51         1          5.0      5.0      1.7          variant_id = self.variant_ids[idx]\n",
       "    52         1         29.0     29.0     10.0          buf = bytes(self.txn.get(variant_id.encode('ascii')))\n",
       "    53                                           \n",
       "    54         1        201.0    201.0     69.6          item = pa.deserialize(buf)\n",
       "    55         1         31.0     31.0     10.7          item['targets'] = 0 if item['targets'] == -1 else item['targets']\n",
       "    56                                                   # TODO - check that this is not too harmful\n",
       "    57         1         20.0     20.0      6.9          item['inputs'] = np.minimum(item['inputs'],  65536)  # 2**16\n",
       "    58         1          1.0      1.0      0.3          return item"
      ]
     },
     "metadata": {},
     "output_type": "display_data"
    }
   ],
   "source": [
    "%lprun -f ds2.__getitem__ ds2[100]"
   ]
  },
  {
   "cell_type": "code",
   "execution_count": 4,
   "metadata": {},
   "outputs": [],
   "source": [
    "b = next(it)"
   ]
  },
  {
   "cell_type": "code",
   "execution_count": 5,
   "metadata": {},
   "outputs": [],
   "source": [
    "from tqdm import tqdm"
   ]
  },
  {
   "cell_type": "code",
   "execution_count": 6,
   "metadata": {},
   "outputs": [],
   "source": [
    "m = logistic_regression_keras(n_features=1063)"
   ]
  },
  {
   "cell_type": "code",
   "execution_count": 7,
   "metadata": {},
   "outputs": [
    {
     "name": "stderr",
     "output_type": "stream",
     "text": [
      "  0%|          | 1894/657057 [00:16<1:44:42, 104.29it/s]"
     ]
    },
    {
     "name": "stdout",
     "output_type": "stream",
     "text": [
      "Nan value in weights\n"
     ]
    }
   ],
   "source": [
    "prev_weights = None\n",
    "prev_batch = None\n",
    "for b in tqdm(it, total=len(ds2)//32):\n",
    "    if np.any(np.isnan(b['targets'])):\n",
    "        print(\"Nan value in targets\")\n",
    "        break\n",
    "    if np.any(np.isnan(b['inputs'])):\n",
    "        print(\"Nan value in inputs\")\n",
    "        break\n",
    "    m.train_on_batch(b['inputs'], b['targets'])\n",
    "    \n",
    "    if np.any(np.isnan(m.get_weights()[0])):\n",
    "        print(\"Nan value in weights\")\n",
    "        break\n",
    "    prev_weights = m.get_weights()[0]"
   ]
  },
  {
   "cell_type": "code",
   "execution_count": null,
   "metadata": {},
   "outputs": [],
   "source": [
    "inf"
   ]
  },
  {
   "cell_type": "code",
   "execution_count": 35,
   "metadata": {},
   "outputs": [
    {
     "data": {
      "text/plain": [
       "124"
      ]
     },
     "execution_count": 35,
     "metadata": {},
     "output_type": "execute_result"
    }
   ],
   "source": [
    "np.sum(b['inputs'] == np.inf, axis=0).argmax()"
   ]
  },
  {
   "cell_type": "code",
   "execution_count": 39,
   "metadata": {},
   "outputs": [
    {
     "data": {
      "text/plain": [
       "\"11:2649934:A:['G']\""
      ]
     },
     "execution_count": 39,
     "metadata": {},
     "output_type": "execute_result"
    }
   ],
   "source": [
    "b['metadata']['variant_id'][10]"
   ]
  },
  {
   "cell_type": "code",
   "execution_count": 44,
   "metadata": {},
   "outputs": [
    {
     "data": {
      "text/html": [
       "<div>\n",
       "<style scoped>\n",
       "    .dataframe tbody tr th:only-of-type {\n",
       "        vertical-align: middle;\n",
       "    }\n",
       "\n",
       "    .dataframe tbody tr th {\n",
       "        vertical-align: top;\n",
       "    }\n",
       "\n",
       "    .dataframe thead th {\n",
       "        text-align: right;\n",
       "    }\n",
       "</style>\n",
       "<table border=\"1\" class=\"dataframe\">\n",
       "  <thead>\n",
       "    <tr style=\"text-align: right;\">\n",
       "      <th></th>\n",
       "      <th>y</th>\n",
       "      <th>Chrom</th>\n",
       "      <th>Pos</th>\n",
       "      <th>Ref</th>\n",
       "    </tr>\n",
       "  </thead>\n",
       "  <tbody>\n",
       "    <tr>\n",
       "      <th>0</th>\n",
       "      <td>0</td>\n",
       "      <td>1</td>\n",
       "      <td>379177</td>\n",
       "      <td>T</td>\n",
       "    </tr>\n",
       "  </tbody>\n",
       "</table>\n",
       "</div>"
      ],
      "text/plain": [
       "   y  Chrom     Pos Ref\n",
       "0  0      1  379177   T"
      ]
     },
     "execution_count": 44,
     "metadata": {},
     "output_type": "execute_result"
    }
   ],
   "source": [
    "# Find fucked up variant\n",
    "inputfile = training_data_dir + \"training_data.tsv\"\n",
    "row_example = pd.read_csv(inputfile,\n",
    "                              sep='\\t',\n",
    "                              nrows=1,\n",
    "                              usecols=[0,1,2,3])\n",
    "row_example"
   ]
  },
  {
   "cell_type": "code",
   "execution_count": 57,
   "metadata": {},
   "outputs": [
    {
     "name": "stdout",
     "output_type": "stream",
     "text": [
      "y\tChrom\tPos\tRef\tAlt\tType\tLength\tisTv\tConsequence\tGC\tCpG\tmapAbility20bp\tmapAbility35bp\tscoreSegDup\tpriPhCons\tmamPhCons\tverPhCons\tpriPhyloP\tmamPhyloP\tverPhyloP\tGerpN\tGerpS\tGerpRS\tGerpRSpval\tbStatistic\tmutIndex\tdnaHelT\tdnaMGW\tdnaProT\tdnaRoll\tmirSVR-Score\tmirSVR-E\tmirSVR-Aln\ttargetScan\tfitCons\tcHmmTssA\tcHmmTssAFlnk\tcHmmTxFlnk\tcHmmTx\tcHmmTxWk\tcHmmEnhG\tcHmmEnh\tcHmmZnfRpts\tcHmmHet\tcHmmTssBiv\tcHmmBivFlnk\tcHmmEnhBiv\tcHmmReprPC\tcHmmReprPCWk\tcHmmQuies\tEncExp\tEncH3K27Ac\tEncH3K4Me1\tEncH3K4Me3\tEncNucleo\tEncOCC\tEncOCCombPVal\tEncOCDNasePVal\tEncOCFairePVal\tEncOCpolIIPVal\tEncOCctcfPVal\tEncOCmycPVal\tEncOCDNaseSig\tEncOCFaireSig\tEncOCpolIISig\tEncOCctcfSig\tEncOCmycSig\tSegway\ttOverlapMotifs\tmotifDist\tmotifECount\tmotifEHIPos\tmotifEScoreChng\tTFBS\tTFBSPeaks\tTFBSPeaksMax\tDAF\tminDistTSS\tminDistTSE\tcDNApos\trelcDNApos\tCDSpos\trelCDSpos\tprotPos\trelProtPos\tDomain\tDst2Splice\tDst2SplType\toAA\tnAA\tGrantham\tPolyPhenCat\tPolyPhenVal\tSIFTcat\tSIFTval\tmirSVR-Score.na\ttargetScan.na\tcDNApos.na\tCDSpos.na\tprotPos.na\tGrantham.na\tPolyPhenVal.na\tSIFTval.na\n",
      "\n",
      "Line number: 9652843\n",
      " 0\t11\t2649934\tA\tG\tSNV\t0\t0\tNC\t0.30\t0.01\t1\t1\t0\t0.073\t0.074\t0.097\t0.140\t0.142\t0.152\t0.131\t0.131\t0\t0.0000\t982\t14\t-2.72\t0.24\t2.27\t-1.17\t0\t0\t0\t0\t0.078537\t0.000\t0.000\t0.000\t0.000\t0.087\t0.000\t0.000\t0.024\t0.252\t0.000\t0.000\t0.000\t0.031\t0.102\t0.504\t0\t1.20\t2.00\t2.00\t1.90\t5\t0\t0\t0\t0\t0\t0\t0\t0\t0\t0\t0\tF0\t0\t0\t0\t0\t0\t0\t0\t0\t1.0000\t11.1745\t9.9221\t71291\t0.78\t0\t0\t0\t0\tUD\t0\tUD\tUD\tUD\t0\tUD\t0\tUD\t0\t1\t1\t0\t1\t1\t1\t1\t1\n",
      " \n",
      "\n",
      "Line number: 21429631\n",
      " 1\t14\t26499345\tA\tC\tSNV\t0\t1\tI\t0.42\t0.00\t1\t1\t0\t0.052\t0.001\t0.001\t0.473\t0.336\t0.393\t2.52\t1.28\t0\t0.0000\t886\t1\t-2.36\t1.83\t4.48\t11.24\t0\t0\t0\t0\t0.061782\t0.000\t0.000\t0.000\t0.008\t0.008\t0.000\t0.000\t0.000\t0.047\t0.000\t0.000\t0.000\t0.000\t0.024\t0.913\t0\t5.28\t2.00\t1.96\t0.80\t5\t0\t0\t0\t0\t0\t0\t0\t0\t0\t0\t0\tR0\t0\t0\t0\t0\t0\t0\t0\t0\t0\t11.6366\t12.1771\t0\t0\t0\t0\t0\t0\tUD\t0\tUD\tUD\tUD\t0\tUD\t0\tUD\t0\t1\t1\t1\t1\t1\t1\t1\t1\n",
      " \n",
      "\n"
     ]
    }
   ],
   "source": [
    "with open(inputfile, 'r') as f:\n",
    "    counter = 0\n",
    "    for line in f:\n",
    "        if counter == 0: print(line)\n",
    "        if \"\\t2649934\" in line:\n",
    "            print(\"Line number: \"+str(counter)+\"\\n\",line, \"\\n\")\n",
    "        counter += 1"
   ]
  },
  {
   "cell_type": "code",
   "execution_count": 58,
   "metadata": {},
   "outputs": [
    {
     "name": "stdout",
     "output_type": "stream",
     "text": [
      "y,RefxA,RefxC,RefxG,RefxT,RefxN,AltxA,AltxC,AltxG,AltxT,AltxN,TypexSNV,TypexINS,TypexDEL,Length,isTv,ConsequencexU3,ConsequencexU5,ConsequencexDN,ConsequencexIG,ConsequencexI,ConsequencexNC,ConsequencexIF,ConsequencexFS,ConsequencexNS,ConsequencexR,ConsequencexCS,ConsequencexS,ConsequencexSG,ConsequencexSL,ConsequencexSN,ConsequencexO,ConsequencexUP,GC,CpG,priPhCons,mamPhCons,verPhCons,priPhyloP,mamPhyloP,verPhyloP,GerpN,GerpS,GerpRS,GerpRSpval,bStatistic,mutIndex,dnaHelT,dnaMGW,dnaProT,dnaRoll,mirSVRs,IND_mirSVRs,mirSVRe,mirSVRa,targetScan,IND_targetScan,cHmmTssA,cHmmTssAFlnk,cHmmTxFlnk,cHmmTx,cHmmTxWk,cHmmEnhG,cHmmEnh,cHmmZnfRpts,cHmmHet,cHmmTssBiv,cHmmBivFlnk,cHmmEnhBiv,cHmmReprPC,cHmmReprPCWk,cHmmQuies,EncExp,EncH3K27Ac,EncH3K4Me1,EncH3K4Me3,EncNucleo,EncOCC,EncOCCombPVal,EncOCDNasePVal,EncOCFairePVal,EncOCpolIIPVal,EncOCctcfPVal,EncOCmycPVal,EncOCDNaseSig,EncOCFaireSig,EncOCpolIISig,EncOCctcfSig,EncOCmycSig,EncSegwayxC0,EncSegwayxC1,EncSegwayxD,EncSegwayxE/GM,EncSegwayxF0,EncSegwayxF1,EncSegwayxGE0,EncSegwayxGE1,EncSegwayxGE2,EncSegwayxGM0,EncSegwayxGM1,EncSegwayxGS,EncSegwayxH3K9me1,EncSegwayxL0,EncSegwayxL1,EncSegwayxR0,EncSegwayxR1,EncSegwayxR2,EncSegwayxR3,EncSegwayxR4,EncSegwayxR5,EncSegwayxTF0,EncSegwayxTF1,EncSegwayxTF2,EncSegwayxTSS,EncSegwayxUD,tOverlapMotifs,motifDist,motifECount,motifEHIPos,motifEScoreChng,EncTFBS,EncTFBSPeaks,EncTFBSPeaksMax,minDistTSS,minDistTSE,cDNApos,IND_cDNApos,relcDNApos,CDSpos,IND_CDSpos,relCDSpos,protpos,IND_protpos,relProtpos,Domainxncoils,Domainxtmhmm,Domainxsigp,Domainxndomain,Domainxlcompl,DomainxUD,Dst2Splice,Dst2SplTypexDONOR,Dst2SplTypexACCEPTOR,Dst2SplTypexUD,oAAx*,oAAxA,oAAxC,oAAxD,oAAxE,oAAxF,oAAxG,oAAxH,oAAxI,oAAxK,oAAxL,oAAxM,oAAxN,oAAxP,oAAxQ,oAAxR,oAAxS,oAAxT,oAAxV,oAAxW,oAAxY,oAAxUD,nAAx*,nAAxA,nAAxC,nAAxD,nAAxE,nAAxF,nAAxG,nAAxH,nAAxI,nAAxK,nAAxL,nAAxM,nAAxN,nAAxP,nAAxQ,nAAxR,nAAxS,nAAxT,nAAxV,nAAxW,nAAxY,nAAxUD,Grantham,IND_Grantham,PolyPhenCatxbenign,PolyPhenCatxpossibly_damaging,PolyPhenCatxprobably_damaging,PolyPhenCatxunknown,PolyPhenCatxUD,PolyPhenVal,IND_PolyPhenVal,SIFTcatxdeleterious,SIFTcatxtolerated,SIFTcatxunknown,SIFTcatxUD,SIFTval,IND_SIFTval,U3xbStatistic,U3xcDNApos,U3xCDSpos,U3xDst2Splice,U3xGerpN,U3xGerpS,U3xmamPhCons,U3xmamPhyloP,U3xminDistTSE,U3xminDistTSS,U3xpriPhCons,U3xpriPhyloP,U3xprotpos,U3xrelcDNApos,U3xrelCDSpos,U3xrelProtpos,U3xverPhCons,U3xverPhyloP,U3xmutIndex,U3xdnaHelT,U3xdnaMGW,U3xdnaProT,U3xdnaRoll,U5xbStatistic,U5xcDNApos,U5xCDSpos,U5xDst2Splice,U5xGerpN,U5xGerpS,U5xmamPhCons,U5xmamPhyloP,U5xminDistTSE,U5xminDistTSS,U5xpriPhCons,U5xpriPhyloP,U5xprotpos,U5xrelcDNApos,U5xrelCDSpos,U5xrelProtpos,U5xverPhCons,U5xverPhyloP,U5xmutIndex,U5xdnaHelT,U5xdnaMGW,U5xdnaProT,U5xdnaRoll,DNxbStatistic,DNxcDNApos,DNxCDSpos,DNxDst2Splice,DNxGerpN,DNxGerpS,DNxmamPhCons,DNxmamPhyloP,DNxminDistTSE,DNxminDistTSS,DNxpriPhCons,DNxpriPhyloP,DNxprotpos,DNxrelcDNApos,DNxrelCDSpos,DNxrelProtpos,DNxverPhCons,DNxverPhyloP,DNxmutIndex,DNxdnaHelT,DNxdnaMGW,DNxdnaProT,DNxdnaRoll,IGxbStatistic,IGxcDNApos,IGxCDSpos,IGxDst2Splice,IGxGerpN,IGxGerpS,IGxmamPhCons,IGxmamPhyloP,IGxminDistTSE,IGxminDistTSS,IGxpriPhCons,IGxpriPhyloP,IGxprotpos,IGxrelcDNApos,IGxrelCDSpos,IGxrelProtpos,IGxverPhCons,IGxverPhyloP,IGxmutIndex,IGxdnaHelT,IGxdnaMGW,IGxdnaProT,IGxdnaRoll,IxbStatistic,IxcDNApos,IxCDSpos,IxDst2Splice,IxGerpN,IxGerpS,IxmamPhCons,IxmamPhyloP,IxminDistTSE,IxminDistTSS,IxpriPhCons,IxpriPhyloP,Ixprotpos,IxrelcDNApos,IxrelCDSpos,IxrelProtpos,IxverPhCons,IxverPhyloP,IxmutIndex,IxdnaHelT,IxdnaMGW,IxdnaProT,IxdnaRoll,NCxbStatistic,NCxcDNApos,NCxCDSpos,NCxDst2Splice,NCxGerpN,NCxGerpS,NCxmamPhCons,NCxmamPhyloP,NCxminDistTSE,NCxminDistTSS,NCxpriPhCons,NCxpriPhyloP,NCxprotpos,NCxrelcDNApos,NCxrelCDSpos,NCxrelProtpos,NCxverPhCons,NCxverPhyloP,NCxmutIndex,NCxdnaHelT,NCxdnaMGW,NCxdnaProT,NCxdnaRoll,IFxbStatistic,IFxcDNApos,IFxCDSpos,IFxDst2Splice,IFxGerpN,IFxGerpS,IFxmamPhCons,IFxmamPhyloP,IFxminDistTSE,IFxminDistTSS,IFxpriPhCons,IFxpriPhyloP,IFxprotpos,IFxrelcDNApos,IFxrelCDSpos,IFxrelProtpos,IFxverPhCons,IFxverPhyloP,IFxmutIndex,IFxdnaHelT,IFxdnaMGW,IFxdnaProT,IFxdnaRoll,FSxbStatistic,FSxcDNApos,FSxCDSpos,FSxDst2Splice,FSxGerpN,FSxGerpS,FSxmamPhCons,FSxmamPhyloP,FSxminDistTSE,FSxminDistTSS,FSxpriPhCons,FSxpriPhyloP,FSxprotpos,FSxrelcDNApos,FSxrelCDSpos,FSxrelProtpos,FSxverPhCons,FSxverPhyloP,FSxmutIndex,FSxdnaHelT,FSxdnaMGW,FSxdnaProT,FSxdnaRoll,NSxbStatistic,NSxcDNApos,NSxCDSpos,NSxDst2Splice,NSxGerpN,NSxGerpS,NSxmamPhCons,NSxmamPhyloP,NSxminDistTSE,NSxminDistTSS,NSxpriPhCons,NSxpriPhyloP,NSxprotpos,NSxrelcDNApos,NSxrelCDSpos,NSxrelProtpos,NSxverPhCons,NSxverPhyloP,NSxmutIndex,NSxdnaHelT,NSxdnaMGW,NSxdnaProT,NSxdnaRoll,RxbStatistic,RxcDNApos,RxCDSpos,RxDst2Splice,RxGerpN,RxGerpS,RxmamPhCons,RxmamPhyloP,RxminDistTSE,RxminDistTSS,RxpriPhCons,RxpriPhyloP,Rxprotpos,RxrelcDNApos,RxrelCDSpos,RxrelProtpos,RxverPhCons,RxverPhyloP,RxmutIndex,RxdnaHelT,RxdnaMGW,RxdnaProT,RxdnaRoll,CSxbStatistic,CSxcDNApos,CSxCDSpos,CSxDst2Splice,CSxGerpN,CSxGerpS,CSxmamPhCons,CSxmamPhyloP,CSxminDistTSE,CSxminDistTSS,CSxpriPhCons,CSxpriPhyloP,CSxprotpos,CSxrelcDNApos,CSxrelCDSpos,CSxrelProtpos,CSxverPhCons,CSxverPhyloP,CSxmutIndex,CSxdnaHelT,CSxdnaMGW,CSxdnaProT,CSxdnaRoll,SxbStatistic,SxcDNApos,SxCDSpos,SxDst2Splice,SxGerpN,SxGerpS,SxmamPhCons,SxmamPhyloP,SxminDistTSE,SxminDistTSS,SxpriPhCons,SxpriPhyloP,Sxprotpos,SxrelcDNApos,SxrelCDSpos,SxrelProtpos,SxverPhCons,SxverPhyloP,SxmutIndex,SxdnaHelT,SxdnaMGW,SxdnaProT,SxdnaRoll,SGxbStatistic,SGxcDNApos,SGxCDSpos,SGxDst2Splice,SGxGerpN,SGxGerpS,SGxmamPhCons,SGxmamPhyloP,SGxminDistTSE,SGxminDistTSS,SGxpriPhCons,SGxpriPhyloP,SGxprotpos,SGxrelcDNApos,SGxrelCDSpos,SGxrelProtpos,SGxverPhCons,SGxverPhyloP,SGxmutIndex,SGxdnaHelT,SGxdnaMGW,SGxdnaProT,SGxdnaRoll,SLxbStatistic,SLxcDNApos,SLxCDSpos,SLxDst2Splice,SLxGerpN,SLxGerpS,SLxmamPhCons,SLxmamPhyloP,SLxminDistTSE,SLxminDistTSS,SLxpriPhCons,SLxpriPhyloP,SLxprotpos,SLxrelcDNApos,SLxrelCDSpos,SLxrelProtpos,SLxverPhCons,SLxverPhyloP,SLxmutIndex,SLxdnaHelT,SLxdnaMGW,SLxdnaProT,SLxdnaRoll,SNxbStatistic,SNxcDNApos,SNxCDSpos,SNxDst2Splice,SNxGerpN,SNxGerpS,SNxmamPhCons,SNxmamPhyloP,SNxminDistTSE,SNxminDistTSS,SNxpriPhCons,SNxpriPhyloP,SNxprotpos,SNxrelcDNApos,SNxrelCDSpos,SNxrelProtpos,SNxverPhCons,SNxverPhyloP,SNxmutIndex,SNxdnaHelT,SNxdnaMGW,SNxdnaProT,SNxdnaRoll,OxbStatistic,OxcDNApos,OxCDSpos,OxDst2Splice,OxGerpN,OxGerpS,OxmamPhCons,OxmamPhyloP,OxminDistTSE,OxminDistTSS,OxpriPhCons,OxpriPhyloP,Oxprotpos,OxrelcDNApos,OxrelCDSpos,OxrelProtpos,OxverPhCons,OxverPhyloP,OxmutIndex,OxdnaHelT,OxdnaMGW,OxdnaProT,OxdnaRoll,UPxbStatistic,UPxcDNApos,UPxCDSpos,UPxDst2Splice,UPxGerpN,UPxGerpS,UPxmamPhCons,UPxmamPhyloP,UPxminDistTSE,UPxminDistTSS,UPxpriPhCons,UPxpriPhyloP,UPxprotpos,UPxrelcDNApos,UPxrelCDSpos,UPxrelProtpos,UPxverPhCons,UPxverPhyloP,UPxmutIndex,UPxdnaHelT,UPxdnaMGW,UPxdnaProT,UPxdnaRoll,DONORxDst2Splice,IND_DONOR,ACCEPTORxDst2Splice,IND_ACCEPTOR,AxA,AxC,AxG,AxT,AxN,CxA,CxC,CxG,CxT,CxN,GxA,GxC,GxG,GxT,GxN,TxA,TxC,TxG,TxT,TxN,NxA,NxC,NxG,NxT,NxN,*x*,*xA,*xC,*xD,*xE,*xF,*xG,*xH,*xI,*xK,*xL,*xM,*xN,*xP,*xQ,*xR,*xS,*xT,*xV,*xW,*xY,Ax*,AxA,AxC,AxD,AxE,AxF,AxG,AxH,AxI,AxK,AxL,AxM,AxN,AxP,AxQ,AxR,AxS,AxT,AxV,AxW,AxY,Cx*,CxA,CxC,CxD,CxE,CxF,CxG,CxH,CxI,CxK,CxL,CxM,CxN,CxP,CxQ,CxR,CxS,CxT,CxV,CxW,CxY,Dx*,DxA,DxC,DxD,DxE,DxF,DxG,DxH,DxI,DxK,DxL,DxM,DxN,DxP,DxQ,DxR,DxS,DxT,DxV,DxW,DxY,Ex*,ExA,ExC,ExD,ExE,ExF,ExG,ExH,ExI,ExK,ExL,ExM,ExN,ExP,ExQ,ExR,ExS,ExT,ExV,ExW,ExY,Fx*,FxA,FxC,FxD,FxE,FxF,FxG,FxH,FxI,FxK,FxL,FxM,FxN,FxP,FxQ,FxR,FxS,FxT,FxV,FxW,FxY,Gx*,GxA,GxC,GxD,GxE,GxF,GxG,GxH,GxI,GxK,GxL,GxM,GxN,GxP,GxQ,GxR,GxS,GxT,GxV,GxW,GxY,Hx*,HxA,HxC,HxD,HxE,HxF,HxG,HxH,HxI,HxK,HxL,HxM,HxN,HxP,HxQ,HxR,HxS,HxT,HxV,HxW,HxY,Ix*,IxA,IxC,IxD,IxE,IxF,IxG,IxH,IxI,IxK,IxL,IxM,IxN,IxP,IxQ,IxR,IxS,IxT,IxV,IxW,IxY,Kx*,KxA,KxC,KxD,KxE,KxF,KxG,KxH,KxI,KxK,KxL,KxM,KxN,KxP,KxQ,KxR,KxS,KxT,KxV,KxW,KxY,Lx*,LxA,LxC,LxD,LxE,LxF,LxG,LxH,LxI,LxK,LxL,LxM,LxN,LxP,LxQ,LxR,LxS,LxT,LxV,LxW,LxY,Mx*,MxA,MxC,MxD,MxE,MxF,MxG,MxH,MxI,MxK,MxL,MxM,MxN,MxP,MxQ,MxR,MxS,MxT,MxV,MxW,MxY,Nx*,NxA,NxC,NxD,NxE,NxF,NxG,NxH,NxI,NxK,NxL,NxM,NxN,NxP,NxQ,NxR,NxS,NxT,NxV,NxW,NxY,Px*,PxA,PxC,PxD,PxE,PxF,PxG,PxH,PxI,PxK,PxL,PxM,PxN,PxP,PxQ,PxR,PxS,PxT,PxV,PxW,PxY,Qx*,QxA,QxC,QxD,QxE,QxF,QxG,QxH,QxI,QxK,QxL,QxM,QxN,QxP,QxQ,QxR,QxS,QxT,QxV,QxW,QxY,Rx*,RxA,RxC,RxD,RxE,RxF,RxG,RxH,RxI,RxK,RxL,RxM,RxN,RxP,RxQ,RxR,RxS,RxT,RxV,RxW,RxY,Sx*,SxA,SxC,SxD,SxE,SxF,SxG,SxH,SxI,SxK,SxL,SxM,SxN,SxP,SxQ,SxR,SxS,SxT,SxV,SxW,SxY,Tx*,TxA,TxC,TxD,TxE,TxF,TxG,TxH,TxI,TxK,TxL,TxM,TxN,TxP,TxQ,TxR,TxS,TxT,TxV,TxW,TxY,Vx*,VxA,VxC,VxD,VxE,VxF,VxG,VxH,VxI,VxK,VxL,VxM,VxN,VxP,VxQ,VxR,VxS,VxT,VxV,VxW,VxY,Wx*,WxA,WxC,WxD,WxE,WxF,WxG,WxH,WxI,WxK,WxL,WxM,WxN,WxP,WxQ,WxR,WxS,WxT,WxV,WxW,WxY,Yx*,YxA,YxC,YxD,YxE,YxF,YxG,YxH,YxI,YxK,YxL,YxM,YxN,YxP,YxQ,YxR,YxS,YxT,YxV,YxW,YxY\n",
      "\n",
      "Line number: 9652843\n",
      " -1,1,0,0,0,0,0,0,1,0,0,1,0,0,0,0,0,0,0,0,0,1,0,0,0,0,0,0,0,0,0,0,0,0.30,0.01,0.073,0.074,0.097,0.140,0.142,0.152,0.131,0.131,0,0,982,14,-2.72,0.24,2.27,-1.17,0,1,0,0,0,1,0,0,0,0,0.087,0,0,0.024,0.252,0,0,0,0.031,0.102,0.504,0,1.20,2.00,2.00,1.90,5,0,0,0,0,0,0,0,0,0,0,0,0,0,0,0,1,0,0,0,0,0,0,0,0,0,0,0,0,0,0,0,0,0,0,0,0,0,0,0,0,0,0,0,0,0,11.1745,9.9221,71291,0,0.78,0,1,0,0,1,0,0,0,0,0,0,1,0,0,0,1,0,0,0,0,0,0,0,0,0,0,0,0,0,0,0,0,0,0,0,0,0,1,0,0,0,0,0,0,0,0,0,0,0,0,0,0,0,0,0,0,0,0,0,1,0,1,0,0,0,0,1,0,1,0,0,0,1,0,1,0,0,0,0,0,0,0,0,0,0,0,0,0,0,0,0,0,0,0,0,0,0,0,0,0,0,0,0,0,0,0,0,0,0,0,0,0,0,0,0,0,0,0,0,0,0,0,0,0,0,0,0,0,0,0,0,0,0,0,0,0,0,0,0,0,0,0,0,0,0,0,0,0,0,0,0,0,0,0,0,0,0,0,0,0,0,0,0,0,0,0,0,0,0,0,0,0,0,0,0,0,0,0,0,0,0,0,0,0,0,0,0,0,0,0,982,71291,0,0,0.131,0.131,0.074,0.142,9.9221,11.1745,0.073,0.140,0,0.78,0,0,0.097,0.152,14,-2.72,0.24,2.27,-1.17,0,0,0,0,0,0,0,0,0,0,0,0,0,0,0,0,0,0,0,0,0,0,0,0,0,0,0,0,0,0,0,0,0,0,0,0,0,0,0,0,0,0,0,0,0,0,0,0,0,0,0,0,0,0,0,0,0,0,0,0,0,0,0,0,0,0,0,0,0,0,0,0,0,0,0,0,0,0,0,0,0,0,0,0,0,0,0,0,0,0,0,0,0,0,0,0,0,0,0,0,0,0,0,0,0,0,0,0,0,0,0,0,0,0,0,0,0,0,0,0,0,0,0,0,0,0,0,0,0,0,0,0,0,0,0,0,0,0,0,0,0,0,0,0,0,0,0,0,0,0,0,0,0,0,0,0,0,0,0,0,0,0,0,0,0,0,0,0,0,0,0,0,0,0,0,0,0,0,0,0,0,0,0,0,0,0,0,0,0,0,0,0,0,0,0,0,0,0,0,0,0,0,0,0,0,0,0,0,0,0,0,0,0,0,0,0,0,0,0,0,0,0,0,0,0,0,0,0,0,0,0,0,0,0,0,0,0,0,0,0,0,0,0,0,0,0,0,0,0,0,0,0,0,0,1,0,1,0,0,1,0,0,0,0,0,0,0,0,0,0,0,0,0,0,0,0,0,0,0,0,0,0,0,0,0,0,0,0,0,0,0,0,0,0,0,0,0,0,0,0,0,0,0,0,0,0,0,0,0,0,0,0,0,0,0,0,0,0,0,0,0,0,0,0,0,0,0,0,0,0,0,0,0,0,0,0,0,0,0,0,0,0,0,0,0,0,0,0,0,0,0,0,0,0,0,0,0,0,0,0,0,0,0,0,0,0,0,0,0,0,0,0,0,0,0,0,0,0,0,0,0,0,0,0,0,0,0,0,0,0,0,0,0,0,0,0,0,0,0,0,0,0,0,0,0,0,0,0,0,0,0,0,0,0,0,0,0,0,0,0,0,0,0,0,0,0,0,0,0,0,0,0,0,0,0,0,0,0,0,0,0,0,0,0,0,0,0,0,0,0,0,0,0,0,0,0,0,0,0,0,0,0,0,0,0,0,0,0,0,0,0,0,0,0,0,0,0,0,0,0,0,0,0,0,0,0,0,0,0,0,0,0,0,0,0,0,0,0,0,0,0,0,0,0,0,0,0,0,0,0,0,0,0,0,0,0,0,0,0,0,0,0,0,0,0,0,0,0,0,0,0,0,0,0,0,0,0,0,0,0,0,0,0,0,0,0,0,0,0,0,0,0,0,0,0,0,0,0,0,0,0,0,0,0,0,0,0,0,0,0,0,0,0,0,0,0,0,0,0,0,0,0,0,0,0,0,0,0,0,0,0,0,0,0,0,0,0,0,0,0,0,0,0,0,0,0,0,0,0,0,0,0,0,0,0,0,0,0,0,0,0,0,0,0,0,0,0,0,0,0,0,0,0,0,0,0,0,0,0,0,0,0,0,0,0,0,0,0,0,0,0,0,0,0,0,0,0,0,0,0,0,0,0,0,0,0,0,0,0,0,0,0,0,0,0,0,0,0,0,0,0,0,0,0,0,0,0,0,0,0,0,0,0,0,0,0,0,0,0,0,0,0,0,0,0,0,0,0,0,0,0,0,0,0,0,0,0,0,0,0,0,0,0\n",
      " \n",
      "\n"
     ]
    }
   ],
   "source": [
    "inputfile2 = training_data_dir + \"training_data.imputed.csv\"\n",
    "with open(inputfile2, 'r') as f:\n",
    "    counter = 0\n",
    "    for line in f:\n",
    "        if counter == 0: print(line)\n",
    "        if counter == 9652843:\n",
    "            print(\"Line number: \"+str(counter)+\"\\n\",line, \"\\n\")\n",
    "            break\n",
    "        counter += 1\n",
    "-1 1 0 0 0 0 0 0 1 0 0 1 0 0 0 0 0 0 0 0 0 1"
   ]
  },
  {
   "cell_type": "code",
   "execution_count": 64,
   "metadata": {},
   "outputs": [
    {
     "name": "stdout",
     "output_type": "stream",
     "text": [
      "{'inputs': array([1., 0., 0., ..., 0., 0., 0.], dtype=float16), 'targets': -1.0, 'metadata': {'variant_id': \"11:2649934:A:['G']\"}}\n"
     ]
    }
   ],
   "source": [
    "import pyarrow as pa\n",
    "ser = cadd_serialize_string_row(line, variant_id=\"11:2649934:A:['G']\", separator=',')\n",
    "deser = pa.deserialize(ser.to_buffer())\n",
    "print(deser)"
   ]
  },
  {
   "cell_type": "code",
   "execution_count": 68,
   "metadata": {},
   "outputs": [
    {
     "data": {
      "text/plain": [
       "'-1,1,0,0,0,0,0,0,1,0,0,1,0,0,0,0,0,0,0,0,0,1,0,0,0,0,0,0,0,0,0,0,0,0.30,0.01,0.073,0.074,0.097,0.140,0.142,0.152,0.131,0.131,0,0,982,14,-2.72,0.24,2.27,-1.17,0,1,0,0,0,1,0,0,0,0,0.087,0,0,0.024,0.252,0,0,0,0.031,0.102,0.504,0,1.20,2.00,2.00,1.90,5,0,0,0,0,0,0,0,0,0,0,0,0,0,0,0,1,0,0,0,0,0,0,0,0,0,0,0,0,0,0,0,0,0,0,0,0,0,0,0,0,0,0,0,0,0,11.1745,9.9221,71291,0,0.78,0,1,0,0,1,0,0,0,0,0,0,1,0,0,0,1,0,0,0,0,0,0,0,0,0,0,0,0,0,0,0,0,0,0,0,0,0,1,0,0,0,0,0,0,0,0,0,0,0,0,0,0,0,0,0,0,0,0,0,1,0,1,0,0,0,0,1,0,1,0,0,0,1,0,1,0,0,0,0,0,0,0,0,0,0,0,0,0,0,0,0,0,0,0,0,0,0,0,0,0,0,0,0,0,0,0,0,0,0,0,0,0,0,0,0,0,0,0,0,0,0,0,0,0,0,0,0,0,0,0,0,0,0,0,0,0,0,0,0,0,0,0,0,0,0,0,0,0,0,0,0,0,0,0,0,0,0,0,0,0,0,0,0,0,0,0,0,0,0,0,0,0,0,0,0,0,0,0,0,0,0,0,0,0,0,0,0,0,0,0,982,71291,0,0,0.131,0.131,0.074,0.142,9.9221,11.1745,0.073,0.140,0,0.78,0,0,0.097,0.152,14,-2.72,0.24,2.27,-1.17,0,0,0,0,0,0,0,0,0,0,0,0,0,0,0,0,0,0,0,0,0,0,0,0,0,0,0,0,0,0,0,0,0,0,0,0,0,0,0,0,0,0,0,0,0,0,0,0,0,0,0,0,0,0,0,0,0,0,0,0,0,0,0,0,0,0,0,0,0,0,0,0,0,0,0,0,0,0,0,0,0,0,0,0,0,0,0,0,0,0,0,0,0,0,0,0,0,0,0,0,0,0,0,0,0,0,0,0,0,0,0,0,0,0,0,0,0,0,0,0,0,0,0,0,0,0,0,0,0,0,0,0,0,0,0,0,0,0,0,0,0,0,0,0,0,0,0,0,0,0,0,0,0,0,0,0,0,0,0,0,0,0,0,0,0,0,0,0,0,0,0,0,0,0,0,0,0,0,0,0,0,0,0,0,0,0,0,0,0,0,0,0,0,0,0,0,0,0,0,0,0,0,0,0,0,0,0,0,0,0,0,0,0,0,0,0,0,0,0,0,0,0,0,0,0,0,0,0,0,0,0,0,0,0,0,0,0,0,0,0,0,0,0,0,0,0,0,0,0,0,0,0,0,0,1,0,1,0,0,1,0,0,0,0,0,0,0,0,0,0,0,0,0,0,0,0,0,0,0,0,0,0,0,0,0,0,0,0,0,0,0,0,0,0,0,0,0,0,0,0,0,0,0,0,0,0,0,0,0,0,0,0,0,0,0,0,0,0,0,0,0,0,0,0,0,0,0,0,0,0,0,0,0,0,0,0,0,0,0,0,0,0,0,0,0,0,0,0,0,0,0,0,0,0,0,0,0,0,0,0,0,0,0,0,0,0,0,0,0,0,0,0,0,0,0,0,0,0,0,0,0,0,0,0,0,0,0,0,0,0,0,0,0,0,0,0,0,0,0,0,0,0,0,0,0,0,0,0,0,0,0,0,0,0,0,0,0,0,0,0,0,0,0,0,0,0,0,0,0,0,0,0,0,0,0,0,0,0,0,0,0,0,0,0,0,0,0,0,0,0,0,0,0,0,0,0,0,0,0,0,0,0,0,0,0,0,0,0,0,0,0,0,0,0,0,0,0,0,0,0,0,0,0,0,0,0,0,0,0,0,0,0,0,0,0,0,0,0,0,0,0,0,0,0,0,0,0,0,0,0,0,0,0,0,0,0,0,0,0,0,0,0,0,0,0,0,0,0,0,0,0,0,0,0,0,0,0,0,0,0,0,0,0,0,0,0,0,0,0,0,0,0,0,0,0,0,0,0,0,0,0,0,0,0,0,0,0,0,0,0,0,0,0,0,0,0,0,0,0,0,0,0,0,0,0,0,0,0,0,0,0,0,0,0,0,0,0,0,0,0,0,0,0,0,0,0,0,0,0,0,0,0,0,0,0,0,0,0,0,0,0,0,0,0,0,0,0,0,0,0,0,0,0,0,0,0,0,0,0,0,0,0,0,0,0,0,0,0,0,0,0,0,0,0,0,0,0,0,0,0,0,0,0,0,0,0,0,0,0,0,0,0,0,0,0,0,0,0,0,0,0,0,0,0,0,0,0,0,0,0,0,0,0,0,0,0,0,0,0,0,0,0,0,0,0,0,0,0,0,0,0,0,0,0,0,0,0,0,0,0,0,0,0\\n'"
      ]
     },
     "execution_count": 68,
     "metadata": {},
     "output_type": "execute_result"
    }
   ],
   "source": [
    "line"
   ]
  },
  {
   "cell_type": "code",
   "execution_count": 75,
   "metadata": {},
   "outputs": [
    {
     "data": {
      "text/plain": [
       "array(71.3, dtype=float16)"
      ]
     },
     "execution_count": 75,
     "metadata": {},
     "output_type": "execute_result"
    }
   ],
   "source": [
    "np.array(71291/1000, dtype=np.float16)"
   ]
  },
  {
   "cell_type": "code",
   "execution_count": 69,
   "metadata": {},
   "outputs": [
    {
     "data": {
      "text/plain": [
       "array(inf, dtype=float16)"
      ]
     },
     "execution_count": 69,
     "metadata": {},
     "output_type": "execute_result"
    }
   ],
   "source": [
    "np.array(71291, dtype=np.float16)"
   ]
  },
  {
   "cell_type": "code",
   "execution_count": 67,
   "metadata": {},
   "outputs": [
    {
     "data": {
      "text/plain": [
       "inf"
      ]
     },
     "execution_count": 67,
     "metadata": {},
     "output_type": "execute_result"
    }
   ],
   "source": [
    "deser['inputs']"
   ]
  },
  {
   "cell_type": "code",
   "execution_count": 38,
   "metadata": {},
   "outputs": [
    {
     "data": {
      "text/plain": [
       "10"
      ]
     },
     "execution_count": 38,
     "metadata": {},
     "output_type": "execute_result"
    }
   ],
   "source": [
    "b['inputs'][:, 124].argmax()"
   ]
  },
  {
   "cell_type": "code",
   "execution_count": 27,
   "metadata": {},
   "outputs": [
    {
     "data": {
      "text/plain": [
       "inf"
      ]
     },
     "execution_count": 27,
     "metadata": {},
     "output_type": "execute_result"
    }
   ],
   "source": [
    "b['inputs'].max()"
   ]
  },
  {
   "cell_type": "code",
   "execution_count": 65,
   "metadata": {},
   "outputs": [
    {
     "data": {
      "text/plain": [
       "dtype('float16')"
      ]
     },
     "execution_count": 65,
     "metadata": {},
     "output_type": "execute_result"
    }
   ],
   "source": [
    "b['inputs'].dtype"
   ]
  },
  {
   "cell_type": "code",
   "execution_count": 24,
   "metadata": {},
   "outputs": [
    {
     "data": {
      "text/plain": [
       "1.0"
      ]
     },
     "execution_count": 24,
     "metadata": {},
     "output_type": "execute_result"
    }
   ],
   "source": [
    "b['targets'].max()"
   ]
  },
  {
   "cell_type": "code",
   "execution_count": 13,
   "metadata": {},
   "outputs": [
    {
     "data": {
      "text/plain": [
       "2"
      ]
     },
     "execution_count": 13,
     "metadata": {},
     "output_type": "execute_result"
    }
   ],
   "source": [
    "np.isnan(m.get_weights()[0]).sum()"
   ]
  },
  {
   "cell_type": "code",
   "execution_count": 17,
   "metadata": {},
   "outputs": [
    {
     "data": {
      "text/plain": [
       "124"
      ]
     },
     "execution_count": 17,
     "metadata": {},
     "output_type": "execute_result"
    }
   ],
   "source": [
    "np.argmax(np.isnan(m.get_weights()[0]))"
   ]
  },
  {
   "cell_type": "code",
   "execution_count": 19,
   "metadata": {},
   "outputs": [
    {
     "data": {
      "text/plain": [
       "array([0.17442241], dtype=float32)"
      ]
     },
     "execution_count": 19,
     "metadata": {},
     "output_type": "execute_result"
    }
   ],
   "source": [
    "prev_weights[124]"
   ]
  },
  {
   "cell_type": "code",
   "execution_count": 18,
   "metadata": {},
   "outputs": [
    {
     "data": {
      "text/plain": [
       "array([nan], dtype=float32)"
      ]
     },
     "execution_count": 18,
     "metadata": {},
     "output_type": "execute_result"
    }
   ],
   "source": [
    "m.get_weights()[0][124]"
   ]
  },
  {
   "cell_type": "code",
   "execution_count": 12,
   "metadata": {},
   "outputs": [
    {
     "data": {
      "text/plain": [
       "0.17442241"
      ]
     },
     "execution_count": 12,
     "metadata": {},
     "output_type": "execute_result"
    }
   ],
   "source": [
    "prev_weights.max()"
   ]
  },
  {
   "cell_type": "code",
   "execution_count": 11,
   "metadata": {},
   "outputs": [
    {
     "data": {
      "text/plain": [
       "-0.13959962"
      ]
     },
     "execution_count": 11,
     "metadata": {},
     "output_type": "execute_result"
    }
   ],
   "source": [
    "prev_weights.min()"
   ]
  },
  {
   "cell_type": "code",
   "execution_count": 9,
   "metadata": {},
   "outputs": [
    {
     "data": {
      "text/plain": [
       "[array([[ 4.4871857e-03],\n",
       "        [ 5.3848815e-04],\n",
       "        [ 5.0784983e-03],\n",
       "        ...,\n",
       "        [ 2.5191470e-36],\n",
       "        [ 5.3655251e-36],\n",
       "        [-1.6577878e-36]], dtype=float32), array([-0.05025654], dtype=float32)]"
      ]
     },
     "execution_count": 9,
     "metadata": {},
     "output_type": "execute_result"
    }
   ],
   "source": [
    "m.get_weights()"
   ]
  },
  {
   "cell_type": "code",
   "execution_count": 8,
   "metadata": {},
   "outputs": [
    {
     "data": {
      "text/plain": [
       "array([[ 3.8092749e-03],\n",
       "       [ 3.6265361e-03],\n",
       "       [ 3.9158156e-03],\n",
       "       ...,\n",
       "       [-2.5431340e-36],\n",
       "       [ 5.3655251e-36],\n",
       "       [ 9.8438798e-36]], dtype=float32)"
      ]
     },
     "execution_count": 8,
     "metadata": {},
     "output_type": "execute_result"
    },
    {
     "name": "stderr",
     "output_type": "stream",
     "text": [
      "  0%|          | 1894/657057 [00:30<1:44:42, 104.29it/s]"
     ]
    }
   ],
   "source": [
    "prev_weights"
   ]
  },
  {
   "cell_type": "code",
   "execution_count": 8,
   "metadata": {},
   "outputs": [
    {
     "data": {
      "text/plain": [
       "array([[0., 0., 1., ..., 0., 0., 0.],\n",
       "       [0., 1., 0., ..., 0., 0., 0.],\n",
       "       [1., 0., 0., ..., 0., 0., 0.],\n",
       "       ...,\n",
       "       [0., 1., 0., ..., 0., 0., 0.],\n",
       "       [0., 0., 1., ..., 0., 0., 0.],\n",
       "       [0., 0., 1., ..., 0., 0., 0.]], dtype=float16)"
      ]
     },
     "execution_count": 8,
     "metadata": {},
     "output_type": "execute_result"
    },
    {
     "name": "stderr",
     "output_type": "stream",
     "text": [
      "  0%|          | 1885/657057 [00:30<1:14:30, 146.56it/s]"
     ]
    }
   ],
   "source": [
    "b['inputs']"
   ]
  },
  {
   "cell_type": "code",
   "execution_count": 62,
   "metadata": {},
   "outputs": [
    {
     "data": {
      "text/plain": [
       "(32,)"
      ]
     },
     "execution_count": 62,
     "metadata": {},
     "output_type": "execute_result"
    }
   ],
   "source": [
    "b['targets'].shape"
   ]
  },
  {
   "cell_type": "code",
   "execution_count": 63,
   "metadata": {},
   "outputs": [
    {
     "data": {
      "text/plain": [
       "array([0., 0., 1., 1., 1., 0., 1., 0., 0., 1., 1., 0., 0., 1., 1., 0., 0.,\n",
       "       1., 1., 1., 0., 1., 0., 0., 1., 1., 1., 0., 0., 0., 0., 1.])"
      ]
     },
     "execution_count": 63,
     "metadata": {},
     "output_type": "execute_result"
    }
   ],
   "source": [
    "b['targets']"
   ]
  },
  {
   "cell_type": "code",
   "execution_count": 67,
   "metadata": {},
   "outputs": [],
   "source": [
    "import numpy as np"
   ]
  },
  {
   "cell_type": "code",
   "execution_count": 68,
   "metadata": {},
   "outputs": [
    {
     "data": {
      "text/plain": [
       "False"
      ]
     },
     "execution_count": 68,
     "metadata": {},
     "output_type": "execute_result"
    }
   ],
   "source": [
    "np.any(b['inputs'] == np.nan)"
   ]
  },
  {
   "cell_type": "code",
   "execution_count": 64,
   "metadata": {},
   "outputs": [
    {
     "data": {
      "text/plain": [
       "(32, 1063)"
      ]
     },
     "execution_count": 64,
     "metadata": {},
     "output_type": "execute_result"
    }
   ],
   "source": [
    "b['inputs'].shape"
   ]
  },
  {
   "cell_type": "code",
   "execution_count": 78,
   "metadata": {},
   "outputs": [],
   "source": [
    "it = ds2.batch_train_iter()"
   ]
  },
  {
   "cell_type": "code",
   "execution_count": 79,
   "metadata": {},
   "outputs": [
    {
     "data": {
      "text/plain": [
       "(array([[0., 0., 0., ..., 0., 0., 0.],\n",
       "        [0., 0., 0., ..., 0., 0., 0.],\n",
       "        [1., 0., 0., ..., 0., 0., 0.],\n",
       "        ...,\n",
       "        [1., 0., 0., ..., 0., 0., 0.],\n",
       "        [0., 0., 1., ..., 0., 0., 0.],\n",
       "        [0., 1., 0., ..., 0., 0., 0.]], dtype=float16),\n",
       " array([0., 1., 0., 0., 0., 0., 1., 0., 0., 0., 0., 1., 0., 1., 0., 0., 0.,\n",
       "        1., 0., 0., 1., 1., 0., 0., 1., 1., 1., 0., 0., 1., 0., 1.]))"
      ]
     },
     "execution_count": 79,
     "metadata": {},
     "output_type": "execute_result"
    }
   ],
   "source": [
    "next(it)"
   ]
  },
  {
   "cell_type": "code",
   "execution_count": 81,
   "metadata": {},
   "outputs": [
    {
     "data": {
      "text/plain": [
       "[array([[nan],\n",
       "        [nan],\n",
       "        [nan],\n",
       "        ...,\n",
       "        [nan],\n",
       "        [nan],\n",
       "        [nan]], dtype=float32), array([nan], dtype=float32)]"
      ]
     },
     "execution_count": 81,
     "metadata": {},
     "output_type": "execute_result"
    }
   ],
   "source": [
    "m.get_weights()"
   ]
  },
  {
   "cell_type": "code",
   "execution_count": 82,
   "metadata": {},
   "outputs": [
    {
     "data": {
      "text/plain": [
       "(array([[1., 0., 0., ..., 0., 0., 0.],\n",
       "        [0., 0., 1., ..., 0., 0., 0.],\n",
       "        [0., 1., 0., ..., 0., 0., 0.],\n",
       "        ...,\n",
       "        [0., 0., 0., ..., 0., 0., 0.],\n",
       "        [0., 1., 0., ..., 0., 0., 0.],\n",
       "        [1., 0., 0., ..., 0., 0., 0.]], dtype=float16),\n",
       " array([1., 1., 0., 0., 1., 0., 1., 0., 0., 1., 1., 1., 1., 0., 0., 1., 1.,\n",
       "        0., 0., 0., 1., 0., 1., 0., 1., 0., 0., 0., 1., 1., 0., 0.]))"
      ]
     },
     "execution_count": 82,
     "metadata": {},
     "output_type": "execute_result"
    }
   ],
   "source": [
    "next(it)"
   ]
  },
  {
   "cell_type": "code",
   "execution_count": null,
   "metadata": {},
   "outputs": [],
   "source": []
  },
  {
   "cell_type": "code",
   "execution_count": 93,
   "metadata": {},
   "outputs": [
    {
     "data": {
      "text/plain": [
       "True"
      ]
     },
     "execution_count": 93,
     "metadata": {},
     "output_type": "execute_result"
    }
   ],
   "source": [
    "np.isnan(m.get_weights()[0][0][0])"
   ]
  },
  {
   "cell_type": "code",
   "execution_count": 84,
   "metadata": {},
   "outputs": [
    {
     "data": {
      "text/plain": [
       "False"
      ]
     },
     "execution_count": 84,
     "metadata": {},
     "output_type": "execute_result"
    }
   ],
   "source": [
    "np.any(m.get_weights()[0] == np.nan)"
   ]
  },
  {
   "cell_type": "code",
   "execution_count": null,
   "metadata": {},
   "outputs": [],
   "source": [
    "for x,y in it:\n",
    "    "
   ]
  },
  {
   "cell_type": "code",
   "execution_count": 80,
   "metadata": {},
   "outputs": [
    {
     "name": "stdout",
     "output_type": "stream",
     "text": [
      "Epoch 1/1\n",
      "  2379/657057 [..............................] - ETA: 1:17:53 - loss: nan - acc: 0.4028"
     ]
    },
    {
     "ename": "KeyboardInterrupt",
     "evalue": "",
     "output_type": "error",
     "traceback": [
      "\u001b[0;31m---------------------------------------------------------------------------\u001b[0m",
      "\u001b[0;31mKeyboardInterrupt\u001b[0m                         Traceback (most recent call last)",
      "\u001b[0;32m<ipython-input-80-44d37f10e2fc>\u001b[0m in \u001b[0;36m<module>\u001b[0;34m\u001b[0m\n\u001b[0;32m----> 1\u001b[0;31m \u001b[0mm\u001b[0m\u001b[0;34m.\u001b[0m\u001b[0mfit_generator\u001b[0m\u001b[0;34m(\u001b[0m\u001b[0mit\u001b[0m\u001b[0;34m,\u001b[0m \u001b[0msteps_per_epoch\u001b[0m\u001b[0;34m=\u001b[0m\u001b[0mlen\u001b[0m\u001b[0;34m(\u001b[0m\u001b[0mds2\u001b[0m\u001b[0;34m)\u001b[0m\u001b[0;34m//\u001b[0m\u001b[0;36m32\u001b[0m\u001b[0;34m,\u001b[0m \u001b[0mepochs\u001b[0m\u001b[0;34m=\u001b[0m\u001b[0;36m1\u001b[0m\u001b[0;34m)\u001b[0m\u001b[0;34m\u001b[0m\u001b[0;34m\u001b[0m\u001b[0m\n\u001b[0m",
      "\u001b[0;32m/opt/modules/i12g/anaconda/3-5.0.1/envs/kipoi-cadd2/lib/python3.6/site-packages/comet_ml/monkey_patching.py\u001b[0m in \u001b[0;36mwrapper\u001b[0;34m(*args, **kwargs)\u001b[0m\n\u001b[1;32m    241\u001b[0m                     )\n\u001b[1;32m    242\u001b[0m \u001b[0;34m\u001b[0m\u001b[0m\n\u001b[0;32m--> 243\u001b[0;31m         \u001b[0mreturn_value\u001b[0m \u001b[0;34m=\u001b[0m \u001b[0moriginal\u001b[0m\u001b[0;34m(\u001b[0m\u001b[0;34m*\u001b[0m\u001b[0margs\u001b[0m\u001b[0;34m,\u001b[0m \u001b[0;34m**\u001b[0m\u001b[0mkwargs\u001b[0m\u001b[0;34m)\u001b[0m\u001b[0;34m\u001b[0m\u001b[0;34m\u001b[0m\u001b[0m\n\u001b[0m\u001b[1;32m    244\u001b[0m \u001b[0;34m\u001b[0m\u001b[0m\n\u001b[1;32m    245\u001b[0m         \u001b[0;31m# Call after callbacks once we have the return value\u001b[0m\u001b[0;34m\u001b[0m\u001b[0;34m\u001b[0m\u001b[0;34m\u001b[0m\u001b[0m\n",
      "\u001b[0;32m/opt/modules/i12g/anaconda/3-5.0.1/envs/kipoi-cadd2/lib/python3.6/site-packages/keras/legacy/interfaces.py\u001b[0m in \u001b[0;36mwrapper\u001b[0;34m(*args, **kwargs)\u001b[0m\n\u001b[1;32m     89\u001b[0m                 warnings.warn('Update your `' + object_name + '` call to the ' +\n\u001b[1;32m     90\u001b[0m                               'Keras 2 API: ' + signature, stacklevel=2)\n\u001b[0;32m---> 91\u001b[0;31m             \u001b[0;32mreturn\u001b[0m \u001b[0mfunc\u001b[0m\u001b[0;34m(\u001b[0m\u001b[0;34m*\u001b[0m\u001b[0margs\u001b[0m\u001b[0;34m,\u001b[0m \u001b[0;34m**\u001b[0m\u001b[0mkwargs\u001b[0m\u001b[0;34m)\u001b[0m\u001b[0;34m\u001b[0m\u001b[0;34m\u001b[0m\u001b[0m\n\u001b[0m\u001b[1;32m     92\u001b[0m         \u001b[0mwrapper\u001b[0m\u001b[0;34m.\u001b[0m\u001b[0m_original_function\u001b[0m \u001b[0;34m=\u001b[0m \u001b[0mfunc\u001b[0m\u001b[0;34m\u001b[0m\u001b[0;34m\u001b[0m\u001b[0m\n\u001b[1;32m     93\u001b[0m         \u001b[0;32mreturn\u001b[0m \u001b[0mwrapper\u001b[0m\u001b[0;34m\u001b[0m\u001b[0;34m\u001b[0m\u001b[0m\n",
      "\u001b[0;32m/opt/modules/i12g/anaconda/3-5.0.1/envs/kipoi-cadd2/lib/python3.6/site-packages/keras/engine/training.py\u001b[0m in \u001b[0;36mfit_generator\u001b[0;34m(self, generator, steps_per_epoch, epochs, verbose, callbacks, validation_data, validation_steps, class_weight, max_queue_size, workers, use_multiprocessing, shuffle, initial_epoch)\u001b[0m\n\u001b[1;32m   1416\u001b[0m             \u001b[0muse_multiprocessing\u001b[0m\u001b[0;34m=\u001b[0m\u001b[0muse_multiprocessing\u001b[0m\u001b[0;34m,\u001b[0m\u001b[0;34m\u001b[0m\u001b[0;34m\u001b[0m\u001b[0m\n\u001b[1;32m   1417\u001b[0m             \u001b[0mshuffle\u001b[0m\u001b[0;34m=\u001b[0m\u001b[0mshuffle\u001b[0m\u001b[0;34m,\u001b[0m\u001b[0;34m\u001b[0m\u001b[0;34m\u001b[0m\u001b[0m\n\u001b[0;32m-> 1418\u001b[0;31m             initial_epoch=initial_epoch)\n\u001b[0m\u001b[1;32m   1419\u001b[0m \u001b[0;34m\u001b[0m\u001b[0m\n\u001b[1;32m   1420\u001b[0m     \u001b[0;34m@\u001b[0m\u001b[0minterfaces\u001b[0m\u001b[0;34m.\u001b[0m\u001b[0mlegacy_generator_methods_support\u001b[0m\u001b[0;34m\u001b[0m\u001b[0;34m\u001b[0m\u001b[0m\n",
      "\u001b[0;32m/opt/modules/i12g/anaconda/3-5.0.1/envs/kipoi-cadd2/lib/python3.6/site-packages/keras/engine/training_generator.py\u001b[0m in \u001b[0;36mfit_generator\u001b[0;34m(model, generator, steps_per_epoch, epochs, verbose, callbacks, validation_data, validation_steps, class_weight, max_queue_size, workers, use_multiprocessing, shuffle, initial_epoch)\u001b[0m\n\u001b[1;32m    179\u001b[0m             \u001b[0mbatch_index\u001b[0m \u001b[0;34m=\u001b[0m \u001b[0;36m0\u001b[0m\u001b[0;34m\u001b[0m\u001b[0;34m\u001b[0m\u001b[0m\n\u001b[1;32m    180\u001b[0m             \u001b[0;32mwhile\u001b[0m \u001b[0msteps_done\u001b[0m \u001b[0;34m<\u001b[0m \u001b[0msteps_per_epoch\u001b[0m\u001b[0;34m:\u001b[0m\u001b[0;34m\u001b[0m\u001b[0;34m\u001b[0m\u001b[0m\n\u001b[0;32m--> 181\u001b[0;31m                 \u001b[0mgenerator_output\u001b[0m \u001b[0;34m=\u001b[0m \u001b[0mnext\u001b[0m\u001b[0;34m(\u001b[0m\u001b[0moutput_generator\u001b[0m\u001b[0;34m)\u001b[0m\u001b[0;34m\u001b[0m\u001b[0;34m\u001b[0m\u001b[0m\n\u001b[0m\u001b[1;32m    182\u001b[0m \u001b[0;34m\u001b[0m\u001b[0m\n\u001b[1;32m    183\u001b[0m                 \u001b[0;32mif\u001b[0m \u001b[0;32mnot\u001b[0m \u001b[0mhasattr\u001b[0m\u001b[0;34m(\u001b[0m\u001b[0mgenerator_output\u001b[0m\u001b[0;34m,\u001b[0m \u001b[0;34m'__len__'\u001b[0m\u001b[0;34m)\u001b[0m\u001b[0;34m:\u001b[0m\u001b[0;34m\u001b[0m\u001b[0;34m\u001b[0m\u001b[0m\n",
      "\u001b[0;32m/opt/modules/i12g/anaconda/3-5.0.1/envs/kipoi-cadd2/lib/python3.6/site-packages/keras/utils/data_utils.py\u001b[0m in \u001b[0;36mget\u001b[0;34m(self)\u001b[0m\n\u001b[1;32m    683\u001b[0m         \u001b[0;32mtry\u001b[0m\u001b[0;34m:\u001b[0m\u001b[0;34m\u001b[0m\u001b[0;34m\u001b[0m\u001b[0m\n\u001b[1;32m    684\u001b[0m             \u001b[0;32mwhile\u001b[0m \u001b[0mself\u001b[0m\u001b[0;34m.\u001b[0m\u001b[0mis_running\u001b[0m\u001b[0;34m(\u001b[0m\u001b[0;34m)\u001b[0m\u001b[0;34m:\u001b[0m\u001b[0;34m\u001b[0m\u001b[0;34m\u001b[0m\u001b[0m\n\u001b[0;32m--> 685\u001b[0;31m                 \u001b[0minputs\u001b[0m \u001b[0;34m=\u001b[0m \u001b[0mself\u001b[0m\u001b[0;34m.\u001b[0m\u001b[0mqueue\u001b[0m\u001b[0;34m.\u001b[0m\u001b[0mget\u001b[0m\u001b[0;34m(\u001b[0m\u001b[0mblock\u001b[0m\u001b[0;34m=\u001b[0m\u001b[0;32mTrue\u001b[0m\u001b[0;34m)\u001b[0m\u001b[0;34m.\u001b[0m\u001b[0mget\u001b[0m\u001b[0;34m(\u001b[0m\u001b[0;34m)\u001b[0m\u001b[0;34m\u001b[0m\u001b[0;34m\u001b[0m\u001b[0m\n\u001b[0m\u001b[1;32m    686\u001b[0m                 \u001b[0mself\u001b[0m\u001b[0;34m.\u001b[0m\u001b[0mqueue\u001b[0m\u001b[0;34m.\u001b[0m\u001b[0mtask_done\u001b[0m\u001b[0;34m(\u001b[0m\u001b[0;34m)\u001b[0m\u001b[0;34m\u001b[0m\u001b[0;34m\u001b[0m\u001b[0m\n\u001b[1;32m    687\u001b[0m                 \u001b[0;32mif\u001b[0m \u001b[0minputs\u001b[0m \u001b[0;32mis\u001b[0m \u001b[0;32mnot\u001b[0m \u001b[0;32mNone\u001b[0m\u001b[0;34m:\u001b[0m\u001b[0;34m\u001b[0m\u001b[0;34m\u001b[0m\u001b[0m\n",
      "\u001b[0;32m/opt/modules/i12g/anaconda/3-5.0.1/envs/kipoi-cadd2/lib/python3.6/multiprocessing/pool.py\u001b[0m in \u001b[0;36mget\u001b[0;34m(self, timeout)\u001b[0m\n\u001b[1;32m    662\u001b[0m \u001b[0;34m\u001b[0m\u001b[0m\n\u001b[1;32m    663\u001b[0m     \u001b[0;32mdef\u001b[0m \u001b[0mget\u001b[0m\u001b[0;34m(\u001b[0m\u001b[0mself\u001b[0m\u001b[0;34m,\u001b[0m \u001b[0mtimeout\u001b[0m\u001b[0;34m=\u001b[0m\u001b[0;32mNone\u001b[0m\u001b[0;34m)\u001b[0m\u001b[0;34m:\u001b[0m\u001b[0;34m\u001b[0m\u001b[0;34m\u001b[0m\u001b[0m\n\u001b[0;32m--> 664\u001b[0;31m         \u001b[0mself\u001b[0m\u001b[0;34m.\u001b[0m\u001b[0mwait\u001b[0m\u001b[0;34m(\u001b[0m\u001b[0mtimeout\u001b[0m\u001b[0;34m)\u001b[0m\u001b[0;34m\u001b[0m\u001b[0;34m\u001b[0m\u001b[0m\n\u001b[0m\u001b[1;32m    665\u001b[0m         \u001b[0;32mif\u001b[0m \u001b[0;32mnot\u001b[0m \u001b[0mself\u001b[0m\u001b[0;34m.\u001b[0m\u001b[0mready\u001b[0m\u001b[0;34m(\u001b[0m\u001b[0;34m)\u001b[0m\u001b[0;34m:\u001b[0m\u001b[0;34m\u001b[0m\u001b[0;34m\u001b[0m\u001b[0m\n\u001b[1;32m    666\u001b[0m             \u001b[0;32mraise\u001b[0m \u001b[0mTimeoutError\u001b[0m\u001b[0;34m\u001b[0m\u001b[0;34m\u001b[0m\u001b[0m\n",
      "\u001b[0;32m/opt/modules/i12g/anaconda/3-5.0.1/envs/kipoi-cadd2/lib/python3.6/multiprocessing/pool.py\u001b[0m in \u001b[0;36mwait\u001b[0;34m(self, timeout)\u001b[0m\n\u001b[1;32m    659\u001b[0m \u001b[0;34m\u001b[0m\u001b[0m\n\u001b[1;32m    660\u001b[0m     \u001b[0;32mdef\u001b[0m \u001b[0mwait\u001b[0m\u001b[0;34m(\u001b[0m\u001b[0mself\u001b[0m\u001b[0;34m,\u001b[0m \u001b[0mtimeout\u001b[0m\u001b[0;34m=\u001b[0m\u001b[0;32mNone\u001b[0m\u001b[0;34m)\u001b[0m\u001b[0;34m:\u001b[0m\u001b[0;34m\u001b[0m\u001b[0;34m\u001b[0m\u001b[0m\n\u001b[0;32m--> 661\u001b[0;31m         \u001b[0mself\u001b[0m\u001b[0;34m.\u001b[0m\u001b[0m_event\u001b[0m\u001b[0;34m.\u001b[0m\u001b[0mwait\u001b[0m\u001b[0;34m(\u001b[0m\u001b[0mtimeout\u001b[0m\u001b[0;34m)\u001b[0m\u001b[0;34m\u001b[0m\u001b[0;34m\u001b[0m\u001b[0m\n\u001b[0m\u001b[1;32m    662\u001b[0m \u001b[0;34m\u001b[0m\u001b[0m\n\u001b[1;32m    663\u001b[0m     \u001b[0;32mdef\u001b[0m \u001b[0mget\u001b[0m\u001b[0;34m(\u001b[0m\u001b[0mself\u001b[0m\u001b[0;34m,\u001b[0m \u001b[0mtimeout\u001b[0m\u001b[0;34m=\u001b[0m\u001b[0;32mNone\u001b[0m\u001b[0;34m)\u001b[0m\u001b[0;34m:\u001b[0m\u001b[0;34m\u001b[0m\u001b[0;34m\u001b[0m\u001b[0m\n",
      "\u001b[0;32m/opt/modules/i12g/anaconda/3-5.0.1/envs/kipoi-cadd2/lib/python3.6/threading.py\u001b[0m in \u001b[0;36mwait\u001b[0;34m(self, timeout)\u001b[0m\n\u001b[1;32m    549\u001b[0m             \u001b[0msignaled\u001b[0m \u001b[0;34m=\u001b[0m \u001b[0mself\u001b[0m\u001b[0;34m.\u001b[0m\u001b[0m_flag\u001b[0m\u001b[0;34m\u001b[0m\u001b[0;34m\u001b[0m\u001b[0m\n\u001b[1;32m    550\u001b[0m             \u001b[0;32mif\u001b[0m \u001b[0;32mnot\u001b[0m \u001b[0msignaled\u001b[0m\u001b[0;34m:\u001b[0m\u001b[0;34m\u001b[0m\u001b[0;34m\u001b[0m\u001b[0m\n\u001b[0;32m--> 551\u001b[0;31m                 \u001b[0msignaled\u001b[0m \u001b[0;34m=\u001b[0m \u001b[0mself\u001b[0m\u001b[0;34m.\u001b[0m\u001b[0m_cond\u001b[0m\u001b[0;34m.\u001b[0m\u001b[0mwait\u001b[0m\u001b[0;34m(\u001b[0m\u001b[0mtimeout\u001b[0m\u001b[0;34m)\u001b[0m\u001b[0;34m\u001b[0m\u001b[0;34m\u001b[0m\u001b[0m\n\u001b[0m\u001b[1;32m    552\u001b[0m             \u001b[0;32mreturn\u001b[0m \u001b[0msignaled\u001b[0m\u001b[0;34m\u001b[0m\u001b[0;34m\u001b[0m\u001b[0m\n\u001b[1;32m    553\u001b[0m \u001b[0;34m\u001b[0m\u001b[0m\n",
      "\u001b[0;32m/opt/modules/i12g/anaconda/3-5.0.1/envs/kipoi-cadd2/lib/python3.6/threading.py\u001b[0m in \u001b[0;36mwait\u001b[0;34m(self, timeout)\u001b[0m\n\u001b[1;32m    293\u001b[0m         \u001b[0;32mtry\u001b[0m\u001b[0;34m:\u001b[0m    \u001b[0;31m# restore state no matter what (e.g., KeyboardInterrupt)\u001b[0m\u001b[0;34m\u001b[0m\u001b[0;34m\u001b[0m\u001b[0m\n\u001b[1;32m    294\u001b[0m             \u001b[0;32mif\u001b[0m \u001b[0mtimeout\u001b[0m \u001b[0;32mis\u001b[0m \u001b[0;32mNone\u001b[0m\u001b[0;34m:\u001b[0m\u001b[0;34m\u001b[0m\u001b[0;34m\u001b[0m\u001b[0m\n\u001b[0;32m--> 295\u001b[0;31m                 \u001b[0mwaiter\u001b[0m\u001b[0;34m.\u001b[0m\u001b[0macquire\u001b[0m\u001b[0;34m(\u001b[0m\u001b[0;34m)\u001b[0m\u001b[0;34m\u001b[0m\u001b[0;34m\u001b[0m\u001b[0m\n\u001b[0m\u001b[1;32m    296\u001b[0m                 \u001b[0mgotit\u001b[0m \u001b[0;34m=\u001b[0m \u001b[0;32mTrue\u001b[0m\u001b[0;34m\u001b[0m\u001b[0;34m\u001b[0m\u001b[0m\n\u001b[1;32m    297\u001b[0m             \u001b[0;32melse\u001b[0m\u001b[0;34m:\u001b[0m\u001b[0;34m\u001b[0m\u001b[0;34m\u001b[0m\u001b[0m\n",
      "\u001b[0;31mKeyboardInterrupt\u001b[0m: "
     ]
    }
   ],
   "source": [
    "m.fit_generator(it, steps_per_epoch=len(ds2)//32, epochs=1)"
   ]
  },
  {
   "cell_type": "code",
   "execution_count": null,
   "metadata": {},
   "outputs": [],
   "source": [
    "%%time\n",
    "lmdb_cadd = lmdb.Environment(lmdb_dir, map_size=800000000, lock=False)\n",
    "txn = lmdb_cadd.begin(write=False, buffers=True)\n",
    "\n",
    "variant_id = variant_ids[idx]\n",
    "buf = bytes(self.txn.get(variant_id.encode('ascii')))"
   ]
  },
  {
   "cell_type": "code",
   "execution_count": null,
   "metadata": {},
   "outputs": [],
   "source": [
    "%%time\n",
    "ds2 = CaddDataset(lmdb_dir, train_idx_path)\n",
    "dv2 = CaddDataset(lmdb_dir, valid_idx_path)\n",
    "tr2 = KerasTrainer(logistic_regression_keras(n_features=1063), dt2, dv2, get_data_dir() + \"/models/try10\")\n",
    "tr2.train(batch_size=512, epochs=10, num_wo"
   ]
  },
  {
   "cell_type": "code",
   "execution_count": null,
   "metadata": {},
   "outputs": [],
   "source": []
  }
 ],
 "metadata": {
  "kernelspec": {
   "display_name": "Python [conda env:kipoi-cadd2]",
   "language": "python",
   "name": "conda-env-kipoi-cadd2-py"
  },
  "language_info": {
   "codemirror_mode": {
    "name": "ipython",
    "version": 3
   },
   "file_extension": ".py",
   "mimetype": "text/x-python",
   "name": "python",
   "nbconvert_exporter": "python",
   "pygments_lexer": "ipython3",
   "version": "3.6.7"
  }
 },
 "nbformat": 4,
 "nbformat_minor": 2
}
