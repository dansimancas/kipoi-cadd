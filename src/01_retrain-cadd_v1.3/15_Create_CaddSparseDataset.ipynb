{
 "cells": [
  {
   "cell_type": "code",
   "execution_count": 2,
   "metadata": {},
   "outputs": [
    {
     "name": "stdout",
     "output_type": "stream",
     "text": [
      "The line_profiler extension is already loaded. To reload it, use:\n",
      "  %reload_ext line_profiler\n"
     ]
    }
   ],
   "source": [
    "from kipoi_cadd.data_utils import load_csv_to_sparse_matrix\n",
    "from kipoi_cadd.data import cadd_train_valid_data, train_test_split_indexes, CaddDataset, sparse_cadd_dataset, load_sparse_indexed_matrix\n",
    "from kipoi_cadd.utils import dump_to_pickle, load_pickle\n",
    "import pandas as pd\n",
    "import time\n",
    "from tqdm import tqdm, trange\n",
    "from sklearn.model_selection import train_test_split\n",
    "from kipoi_cadd.utils import get_dtypes_info\n",
    "import numpy as np\n",
    "from kipoi.data_utils import numpy_collate_concat\n",
    "from scipy.sparse import csr_matrix, save_npz, load_npz\n",
    "%load_ext line_profiler"
   ]
  },
  {
   "cell_type": "code",
   "execution_count": 3,
   "metadata": {},
   "outputs": [],
   "source": [
    "raw_training_dir = \"/s/project/kipoi-cadd/data/raw/v1.3/training_data/\"\n",
    "pro_training_dir = \"/s/project/kipoi-cadd/data/processed/v1.3/training_data/\"\n",
    "lmdb_dir = raw_training_dir + \"lmdb\"\n",
    "csv_file = raw_training_dir + \"training_data.imputed.csv\"\n",
    "csv_file_index = pro_training_dir + \"training_data.imputed.index.csv\"\n",
    "valid_id_file = raw_training_dir + \"valid_idx.pkl\"\n",
    "all_ids_file = raw_training_dir + \"variant_ids.pkl\"\n",
    "ids_10k_file = raw_training_dir + \"sample_indices/ids_10k.pkl\"\n",
    "std_scaler_file = raw_training_dir + \"stats/standard_scaler_first10k.pkl\"\n",
    "short_csv = raw_training_dir + \"shuffled_10k.csv\"\n",
    "short_csv_index = pro_training_dir + \"shuffled_10k.index.csv\"\n",
    "sparse_all = raw_training_dir +  \"sparse_all.npz\"\n",
    "sparse_short_index = raw_training_dir +  \"sparse_short_indexed.npz\"\n",
    "sparse_short = raw_training_dir +  \"sparse_short.npz\""
   ]
  },
  {
   "cell_type": "markdown",
   "metadata": {},
   "source": [
    "## We need to make sure we know the order of the variants"
   ]
  },
  {
   "cell_type": "code",
   "execution_count": 64,
   "metadata": {},
   "outputs": [],
   "source": [
    "def load_csv_to_sparse_matrix(csv_file, targets_col=0, blocksize=10E6, final_type=np.float32):\n",
    "    import dask.dataframe as ddf\n",
    "    from scipy.sparse import csr_matrix\n",
    "    from dask.diagnostics import ProgressBar\n",
    "    \n",
    "    print(\"Started dask task.\")\n",
    "    df_dask = ddf.read_csv(csv_file, blocksize=blocksize, assume_missing=True)\n",
    "    df_dask = df_dask.map_partitions(lambda part: part.to_sparse(fill_value=0))\n",
    "    \n",
    "    with ProgressBar():\n",
    "        df_dask = df_dask.compute().reset_index(drop=True)\n",
    "    \n",
    "    print(\"Finished dask task.\")\n",
    "    csr = csr_matrix(df_dask, dtype=final_type, copy=True)\n",
    "    print(\"Finished transforming to csr_matrix.\")\n",
    "    \n",
    "    del df_dask\n",
    "    \n",
    "    print(\"Changing -1 in the targets...\")\n",
    "    y_array = csr[:, targets_row].toarray()\n",
    "    y_array[y_array==-1] = 0\n",
    "    new_y = csr_matrix(y_array)\n",
    "    csr[:, targets_row] = new_y\n",
    "    print(\"Done.\")\n",
    "    \n",
    "    return csr"
   ]
  },
  {
   "cell_type": "code",
   "execution_count": 74,
   "metadata": {},
   "outputs": [],
   "source": [
    "test = pd.read_csv(short_csv_index, index_col=0)"
   ]
  },
  {
   "cell_type": "code",
   "execution_count": 7,
   "metadata": {},
   "outputs": [
    {
     "name": "stdout",
     "output_type": "stream",
     "text": [
      "46145182\n"
     ]
    },
    {
     "data": {
      "text/plain": [
       "461451.82"
      ]
     },
     "execution_count": 7,
     "metadata": {},
     "output_type": "execute_result"
    }
   ],
   "source": [
    "import os\n",
    "sz = os.path.getsize(short_csv_index)\n",
    "print(sz)\n",
    "sz/100"
   ]
  },
  {
   "cell_type": "code",
   "execution_count": 57,
   "metadata": {},
   "outputs": [
    {
     "data": {
      "text/plain": [
       "10000000.0"
      ]
     },
     "execution_count": 57,
     "metadata": {},
     "output_type": "execute_result"
    }
   ],
   "source": [
    "10E6"
   ]
  },
  {
   "cell_type": "code",
   "execution_count": 3,
   "metadata": {},
   "outputs": [],
   "source": [
    "# csr = load_csv_to_sparse_matrix(short_csv_index, targets_col=1)\n",
    "# save_npz(sparse_short_index, csr)\n",
    "csr = load_npz(sparse_short_index)"
   ]
  },
  {
   "cell_type": "code",
   "execution_count": 75,
   "metadata": {},
   "outputs": [
    {
     "data": {
      "text/plain": [
       "array([ True])"
      ]
     },
     "execution_count": 75,
     "metadata": {},
     "output_type": "execute_result"
    }
   ],
   "source": [
    "trues = []\n",
    "for i in range(100):\n",
    "    trues.append(np.unique(csr[i,1:].toarray() == test.loc[i,:].values))\n",
    "np.unique(trues)"
   ]
  },
  {
   "cell_type": "markdown",
   "metadata": {},
   "source": [
    "### Now we test with the big file"
   ]
  },
  {
   "cell_type": "code",
   "execution_count": 36,
   "metadata": {},
   "outputs": [],
   "source": [
    "csr_all = load_npz(sparse_all)\n",
    "csv_all = pd.read_csv(csv_file_index, nrows=1000, index_col=0)"
   ]
  },
  {
   "cell_type": "code",
   "execution_count": 54,
   "metadata": {},
   "outputs": [
    {
     "data": {
      "text/plain": [
       "(1063,)"
      ]
     },
     "execution_count": 54,
     "metadata": {},
     "output_type": "execute_result"
    }
   ],
   "source": [
    "csr_all[i,1:].toarray().ravel().shape\n",
    "csv_all.iloc[1,1:].values.shape"
   ]
  },
  {
   "cell_type": "code",
   "execution_count": 76,
   "metadata": {},
   "outputs": [
    {
     "data": {
      "text/plain": [
       "array([False,  True])"
      ]
     },
     "execution_count": 76,
     "metadata": {},
     "output_type": "execute_result"
    }
   ],
   "source": [
    "trues = []\n",
    "for i in range(1000):\n",
    "    trues.append(np.unique(csr_all[i,1:].toarray().ravel() == csv_all.iloc[i,1:].values))\n",
    "np.unique(trues)"
   ]
  },
  {
   "cell_type": "markdown",
   "metadata": {},
   "source": [
    "They're still not the same."
   ]
  },
  {
   "cell_type": "markdown",
   "metadata": {},
   "source": [
    "## Test retrieving the correct variant ids"
   ]
  },
  {
   "cell_type": "code",
   "execution_count": 4,
   "metadata": {},
   "outputs": [
    {
     "name": "stdout",
     "output_type": "stream",
     "text": [
      "Retrieved a matrix with shape  (10000, 1064)\n"
     ]
    }
   ],
   "source": [
    "new_csr, variant_ids = load_sparse_indexed_matrix(sparse_short_index, index_col=0, shuffle=False)\n",
    "save_npz(sparse_short, new_csr)"
   ]
  },
  {
   "cell_type": "code",
   "execution_count": 14,
   "metadata": {},
   "outputs": [],
   "source": [
    "# variant_ids\n",
    "short_ids = load_pickle(raw_training_dir + \"shuffle_splits/shuffled_index_10k.pkl\")\n",
    "all_ids = load_pickle(all_ids_file)\n",
    "variant_names_short_ids = all_ids.loc[short_ids]\n",
    "dump_to_pickle(raw_training_dir + \"shuffle_splits/shuffled_index_10k.pkl\", variant_names_short_ids)"
   ]
  },
  {
   "cell_type": "markdown",
   "metadata": {},
   "source": [
    "## Now, use this with the CaddSparseDataset"
   ]
  },
  {
   "cell_type": "code",
   "execution_count": 5,
   "metadata": {},
   "outputs": [],
   "source": [
    "from kipoi_cadd.data import CaddSparseDataset\n",
    "sparse_ds = CaddSparseDataset(sparse_short, raw_training_dir + \"shuffle_splits/shuffled_index_10k.pkl\")"
   ]
  },
  {
   "cell_type": "code",
   "execution_count": 9,
   "metadata": {},
   "outputs": [
    {
     "data": {
      "text/plain": [
       "{'inputs': array([[0., 0., 0., ..., 0., 0., 0.]], dtype=float32),\n",
       " 'targets': 0.0,\n",
       " 'variant_id': \"1:1253092:G:['C']\"}"
      ]
     },
     "execution_count": 9,
     "metadata": {},
     "output_type": "execute_result"
    }
   ],
   "source": [
    "sparse_ds.__getitem__(10)\n",
    "# sparse_ds.data[1,1]"
   ]
  }
 ],
 "metadata": {
  "kernelspec": {
   "display_name": "Python [conda env:kipoi-cadd2]",
   "language": "python",
   "name": "conda-env-kipoi-cadd2-py"
  },
  "language_info": {
   "codemirror_mode": {
    "name": "ipython",
    "version": 3
   },
   "file_extension": ".py",
   "mimetype": "text/x-python",
   "name": "python",
   "nbconvert_exporter": "python",
   "pygments_lexer": "ipython3",
   "version": "3.6.7"
  }
 },
 "nbformat": 4,
 "nbformat_minor": 2
}
