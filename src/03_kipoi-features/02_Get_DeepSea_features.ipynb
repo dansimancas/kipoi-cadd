{
 "cells": [
  {
   "cell_type": "code",
   "execution_count": 38,
   "metadata": {},
   "outputs": [],
   "source": [
    "import kipoi\n",
    "from kipoi_veff import score_variants\n",
    "import pandas as pd\n",
    "from kipoi_cadd.utils import load_pickle, decompose_variant_string, generate_intervals_file\n",
    "from kipoi_cadd.writers import LmdbWriter\n",
    "import kipoi_veff.snv_predict as sp\n",
    "from kipoi_veff.scores import Diff, LogitRef, Logit\n",
    "from kipoi import get_model"
   ]
  },
  {
   "cell_type": "markdown",
   "metadata": {},
   "source": [
    "## Get DeepSea features"
   ]
  },
  {
   "cell_type": "code",
   "execution_count": 4,
   "metadata": {},
   "outputs": [],
   "source": [
    "training_dir = \"/s/project/kipoi-cadd/data/raw/v1.3/training_data/\"\n",
    "sample_intervals_file = \"/data/nasif12/home_if12/simancas/.kipoi/models/DeepSEA/variantEffects/downloaded/example_files/intervals_file\"\n",
    "sample_fasta_file = \"/data/nasif12/home_if12/simancas/.kipoi/models/DeepSEA/variantEffects/downloaded/example_files/fasta_file\"\n",
    "sample_vcf_file = \"/data/nasif12/home_if12/simancas/.kipoi/models/DeepSEA/variantEffects/downloaded/example_files/variants.vcf\"\n",
    "test_dir = \"/tmp/kipoi-veff/test_KipoiLmdbDataset/\"\n",
    "kipoi_features_dir = \"/s/project/kipoi-cadd/data/processed/v1.3/kipoi_features/\"\n",
    "intervals_file = kipoi_features_dir + \"intervals_10k.tsv\"\n",
    "fasta_file = \"/s/genomes/human/hg19/ensembl_GRCh37.p13_release75/Homo_sapiens.GRCh37.75.dna.primary_assembly.fa\"\n",
    "shuff_10k_file = training_dir + \"ids_10k.pkl\""
   ]
  },
  {
   "cell_type": "code",
   "execution_count": 3,
   "metadata": {},
   "outputs": [
    {
     "name": "stdout",
     "output_type": "stream",
     "text": [
      "Using downloaded and verified file: /data/nasif12/home_if12/simancas/.kipoi/models/DeepSEA/variantEffects/downloaded/model_files/weights/35956ab9c28960b5a3693f470fe980c1\n"
     ]
    },
    {
     "name": "stderr",
     "output_type": "stream",
     "text": [
      "100%|██████████| 1/1 [00:00<00:00,  2.96it/s]\n"
     ]
    }
   ],
   "source": [
    "# To trigger the download of sample intervals and sample fasta files, we have to do this:\n",
    "model = get_model('DeepSEA/variantEffects')\n",
    "pred = model.pipeline.predict_example()"
   ]
  },
  {
   "cell_type": "code",
   "execution_count": 13,
   "metadata": {},
   "outputs": [
    {
     "data": {
      "text/html": [
       "<div>\n",
       "<style scoped>\n",
       "    .dataframe tbody tr th:only-of-type {\n",
       "        vertical-align: middle;\n",
       "    }\n",
       "\n",
       "    .dataframe tbody tr th {\n",
       "        vertical-align: top;\n",
       "    }\n",
       "\n",
       "    .dataframe thead th {\n",
       "        text-align: right;\n",
       "    }\n",
       "</style>\n",
       "<table border=\"1\" class=\"dataframe\">\n",
       "  <thead>\n",
       "    <tr style=\"text-align: right;\">\n",
       "      <th></th>\n",
       "      <th>chr</th>\n",
       "      <th>start</th>\n",
       "      <th>end</th>\n",
       "    </tr>\n",
       "  </thead>\n",
       "  <tbody>\n",
       "    <tr>\n",
       "      <th>0</th>\n",
       "      <td>chr22</td>\n",
       "      <td>136018</td>\n",
       "      <td>136069</td>\n",
       "    </tr>\n",
       "    <tr>\n",
       "      <th>1</th>\n",
       "      <td>chr22</td>\n",
       "      <td>136351</td>\n",
       "      <td>136402</td>\n",
       "    </tr>\n",
       "    <tr>\n",
       "      <th>2</th>\n",
       "      <td>chr22</td>\n",
       "      <td>137749</td>\n",
       "      <td>137800</td>\n",
       "    </tr>\n",
       "    <tr>\n",
       "      <th>3</th>\n",
       "      <td>chr22</td>\n",
       "      <td>134503</td>\n",
       "      <td>134554</td>\n",
       "    </tr>\n",
       "    <tr>\n",
       "      <th>4</th>\n",
       "      <td>chr22</td>\n",
       "      <td>139010</td>\n",
       "      <td>139061</td>\n",
       "    </tr>\n",
       "  </tbody>\n",
       "</table>\n",
       "</div>"
      ],
      "text/plain": [
       "     chr   start     end\n",
       "0  chr22  136018  136069\n",
       "1  chr22  136351  136402\n",
       "2  chr22  137749  137800\n",
       "3  chr22  134503  134554\n",
       "4  chr22  139010  139061"
      ]
     },
     "execution_count": 13,
     "metadata": {},
     "output_type": "execute_result"
    }
   ],
   "source": [
    "sample_intervals = pd.read_csv(sample_intervals_file, sep='\\t', header=None, names=['chr', 'start', 'end'])\n",
    "\"\"\"\n",
    "with open(sample_fasta_file, \"r\") as f:\n",
    "    for line in f:\n",
    "        print(line)\n",
    "        break\n",
    "\"\"\"\n",
    "sample_intervals.head()"
   ]
  },
  {
   "cell_type": "markdown",
   "metadata": {},
   "source": [
    "## Generate intervals file for the variants of our interest"
   ]
  },
  {
   "cell_type": "code",
   "execution_count": 32,
   "metadata": {},
   "outputs": [],
   "source": [
    "var_ids = load_pickle(shuff_10k_file)\n",
    "generate_intervals_file(var_ids, intervals_file, use_chr_word=False, header=None)"
   ]
  },
  {
   "cell_type": "code",
   "execution_count": null,
   "metadata": {},
   "outputs": [],
   "source": [
    "model = get_model('DeepSEA/variantEffects')\n",
    "dl_kwargs = {'intervals_file': intervals_file, 'fasta_file': fasta_file}"
   ]
  },
  {
   "cell_type": "code",
   "execution_count": 7,
   "metadata": {},
   "outputs": [
    {
     "data": {
      "text/plain": [
       "array([[3.98645550e-02, 5.88591094e-04, 8.94931033e-02, ...,\n",
       "        6.55408902e-03, 6.56132549e-02, 7.31519517e-03],\n",
       "       [1.02449907e-03, 2.00078313e-04, 1.07573438e-03, ...,\n",
       "        2.59452909e-02, 7.92154744e-02, 1.52810579e-04],\n",
       "       [6.32132776e-03, 1.06681315e-02, 7.64664495e-03, ...,\n",
       "        7.73444101e-02, 3.92744362e-01, 1.42737338e-02],\n",
       "       ...,\n",
       "       [1.20406123e-02, 1.59813259e-02, 1.28443195e-02, ...,\n",
       "        4.10337657e-01, 5.05032957e-01, 1.27899591e-02],\n",
       "       [4.51430771e-03, 3.04261479e-03, 5.15099289e-03, ...,\n",
       "        7.72295427e-03, 8.25386643e-02, 5.23434347e-03],\n",
       "       [3.54196847e-04, 3.60575541e-05, 2.24278177e-04, ...,\n",
       "        6.14551734e-03, 4.21312340e-02, 1.65928795e-04]], dtype=float32)"
      ]
     },
     "execution_count": 7,
     "metadata": {},
     "output_type": "execute_result"
    }
   ],
   "source": [
    "# Get the dataloader and instantiate it\n",
    "dl = model.default_dataloader(**{'intervals_file': intervals_file, 'fasta_file': fasta_file, 'num_chr_fasta': True})\n",
    "it = dl.batch_iter(batch_size=64)\n",
    "preds = None\n",
    "for batch in it:\n",
    "    if preds is None:\n",
    "        preds = model.predict_on_batch(batch['inputs'])\n",
    "    else:\n",
    "        preds = np.concatenate([preds, model.predict_on_batch(batch['inputs'])], axis=0)\n",
    "preds.shape"
   ]
  },
  {
   "cell_type": "markdown",
   "metadata": {},
   "source": [
    "## Write results with LMDBWriter for other Kipoi predictions"
   ]
  },
  {
   "cell_type": "code",
   "execution_count": 5,
   "metadata": {},
   "outputs": [
    {
     "name": "stdout",
     "output_type": "stream",
     "text": [
      "Using downloaded and verified file: /data/nasif12/home_if12/simancas/.kipoi/models/DeepSEA/variantEffects/downloaded/model_files/weights/35956ab9c28960b5a3693f470fe980c1\n"
     ]
    },
    {
     "ename": "Exception",
     "evalue": "String output definition not recognized in array string converter!",
     "output_type": "error",
     "traceback": [
      "\u001b[0;31m---------------------------------------------------------------------------\u001b[0m",
      "\u001b[0;31mException\u001b[0m                                 Traceback (most recent call last)",
      "\u001b[0;32m<ipython-input-5-b83453a157bb>\u001b[0m in \u001b[0;36m<module>\u001b[0;34m\u001b[0m\n\u001b[1;32m     26\u001b[0m                 \u001b[0mdataloader_args\u001b[0m\u001b[0;34m=\u001b[0m\u001b[0mdl_kwargs\u001b[0m\u001b[0;34m,\u001b[0m\u001b[0;34m\u001b[0m\u001b[0;34m\u001b[0m\u001b[0m\n\u001b[1;32m     27\u001b[0m                 \u001b[0mevaluation_function_kwargs\u001b[0m\u001b[0;34m=\u001b[0m\u001b[0;34m{\u001b[0m\u001b[0;34m'diff_types'\u001b[0m\u001b[0;34m:\u001b[0m \u001b[0;34m{\u001b[0m\u001b[0;34m'logit'\u001b[0m\u001b[0;34m:\u001b[0m \u001b[0mLogit\u001b[0m\u001b[0;34m(\u001b[0m\u001b[0;34m)\u001b[0m\u001b[0;34m}\u001b[0m\u001b[0;34m}\u001b[0m\u001b[0;34m,\u001b[0m\u001b[0;34m\u001b[0m\u001b[0;34m\u001b[0m\u001b[0m\n\u001b[0;32m---> 28\u001b[0;31m                 sync_pred_writer=writer)\n\u001b[0m",
      "\u001b[0;32m/data/nasif12/home_if12/simancas/Projects/kipoi-veff/kipoi_veff/snv_predict.py\u001b[0m in \u001b[0;36mpredict_snvs\u001b[0;34m(model, dataloader, vcf_fpath, batch_size, num_workers, dataloader_args, vcf_to_region, vcf_id_generator_fn, evaluation_function, evaluation_function_kwargs, sync_pred_writer, use_dataloader_example_data, return_predictions, generated_seq_writer)\u001b[0m\n\u001b[1;32m    526\u001b[0m     \"\"\"\n\u001b[1;32m    527\u001b[0m     \u001b[0;32mimport\u001b[0m \u001b[0mcyvcf2\u001b[0m\u001b[0;34m\u001b[0m\u001b[0;34m\u001b[0m\u001b[0m\n\u001b[0;32m--> 528\u001b[0;31m     \u001b[0mmodel_info_extractor\u001b[0m \u001b[0;34m=\u001b[0m \u001b[0mModelInfoExtractor\u001b[0m\u001b[0;34m(\u001b[0m\u001b[0mmodel_obj\u001b[0m\u001b[0;34m=\u001b[0m\u001b[0mmodel\u001b[0m\u001b[0;34m,\u001b[0m \u001b[0mdataloader_obj\u001b[0m\u001b[0;34m=\u001b[0m\u001b[0mdataloader\u001b[0m\u001b[0;34m)\u001b[0m\u001b[0;34m\u001b[0m\u001b[0;34m\u001b[0m\u001b[0m\n\u001b[0m\u001b[1;32m    529\u001b[0m \u001b[0;34m\u001b[0m\u001b[0m\n\u001b[1;32m    530\u001b[0m     \u001b[0;31m# If then where do I have to put my bed file in the command?\u001b[0m\u001b[0;34m\u001b[0m\u001b[0;34m\u001b[0m\u001b[0;34m\u001b[0m\u001b[0m\n",
      "\u001b[0;32m/data/nasif12/home_if12/simancas/Projects/kipoi-veff/kipoi_veff/utils/generic.py\u001b[0m in \u001b[0;36m__init__\u001b[0;34m(self, model_obj, dataloader_obj)\u001b[0m\n\u001b[1;32m    339\u001b[0m \u001b[0;34m\u001b[0m\u001b[0m\n\u001b[1;32m    340\u001b[0m             \u001b[0;32mif\u001b[0m \u001b[0mspecial_type\u001b[0m \u001b[0;34m==\u001b[0m \u001b[0mkipoi\u001b[0m\u001b[0;34m.\u001b[0m\u001b[0mcomponents\u001b[0m\u001b[0;34m.\u001b[0m\u001b[0mArraySpecialType\u001b[0m\u001b[0;34m.\u001b[0m\u001b[0mDNAStringSeq\u001b[0m\u001b[0;34m:\u001b[0m\u001b[0;34m\u001b[0m\u001b[0;34m\u001b[0m\u001b[0m\n\u001b[0;32m--> 341\u001b[0;31m                 \u001b[0mdna_seq_trafo\u001b[0m \u001b[0;34m=\u001b[0m \u001b[0mReshapeDnaString\u001b[0m\u001b[0;34m(\u001b[0m\u001b[0m_get_seq_shape_model\u001b[0m\u001b[0;34m(\u001b[0m\u001b[0mmodel_obj\u001b[0m\u001b[0;34m,\u001b[0m \u001b[0mseq_field\u001b[0m\u001b[0;34m)\u001b[0m\u001b[0;34m)\u001b[0m\u001b[0;34m\u001b[0m\u001b[0;34m\u001b[0m\u001b[0m\n\u001b[0m\u001b[1;32m    342\u001b[0m                 \u001b[0mself\u001b[0m\u001b[0;34m.\u001b[0m\u001b[0mseq_input_mutator\u001b[0m\u001b[0;34m[\u001b[0m\u001b[0mseq_field\u001b[0m\u001b[0;34m]\u001b[0m \u001b[0;34m=\u001b[0m \u001b[0mDNAStringSequenceMutator\u001b[0m\u001b[0;34m(\u001b[0m\u001b[0mdna_seq_trafo\u001b[0m\u001b[0;34m)\u001b[0m\u001b[0;34m\u001b[0m\u001b[0;34m\u001b[0m\u001b[0m\n\u001b[1;32m    343\u001b[0m                 \u001b[0mself\u001b[0m\u001b[0;34m.\u001b[0m\u001b[0mseq_to_str_converter\u001b[0m\u001b[0;34m[\u001b[0m\u001b[0mseq_field\u001b[0m\u001b[0;34m]\u001b[0m \u001b[0;34m=\u001b[0m \u001b[0mStrSeqExtractor\u001b[0m\u001b[0;34m(\u001b[0m\u001b[0mdna_seq_trafo\u001b[0m\u001b[0;34m)\u001b[0m\u001b[0;34m\u001b[0m\u001b[0;34m\u001b[0m\u001b[0m\n",
      "\u001b[0;32m/data/nasif12/home_if12/simancas/Projects/kipoi-veff/kipoi_veff/utils/dna_reshapers.py\u001b[0m in \u001b[0;36m__init__\u001b[0;34m(self, input_shape)\u001b[0m\n\u001b[1;32m     21\u001b[0m             \u001b[0mself\u001b[0m\u001b[0;34m.\u001b[0m\u001b[0mseq_len\u001b[0m \u001b[0;34m=\u001b[0m \u001b[0minput_shape\u001b[0m\u001b[0;34m[\u001b[0m\u001b[0;36m0\u001b[0m\u001b[0;34m]\u001b[0m\u001b[0;34m\u001b[0m\u001b[0;34m\u001b[0m\u001b[0m\n\u001b[1;32m     22\u001b[0m         \u001b[0;32melse\u001b[0m\u001b[0;34m:\u001b[0m\u001b[0;34m\u001b[0m\u001b[0;34m\u001b[0m\u001b[0m\n\u001b[0;32m---> 23\u001b[0;31m             \u001b[0;32mraise\u001b[0m \u001b[0mException\u001b[0m\u001b[0;34m(\u001b[0m\u001b[0;34m\"String output definition not recognized in array string converter!\"\u001b[0m\u001b[0;34m)\u001b[0m\u001b[0;34m\u001b[0m\u001b[0;34m\u001b[0m\u001b[0m\n\u001b[0m\u001b[1;32m     24\u001b[0m         \u001b[0mself\u001b[0m\u001b[0;34m.\u001b[0m\u001b[0msingle_sample_no_batch_axis\u001b[0m \u001b[0;34m=\u001b[0m \u001b[0;32mFalse\u001b[0m\u001b[0;34m\u001b[0m\u001b[0;34m\u001b[0m\u001b[0m\n\u001b[1;32m     25\u001b[0m         \u001b[0mself\u001b[0m\u001b[0;34m.\u001b[0m\u001b[0minput_shape\u001b[0m \u001b[0;34m=\u001b[0m \u001b[0minput_shape\u001b[0m\u001b[0;34m\u001b[0m\u001b[0;34m\u001b[0m\u001b[0m\n",
      "\u001b[0;31mException\u001b[0m: String output definition not recognized in array string converter!"
     ]
    }
   ],
   "source": [
    "# Standalone script\n",
    "import kipoi\n",
    "from kipoi_cadd.writers import LmdbWriter\n",
    "import kipoi_veff.snv_predict as sp\n",
    "from kipoi_veff.scores import Logit\n",
    "from kipoi import get_model\n",
    "\n",
    "model_dir = \"/data/nasif12/home_if12/simancas/.kipoi/models/DeepSEA/variantEffects/\"\n",
    "test_dir = \"/tmp/kipoi-veff/test_KipoiLmdbDataset/\"\n",
    "\n",
    "sample_intervals_file = model_dir + \"downloaded/example_files/intervals_file\"\n",
    "sample_fasta_file = model_dir + \"downloaded/example_files/fasta_file\"\n",
    "sample_vcf_file = model_dir + \"downloaded/example_files/variants.vcf\"\n",
    "lmdb_deep_sea = test_dir + \"lmdb_DeepSea\"\n",
    "\n",
    "model = get_model(model_dir, source=\"dir\")\n",
    "dl_kwargs = {'intervals_file': sample_intervals_file, 'fasta_file': sample_fasta_file, 'num_chr_fasta': True}\n",
    "dataloader = model.default_dataloader(**dl_kwargs).seq_dl\n",
    "writer = LmdbWriter(lmdb_deep_sea)\n",
    "\n",
    "sp.predict_snvs(model,\n",
    "                dataloader,\n",
    "                sample_vcf_file,\n",
    "                64,\n",
    "                num_workers=1,\n",
    "                dataloader_args=dl_kwargs,\n",
    "                evaluation_function_kwargs={'diff_types': {'logit': Logit()}},\n",
    "                sync_pred_writer=writer)"
   ]
  },
  {
   "cell_type": "code",
   "execution_count": 47,
   "metadata": {},
   "outputs": [
    {
     "ename": "Exception",
     "evalue": "String output definition not recognized in array string converter!",
     "output_type": "error",
     "traceback": [
      "\u001b[0;31m---------------------------------------------------------------------------\u001b[0m",
      "\u001b[0;31mException\u001b[0m                                 Traceback (most recent call last)",
      "\u001b[0;32m<ipython-input-47-1706187ffe32>\u001b[0m in \u001b[0;36m<module>\u001b[0;34m\u001b[0m\n\u001b[1;32m      2\u001b[0m \u001b[0;32mfrom\u001b[0m \u001b[0mkipoi_veff\u001b[0m\u001b[0;34m.\u001b[0m\u001b[0mutils\u001b[0m\u001b[0;34m.\u001b[0m\u001b[0mgeneric\u001b[0m \u001b[0;32mimport\u001b[0m \u001b[0m_get_seq_shape_model\u001b[0m\u001b[0;34m,\u001b[0m \u001b[0m_get_seq_fields\u001b[0m\u001b[0;34m\u001b[0m\u001b[0;34m\u001b[0m\u001b[0m\n\u001b[1;32m      3\u001b[0m \u001b[0;32mfrom\u001b[0m \u001b[0mkipoi_veff\u001b[0m\u001b[0;34m.\u001b[0m\u001b[0mutils\u001b[0m\u001b[0;34m.\u001b[0m\u001b[0mdna_reshapers\u001b[0m \u001b[0;32mimport\u001b[0m \u001b[0mReshapeDnaString\u001b[0m\u001b[0;34m\u001b[0m\u001b[0;34m\u001b[0m\u001b[0m\n\u001b[0;32m----> 4\u001b[0;31m \u001b[0mModelInfoExtractor\u001b[0m\u001b[0;34m(\u001b[0m\u001b[0mmodel\u001b[0m\u001b[0;34m,\u001b[0m \u001b[0mdataloader\u001b[0m\u001b[0;34m)\u001b[0m\u001b[0;34m\u001b[0m\u001b[0;34m\u001b[0m\u001b[0m\n\u001b[0m",
      "\u001b[0;32m/data/nasif12/home_if12/simancas/Projects/kipoi-veff/kipoi_veff/utils/generic.py\u001b[0m in \u001b[0;36m__init__\u001b[0;34m(self, model_obj, dataloader_obj)\u001b[0m\n\u001b[1;32m    339\u001b[0m \u001b[0;34m\u001b[0m\u001b[0m\n\u001b[1;32m    340\u001b[0m             \u001b[0;32mif\u001b[0m \u001b[0mspecial_type\u001b[0m \u001b[0;34m==\u001b[0m \u001b[0mkipoi\u001b[0m\u001b[0;34m.\u001b[0m\u001b[0mcomponents\u001b[0m\u001b[0;34m.\u001b[0m\u001b[0mArraySpecialType\u001b[0m\u001b[0;34m.\u001b[0m\u001b[0mDNAStringSeq\u001b[0m\u001b[0;34m:\u001b[0m\u001b[0;34m\u001b[0m\u001b[0;34m\u001b[0m\u001b[0m\n\u001b[0;32m--> 341\u001b[0;31m                 \u001b[0mdna_seq_trafo\u001b[0m \u001b[0;34m=\u001b[0m \u001b[0mReshapeDnaString\u001b[0m\u001b[0;34m(\u001b[0m\u001b[0m_get_seq_shape_model\u001b[0m\u001b[0;34m(\u001b[0m\u001b[0mmodel_obj\u001b[0m\u001b[0;34m,\u001b[0m \u001b[0mseq_field\u001b[0m\u001b[0;34m)\u001b[0m\u001b[0;34m)\u001b[0m\u001b[0;34m\u001b[0m\u001b[0;34m\u001b[0m\u001b[0m\n\u001b[0m\u001b[1;32m    342\u001b[0m                 \u001b[0mself\u001b[0m\u001b[0;34m.\u001b[0m\u001b[0mseq_input_mutator\u001b[0m\u001b[0;34m[\u001b[0m\u001b[0mseq_field\u001b[0m\u001b[0;34m]\u001b[0m \u001b[0;34m=\u001b[0m \u001b[0mDNAStringSequenceMutator\u001b[0m\u001b[0;34m(\u001b[0m\u001b[0mdna_seq_trafo\u001b[0m\u001b[0;34m)\u001b[0m\u001b[0;34m\u001b[0m\u001b[0;34m\u001b[0m\u001b[0m\n\u001b[1;32m    343\u001b[0m                 \u001b[0mself\u001b[0m\u001b[0;34m.\u001b[0m\u001b[0mseq_to_str_converter\u001b[0m\u001b[0;34m[\u001b[0m\u001b[0mseq_field\u001b[0m\u001b[0;34m]\u001b[0m \u001b[0;34m=\u001b[0m \u001b[0mStrSeqExtractor\u001b[0m\u001b[0;34m(\u001b[0m\u001b[0mdna_seq_trafo\u001b[0m\u001b[0;34m)\u001b[0m\u001b[0;34m\u001b[0m\u001b[0;34m\u001b[0m\u001b[0m\n",
      "\u001b[0;32m/data/nasif12/home_if12/simancas/Projects/kipoi-veff/kipoi_veff/utils/dna_reshapers.py\u001b[0m in \u001b[0;36m__init__\u001b[0;34m(self, input_shape)\u001b[0m\n\u001b[1;32m     21\u001b[0m             \u001b[0mself\u001b[0m\u001b[0;34m.\u001b[0m\u001b[0mseq_len\u001b[0m \u001b[0;34m=\u001b[0m \u001b[0minput_shape\u001b[0m\u001b[0;34m[\u001b[0m\u001b[0;36m0\u001b[0m\u001b[0;34m]\u001b[0m\u001b[0;34m\u001b[0m\u001b[0;34m\u001b[0m\u001b[0m\n\u001b[1;32m     22\u001b[0m         \u001b[0;32melse\u001b[0m\u001b[0;34m:\u001b[0m\u001b[0;34m\u001b[0m\u001b[0;34m\u001b[0m\u001b[0m\n\u001b[0;32m---> 23\u001b[0;31m             \u001b[0;32mraise\u001b[0m \u001b[0mException\u001b[0m\u001b[0;34m(\u001b[0m\u001b[0;34m\"String output definition not recognized in array string converter!\"\u001b[0m\u001b[0;34m)\u001b[0m\u001b[0;34m\u001b[0m\u001b[0;34m\u001b[0m\u001b[0m\n\u001b[0m\u001b[1;32m     24\u001b[0m         \u001b[0mself\u001b[0m\u001b[0;34m.\u001b[0m\u001b[0msingle_sample_no_batch_axis\u001b[0m \u001b[0;34m=\u001b[0m \u001b[0;32mFalse\u001b[0m\u001b[0;34m\u001b[0m\u001b[0;34m\u001b[0m\u001b[0m\n\u001b[1;32m     25\u001b[0m         \u001b[0mself\u001b[0m\u001b[0;34m.\u001b[0m\u001b[0minput_shape\u001b[0m \u001b[0;34m=\u001b[0m \u001b[0minput_shape\u001b[0m\u001b[0;34m\u001b[0m\u001b[0;34m\u001b[0m\u001b[0m\n",
      "\u001b[0;31mException\u001b[0m: String output definition not recognized in array string converter!"
     ]
    }
   ],
   "source": [
    "from kipoi_veff.utils import ModelInfoExtractor\n",
    "from kipoi_veff.utils.generic import _get_seq_shape_model, _get_seq_fields\n",
    "from kipoi_veff.utils.dna_reshapers import ReshapeDnaString\n",
    "ModelInfoExtractor(model, dataloader)"
   ]
  },
  {
   "cell_type": "code",
   "execution_count": 51,
   "metadata": {},
   "outputs": [
    {
     "ename": "Exception",
     "evalue": "String output definition not recognized in array string converter!",
     "output_type": "error",
     "traceback": [
      "\u001b[0;31m---------------------------------------------------------------------------\u001b[0m",
      "\u001b[0;31mException\u001b[0m                                 Traceback (most recent call last)",
      "\u001b[0;32m<ipython-input-51-aa8c4fa4b4a7>\u001b[0m in \u001b[0;36m<module>\u001b[0;34m\u001b[0m\n\u001b[0;32m----> 1\u001b[0;31m \u001b[0mReshapeDnaString\u001b[0m\u001b[0;34m(\u001b[0m\u001b[0mstr\u001b[0m\u001b[0;34m(\u001b[0m\u001b[0m_get_seq_shape_model\u001b[0m\u001b[0;34m(\u001b[0m\u001b[0mmodel\u001b[0m\u001b[0;34m,\u001b[0m \u001b[0m_get_seq_fields\u001b[0m\u001b[0;34m(\u001b[0m\u001b[0mmodel\u001b[0m\u001b[0;34m)\u001b[0m\u001b[0;34m)\u001b[0m\u001b[0;34m)\u001b[0m\u001b[0;34m)\u001b[0m\u001b[0;34m\u001b[0m\u001b[0;34m\u001b[0m\u001b[0m\n\u001b[0m",
      "\u001b[0;32m/data/nasif12/home_if12/simancas/Projects/kipoi-veff/kipoi_veff/utils/dna_reshapers.py\u001b[0m in \u001b[0;36m__init__\u001b[0;34m(self, input_shape)\u001b[0m\n\u001b[1;32m     21\u001b[0m             \u001b[0mself\u001b[0m\u001b[0;34m.\u001b[0m\u001b[0mseq_len\u001b[0m \u001b[0;34m=\u001b[0m \u001b[0minput_shape\u001b[0m\u001b[0;34m[\u001b[0m\u001b[0;36m0\u001b[0m\u001b[0;34m]\u001b[0m\u001b[0;34m\u001b[0m\u001b[0;34m\u001b[0m\u001b[0m\n\u001b[1;32m     22\u001b[0m         \u001b[0;32melse\u001b[0m\u001b[0;34m:\u001b[0m\u001b[0;34m\u001b[0m\u001b[0;34m\u001b[0m\u001b[0m\n\u001b[0;32m---> 23\u001b[0;31m             \u001b[0;32mraise\u001b[0m \u001b[0mException\u001b[0m\u001b[0;34m(\u001b[0m\u001b[0;34m\"String output definition not recognized in array string converter!\"\u001b[0m\u001b[0;34m)\u001b[0m\u001b[0;34m\u001b[0m\u001b[0;34m\u001b[0m\u001b[0m\n\u001b[0m\u001b[1;32m     24\u001b[0m         \u001b[0mself\u001b[0m\u001b[0;34m.\u001b[0m\u001b[0msingle_sample_no_batch_axis\u001b[0m \u001b[0;34m=\u001b[0m \u001b[0;32mFalse\u001b[0m\u001b[0;34m\u001b[0m\u001b[0;34m\u001b[0m\u001b[0m\n\u001b[1;32m     25\u001b[0m         \u001b[0mself\u001b[0m\u001b[0;34m.\u001b[0m\u001b[0minput_shape\u001b[0m \u001b[0;34m=\u001b[0m \u001b[0minput_shape\u001b[0m\u001b[0;34m\u001b[0m\u001b[0;34m\u001b[0m\u001b[0m\n",
      "\u001b[0;31mException\u001b[0m: String output definition not recognized in array string converter!"
     ]
    }
   ],
   "source": [
    "ReshapeDnaString(str(_get_seq_shape_model(model, _get_seq_fields(model))))"
   ]
  },
  {
   "cell_type": "code",
   "execution_count": 53,
   "metadata": {},
   "outputs": [
    {
     "data": {
      "text/plain": [
       "3"
      ]
     },
     "execution_count": 53,
     "metadata": {},
     "output_type": "execute_result"
    }
   ],
   "source": [
    "len(_get_seq_shape_model(model, _get_seq_fields(model)))"
   ]
  },
  {
   "cell_type": "code",
   "execution_count": 56,
   "metadata": {},
   "outputs": [
    {
     "data": {
      "text/plain": [
       "(4, 1, 1000)"
      ]
     },
     "execution_count": 56,
     "metadata": {},
     "output_type": "execute_result"
    }
   ],
   "source": [
    "_get_seq_shape_model(model, _get_seq_fields(model))"
   ]
  },
  {
   "cell_type": "code",
   "execution_count": 55,
   "metadata": {},
   "outputs": [
    {
     "data": {
      "text/plain": [
       "['model',\n",
       " 'use_cuda',\n",
       " 'grad_hooks',\n",
       " 'type',\n",
       " 'args',\n",
       " 'info',\n",
       " 'schema',\n",
       " 'dependencies',\n",
       " 'test',\n",
       " 'default_dataloader',\n",
       " 'name',\n",
       " 'source',\n",
       " 'source_name',\n",
       " 'source_dir',\n",
       " 'postprocessing',\n",
       " 'pipeline',\n",
       " '__module__',\n",
       " '__doc__',\n",
       " 'MODEL_PACKAGE',\n",
       " '__init__',\n",
       " 'correct_neg_stride',\n",
       " '_torch_var',\n",
       " '_torch_var_to_numpy',\n",
       " '_model_is_cuda',\n",
       " 'predict_on_batch',\n",
       " 'numpy_to_torch',\n",
       " 'np_run_pred',\n",
       " 'pred_to_np',\n",
       " 'get_layer',\n",
       " 'get_layer_id',\n",
       " 'extract_module_id',\n",
       " '_is_nonlinear_activation',\n",
       " '_get_trace',\n",
       " 'get_last_layers',\n",
       " 'get_downstream_layers',\n",
       " '_pt_type_match',\n",
       " 'get_grad_tens',\n",
       " '_register_fwd_hook',\n",
       " '_input_grad',\n",
       " 'input_grad',\n",
       " 'get_upstream_layers',\n",
       " 'predict_activation_on_batch',\n",
       " '__metaclass__',\n",
       " '_sufficient_deps',\n",
       " '__dict__',\n",
       " '__weakref__',\n",
       " '__repr__',\n",
       " '__hash__',\n",
       " '__str__',\n",
       " '__getattribute__',\n",
       " '__setattr__',\n",
       " '__delattr__',\n",
       " '__lt__',\n",
       " '__le__',\n",
       " '__eq__',\n",
       " '__ne__',\n",
       " '__gt__',\n",
       " '__ge__',\n",
       " '__new__',\n",
       " '__reduce_ex__',\n",
       " '__reduce__',\n",
       " '__subclasshook__',\n",
       " '__init_subclass__',\n",
       " '__format__',\n",
       " '__sizeof__',\n",
       " '__dir__',\n",
       " '__class__',\n",
       " 'allowed_functions']"
      ]
     },
     "execution_count": 55,
     "metadata": {},
     "output_type": "execute_result"
    }
   ],
   "source": [
    "model.__dir__()"
   ]
  },
  {
   "cell_type": "code",
   "execution_count": null,
   "metadata": {},
   "outputs": [],
   "source": [
    "*"
   ]
  }
 ],
 "metadata": {
  "kernelspec": {
   "display_name": "Python [conda env:kipoi-cadd2]",
   "language": "python",
   "name": "conda-env-kipoi-cadd2-py"
  },
  "language_info": {
   "codemirror_mode": {
    "name": "ipython",
    "version": 3
   },
   "file_extension": ".py",
   "mimetype": "text/x-python",
   "name": "python",
   "nbconvert_exporter": "python",
   "pygments_lexer": "ipython3",
   "version": "3.6.7"
  }
 },
 "nbformat": 4,
 "nbformat_minor": 2
}
