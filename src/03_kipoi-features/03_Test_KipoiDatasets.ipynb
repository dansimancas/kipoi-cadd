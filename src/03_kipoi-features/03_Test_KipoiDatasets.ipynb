{
 "cells": [
  {
   "cell_type": "code",
   "execution_count": 146,
   "metadata": {},
   "outputs": [
    {
     "name": "stdout",
     "output_type": "stream",
     "text": [
      "The line_profiler extension is already loaded. To reload it, use:\n",
      "  %reload_ext line_profiler\n"
     ]
    }
   ],
   "source": [
    "from cyvcf2 import VCF\n",
    "from kipoi_cadd.utils import variant_id_string, dump_to_pickle\n",
    "from kipoi_cadd.data import KipoiLmdbDataset, KipoiCaddLmdbDataset\n",
    "import pandas as pd\n",
    "%load_ext line_profiler"
   ]
  },
  {
   "cell_type": "code",
   "execution_count": 2,
   "metadata": {},
   "outputs": [],
   "source": [
    "kipoi_veff_dir = \"/data/ouga/home/ag_gagneur/simancas/Projects/kipoi-veff/\"\n",
    "model_dir = kipoi_veff_dir + \"tests/models/var_seqlen_model/\"\n",
    "vcf_path = model_dir + \"example_files/variants.vcf\"\n",
    "test_dir = \"/tmp/kipoi-veff/test_KipoiLmdbDataset/\"\n",
    "lmdb_dir = test_dir + \"lmdb\"\n",
    "variant_ids_file = test_dir + \"variant_ids.pkl\""
   ]
  },
  {
   "cell_type": "markdown",
   "metadata": {},
   "source": [
    "## Check functionality of KipoiLmdbDataset"
   ]
  },
  {
   "cell_type": "code",
   "execution_count": 3,
   "metadata": {},
   "outputs": [
    {
     "name": "stdout",
     "output_type": "stream",
     "text": [
      "##fileformat=VCFv4.0\n",
      "#CHROM\tPOS\tID\tREF\tALT\tQUAL\tFILTER\tINFO\n",
      "chr22\t21541590\trs1111\tA\tT\t.\t.\t.\n",
      "chr22\t21541952\trs1112\tC\tC\t.\t.\t.\n",
      "chr22\t30630220\trs1113\tT\tG\t.\t.\t.\n",
      "chr22\t30630220\trs11122\tTAG\tG\t.\t.\t.\n",
      "chr22\t30630701\trs1114\tA\tG\t.\t.\t.\n",
      "chr22\t35503223\trs1115\tC\tA\t.\t.\t.\n",
      "chr22\t36702137\trs1116\tC\tA\t.\t.\t.\n"
     ]
    }
   ],
   "source": [
    "! head -20 {vcf_path}"
   ]
  },
  {
   "cell_type": "code",
   "execution_count": null,
   "metadata": {},
   "outputs": [],
   "source": [
    "\"\"\"\n",
    "var_list = []\n",
    "for var in VCF(vcf_path):\n",
    "    # We only support SNV's\n",
    "    if len(var.REF) == 1:\n",
    "        var_list.append(variant_id_string(var.CHROM, var.POS, var.REF, var.ALT))\n",
    "dump_to_pickle(variant_ids_file,pd.Series(var_list))\n",
    "\"\"\""
   ]
  },
  {
   "cell_type": "code",
   "execution_count": 112,
   "metadata": {},
   "outputs": [],
   "source": [
    "ds = KipoiLmdbDataset(lmdb_dir, variant_ids_file)"
   ]
  },
  {
   "cell_type": "code",
   "execution_count": 99,
   "metadata": {},
   "outputs": [
    {
     "data": {
      "text/html": [
       "<div>\n",
       "<style scoped>\n",
       "    .dataframe tbody tr th:only-of-type {\n",
       "        vertical-align: middle;\n",
       "    }\n",
       "\n",
       "    .dataframe tbody tr th {\n",
       "        vertical-align: top;\n",
       "    }\n",
       "\n",
       "    .dataframe thead th {\n",
       "        text-align: right;\n",
       "    }\n",
       "</style>\n",
       "<table border=\"1\" class=\"dataframe\">\n",
       "  <thead>\n",
       "    <tr style=\"text-align: right;\">\n",
       "      <th></th>\n",
       "      <th>diff:rbp_prb</th>\n",
       "      <th>logitRef:rbp_prb</th>\n",
       "    </tr>\n",
       "  </thead>\n",
       "  <tbody>\n",
       "    <tr>\n",
       "      <th>22:21541590:A:['T']</th>\n",
       "      <td>0.017238</td>\n",
       "      <td>NaN</td>\n",
       "    </tr>\n",
       "    <tr>\n",
       "      <th>22:21541952:C:['C']</th>\n",
       "      <td>0.000000</td>\n",
       "      <td>NaN</td>\n",
       "    </tr>\n",
       "    <tr>\n",
       "      <th>22:30630220:T:['G']</th>\n",
       "      <td>0.017868</td>\n",
       "      <td>-1.574677</td>\n",
       "    </tr>\n",
       "    <tr>\n",
       "      <th>22:30630701:A:['G']</th>\n",
       "      <td>0.032175</td>\n",
       "      <td>NaN</td>\n",
       "    </tr>\n",
       "    <tr>\n",
       "      <th>22:35503223:C:['A']</th>\n",
       "      <td>-0.029189</td>\n",
       "      <td>-0.080525</td>\n",
       "    </tr>\n",
       "    <tr>\n",
       "      <th>22:36702137:C:['A']</th>\n",
       "      <td>-0.078876</td>\n",
       "      <td>-1.199388</td>\n",
       "    </tr>\n",
       "  </tbody>\n",
       "</table>\n",
       "</div>"
      ],
      "text/plain": [
       "                     diff:rbp_prb  logitRef:rbp_prb\n",
       "22:21541590:A:['T']      0.017238               NaN\n",
       "22:21541952:C:['C']      0.000000               NaN\n",
       "22:30630220:T:['G']      0.017868         -1.574677\n",
       "22:30630701:A:['G']      0.032175               NaN\n",
       "22:35503223:C:['A']     -0.029189         -0.080525\n",
       "22:36702137:C:['A']     -0.078876         -1.199388"
      ]
     },
     "execution_count": 99,
     "metadata": {},
     "output_type": "execute_result"
    }
   ],
   "source": [
    "ds.load_all()"
   ]
  },
  {
   "cell_type": "code",
   "execution_count": 109,
   "metadata": {},
   "outputs": [
    {
     "data": {
      "text/plain": [
       "Timer unit: 1e-06 s\n",
       "\n",
       "Total time: 0.008897 s\n",
       "File: /data/ouga04b/ag_gagneur/project_local/kipoi-cadd/kipoi_cadd/data.py\n",
       "Function: __getitem__ at line 242\n",
       "\n",
       "Line #      Hits         Time  Per Hit   % Time  Line Contents\n",
       "==============================================================\n",
       "   242                                               def __getitem__(self, idx):\n",
       "   243         6         12.0      2.0      0.1          if self.lmdb_kipoi is None:\n",
       "   244                                                       self.lmdb_kipoi = lmdb.open(self.lmdb_dir, readonly=True, lock=False)\n",
       "   245                                                       self.txn = self.lmdb_kipoi.begin()\n",
       "   246                                           \n",
       "   247         6         22.0      3.7      0.2          variant_id = self.variant_ids[idx]\n",
       "   248         6        156.0     26.0      1.8          buf = bytes(self.txn.get(variant_id.encode('ascii')))\n",
       "   249                                           \n",
       "   250         6       8371.0   1395.2     94.1          item = pa.deserialize(buf)\n",
       "   251                                                   # We assume all variants have the same annotations structure, even if filled with NA.\n",
       "   252         6        241.0     40.2      2.7          if isinstance(self._column_names, np.ndarray) and not np.array_equal(self._column_names, item.index.values):\n",
       "   253                                                       raise ValueError(\"All variants must have the same column names on their annotations.\")\n",
       "   254         6         33.0      5.5      0.4          self._column_names = item.index.values\n",
       "   255                                                   \n",
       "   256         6         62.0     10.3      0.7          return item.values"
      ]
     },
     "metadata": {},
     "output_type": "display_data"
    }
   ],
   "source": [
    "%lprun -f ds.__getitem__ for var in range(6): ds.__getitem__(var)"
   ]
  },
  {
   "cell_type": "code",
   "execution_count": 110,
   "metadata": {},
   "outputs": [],
   "source": [
    "del ds"
   ]
  },
  {
   "cell_type": "markdown",
   "metadata": {},
   "source": [
    "## Check functionality of KipoiCaddLmdbDataset"
   ]
  },
  {
   "cell_type": "code",
   "execution_count": 167,
   "metadata": {},
   "outputs": [],
   "source": [
    "ds_kipoi_cadd = KipoiCaddLmdbDataset([lmdb_dir, lmdb_dir], variant_ids_file)"
   ]
  },
  {
   "cell_type": "code",
   "execution_count": null,
   "metadata": {},
   "outputs": [],
   "source": [
    "ds_kipoi_cadd.load_all()"
   ]
  },
  {
   "cell_type": "code",
   "execution_count": null,
   "metadata": {},
   "outputs": [],
   "source": []
  }
 ],
 "metadata": {
  "kernelspec": {
   "display_name": "Python [conda env:kipoi-cadd2]",
   "language": "python",
   "name": "conda-env-kipoi-cadd2-py"
  },
  "language_info": {
   "codemirror_mode": {
    "name": "ipython",
    "version": 3
   },
   "file_extension": ".py",
   "mimetype": "text/x-python",
   "name": "python",
   "nbconvert_exporter": "python",
   "pygments_lexer": "ipython3",
   "version": "3.6.7"
  }
 },
 "nbformat": 4,
 "nbformat_minor": 2
}
