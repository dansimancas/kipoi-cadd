{
 "cells": [
  {
   "cell_type": "markdown",
   "metadata": {},
   "source": [
    "## Get predictions using Kipoi embedded model"
   ]
  },
  {
   "cell_type": "markdown",
   "metadata": {},
   "source": [
    "We need (at least):\n",
    "- dl_kwargs = gtf_file, fasta_file, vcf_file\n",
    "- output file = predictions.tsv'"
   ]
  },
  {
   "cell_type": "code",
   "execution_count": 14,
   "metadata": {},
   "outputs": [],
   "source": [
    "### Standalone script\n",
    "import kipoi\n",
    "from kipoi_cadd.writers import LmdbWriter\n",
    "from kipoi_cadd.utils import load_pickle\n",
    "from kipoi_cadd.data_utils import calculate_map_size\n",
    "import kipoi_veff.snv_predict as sp\n",
    "from kipoi_veff.scores import Logit\n",
    "from kipoi import get_model\n",
    "import os\n",
    "\n",
    "training_dir_hg37 = \"/s/project/kipoi-cadd/data/raw/v1.4/training_data/GRCh37\"\n",
    "gtf_file = \"/s/genomes/human/hg38/Homo_sapiens.GRCh38.79.chr-prepend.gtf\"\n",
    "# gtf_file = \"/s/genomes/human/hg19/gencode28/gencode.v28.annotation.gff3.gz\"\n",
    "fasta_file = \"/s/genomes/human/hg38/hg38.fa\"\n",
    "vcf_file = os.path.join(training_dir_hg37, \"example_10.vcf\")\n",
    "lmdb_mmsplice = os.path.join(training_dir_hg37, \"lmdb/MMSplice_deltaLogitPSI\")\n",
    "if not os.path.exists(lmdb_mmsplice):\n",
    "    os.makedirs(lmdb_mmsplice)\n",
    "\n",
    "model = get_model(\"MMSplice/deltaLogitPSI\")\n",
    "dl_kwargs = {'gtf_file': gtf_file, 'fasta_file': fasta_file, 'vcf_file': vcf_file}\n",
    "dataloader = model.default_dataloader\n",
    "# dl = model.default_dataloader(**dl_kwargs)"
   ]
  },
  {
   "cell_type": "code",
   "execution_count": null,
   "metadata": {},
   "outputs": [],
   "source": [
    "%%time\n",
    "pred = model.pipeline.predict(dl_kwargs, batch_size=4, num_workers=64)"
   ]
  },
  {
   "cell_type": "markdown",
   "metadata": {},
   "source": [
    "## Get predictions from their package"
   ]
  },
  {
   "cell_type": "code",
   "execution_count": null,
   "metadata": {},
   "outputs": [
    {
     "name": "stderr",
     "output_type": "stream",
     "text": [
      "Using TensorFlow backend.\n",
      "/opt/modules/i12g/anaconda/3-5.0.1/envs/kipoi-cadd-mms/lib/python3.6/site-packages/sklearn/base.py:251: UserWarning: Trying to unpickle estimator HuberRegressor from version 0.19.2 when using version 0.20.0. This might lead to breaking code or invalid results. Use at your own risk.\n",
      "  UserWarning)\n",
      "/opt/modules/i12g/anaconda/3-5.0.1/envs/kipoi-cadd-mms/lib/python3.6/site-packages/sklearn/base.py:251: UserWarning: Trying to unpickle estimator StandardScaler from version 0.19.2 when using version 0.20.0. This might lead to breaking code or invalid results. Use at your own risk.\n",
      "  UserWarning)\n",
      "/opt/modules/i12g/anaconda/3-5.0.1/envs/kipoi-cadd-mms/lib/python3.6/site-packages/sklearn/base.py:251: UserWarning: Trying to unpickle estimator LogisticRegression from version 0.19.2 when using version 0.20.0. This might lead to breaking code or invalid results. Use at your own risk.\n",
      "  UserWarning)\n",
      "/opt/modules/i12g/anaconda/3-5.0.1/envs/kipoi-cadd-mms/lib/python3.6/site-packages/sklearn/base.py:251: UserWarning: Trying to unpickle estimator Pipeline from version 0.19.2 when using version 0.20.0. This might lead to breaking code or invalid results. Use at your own risk.\n",
      "  UserWarning)\n"
     ]
    }
   ],
   "source": [
    "# Import\n",
    "from mmsplice.vcf_dataloader import SplicingVCFDataloader\n",
    "from mmsplice import MMSplice, predict_all_table\n",
    "from mmsplice.utils import max_varEff\n",
    "\n",
    "# example files\n",
    "gtf = \"/s/genomes/human/hg38/Homo_sapiens.GRCh38.79.chr-prepend.gtf\"\n",
    "vcf = \"/s/project/kipoi-cadd/data/raw/v1.4/training_data/GRCh37/example_10.vcf\"\n",
    "fasta = \"/s/genomes/human/hg38/hg38.fa\"\n",
    "\n",
    "# dataloader to load variants from vcf\n",
    "dl = SplicingVCFDataloader(gtf,\n",
    "                          fasta,\n",
    "                          vcf,\n",
    "                          split_seq=False)\n",
    "\n",
    "# Specify model\n",
    "model = MMSplice(\n",
    "    exon_cut_l=0,\n",
    "    exon_cut_r=0,\n",
    "    acceptor_intron_cut=6,\n",
    "    donor_intron_cut=6,\n",
    "    acceptor_intron_len=50,\n",
    "    acceptor_exon_len=3,\n",
    "    donor_exon_len=5,\n",
    "    donor_intron_len=13)\n",
    "\n",
    "# Do prediction\n",
    "predictions = predict_all_table(model, dl, batch_size=1024, split_seq=False, assembly=False)"
   ]
  },
  {
   "cell_type": "code",
   "execution_count": null,
   "metadata": {},
   "outputs": [],
   "source": [
    "# Summerize with maximum effect size\n",
    "predictionsMax = max_varEff(predictions)"
   ]
  }
 ],
 "metadata": {
  "kernelspec": {
   "display_name": "Python [conda env:kipoi-cadd-mms]",
   "language": "python",
   "name": "conda-env-kipoi-cadd-mms-py"
  },
  "language_info": {
   "codemirror_mode": {
    "name": "ipython",
    "version": 3
   },
   "file_extension": ".py",
   "mimetype": "text/x-python",
   "name": "python",
   "nbconvert_exporter": "python",
   "pygments_lexer": "ipython3",
   "version": "3.6.7"
  }
 },
 "nbformat": 4,
 "nbformat_minor": 2
}
