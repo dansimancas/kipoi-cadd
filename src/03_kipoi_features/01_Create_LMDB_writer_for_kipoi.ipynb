{
 "cells": [
  {
   "cell_type": "code",
   "execution_count": 6,
   "metadata": {},
   "outputs": [],
   "source": [
    "import kipoi_veff, kipoi\n",
    "import pytest\n",
    "import os\n",
    "import sys\n",
    "import lmdb\n",
    "from tqdm import tqdm\n",
    "import kipoi_veff.snv_predict as sp\n",
    "import pandas as pd\n",
    "import pyarrow as pa\n",
    "from kipoi.readers import Reader\n",
    "from kipoi_veff import analyse_model_preds\n",
    "from kipoi_veff.scores import Diff, LogitRef\n",
    "from kipoi_cadd.writers import LmdbWriter\n",
    "from kipoi_cadd.utils import variant_id_string\n",
    "# Logit, LogitRef, LogitAlt, , DeepSEA_effect, RCScore, scoring_options\n",
    "from kipoi_veff.utils.io import SyncBatchWriter, SyncPredictonsWriter"
   ]
  },
  {
   "cell_type": "code",
   "execution_count": 7,
   "metadata": {},
   "outputs": [],
   "source": [
    "os.chdir(\"/data/ouga/home/ag_gagneur/simancas/Projects/kipoi-veff\")\n",
    "# pytest.main(['-k', 'test_other_writers'])"
   ]
  },
  {
   "cell_type": "code",
   "execution_count": 8,
   "metadata": {},
   "outputs": [],
   "source": [
    "INSTALL_REQ = False\n",
    "\n",
    "def test_other_writers(tmpdir):\n",
    "    if sys.version_info[0] == 2:\n",
    "        pytest.skip(\"rbp example not supported on python 2 \")\n",
    "    model_dir = \"tests/models/var_seqlen_model/\"\n",
    "    if INSTALL_REQ:\n",
    "        install_model_requirements(model_dir, \"dir\", and_dataloaders=True)\n",
    "\n",
    "    model = kipoi.get_model(model_dir, source=\"dir\")\n",
    "    # The preprocessor\n",
    "    Dataloader = kipoi.get_dataloader_factory(model_dir, source=\"dir\")\n",
    "\n",
    "    dataloader_arguments = {\n",
    "        \"fasta_file\": \"example_files/hg38_chr22.fa\",\n",
    "        \"preproc_transformer\": \"dataloader_files/encodeSplines.pkl\",\n",
    "        \"gtf_file\": \"example_files/gencode_v25_chr22.gtf.pkl.gz\",\n",
    "        \"intervals_file\": \"example_files/variant_centered_intervals.tsv\"\n",
    "    }\n",
    "    dataloader_arguments = {k: model_dir + v for k, v in dataloader_arguments.items()}\n",
    "    vcf_path = model_dir + \"example_files/variants.vcf\"\n",
    "    ref_out_vcf_fpath = model_dir + \"example_files/variants_ref_out.vcf\"\n",
    "\n",
    "    vcf_path = kipoi_veff.ensure_tabixed_vcf(vcf_path)\n",
    "    model_info = kipoi_veff.ModelInfoExtractor(model, Dataloader)\n",
    "\n",
    "    from kipoi.writers import HDF5BatchWriter, TsvBatchWriter, MultipleBatchWriter\n",
    "\n",
    "    h5_path = os.path.join(str(tmpdir), 'preds.h5')\n",
    "    tsv_path = os.path.join(str(tmpdir), 'preds.tsv')\n",
    "    lmdb_path = os.path.join(str(tmpdir), 'lmdb/')\n",
    "    my_writer = LmdbBatchWriter(lmdb_path, \"var_seqlen\")\n",
    "    writer = SyncBatchWriter(AsyncSyncPredictionsWriter(my_writer))\n",
    "    # writer = SyncBatchWriter(MultipleBatchWriter([HDF5BatchWriter(h5_path),\n",
    "    #                                               TsvBatchWriter(tsv_path)]))\n",
    "    # writer = kipoi_veff.VcfWriter(model, vcf_path, out_vcf_fpath, standardise_var_id=True)\n",
    "    # writer = LmdbWriter(lmdb_path, \"var_seqlen\")\n",
    "    \n",
    "    vcf_to_region = None\n",
    "    with pytest.raises(Exception):\n",
    "        # This has to raise an exception as the sequence length is None.\n",
    "        vcf_to_region = kipoi_veff.SnvCenteredRg(model_info)\n",
    "    output = sp.predict_snvs(model, Dataloader, vcf_path, dataloader_args=dataloader_arguments,\n",
    "                    evaluation_function=analyse_model_preds, batch_size=32,\n",
    "                    vcf_to_region=vcf_to_region,\n",
    "                    evaluation_function_kwargs={'diff_types': {'diff': Diff(\"mean\"), 'logitRef': LogitRef(\"max\")}},\n",
    "                    return_predictions=True,\n",
    "                    sync_pred_writer=writer)\n",
    "    return output"
   ]
  },
  {
   "cell_type": "code",
   "execution_count": 24,
   "metadata": {},
   "outputs": [
    {
     "name": "stderr",
     "output_type": "stream",
     "text": [
      "  0%|          | 0/1 [00:00<?, ?it/s]INFO:2019-01-16 13:44:00,276:genomelake] Running landmark extractors..\n",
      "/opt/modules/i12g/anaconda/3-5.0.1/envs/kipoi-cadd2/lib/python3.6/site-packages/concise/utils/position.py:62: FutureWarning: from_items is deprecated. Please use DataFrame.from_dict(dict(items), ...) instead. DataFrame.from_dict(OrderedDict(items)) may be used to preserve the key order.\n",
      "  (\"strand\", gtf.strand)])\n",
      "INFO:2019-01-16 13:44:00,298:genomelake] Done!\n"
     ]
    },
    {
     "name": "stdout",
     "output_type": "stream",
     "text": [
      "\u001b[33mWARNING\u001b[0m \u001b[44m[kipoi_veff.utils.mutators]\u001b[0m Variant reference allele is not the allele present in sequence for:\n",
      "pp_line              0\n",
      "varpos_rel          49\n",
      "ref                  A\n",
      "alt                  T\n",
      "start         21541541\n",
      "end           21541641\n",
      "id                   0\n",
      "do_mutate         True\n",
      "strand               .\n",
      "Name: 0, dtype: object\n",
      "Sequence:\n",
      "TACCTATTTGGGTTTTCACTAGTAAGCAGTTGGTTTGTAAGCAGTTGGTAATTTTAGTTTGTCTGGGTTTCAGCCATGAATATTCTATTGTAAACTTAATT\u001b[0m\n",
      "\u001b[33mWARNING\u001b[0m \u001b[44m[kipoi_veff.utils.mutators]\u001b[0m Variant reference allele is not the allele present in sequence for:\n",
      "pp_line              1\n",
      "varpos_rel          49\n",
      "ref                  C\n",
      "alt                  C\n",
      "start         21541903\n",
      "end           21542003\n",
      "id                   1\n",
      "do_mutate         True\n",
      "strand               .\n",
      "Name: 1, dtype: object\n",
      "Sequence:\n",
      "GTAGATACGGGGTTTCAACATGTTGCCCAGGCTGGTCTTGAATTCCTGTCCTCAAGCGATCCACTTGCCTCGCCTCCCAAAGTGCTGAGATTACAAGTATG\u001b[0m\n",
      "\u001b[33mWARNING\u001b[0m \u001b[44m[kipoi_veff.utils.mutators]\u001b[0m Variant reference allele is not the allele present in sequence for:\n",
      "pp_line              2\n",
      "varpos_rel          49\n",
      "ref                  T\n",
      "alt                  G\n",
      "start         30630171\n",
      "end           30630271\n",
      "id                   2\n",
      "do_mutate         True\n",
      "strand               .\n",
      "Name: 2, dtype: object\n",
      "Sequence:\n",
      "GCCCTCAGACTCCCTTCACCCCAAGGTGTGCCATCCTCTCCATTCCACCTAGGCCTGTCCAGGCCTCGCTTGCTTAATCCATAGTCTTCAGAGCCACCTGT\u001b[0m\n",
      "\u001b[33mWARNING\u001b[0m \u001b[44m[kipoi_veff.utils.mutators]\u001b[0m Variant reference allele is not the allele present in sequence for:\n",
      "pp_line              3\n",
      "varpos_rel          49\n",
      "ref                  A\n",
      "alt                  G\n",
      "start         30630652\n",
      "end           30630752\n",
      "id                   3\n",
      "do_mutate         True\n",
      "strand               .\n",
      "Name: 3, dtype: object\n",
      "Sequence:\n",
      "GCTTGGGTGACAGAGTAAGACTCTATCTTAAAAATAAAATAAAATTTATATATTTTTATTTATTTTTTTTTTGCTTTAAAAATTCTTTAATTTGATACAGT\u001b[0m\n",
      "\u001b[33mWARNING\u001b[0m \u001b[44m[kipoi_veff.utils.mutators]\u001b[0m Variant reference allele is not the allele present in sequence for:\n",
      "pp_line              4\n",
      "varpos_rel          49\n",
      "ref                  C\n",
      "alt                  A\n",
      "start         35503174\n",
      "end           35503274\n",
      "id                   4\n",
      "do_mutate         True\n",
      "strand               .\n",
      "Name: 4, dtype: object\n",
      "Sequence:\n",
      "GCTTGATTTTTCCCTTCTTGTGTCAATGTCTTATTAAAAGTGTGAATCTCTATTTTATATGTAGAGTCTGAATGTAGAAATGGAACCATCTTGTCCACAGG\u001b[0m\n",
      "\u001b[33mWARNING\u001b[0m \u001b[44m[kipoi_veff.utils.mutators]\u001b[0m Variant reference allele is not the allele present in sequence for:\n",
      "pp_line              5\n",
      "varpos_rel          49\n",
      "ref                  C\n",
      "alt                  A\n",
      "start         36702088\n",
      "end           36702188\n",
      "id                   5\n",
      "do_mutate         True\n",
      "strand               .\n",
      "Name: 5, dtype: object\n",
      "Sequence:\n",
      "AGAGACAATCTCTTGTCGTTTTCACCATGTCATAGATTATTCCAATGAGCATGTTTGAGGGGATGAGGGGGTGGCGGAGGCGAGGGAGTAGAGTATGGGTT\u001b[0m\n",
      "\u001b[33mWARNING\u001b[0m \u001b[44m[kipoi_veff.utils.mutators]\u001b[0m Variant reference allele is not the allele present in sequence for:\n",
      "pp_line              0\n",
      "varpos_rel          49\n",
      "ref                  A\n",
      "alt                  T\n",
      "start         21541541\n",
      "end           21541641\n",
      "id                   0\n",
      "do_mutate         True\n",
      "strand               .\n",
      "Name: 0, dtype: object\n",
      "Sequence:\n",
      "TACCTATTTGGGTTTTCACTAGTAAGCAGTTGGTTTGTAAGCAGTTGGTAATTTTAGTTTGTCTGGGTTTCAGCCATGAATATTCTATTGTAAACTTAATT\u001b[0m\n",
      "\u001b[33mWARNING\u001b[0m \u001b[44m[kipoi_veff.utils.mutators]\u001b[0m Variant reference allele is not the allele present in sequence for:\n",
      "pp_line              1\n",
      "varpos_rel          49\n",
      "ref                  C\n",
      "alt                  C\n",
      "start         21541903\n",
      "end           21542003\n",
      "id                   1\n",
      "do_mutate         True\n",
      "strand               .\n",
      "Name: 1, dtype: object\n",
      "Sequence:\n",
      "GTAGATACGGGGTTTCAACATGTTGCCCAGGCTGGTCTTGAATTCCTGTCCTCAAGCGATCCACTTGCCTCGCCTCCCAAAGTGCTGAGATTACAAGTATG\u001b[0m\n",
      "\u001b[33mWARNING\u001b[0m \u001b[44m[kipoi_veff.utils.mutators]\u001b[0m Variant reference allele is not the allele present in sequence for:\n",
      "pp_line              2\n",
      "varpos_rel          49\n",
      "ref                  T\n",
      "alt                  G\n",
      "start         30630171\n",
      "end           30630271\n",
      "id                   2\n",
      "do_mutate         True\n",
      "strand               .\n",
      "Name: 2, dtype: object\n",
      "Sequence:\n",
      "GCCCTCAGACTCCCTTCACCCCAAGGTGTGCCATCCTCTCCATTCCACCTAGGCCTGTCCAGGCCTCGCTTGCTTAATCCATAGTCTTCAGAGCCACCTGT\u001b[0m\n",
      "\u001b[33mWARNING\u001b[0m \u001b[44m[kipoi_veff.utils.mutators]\u001b[0m Variant reference allele is not the allele present in sequence for:\n",
      "pp_line              3\n",
      "varpos_rel          49\n",
      "ref                  A\n",
      "alt                  G\n",
      "start         30630652\n",
      "end           30630752\n",
      "id                   3\n",
      "do_mutate         True\n",
      "strand               .\n",
      "Name: 3, dtype: object\n",
      "Sequence:\n",
      "GCTTGGGTGACAGAGTAAGACTCTATCTTAAAAATAAAATAAAATTTATATATTTTTATTTATTTTTTTTTTGCTTTAAAAATTCTTTAATTTGATACAGT\u001b[0m\n",
      "\u001b[33mWARNING\u001b[0m \u001b[44m[kipoi_veff.utils.mutators]\u001b[0m Variant reference allele is not the allele present in sequence for:\n",
      "pp_line              4\n",
      "varpos_rel          49\n",
      "ref                  C\n",
      "alt                  A\n",
      "start         35503174\n",
      "end           35503274\n",
      "id                   4\n",
      "do_mutate         True\n",
      "strand               .\n",
      "Name: 4, dtype: object\n",
      "Sequence:\n",
      "GCTTGATTTTTCCCTTCTTGTGTCAATGTCTTATTAAAAGTGTGAATCTCTATTTTATATGTAGAGTCTGAATGTAGAAATGGAACCATCTTGTCCACAGG\u001b[0m\n",
      "\u001b[33mWARNING\u001b[0m \u001b[44m[kipoi_veff.utils.mutators]\u001b[0m Variant reference allele is not the allele present in sequence for:\n",
      "pp_line              5\n",
      "varpos_rel          49\n",
      "ref                  C\n",
      "alt                  A\n",
      "start         36702088\n",
      "end           36702188\n",
      "id                   5\n",
      "do_mutate         True\n",
      "strand               .\n",
      "Name: 5, dtype: object\n",
      "Sequence:\n",
      "AGAGACAATCTCTTGTCGTTTTCACCATGTCATAGATTATTCCAATGAGCATGTTTGAGGGGATGAGGGGGTGGCGGAGGCGAGGGAGTAGAGTATGGGTT\u001b[0m\n"
     ]
    },
    {
     "name": "stderr",
     "output_type": "stream",
     "text": [
      "/data/nasif12/home_if12/simancas/Projects/kipoi-veff/kipoi_veff/scores.py:127: UserWarning: Using log_odds on model outputs that are not bound [0,1]\n",
      "  warnings.warn(\"Using log_odds on model outputs that are not bound [0,1]\")\n",
      "100%|██████████| 1/1 [00:00<00:00,  3.07it/s]"
     ]
    },
    {
     "name": "stdout",
     "output_type": "stream",
     "text": [
      "[Variant(chr22:21541590 A/T), Variant(chr22:21541952 C/C), Variant(chr22:30630220 T/G), Variant(chr22:30630701 A/G), Variant(chr22:35503223 C/A), Variant(chr22:36702137 C/A)]\n"
     ]
    },
    {
     "name": "stderr",
     "output_type": "stream",
     "text": [
      "100%|██████████| 5/5 [00:00<00:00, 961.51it/s]\n",
      "\n"
     ]
    }
   ],
   "source": [
    "tmpdir = \"/tmp/kipoi-veff/test_KipoiLmdbDataset\"\n",
    "out, batch = test_other_writers(tmpdir)"
   ]
  },
  {
   "cell_type": "code",
   "execution_count": null,
   "metadata": {},
   "outputs": [],
   "source": [
    "%%time\n",
    "reader = LmdbReader(tmpdir + \"lmdb\")\n",
    "it = reader.single_iter()\n",
    "b = next(it)\n",
    "ex = (str(b[0], encoding=\"ascii\"), pa.deserialize(b[1]))"
   ]
  },
  {
   "cell_type": "code",
   "execution_count": 46,
   "metadata": {},
   "outputs": [
    {
     "data": {
      "text/plain": [
       "\"22:21541590:A:['T']\""
      ]
     },
     "execution_count": 46,
     "metadata": {},
     "output_type": "execute_result"
    }
   ],
   "source": [
    "print(ex[0], ex[1].values)"
   ]
  },
  {
   "cell_type": "code",
   "execution_count": 54,
   "metadata": {},
   "outputs": [],
   "source": [
    "from cyvcf2 import VCF\n",
    "from kipoi_cadd.utils import variant_id_string"
   ]
  },
  {
   "cell_type": "code",
   "execution_count": 38,
   "metadata": {},
   "outputs": [
    {
     "data": {
      "text/plain": [
       "Variant(chr22:21541590 A/T)"
      ]
     },
     "execution_count": 38,
     "metadata": {},
     "output_type": "execute_result"
    }
   ],
   "source": [
    "model_dir = \"tests/models/var_seqlen_model/\"\n",
    "vcf_path = model_dir + \"example_files/variants.vcf\"\n",
    "var_it = VCF(vcf_path)\n",
    "var = next(var_it)\n",
    "var"
   ]
  },
  {
   "cell_type": "markdown",
   "metadata": {},
   "source": [
    "## Try AsyncBatchWriter"
   ]
  },
  {
   "cell_type": "code",
   "execution_count": 11,
   "metadata": {},
   "outputs": [
    {
     "name": "stderr",
     "output_type": "stream",
     "text": [
      "INFO:2019-01-13 16:18:47,108:genomelake] Running landmark extractors..\n",
      "/opt/modules/i12g/anaconda/3-5.0.1/envs/kipoi-cadd2/lib/python3.6/site-packages/concise/utils/position.py:62: FutureWarning: from_items is deprecated. Please use DataFrame.from_dict(dict(items), ...) instead. DataFrame.from_dict(OrderedDict(items)) may be used to preserve the key order.\n",
      "  (\"strand\", gtf.strand)])\n",
      "INFO:2019-01-13 16:18:47,123:genomelake] Done!\n"
     ]
    }
   ],
   "source": [
    "dl_batch = next(it)\n",
    "pred_batch_array = res"
   ]
  },
  {
   "cell_type": "code",
   "execution_count": 3,
   "metadata": {},
   "outputs": [
    {
     "ename": "NameError",
     "evalue": "name 'predictions' is not defined",
     "output_type": "error",
     "traceback": [
      "\u001b[0;31m---------------------------------------------------------------------------\u001b[0m",
      "\u001b[0;31mNameError\u001b[0m                                 Traceback (most recent call last)",
      "\u001b[0;32m<ipython-input-3-e5f7bfc3c24f>\u001b[0m in \u001b[0;36m<module>\u001b[0;34m\u001b[0m\n\u001b[1;32m      6\u001b[0m \u001b[0mtmpdir\u001b[0m \u001b[0;34m=\u001b[0m \u001b[0;34m\"/tmp/kipoi-veff/test_AsyncBatchWriter/lmdb\"\u001b[0m\u001b[0;34m\u001b[0m\u001b[0m\n\u001b[1;32m      7\u001b[0m \u001b[0mwriter\u001b[0m \u001b[0;34m=\u001b[0m \u001b[0mAsyncSyncPredictionsWriter\u001b[0m\u001b[0;34m(\u001b[0m\u001b[0mLmdbBatchWriter\u001b[0m\u001b[0;34m(\u001b[0m\u001b[0mtmpdir\u001b[0m\u001b[0;34m,\u001b[0m \u001b[0;34m'async'\u001b[0m\u001b[0;34m)\u001b[0m\u001b[0;34m)\u001b[0m\u001b[0;34m\u001b[0m\u001b[0m\n\u001b[0;32m----> 8\u001b[0;31m \u001b[0mwriter\u001b[0m\u001b[0;34m.\u001b[0m\u001b[0mbatch_write\u001b[0m\u001b[0;34m(\u001b[0m\u001b[0mpredictions\u001b[0m\u001b[0;34m,\u001b[0m \u001b[0mrecords\u001b[0m\u001b[0;34m,\u001b[0m \u001b[0mline_ids\u001b[0m\u001b[0;34m)\u001b[0m\u001b[0;34m\u001b[0m\u001b[0m\n\u001b[0m\u001b[1;32m      9\u001b[0m \u001b[0mwriter\u001b[0m\u001b[0;34m.\u001b[0m\u001b[0mbatch_write\u001b[0m\u001b[0;34m(\u001b[0m\u001b[0mpredictions\u001b[0m\u001b[0;34m,\u001b[0m \u001b[0mrecords\u001b[0m\u001b[0;34m,\u001b[0m \u001b[0mline_ids\u001b[0m\u001b[0;34m)\u001b[0m\u001b[0;34m\u001b[0m\u001b[0m\n\u001b[1;32m     10\u001b[0m \u001b[0mwriter\u001b[0m\u001b[0;34m.\u001b[0m\u001b[0mclose\u001b[0m\u001b[0;34m(\u001b[0m\u001b[0;34m)\u001b[0m\u001b[0;34m\u001b[0m\u001b[0m\n",
      "\u001b[0;31mNameError\u001b[0m: name 'predictions' is not defined"
     ]
    }
   ],
   "source": [
    "# Standalone script\n",
    "# from kipoi.writers import AsyncBatchWriter\n",
    "from kipoi_cadd.writers import LmdbBatchWriter, AsyncSyncPredictionsWriter\n",
    "import tempfile\n",
    "\n",
    "tmpdir = \"/tmp/kipoi-veff/test_AsyncBatchWriter/lmdb\"\n",
    "writer = AsyncSyncPredictionsWriter(LmdbBatchWriter(tmpdir, 'async'))\n",
    "writer.batch_write(predictions, records, line_ids)\n",
    "writer.batch_write(predictions, records, line_ids)\n",
    "writer.close()"
   ]
  },
  {
   "cell_type": "code",
   "execution_count": 28,
   "metadata": {},
   "outputs": [],
   "source": [
    "from kipoi_cadd.readers import LmdbReader\n",
    "rdr = LmdbReader(tmpdir)\n",
    "it = rdr.single_iter()\n",
    "ele = next(it)"
   ]
  },
  {
   "cell_type": "code",
   "execution_count": 29,
   "metadata": {},
   "outputs": [
    {
     "data": {
      "text/plain": [
       "{'diff': var_seqlen:diff_rbp_prb    0.017238\n",
       " Name: 0, dtype: float32, 'logitRef': var_seqlen:logitRef_rbp_prb   NaN\n",
       " Name: 0, dtype: float32}"
      ]
     },
     "execution_count": 29,
     "metadata": {},
     "output_type": "execute_result"
    }
   ],
   "source": [
    "pa.deserialize(ele[1])"
   ]
  },
  {
   "cell_type": "code",
   "execution_count": 16,
   "metadata": {},
   "outputs": [],
   "source": [
    "predictions, records, line_ids = batch"
   ]
  },
  {
   "cell_type": "code",
   "execution_count": 23,
   "metadata": {},
   "outputs": [
    {
     "data": {
      "text/plain": [
       "[\"22:21541590:A:['T']\",\n",
       " \"22:21541952:C:['C']\",\n",
       " \"22:30630220:T:['G']\",\n",
       " \"22:30630701:A:['G']\",\n",
       " \"22:35503223:C:['A']\",\n",
       " \"22:36702137:C:['A']\"]"
      ]
     },
     "execution_count": 23,
     "metadata": {},
     "output_type": "execute_result"
    }
   ],
   "source": [
    "records = [variant_id_string(r.CHROM, r.POS, r.REF, r.ALT) for r in records]\n",
    "records"
   ]
  },
  {
   "cell_type": "code",
   "execution_count": 24,
   "metadata": {},
   "outputs": [],
   "source": [
    "batch = predictions, records, line_ids"
   ]
  },
  {
   "cell_type": "code",
   "execution_count": 21,
   "metadata": {},
   "outputs": [
    {
     "name": "stderr",
     "output_type": "stream",
     "text": [
      "100%|██████████| 6/6 [00:00<00:00, 346.57it/s]"
     ]
    },
    {
     "name": "stdout",
     "output_type": "stream",
     "text": [
      "22:21541590:A:['T']\n",
      "{'diff': var_seqlen:diff_rbp_prb    0.017238\n",
      "Name: 0, dtype: float32, 'logitRef': var_seqlen:logitRef_rbp_prb   NaN\n",
      "Name: 0, dtype: float32}\n",
      "22:21541952:C:['C']\n",
      "{'diff': var_seqlen:diff_rbp_prb    0.0\n",
      "Name: 1, dtype: float32, 'logitRef': var_seqlen:logitRef_rbp_prb   NaN\n",
      "Name: 1, dtype: float32}\n",
      "22:30630220:T:['G']\n",
      "{'diff': var_seqlen:diff_rbp_prb    0.017868\n",
      "Name: 2, dtype: float32, 'logitRef': var_seqlen:logitRef_rbp_prb   -1.574677\n",
      "Name: 2, dtype: float32}\n",
      "22:30630701:A:['G']\n",
      "{'diff': var_seqlen:diff_rbp_prb    0.032175\n",
      "Name: 3, dtype: float32, 'logitRef': var_seqlen:logitRef_rbp_prb   NaN\n",
      "Name: 3, dtype: float32}\n",
      "22:35503223:C:['A']\n",
      "{'diff': var_seqlen:diff_rbp_prb   -0.029189\n",
      "Name: 4, dtype: float32, 'logitRef': var_seqlen:logitRef_rbp_prb   -0.080525\n",
      "Name: 4, dtype: float32}\n",
      "22:36702137:C:['A']\n",
      "{'diff': var_seqlen:diff_rbp_prb   -0.078876\n",
      "Name: 5, dtype: float32, 'logitRef': var_seqlen:logitRef_rbp_prb   -1.199388\n",
      "Name: 5, dtype: float32}\n"
     ]
    },
    {
     "name": "stderr",
     "output_type": "stream",
     "text": [
      "\n"
     ]
    }
   ],
   "source": [
    "for var_num, var in tqdm(enumerate(records), total=len(records)):\n",
    "    variant_id = variant_id_string(var.CHROM, var.POS, var.REF, var.ALT)\n",
    "    print(variant_id)\n",
    "    annos = {}\n",
    "    # Obtain predictions for this variant...\n",
    "    for key, preds in predictions.items():\n",
    "        annos[key] = preds.iloc[var_num, :]\n",
    "    print(annos)"
   ]
  },
  {
   "cell_type": "code",
   "execution_count": null,
   "metadata": {},
   "outputs": [],
   "source": []
  }
 ],
 "metadata": {
  "kernelspec": {
   "display_name": "Python [conda env:kipoi-cadd2]",
   "language": "python",
   "name": "conda-env-kipoi-cadd2-py"
  },
  "language_info": {
   "codemirror_mode": {
    "name": "ipython",
    "version": 3
   },
   "file_extension": ".py",
   "mimetype": "text/x-python",
   "name": "python",
   "nbconvert_exporter": "python",
   "pygments_lexer": "ipython3",
   "version": "3.6.6"
  }
 },
 "nbformat": 4,
 "nbformat_minor": 2
}
