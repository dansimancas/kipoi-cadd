{
 "cells": [
  {
   "cell_type": "code",
   "execution_count": 1,
   "metadata": {},
   "outputs": [
    {
     "name": "stderr",
     "output_type": "stream",
     "text": [
      "Using TensorFlow backend.\n"
     ]
    }
   ],
   "source": [
    "import kipoi_veff, kipoi\n",
    "import pytest\n",
    "import os\n",
    "import sys\n",
    "import lmdb\n",
    "from tqdm import tqdm\n",
    "import kipoi_veff.snv_predict as sp\n",
    "import pandas as pd\n",
    "import pyarrow as pa\n",
    "from kipoi.readers import Reader\n",
    "from kipoi_veff import analyse_model_preds\n",
    "from kipoi_veff.scores import Diff, LogitRef\n",
    "# from kipoi_cadd.writers import LmdbWriter\n",
    "from kipoi_cadd.utils import variant_id_string\n",
    "# Logit, LogitRef, LogitAlt, , DeepSEA_effect, RCScore, scoring_options\n",
    "from kipoi_veff.utils.io import SyncBatchWriter, SyncPredictonsWriter"
   ]
  },
  {
   "cell_type": "code",
   "execution_count": 2,
   "metadata": {},
   "outputs": [],
   "source": [
    "os.chdir(\"/data/ouga/home/ag_gagneur/simancas/Projects/kipoi-veff\")\n",
    "# pytest.main(['-k', 'test_other_writers'])"
   ]
  },
  {
   "cell_type": "code",
   "execution_count": 6,
   "metadata": {},
   "outputs": [],
   "source": [
    "class LmdbWriter(SyncPredictonsWriter):\n",
    "    def __init__(self, lmdb_dir, map_size=10E8):\n",
    "        self.lmdb_dir = lmdb_dir\n",
    "        self.map_size = map_size\n",
    "    \n",
    "    def __call__(self, predictions, records, line_ids=None):\n",
    "        import pyarrow as pa\n",
    "        \n",
    "        self.env = lmdb.open(self.lmdb_dir , map_size=self.map_size, max_dbs=0, lock=False)\n",
    "        with self.env.begin(write=True) as txn:\n",
    "            for var_num, var in tqdm(enumerate(records), total=len(records)):\n",
    "                variant_id = variant_id_string(var.CHROM, var.POS, var.REF, var.ALT)\n",
    "                annotations = {}\n",
    "                for p in predictions:\n",
    "                    # Verify there is a prediction for this variant...\n",
    "                    annotations[p] = predictions[p].iloc[var_num, :]\n",
    "\n",
    "                buf = pa.serialize(annotations).to_buffer()\n",
    "                txn.put(variant_id.encode('ascii'), buf)\n",
    "  \n",
    "    def close(self):\n",
    "        if self.env is not None:\n",
    "            self.env.close()\n",
    "\n",
    "\n",
    "class LmdbReader(Reader):\n",
    "    def __init__(self, lmdb_dir):\n",
    "        self.lmdb_dir = lmdb_dir\n",
    "        self.env = lmdb.open(self.lmdb_dir, readonly=True, lock=False)\n",
    "        self.txn = self.env.begin()\n",
    "        \n",
    "        \n",
    "    def __len__(self):\n",
    "        length = self.txn.stat()['entries']\n",
    "        return length\n",
    "    \n",
    "    def __del__(self):\n",
    "        if self.env is not None:\n",
    "            self.env.close()\n",
    "    \n",
    "    def single_iter(self):\n",
    "        return iter(self.txn.cursor())\n",
    "        \n",
    "    close = __del__"
   ]
  },
  {
   "cell_type": "code",
   "execution_count": 4,
   "metadata": {},
   "outputs": [],
   "source": [
    "INSTALL_REQ = False\n",
    "\n",
    "def test_other_writers(tmpdir):\n",
    "    if sys.version_info[0] == 2:\n",
    "        pytest.skip(\"rbp example not supported on python 2 \")\n",
    "    model_dir = \"tests/models/var_seqlen_model/\"\n",
    "    if INSTALL_REQ:\n",
    "        install_model_requirements(model_dir, \"dir\", and_dataloaders=True)\n",
    "\n",
    "    model = kipoi.get_model(model_dir, source=\"dir\")\n",
    "    # The preprocessor\n",
    "    Dataloader = kipoi.get_dataloader_factory(model_dir, source=\"dir\")\n",
    "\n",
    "    dataloader_arguments = {\n",
    "        \"fasta_file\": \"example_files/hg38_chr22.fa\",\n",
    "        \"preproc_transformer\": \"dataloader_files/encodeSplines.pkl\",\n",
    "        \"gtf_file\": \"example_files/gencode_v25_chr22.gtf.pkl.gz\",\n",
    "        \"intervals_file\": \"example_files/variant_centered_intervals.tsv\"\n",
    "    }\n",
    "    dataloader_arguments = {k: model_dir + v for k, v in dataloader_arguments.items()}\n",
    "    vcf_path = model_dir + \"example_files/variants.vcf\"\n",
    "    ref_out_vcf_fpath = model_dir + \"example_files/variants_ref_out.vcf\"\n",
    "\n",
    "    vcf_path = kipoi_veff.ensure_tabixed_vcf(vcf_path)\n",
    "    model_info = kipoi_veff.ModelInfoExtractor(model, Dataloader)\n",
    "\n",
    "    from kipoi.writers import HDF5BatchWriter, TsvBatchWriter, MultipleBatchWriter\n",
    "\n",
    "    h5_path = os.path.join(str(tmpdir), 'preds.h5')\n",
    "    tsv_path = os.path.join(str(tmpdir), 'preds.tsv')\n",
    "    lmdb_path = os.path.join(str(tmpdir), 'lmdb/')\n",
    "    # writer = SyncBatchWriter(MultipleBatchWriter([HDF5BatchWriter(h5_path),\n",
    "    #                                               TsvBatchWriter(tsv_path)]))\n",
    "    # writer = kipoi_veff.VcfWriter(model, vcf_path, out_vcf_fpath, standardise_var_id=True)\n",
    "    writer = LmdbWriter(lmdb_path)\n",
    "    \n",
    "    vcf_to_region = None\n",
    "    with pytest.raises(Exception):\n",
    "        # This has to raise an exception as the sequence length is None.\n",
    "        vcf_to_region = kipoi_veff.SnvCenteredRg(model_info)\n",
    "    output = sp.predict_snvs(model, Dataloader, vcf_path, dataloader_args=dataloader_arguments,\n",
    "                    evaluation_function=analyse_model_preds, batch_size=32,\n",
    "                    vcf_to_region=vcf_to_region,\n",
    "                    evaluation_function_kwargs={'diff_types': {'diff': Diff(\"mean\"), 'logitRef': LogitRef(\"max\")}},\n",
    "                    return_predictions=True,\n",
    "                    sync_pred_writer=writer)\n",
    "    return output"
   ]
  },
  {
   "cell_type": "code",
   "execution_count": 8,
   "metadata": {},
   "outputs": [
    {
     "name": "stderr",
     "output_type": "stream",
     "text": [
      "  0%|          | 0/1 [00:00<?, ?it/s]INFO:2019-01-01 17:24:54,478:genomelake] Running landmark extractors..\n",
      "/opt/modules/i12g/anaconda/3-5.0.1/envs/kipoi-cadd2/lib/python3.6/site-packages/concise/utils/position.py:62: FutureWarning: from_items is deprecated. Please use DataFrame.from_dict(dict(items), ...) instead. DataFrame.from_dict(OrderedDict(items)) may be used to preserve the key order.\n",
      "  (\"strand\", gtf.strand)])\n",
      "INFO:2019-01-01 17:24:54,494:genomelake] Done!\n"
     ]
    },
    {
     "name": "stdout",
     "output_type": "stream",
     "text": [
      "\u001b[33mWARNING\u001b[0m \u001b[44m[kipoi_veff.utils.mutators]\u001b[0m Variant reference allele is not the allele present in sequence for:\n",
      "pp_line              0\n",
      "varpos_rel          49\n",
      "ref                  A\n",
      "alt                  T\n",
      "start         21541541\n",
      "end           21541641\n",
      "id                   0\n",
      "do_mutate         True\n",
      "strand               .\n",
      "Name: 0, dtype: object\n",
      "Sequence:\n",
      "TACCTATTTGGGTTTTCACTAGTAAGCAGTTGGTTTGTAAGCAGTTGGTAATTTTAGTTTGTCTGGGTTTCAGCCATGAATATTCTATTGTAAACTTAATT\u001b[0m\n",
      "\u001b[33mWARNING\u001b[0m \u001b[44m[kipoi_veff.utils.mutators]\u001b[0m Variant reference allele is not the allele present in sequence for:\n",
      "pp_line              1\n",
      "varpos_rel          49\n",
      "ref                  C\n",
      "alt                  C\n",
      "start         21541903\n",
      "end           21542003\n",
      "id                   1\n",
      "do_mutate         True\n",
      "strand               .\n",
      "Name: 1, dtype: object\n",
      "Sequence:\n",
      "GTAGATACGGGGTTTCAACATGTTGCCCAGGCTGGTCTTGAATTCCTGTCCTCAAGCGATCCACTTGCCTCGCCTCCCAAAGTGCTGAGATTACAAGTATG\u001b[0m\n",
      "\u001b[33mWARNING\u001b[0m \u001b[44m[kipoi_veff.utils.mutators]\u001b[0m Variant reference allele is not the allele present in sequence for:\n",
      "pp_line              2\n",
      "varpos_rel          49\n",
      "ref                  T\n",
      "alt                  G\n",
      "start         30630171\n",
      "end           30630271\n",
      "id                   2\n",
      "do_mutate         True\n",
      "strand               .\n",
      "Name: 2, dtype: object\n",
      "Sequence:\n",
      "GCCCTCAGACTCCCTTCACCCCAAGGTGTGCCATCCTCTCCATTCCACCTAGGCCTGTCCAGGCCTCGCTTGCTTAATCCATAGTCTTCAGAGCCACCTGT\u001b[0m\n",
      "\u001b[33mWARNING\u001b[0m \u001b[44m[kipoi_veff.utils.mutators]\u001b[0m Variant reference allele is not the allele present in sequence for:\n",
      "pp_line              3\n",
      "varpos_rel          49\n",
      "ref                  A\n",
      "alt                  G\n",
      "start         30630652\n",
      "end           30630752\n",
      "id                   3\n",
      "do_mutate         True\n",
      "strand               .\n",
      "Name: 3, dtype: object\n",
      "Sequence:\n",
      "GCTTGGGTGACAGAGTAAGACTCTATCTTAAAAATAAAATAAAATTTATATATTTTTATTTATTTTTTTTTTGCTTTAAAAATTCTTTAATTTGATACAGT\u001b[0m\n",
      "\u001b[33mWARNING\u001b[0m \u001b[44m[kipoi_veff.utils.mutators]\u001b[0m Variant reference allele is not the allele present in sequence for:\n",
      "pp_line              4\n",
      "varpos_rel          49\n",
      "ref                  C\n",
      "alt                  A\n",
      "start         35503174\n",
      "end           35503274\n",
      "id                   4\n",
      "do_mutate         True\n",
      "strand               .\n",
      "Name: 4, dtype: object\n",
      "Sequence:\n",
      "GCTTGATTTTTCCCTTCTTGTGTCAATGTCTTATTAAAAGTGTGAATCTCTATTTTATATGTAGAGTCTGAATGTAGAAATGGAACCATCTTGTCCACAGG\u001b[0m\n",
      "\u001b[33mWARNING\u001b[0m \u001b[44m[kipoi_veff.utils.mutators]\u001b[0m Variant reference allele is not the allele present in sequence for:\n",
      "pp_line              5\n",
      "varpos_rel          49\n",
      "ref                  C\n",
      "alt                  A\n",
      "start         36702088\n",
      "end           36702188\n",
      "id                   5\n",
      "do_mutate         True\n",
      "strand               .\n",
      "Name: 5, dtype: object\n",
      "Sequence:\n",
      "AGAGACAATCTCTTGTCGTTTTCACCATGTCATAGATTATTCCAATGAGCATGTTTGAGGGGATGAGGGGGTGGCGGAGGCGAGGGAGTAGAGTATGGGTT\u001b[0m\n",
      "\u001b[33mWARNING\u001b[0m \u001b[44m[kipoi_veff.utils.mutators]\u001b[0m Variant reference allele is not the allele present in sequence for:\n",
      "pp_line              0\n",
      "varpos_rel          49\n",
      "ref                  A\n",
      "alt                  T\n",
      "start         21541541\n",
      "end           21541641\n",
      "id                   0\n",
      "do_mutate         True\n",
      "strand               .\n",
      "Name: 0, dtype: object\n",
      "Sequence:\n",
      "TACCTATTTGGGTTTTCACTAGTAAGCAGTTGGTTTGTAAGCAGTTGGTAATTTTAGTTTGTCTGGGTTTCAGCCATGAATATTCTATTGTAAACTTAATT\u001b[0m\n",
      "\u001b[33mWARNING\u001b[0m \u001b[44m[kipoi_veff.utils.mutators]\u001b[0m Variant reference allele is not the allele present in sequence for:\n",
      "pp_line              1\n",
      "varpos_rel          49\n",
      "ref                  C\n",
      "alt                  C\n",
      "start         21541903\n",
      "end           21542003\n",
      "id                   1\n",
      "do_mutate         True\n",
      "strand               .\n",
      "Name: 1, dtype: object\n",
      "Sequence:\n",
      "GTAGATACGGGGTTTCAACATGTTGCCCAGGCTGGTCTTGAATTCCTGTCCTCAAGCGATCCACTTGCCTCGCCTCCCAAAGTGCTGAGATTACAAGTATG\u001b[0m\n",
      "\u001b[33mWARNING\u001b[0m \u001b[44m[kipoi_veff.utils.mutators]\u001b[0m Variant reference allele is not the allele present in sequence for:\n",
      "pp_line              2\n",
      "varpos_rel          49\n",
      "ref                  T\n",
      "alt                  G\n",
      "start         30630171\n",
      "end           30630271\n",
      "id                   2\n",
      "do_mutate         True\n",
      "strand               .\n",
      "Name: 2, dtype: object\n",
      "Sequence:\n",
      "GCCCTCAGACTCCCTTCACCCCAAGGTGTGCCATCCTCTCCATTCCACCTAGGCCTGTCCAGGCCTCGCTTGCTTAATCCATAGTCTTCAGAGCCACCTGT\u001b[0m\n",
      "\u001b[33mWARNING\u001b[0m \u001b[44m[kipoi_veff.utils.mutators]\u001b[0m Variant reference allele is not the allele present in sequence for:\n",
      "pp_line              3\n",
      "varpos_rel          49\n",
      "ref                  A\n",
      "alt                  G\n",
      "start         30630652\n",
      "end           30630752\n",
      "id                   3\n",
      "do_mutate         True\n",
      "strand               .\n",
      "Name: 3, dtype: object\n",
      "Sequence:\n",
      "GCTTGGGTGACAGAGTAAGACTCTATCTTAAAAATAAAATAAAATTTATATATTTTTATTTATTTTTTTTTTGCTTTAAAAATTCTTTAATTTGATACAGT\u001b[0m\n",
      "\u001b[33mWARNING\u001b[0m \u001b[44m[kipoi_veff.utils.mutators]\u001b[0m Variant reference allele is not the allele present in sequence for:\n",
      "pp_line              4\n",
      "varpos_rel          49\n",
      "ref                  C\n",
      "alt                  A\n",
      "start         35503174\n",
      "end           35503274\n",
      "id                   4\n",
      "do_mutate         True\n",
      "strand               .\n",
      "Name: 4, dtype: object\n",
      "Sequence:\n",
      "GCTTGATTTTTCCCTTCTTGTGTCAATGTCTTATTAAAAGTGTGAATCTCTATTTTATATGTAGAGTCTGAATGTAGAAATGGAACCATCTTGTCCACAGG\u001b[0m\n",
      "\u001b[33mWARNING\u001b[0m \u001b[44m[kipoi_veff.utils.mutators]\u001b[0m Variant reference allele is not the allele present in sequence for:\n",
      "pp_line              5\n",
      "varpos_rel          49\n",
      "ref                  C\n",
      "alt                  A\n",
      "start         36702088\n",
      "end           36702188\n",
      "id                   5\n",
      "do_mutate         True\n",
      "strand               .\n",
      "Name: 5, dtype: object\n",
      "Sequence:\n",
      "AGAGACAATCTCTTGTCGTTTTCACCATGTCATAGATTATTCCAATGAGCATGTTTGAGGGGATGAGGGGGTGGCGGAGGCGAGGGAGTAGAGTATGGGTT\u001b[0m\n"
     ]
    },
    {
     "name": "stderr",
     "output_type": "stream",
     "text": [
      "/data/nasif12/home_if12/simancas/Projects/kipoi-veff/kipoi_veff/scores.py:127: UserWarning: Using log_odds on model outputs that are not bound [0,1]\n",
      "  warnings.warn(\"Using log_odds on model outputs that are not bound [0,1]\")\n",
      "\n",
      "  0%|          | 0/6 [00:00<?, ?it/s]\u001b[A\n",
      "100%|██████████| 1/1 [00:00<00:00,  4.05it/s]\n"
     ]
    }
   ],
   "source": [
    "tmpdir = \"/tmp/kipoi-veff/\"\n",
    "out, res = test_other_writers(tmpdir)"
   ]
  },
  {
   "cell_type": "code",
   "execution_count": 98,
   "metadata": {},
   "outputs": [],
   "source": [
    "reader = LmdbReader(tmpdir + \"lmdb\")"
   ]
  },
  {
   "cell_type": "code",
   "execution_count": 99,
   "metadata": {},
   "outputs": [],
   "source": [
    "it = reader.single_iter()"
   ]
  },
  {
   "cell_type": "code",
   "execution_count": 101,
   "metadata": {},
   "outputs": [],
   "source": [
    "b = next(it)"
   ]
  },
  {
   "cell_type": "code",
   "execution_count": 109,
   "metadata": {},
   "outputs": [
    {
     "data": {
      "text/plain": [
       "{'diff': rbp_prb    0.0\n",
       " Name: 1, dtype: float32, 'logitRef': rbp_prb   NaN\n",
       " Name: 1, dtype: float32}"
      ]
     },
     "execution_count": 109,
     "metadata": {},
     "output_type": "execute_result"
    }
   ],
   "source": [
    "pa.deserialize(b[1])"
   ]
  },
  {
   "cell_type": "code",
   "execution_count": 108,
   "metadata": {},
   "outputs": [
    {
     "data": {
      "text/plain": [
       "\"22:21541952:C:['C']\""
      ]
     },
     "execution_count": 108,
     "metadata": {},
     "output_type": "execute_result"
    }
   ],
   "source": [
    "type(b[0])\n",
    "str(b[0], encoding=\"ascii\")"
   ]
  },
  {
   "cell_type": "code",
   "execution_count": 68,
   "metadata": {},
   "outputs": [
    {
     "name": "stdout",
     "output_type": "stream",
     "text": [
      "rbp_prb    0.0\n",
      "Name: 1, dtype: float32\n",
      "rbp_prb   NaN\n",
      "Name: 1, dtype: float32\n"
     ]
    }
   ],
   "source": [
    "for k in res:\n",
    "    print(res[k].iloc[1,:])"
   ]
  },
  {
   "cell_type": "code",
   "execution_count": 54,
   "metadata": {},
   "outputs": [],
   "source": [
    "from cyvcf2 import VCF\n",
    "from kipoi_cadd.utils import variant_id_string"
   ]
  },
  {
   "cell_type": "code",
   "execution_count": 38,
   "metadata": {},
   "outputs": [
    {
     "data": {
      "text/plain": [
       "Variant(chr22:21541590 A/T)"
      ]
     },
     "execution_count": 38,
     "metadata": {},
     "output_type": "execute_result"
    }
   ],
   "source": [
    "model_dir = \"tests/models/var_seqlen_model/\"\n",
    "vcf_path = model_dir + \"example_files/variants.vcf\"\n",
    "var_it = VCF(vcf_path)\n",
    "var = next(var_it)\n",
    "var"
   ]
  },
  {
   "cell_type": "code",
   "execution_count": 43,
   "metadata": {},
   "outputs": [
    {
     "name": "stdout",
     "output_type": "stream",
     "text": [
      "Variant(chr22:21541590 A/T)\n"
     ]
    }
   ],
   "source": [
    "print(var.__repr__())"
   ]
  },
  {
   "cell_type": "code",
   "execution_count": 57,
   "metadata": {},
   "outputs": [
    {
     "data": {
      "text/plain": [
       "\"22:21541590:A:['T']\""
      ]
     },
     "execution_count": 57,
     "metadata": {},
     "output_type": "execute_result"
    }
   ],
   "source": [
    "variant_id_string(var.CHROM, var.POS, var.REF, var.ALT)"
   ]
  },
  {
   "cell_type": "code",
   "execution_count": 53,
   "metadata": {},
   "outputs": [
    {
     "data": {
      "text/plain": [
       "'22'"
      ]
     },
     "execution_count": 53,
     "metadata": {},
     "output_type": "execute_result"
    }
   ],
   "source": [
    "var.CHROM.split('chr')[1]"
   ]
  }
 ],
 "metadata": {
  "kernelspec": {
   "display_name": "Python [conda env:kipoi-cadd2]",
   "language": "python",
   "name": "conda-env-kipoi-cadd2-py"
  },
  "language_info": {
   "codemirror_mode": {
    "name": "ipython",
    "version": 3
   },
   "file_extension": ".py",
   "mimetype": "text/x-python",
   "name": "python",
   "nbconvert_exporter": "python",
   "pygments_lexer": "ipython3",
   "version": "3.6.7"
  }
 },
 "nbformat": 4,
 "nbformat_minor": 2
}
