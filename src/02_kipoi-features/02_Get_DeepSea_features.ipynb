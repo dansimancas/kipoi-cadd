{
 "cells": [
  {
   "cell_type": "code",
   "execution_count": 1,
   "metadata": {},
   "outputs": [
    {
     "name": "stderr",
     "output_type": "stream",
     "text": [
      "Using TensorFlow backend.\n"
     ]
    }
   ],
   "source": [
    "from kipoi_veff import score_variants\n",
    "import pandas as pd\n",
    "from kipoi_cadd.utils import load_pickle, decompose_variant_string, generate_intervals_file\n",
    "from kipoi import get_model"
   ]
  },
  {
   "cell_type": "code",
   "execution_count": 2,
   "metadata": {},
   "outputs": [],
   "source": [
    "training_dir = \"/s/project/kipoi-cadd/data/raw/v1.3/training_data/\"\n",
    "sample_intervals_file = \"/data/nasif12/home_if12/simancas/.kipoi/models/DeepSEA/variantEffects/downloaded/example_files/intervals_file\"\n",
    "sample_fasta_file = \"/data/nasif12/home_if12/simancas/.kipoi/models/DeepSEA/variantEffects/downloaded/example_files/fasta_file\"\n",
    "kipoi_features_dir = \"/s/project/kipoi-cadd/data/processed/v1.3/kipoi_features/\"\n",
    "intervals_file = kipoi_features_dir + \"intervals_10k.tsv\"\n",
    "fasta_file = \"/s/genomes/human/hg19/ensembl_GRCh37.p13_release75/Homo_sapiens.GRCh37.75.dna.primary_assembly.fa\"\n",
    "shuff_10k_file = training_dir + \"ids_10k.pkl\""
   ]
  },
  {
   "cell_type": "code",
   "execution_count": 14,
   "metadata": {},
   "outputs": [
    {
     "name": "stdout",
     "output_type": "stream",
     "text": [
      "Using downloaded and verified file: /data/nasif12/home_if12/simancas/.kipoi/models/DeepSEA/variantEffects/downloaded/model_files/weights/35956ab9c28960b5a3693f470fe980c1\n"
     ]
    },
    {
     "name": "stderr",
     "output_type": "stream",
     "text": [
      "0.00B [00:00, ?B/s]"
     ]
    },
    {
     "name": "stdout",
     "output_type": "stream",
     "text": [
      "Downloading https://raw.githubusercontent.com/kipoi/kipoiseq/master/tests/data/intervals_51bp.tsv to /data/nasif12/home_if12/simancas/.kipoi/models/DeepSEA/variantEffects/downloaded/example_files/intervals_file\n"
     ]
    },
    {
     "name": "stderr",
     "output_type": "stream",
     "text": [
      "8.19kB [00:00, 20.0kB/s]                 \n",
      "303kB [00:00, 2.81MB/s]\n",
      "  0%|          | 0/1 [00:00<?, ?it/s]"
     ]
    },
    {
     "name": "stdout",
     "output_type": "stream",
     "text": [
      "Downloading https://raw.githubusercontent.com/kipoi/kipoiseq/master/tests/data/hg38_chr22_32000000_32300000.fa to /data/nasif12/home_if12/simancas/.kipoi/models/DeepSEA/variantEffects/downloaded/example_files/fasta_file\n"
     ]
    },
    {
     "name": "stderr",
     "output_type": "stream",
     "text": [
      "100%|██████████| 1/1 [00:00<00:00,  3.46it/s]\n"
     ]
    }
   ],
   "source": [
    "# To trigger the download of sample intervals and sample fasta files, we have to do this:\n",
    "model = get_model('DeepSEA/variantEffects')\n",
    "pred = model.pipeline.predict_example()"
   ]
  },
  {
   "cell_type": "code",
   "execution_count": 13,
   "metadata": {},
   "outputs": [
    {
     "data": {
      "text/html": [
       "<div>\n",
       "<style scoped>\n",
       "    .dataframe tbody tr th:only-of-type {\n",
       "        vertical-align: middle;\n",
       "    }\n",
       "\n",
       "    .dataframe tbody tr th {\n",
       "        vertical-align: top;\n",
       "    }\n",
       "\n",
       "    .dataframe thead th {\n",
       "        text-align: right;\n",
       "    }\n",
       "</style>\n",
       "<table border=\"1\" class=\"dataframe\">\n",
       "  <thead>\n",
       "    <tr style=\"text-align: right;\">\n",
       "      <th></th>\n",
       "      <th>chr</th>\n",
       "      <th>start</th>\n",
       "      <th>end</th>\n",
       "    </tr>\n",
       "  </thead>\n",
       "  <tbody>\n",
       "    <tr>\n",
       "      <th>0</th>\n",
       "      <td>chr22</td>\n",
       "      <td>136018</td>\n",
       "      <td>136069</td>\n",
       "    </tr>\n",
       "    <tr>\n",
       "      <th>1</th>\n",
       "      <td>chr22</td>\n",
       "      <td>136351</td>\n",
       "      <td>136402</td>\n",
       "    </tr>\n",
       "    <tr>\n",
       "      <th>2</th>\n",
       "      <td>chr22</td>\n",
       "      <td>137749</td>\n",
       "      <td>137800</td>\n",
       "    </tr>\n",
       "    <tr>\n",
       "      <th>3</th>\n",
       "      <td>chr22</td>\n",
       "      <td>134503</td>\n",
       "      <td>134554</td>\n",
       "    </tr>\n",
       "    <tr>\n",
       "      <th>4</th>\n",
       "      <td>chr22</td>\n",
       "      <td>139010</td>\n",
       "      <td>139061</td>\n",
       "    </tr>\n",
       "  </tbody>\n",
       "</table>\n",
       "</div>"
      ],
      "text/plain": [
       "     chr   start     end\n",
       "0  chr22  136018  136069\n",
       "1  chr22  136351  136402\n",
       "2  chr22  137749  137800\n",
       "3  chr22  134503  134554\n",
       "4  chr22  139010  139061"
      ]
     },
     "execution_count": 13,
     "metadata": {},
     "output_type": "execute_result"
    }
   ],
   "source": [
    "sample_intervals = pd.read_csv(sample_intervals_file, sep='\\t', header=None, names=['chr', 'start', 'end'])\n",
    "\"\"\"\n",
    "with open(sample_fasta_file, \"r\") as f:\n",
    "    for line in f:\n",
    "        print(line)\n",
    "        break\n",
    "\"\"\"\n",
    "sample_intervals.head()"
   ]
  },
  {
   "cell_type": "markdown",
   "metadata": {},
   "source": [
    "## Generate intervals file for the variants of our interest"
   ]
  },
  {
   "cell_type": "code",
   "execution_count": 32,
   "metadata": {},
   "outputs": [],
   "source": [
    "var_ids = load_pickle(shuff_10k_file)\n",
    "generate_intervals_file(var_ids, intervals_file, use_chr_word=False, header=None)"
   ]
  },
  {
   "cell_type": "code",
   "execution_count": null,
   "metadata": {},
   "outputs": [],
   "source": [
    "model = get_model('DeepSEA/variantEffects')\n",
    "dl_kwargs = {'intervals_file': intervals_file, 'fasta_file': fasta_file}"
   ]
  },
  {
   "cell_type": "code",
   "execution_count": 7,
   "metadata": {},
   "outputs": [
    {
     "data": {
      "text/plain": [
       "array([[3.98645550e-02, 5.88591094e-04, 8.94931033e-02, ...,\n",
       "        6.55408902e-03, 6.56132549e-02, 7.31519517e-03],\n",
       "       [1.02449907e-03, 2.00078313e-04, 1.07573438e-03, ...,\n",
       "        2.59452909e-02, 7.92154744e-02, 1.52810579e-04],\n",
       "       [6.32132776e-03, 1.06681315e-02, 7.64664495e-03, ...,\n",
       "        7.73444101e-02, 3.92744362e-01, 1.42737338e-02],\n",
       "       ...,\n",
       "       [1.20406123e-02, 1.59813259e-02, 1.28443195e-02, ...,\n",
       "        4.10337657e-01, 5.05032957e-01, 1.27899591e-02],\n",
       "       [4.51430771e-03, 3.04261479e-03, 5.15099289e-03, ...,\n",
       "        7.72295427e-03, 8.25386643e-02, 5.23434347e-03],\n",
       "       [3.54196847e-04, 3.60575541e-05, 2.24278177e-04, ...,\n",
       "        6.14551734e-03, 4.21312340e-02, 1.65928795e-04]], dtype=float32)"
      ]
     },
     "execution_count": 7,
     "metadata": {},
     "output_type": "execute_result"
    }
   ],
   "source": [
    "# Get the dataloader and instantiate it\n",
    "dl = model.default_dataloader(**{'intervals_file': intervals_file, 'fasta_file': fasta_file, 'num_chr_fasta': True})\n",
    "it = dl.batch_iter(batch_size=64)\n",
    "preds = None\n",
    "for batch in it:\n",
    "    if preds is None:\n",
    "        preds = model.predict_on_batch(batch['inputs'])\n",
    "    else:\n",
    "        preds = np.concatenate([preds, model.predict_on_batch(batch['inputs'])], axis=0)\n",
    "preds.shape"
   ]
  },
  {
   "cell_type": "code",
   "execution_count": null,
   "metadata": {},
   "outputs": [],
   "source": [
    "# Signature\n",
    "score_variants(model,\n",
    "               dl_args,\n",
    "               input_vcf,\n",
    "               output_vcf,\n",
    "               scores=[\"logit_ref\", \"logit_alt\", \"ref\", \"alt\", \"logit\", \"diff\"],\n",
    "               score_kwargs=None,\n",
    "               num_workers=0,\n",
    "               batch_size=32,\n",
    "               source='kipoi',\n",
    "               seq_length=None,\n",
    "               std_var_id=False,\n",
    "               restriction_bed=None,\n",
    "               return_predictions=False,\n",
    "               model_outputs = None)"
   ]
  }
 ],
 "metadata": {
  "kernelspec": {
   "display_name": "Python [conda env:kipoi-cadd2]",
   "language": "python",
   "name": "conda-env-kipoi-cadd2-py"
  },
  "language_info": {
   "codemirror_mode": {
    "name": "ipython",
    "version": 3
   },
   "file_extension": ".py",
   "mimetype": "text/x-python",
   "name": "python",
   "nbconvert_exporter": "python",
   "pygments_lexer": "ipython3",
   "version": "3.6.7"
  }
 },
 "nbformat": 4,
 "nbformat_minor": 2
}
