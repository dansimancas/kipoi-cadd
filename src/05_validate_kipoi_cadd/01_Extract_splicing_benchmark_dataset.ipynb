{
 "cells": [
  {
   "cell_type": "markdown",
   "metadata": {},
   "source": [
    "## Extract benchmark dataset for splicing"
   ]
  },
  {
   "cell_type": "code",
   "execution_count": 1,
   "metadata": {},
   "outputs": [],
   "source": [
    "import pandas as pd\n",
    "vep_anno = \"/s/project/kipoi-cadd/data/raw/v1.4/validation/clinVar-ExAC/clinvar_20180729_pathogenic_all_GRCh37_vep_annotated.vcf\"\n",
    "output = \"/s/project/kipoi-cadd/data/raw/v1.4/validation/clinVar-ExAC/clinvar_pathogenic_splice_site_GRCh37.vcf\"\n",
    "lines = \"\"\n",
    "with open(vep_anno, 'r') as f:\n",
    "    for l in f.readlines():\n",
    "        if l.startswith(\"#\"):\n",
    "            lines += l\n",
    "        elif \"splice\" in l:\n",
    "            lines += l\n",
    "with open(output, 'w') as o:\n",
    "    o.write(lines)"
   ]
  },
  {
   "cell_type": "code",
   "execution_count": 2,
   "metadata": {},
   "outputs": [
    {
     "name": "stdout",
     "output_type": "stream",
     "text": [
      "##fileformat=VCFv4.1\n",
      "##VEP=\"v95\" time=\"2019-01-23 15:12:27\" cache=\"/nfs/public/release/ensweb-data/latest/tools/grch37/e95/vep/cache/homo_sapiens/95_GRCh37\" db=\"homo_sapiens_core_95_37@hh-mysql-ens-grch37-web\" 1000genomes=\"phase3\" COSMIC=\"86\" ClinVar=\"201810\" ESP=\"20141103\" HGMD-PUBLIC=\"20174\" assembly=\"GRCh37.p13\" dbSNP=\"151\" gencode=\"GENCODE 19\" genebuild=\"2011-04\" gnomAD=\"170228\" polyphen=\"2.2.2\" regbuild=\"1.0\" sift=\"sift5.2.2\"\n",
      "##INFO=<ID=CSQ,Number=.,Type=String,Description=\"Consequence annotations from Ensembl VEP. Format: Allele|Consequence|IMPACT|SYMBOL|Gene|Feature_type|Feature|BIOTYPE|EXON|INTRON|HGVSc|HGVSp|cDNA_position|CDS_position|Protein_position|Amino_acids|Codons|Existing_variation|DISTANCE|STRAND|FLAGS|SYMBOL_SOURCE|HGNC_ID|TSL|APPRIS|SIFT|PolyPhen|AF|CLIN_SIG|SOMATIC|PHENO|PUBMED|MOTIF_NAME|MOTIF_POS|HIGH_INF_POS|MOTIF_SCORE_CHANGE\">\n",
      "#CHROM\tPOS\tID\tREF\tALT\tQUAL\tFILTER\tINFO\n",
      "1\t2338158\t.\tC\tG\t.\t.\tCSQ=G|splice_donor_variant|HIGH|PEX10|ENSG00000157911|Transcript|ENST00000288774|protein_coding||4/5||||||||rs869312935||-1||HGNC|8851||||||pathogenic||1|25356970||||,G|downstream_gene_variant|MODIFIER|RER1|ENSG00000157916|Transcript|ENST00000306256|protein_coding||||||||||rs869312935|3655|1|cds_end_NF|HGNC|30309||||||pathogenic||1|25356970||||,G|downstream_gene_variant|MODIFIER|RER1|ENSG00000157916|Transcript|ENST00000378512|protein_coding||||||||||rs869312935|2968|1||HGNC|30309||||||pathogenic||1|25356970||||,G|downstream_gene_variant|MODIFIER|RER1|ENSG00000157916|Transcript|ENST00000378513|protein_coding||||||||||rs869312935|2970|1||HGNC|30309||||||pathogenic||1|25356970||||,G|downstream_gene_variant|MODIFIER|RER1|ENSG00000157916|Transcript|ENST00000378518|protein_coding||||||||||rs869312935|4394|1||HGNC|30309||||||pathogenic||1|25356970||||,G|downstream_gene_variant|MODIFIER|RER1|ENSG00000157916|Transcript|ENST00000443438|protein_coding||||||||||rs869312935|4403|1|cds_end_NF|HGNC|30309||||||pathogenic||1|25356970||||,G|splice_donor_variant|HIGH|PEX10|ENSG00000157911|Transcript|ENST00000447513|protein_coding||4/5||||||||rs869312935||-1||HGNC|8851||||||pathogenic||1|25356970||||,G|downstream_gene_variant|MODIFIER|RER1|ENSG00000157916|Transcript|ENST00000462129|retained_intron||||||||||rs869312935|3492|1||HGNC|30309||||||pathogenic||1|25356970||||,G|downstream_gene_variant|MODIFIER|RER1|ENSG00000157916|Transcript|ENST00000488353|protein_coding||||||||||rs869312935|3503|1||HGNC|30309||||||pathogenic||1|25356970||||,G|downstream_gene_variant|MODIFIER|PEX10|ENSG00000157911|Transcript|ENST00000502666|nonsense_mediated_decay||||||||||rs869312935|1885|-1|cds_start_NF|HGNC|8851||||||pathogenic||1|25356970||||,G|downstream_gene_variant|MODIFIER|PEX10|ENSG00000157911|Transcript|ENST00000504111|processed_transcript||||||||||rs869312935|1916|-1||HGNC|8851||||||pathogenic||1|25356970||||,G|splice_donor_variant|HIGH|PEX10|ENSG00000157911|Transcript|ENST00000507596|protein_coding||4/5||||||||rs869312935||-1||HGNC|8851||||||pathogenic||1|25356970||||,G|downstream_gene_variant|MODIFIER|PEX10|ENSG00000157911|Transcript|ENST00000508384|protein_coding||||||||||rs869312935|1811|-1|cds_end_NF|HGNC|8851||||||pathogenic||1|25356970||||,G|splice_donor_variant&NMD_transcript_variant|HIGH|PEX10|ENSG00000157911|Transcript|ENST00000510434|nonsense_mediated_decay||4/4||||||||rs869312935||-1||HGNC|8851||||||pathogenic||1|25356970||||,G|downstream_gene_variant|MODIFIER|PEX10|ENSG00000157911|Transcript|ENST00000514502|nonsense_mediated_decay||||||||||rs869312935|2036|-1||HGNC|8851||||||pathogenic||1|25356970||||,G|downstream_gene_variant|MODIFIER|PEX10|ENSG00000157911|Transcript|ENST00000515760|processed_transcript||||||||||rs869312935|1864|-1||HGNC|8851||||||pathogenic||1|25356970||||,G|downstream_gene_variant|MODIFIER|RER1|ENSG00000157916|Transcript|ENST00000605895|protein_coding||||||||||rs869312935|1275|1||HGNC|30309||||||pathogenic||1|25356970||||,G|regulatory_region_variant|MODIFIER|||RegulatoryFeature|ENSR00000918889|CTCF_binding_site||||||||||rs869312935|||||||||||pathogenic||1|25356970||||\n",
      "1\t2339890\t.\tC\tT\t.\t.\tCSQ=T|splice_donor_variant|HIGH|PEX10|ENSG00000157911|Transcript|ENST00000288774|protein_coding||3/5||||||||rs267608183&CS982316&COSM6356993||-1||HGNC|8851||||||pathogenic|0&0&1|1&1&1|9683594||||,T|downstream_gene_variant|MODIFIER|RER1|ENSG00000157916|Transcript|ENST00000378512|protein_coding||||||||||rs267608183&CS982316&COSM6356993|4700|1||HGNC|30309||||||pathogenic|0&0&1|1&1&1|9683594||||,T|downstream_gene_variant|MODIFIER|RER1|ENSG00000157916|Transcript|ENST00000378513|protein_coding||||||||||rs267608183&CS982316&COSM6356993|4702|1||HGNC|30309||||||pathogenic|0&0&1|1&1&1|9683594||||,T|splice_donor_variant|HIGH|PEX10|ENSG00000157911|Transcript|ENST00000447513|protein_coding||3/5||||||||rs267608183&CS982316&COSM6356993||-1||HGNC|8851||||||pathogenic|0&0&1|1&1&1|9683594||||,T|downstream_gene_variant|MODIFIER|PEX10|ENSG00000157911|Transcript|ENST00000502666|nonsense_mediated_decay||||||||||rs267608183&CS982316&COSM6356993|153|-1|cds_start_NF|HGNC|8851||||||pathogenic|0&0&1|1&1&1|9683594||||,T|downstream_gene_variant|MODIFIER|PEX10|ENSG00000157911|Transcript|ENST00000504111|processed_transcript||||||||||rs267608183&CS982316&COSM6356993|184|-1||HGNC|8851||||||pathogenic|0&0&1|1&1&1|9683594||||,T|splice_donor_variant|HIGH|PEX10|ENSG00000157911|Transcript|ENST00000507596|protein_coding||3/5||||||||rs267608183&CS982316&COSM6356993||-1||HGNC|8851||||||pathogenic|0&0&1|1&1&1|9683594||||,T|downstream_gene_variant|MODIFIER|PEX10|ENSG00000157911|Transcript|ENST00000508384|protein_coding||||||||||rs267608183&CS982316&COSM6356993|79|-1|cds_end_NF|HGNC|8851||||||pathogenic|0&0&1|1&1&1|9683594||||,T|splice_region_variant&intron_variant&NMD_transcript_variant|LOW|PEX10|ENSG00000157911|Transcript|ENST00000510434|nonsense_mediated_decay||3/4||||||||rs267608183&CS982316&COSM6356993||-1||HGNC|8851||||||pathogenic|0&0&1|1&1&1|9683594||||,T|downstream_gene_variant|MODIFIER|PEX10|ENSG00000157911|Transcript|ENST00000514502|nonsense_mediated_decay||||||||||rs267608183&CS982316&COSM6356993|304|-1||HGNC|8851||||||pathogenic|0&0&1|1&1&1|9683594||||,T|downstream_gene_variant|MODIFIER|PEX10|ENSG00000157911|Transcript|ENST00000515760|processed_transcript||||||||||rs267608183&CS982316&COSM6356993|132|-1||HGNC|8851||||||pathogenic|0&0&1|1&1&1|9683594||||,T|downstream_gene_variant|MODIFIER|RER1|ENSG00000157916|Transcript|ENST00000605895|protein_coding||||||||||rs267608183&CS982316&COSM6356993|3007|1||HGNC|30309||||||pathogenic|0&0&1|1&1&1|9683594||||\n",
      "1\t3732936\t.\tT\tC\t.\t.\tCSQ=C|splice_acceptor_variant|HIGH|CEP104|ENSG00000116198|Transcript|ENST00000378230|protein_coding||20/21||||||||rs869025278||-1||HGNC|24866||||||pathogenic||1|26477546||||,C|splice_acceptor_variant|HIGH|CEP104|ENSG00000116198|Transcript|ENST00000438539|protein_coding||6/6||||||||rs869025278||-1|cds_start_NF|HGNC|24866||||||pathogenic||1|26477546||||,C|non_coding_transcript_exon_variant|MODIFIER|CEP104|ENSG00000116198|Transcript|ENST00000484420|retained_intron|1/2||||87|||||rs869025278||-1||HGNC|24866||||||pathogenic||1|26477546||||\n",
      "1\t3756170\t.\tA\tG\t.\t.\tCSQ=G|downstream_gene_variant|MODIFIER|CEP104|ENSG00000116198|Transcript|ENST00000378223|protein_coding||||||||||rs869025276|3503|-1||HGNC|24866||||||pathogenic||1|26477546||||,G|splice_donor_variant|HIGH|CEP104|ENSG00000116198|Transcript|ENST00000378230|protein_coding||7/21||||||||rs869025276||-1||HGNC|24866||||||pathogenic||1|26477546||||,G|splice_donor_variant|HIGH|CEP104|ENSG00000116198|Transcript|ENST00000428079|protein_coding||6/6||||||||rs869025276||-1|cds_end_NF|HGNC|24866||||||pathogenic||1|26477546||||,G|upstream_gene_variant|MODIFIER|CEP104|ENSG00000116198|Transcript|ENST00000443466|protein_coding||||||||||rs869025276|496|-1|cds_start_NF&cds_end_NF|HGNC|24866||||||pathogenic||1|26477546||||,G|upstream_gene_variant|MODIFIER|CEP104|ENSG00000116198|Transcript|ENST00000460038|processed_transcript||||||||||rs869025276|2470|-1||HGNC|24866||||||pathogenic||1|26477546||||,G|splice_donor_variant&non_coding_transcript_variant|HIGH|CEP104|ENSG00000116198|Transcript|ENST00000494653|retained_intron||7/11||||||||rs869025276||-1||HGNC|24866||||||pathogenic||1|26477546||||,G|downstream_gene_variant|MODIFIER|CEP104|ENSG00000116198|Transcript|ENST00000494951|retained_intron||||||||||rs869025276|151|-1||HGNC|24866||||||pathogenic||1|26477546||||\n",
      "1\t7869953\t.\tC\tG\t.\t.\tCSQ=G|missense_variant&splice_region_variant|MODERATE|PER3|ENSG00000049246|Transcript|ENST00000361923|protein_coding|11/21||||1415|1240|414|P/A|Cca/Gca|rs150812083||1||HGNC|8847|||deleterious(0)|probably_damaging(0.998)|0.0034|pathogenic||1|25741868&26903630||||,G|missense_variant&splice_region_variant|MODERATE|PER3|ENSG00000049246|Transcript|ENST00000377532|protein_coding|11/21||||1467|1243|415|P/A|Cca/Gca|rs150812083||1||HGNC|8847|||deleterious(0.01)|probably_damaging(1)|0.0034|pathogenic||1|25741868&26903630||||,G|downstream_gene_variant|MODIFIER|RP3-467L1.4|ENSG00000236266|Transcript|ENST00000451646|antisense||||||||||rs150812083|349|-1||Clone_based_vega_gene||||||0.0034|pathogenic||1|25741868&26903630||||,G|splice_region_variant&non_coding_transcript_exon_variant|LOW|PER3|ENSG00000049246|Transcript|ENST00000463106|retained_intron|3/3||||261|||||rs150812083||1||HGNC|8847|||||0.0034|pathogenic||1|25741868&26903630||||\n",
      "1\t8025485\t.\tG\tC\t.\t.\tCSQ=C|missense_variant&splice_region_variant|MODERATE|PARK7|ENSG00000116288|Transcript|ENST00000338639|protein_coding|3/7||||346|192|64|E/D|gaG/gaC|rs74315353&CM042760||1||HGNC|16369|||tolerated(0.23)|benign(0)||pathogenic||1&1|15365989||||,C|missense_variant&splice_region_variant|MODERATE|PARK7|ENSG00000116288|Transcript|ENST00000377488|protein_coding|3/7||||348|192|64|E/D|gaG/gaC|rs74315353&CM042760||1||HGNC|16369|||tolerated(0.23)|benign(0)||pathogenic||1&1|15365989||||,C|missense_variant&splice_region_variant|MODERATE|PARK7|ENSG00000116288|Transcript|ENST00000377491|protein_coding|3/7||||403|192|64|E/D|gaG/gaC|rs74315353&CM042760||1||HGNC|16369|||tolerated(0.23)|benign(0)||pathogenic||1&1|15365989||||,C|missense_variant&splice_region_variant|MODERATE|PARK7|ENSG00000116288|Transcript|ENST00000377493|protein_coding|3/6||||250|192|64|E/D|gaG/gaC|rs74315353&CM042760||1||HGNC|16369|||tolerated(0.14)|benign(0)||pathogenic||1&1|15365989||||,C|splice_region_variant&non_coding_transcript_exon_variant|LOW|PARK7|ENSG00000116288|Transcript|ENST00000460192|retained_intron|3/6||||288|||||rs74315353&CM042760||1||HGNC|16369||||||pathogenic||1&1|15365989||||,C|splice_region_variant&non_coding_transcript_exon_variant|LOW|PARK7|ENSG00000116288|Transcript|ENST00000465354|retained_intron|3/5||||261|||||rs74315353&CM042760||1||HGNC|16369||||||pathogenic||1&1|15365989||||,C|missense_variant&splice_region_variant|MODERATE|PARK7|ENSG00000116288|Transcript|ENST00000469225|protein_coding|1/5||||75|75|25|E/D|gaG/gaC|rs74315353&CM042760||1|cds_start_NF|HGNC|16369|||tolerated(0.25)|benign(0)||pathogenic||1&1|15365989||||,C|missense_variant&splice_region_variant|MODERATE|PARK7|ENSG00000116288|Transcript|ENST00000493373|protein_coding|3/7||||248|192|64|E/D|gaG/gaC|rs74315353&CM042760||1|cds_end_NF|HGNC|16369|||tolerated(0.23)|benign(0)||pathogenic||1&1|15365989||||,C|missense_variant&splice_region_variant|MODERATE|PARK7|ENSG00000116288|Transcript|ENST00000493678|protein_coding|3/7||||259|192|64|E/D|gaG/gaC|rs74315353&CM042760||1||HGNC|16369|||tolerated(0.23)|benign(0)||pathogenic||1&1|15365989||||,C|splice_region_variant&non_coding_transcript_exon_variant|LOW|PARK7|ENSG00000116288|Transcript|ENST00000497113|processed_transcript|2/5||||211|||||rs74315353&CM042760||1||HGNC|16369||||||pathogenic||1&1|15365989||||\n"
     ]
    }
   ],
   "source": [
    "! head {output}"
   ]
  },
  {
   "cell_type": "code",
   "execution_count": 12,
   "metadata": {},
   "outputs": [],
   "source": [
    "import pandas as pd\n",
    "output = \"/s/project/kipoi-cadd/data/raw/v1.4/validation/clinVar-ExAC/clinvar_pathogenic_splice_site_GRCh37.vcf\"\n",
    "tsv_output = \"/s/project/kipoi-cadd/data/raw/v1.4/validation/clinVar-ExAC/clinvar_pathogenic_splice_site_GRCh37.tsv\"\n",
    "comment_lines = \"##fileformat=VCFv4.1\\n#CHROM\\tPOS\\tID\\tREF\\tALT\\n\"\n",
    "aja = pd.read_csv(output, sep=\"\\t\", comment=\"#\", header=None,\n",
    "                  names=[\"CHROM\", \"POS\", \"ID\", \"REF\", \"ALT\", \"QUAL\", \"FILTER\", \"INFO\"],\n",
    "                  usecols=[\"CHROM\", \"POS\", \"ID\", \"REF\", \"ALT\"])\n",
    "\n",
    "\n",
    "with open(tsv_output, \"w\") as f:\n",
    "    f.write(comment_lines)\n",
    "aja.to_csv(tsv_output,  sep=\"\\t\", header=False, index=False, mode=\"a\")"
   ]
  },
  {
   "cell_type": "code",
   "execution_count": 13,
   "metadata": {},
   "outputs": [
    {
     "name": "stdout",
     "output_type": "stream",
     "text": [
      "##fileformat=VCFv4.1\n",
      "#CHROM\tPOS\tID\tREF\tALT\n",
      "1\t2338158\t.\tC\tG\n",
      "1\t2339890\t.\tC\tT\n",
      "1\t3732936\t.\tT\tC\n",
      "1\t3756170\t.\tA\tG\n",
      "1\t7869953\t.\tC\tG\n",
      "1\t8025485\t.\tG\tC\n",
      "1\t11334117\t.\tG\tC\n",
      "1\t11851263\t.\tC\tA\n"
     ]
    }
   ],
   "source": [
    "! head {tsv_output}"
   ]
  },
  {
   "cell_type": "code",
   "execution_count": 14,
   "metadata": {},
   "outputs": [
    {
     "data": {
      "text/plain": [
       "(5582, 5)"
      ]
     },
     "execution_count": 14,
     "metadata": {},
     "output_type": "execute_result"
    }
   ],
   "source": [
    "aja.shape"
   ]
  },
  {
   "cell_type": "code",
   "execution_count": 15,
   "metadata": {},
   "outputs": [
    {
     "data": {
      "text/plain": [
       "(5582, 5)"
      ]
     },
     "execution_count": 15,
     "metadata": {},
     "output_type": "execute_result"
    }
   ],
   "source": [
    "du = aja.drop_duplicates(subset=[\"CHROM\", \"POS\", \"REF\", \"ALT\"])\n",
    "du.shape"
   ]
  },
  {
   "cell_type": "code",
   "execution_count": null,
   "metadata": {},
   "outputs": [],
   "source": []
  }
 ],
 "metadata": {
  "kernelspec": {
   "display_name": "Python [conda env:kipoi-cadd2]",
   "language": "python",
   "name": "conda-env-kipoi-cadd2-py"
  },
  "language_info": {
   "codemirror_mode": {
    "name": "ipython",
    "version": 3
   },
   "file_extension": ".py",
   "mimetype": "text/x-python",
   "name": "python",
   "nbconvert_exporter": "python",
   "pygments_lexer": "ipython3",
   "version": "3.6.6"
  }
 },
 "nbformat": 4,
 "nbformat_minor": 2
}
