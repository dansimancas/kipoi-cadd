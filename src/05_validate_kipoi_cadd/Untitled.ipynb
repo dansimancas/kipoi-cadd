{
 "cells": [
  {
   "cell_type": "code",
   "execution_count": 7,
   "metadata": {},
   "outputs": [],
   "source": [
    "import cyvcf2"
   ]
  },
  {
   "cell_type": "code",
   "execution_count": 8,
   "metadata": {},
   "outputs": [],
   "source": [
    "from pathlib import Path"
   ]
  },
  {
   "cell_type": "code",
   "execution_count": 9,
   "metadata": {},
   "outputs": [],
   "source": [
    "ddir = Path(\"/s/project/kipoi-cadd/data/raw/v1.4/training_data/GRCh37/\")"
   ]
  },
  {
   "cell_type": "code",
   "execution_count": 10,
   "metadata": {},
   "outputs": [
    {
     "name": "stdout",
     "output_type": "stream",
     "text": [
      "INFO                            sample_chr22.vcf\n",
      "all.vcf                         \u001b[0m\u001b[01;31msample_chr22_GRCh37.csv.gz\u001b[0m\n",
      "example_10.vcf                  \u001b[01;31msample_chr22_GRCh37.tsv.gz\u001b[0m\n",
      "\u001b[01;31mexample_10.vcf.gz\u001b[0m               sample_chr22_GRCh37.vcf\n",
      "example_10.vcf.gz.tbi           sample_chr22_prefixed.vcf\n",
      "example_100.vcf                 \u001b[01;31msimulation_InDels.csv.gz\u001b[0m\n",
      "\u001b[01;31mhumanDerived_InDels.csv.gz\u001b[0m      \u001b[01;31msimulation_InDels.tsv.gz\u001b[0m\n",
      "\u001b[01;31mhumanDerived_InDels.tsv.gz\u001b[0m      \u001b[01;31msimulation_InDels.vcf.gz\u001b[0m\n",
      "\u001b[01;31mhumanDerived_InDels.vcf.gz\u001b[0m      simulation_InDels.vcf.gz.tbi\n",
      "humanDerived_InDels.vcf.gz.tbi  \u001b[01;31msimulation_SNVs.csv.gz\u001b[0m\n",
      "\u001b[01;31mhumanDerived_SNVs.csv.gz\u001b[0m        \u001b[01;31msimulation_SNVs.tsv.gz\u001b[0m\n",
      "\u001b[01;31mhumanDerived_SNVs.tsv.gz\u001b[0m        simulation_SNVs.vcf\n",
      "humanDerived_SNVs.vcf           \u001b[01;31msimulation_SNVs.vcf.gz\u001b[0m\n",
      "\u001b[01;31mhumanDerived_SNVs.vcf.gz\u001b[0m        simulation_SNVs.vcf.gz.tbi\n",
      "humanDerived_SNVs.vcf.gz.tbi    simulation_SNVs_chr22.vcf\n",
      "humanDerived_SNVs_chr22.vcf     \u001b[01;34msparse_matrices\u001b[0m/\n",
      "intervals.tsv                   \u001b[01;34mvariant_ids\u001b[0m/\n",
      "\u001b[01;34mlmdb\u001b[0m/\n"
     ]
    }
   ],
   "source": [
    "ls {ddir}"
   ]
  },
  {
   "cell_type": "code",
   "execution_count": 11,
   "metadata": {},
   "outputs": [],
   "source": [
    "vcf = cyvcf2.VCF(str(ddir / \"example_10.vcf\"))"
   ]
  },
  {
   "cell_type": "code",
   "execution_count": 14,
   "metadata": {},
   "outputs": [],
   "source": [
    "variant = next(vcf)"
   ]
  },
  {
   "cell_type": "code",
   "execution_count": 15,
   "metadata": {},
   "outputs": [],
   "source": [
    "def variant_to_dict(variant):\n",
    "    return OrderedDict([\n",
    "        ('variant_id', \".\" if variant.ID is None else str(variant.ID)),\n",
    "        ('variant_chr', variant.CHROM),\n",
    "        ('variant_pos', variant.POS),\n",
    "        ('variant_ref', variant.REF),\n",
    "        ('variant_alt', variant.ALT[0]),  # WARNING - assuming a single alternative\n",
    "    ])"
   ]
  },
  {
   "cell_type": "code",
   "execution_count": 17,
   "metadata": {},
   "outputs": [],
   "source": [
    "from collections import OrderedDict"
   ]
  },
  {
   "cell_type": "code",
   "execution_count": 18,
   "metadata": {},
   "outputs": [
    {
     "data": {
      "text/plain": [
       "OrderedDict([('variant_id', '.'),\n",
       "             ('variant_chr', 'chr1'),\n",
       "             ('variant_pos', 381581),\n",
       "             ('variant_ref', 'AA'),\n",
       "             ('variant_alt', 'A')])"
      ]
     },
     "execution_count": 18,
     "metadata": {},
     "output_type": "execute_result"
    }
   ],
   "source": [
    "variant_to_dict(variant)"
   ]
  },
  {
   "cell_type": "code",
   "execution_count": null,
   "metadata": {},
   "outputs": [],
   "source": []
  },
  {
   "cell_type": "code",
   "execution_count": 12,
   "metadata": {},
   "outputs": [],
   "source": [
    "v = next(vcf)"
   ]
  },
  {
   "cell_type": "code",
   "execution_count": null,
   "metadata": {},
   "outputs": [],
   "source": [
    "!head "
   ]
  },
  {
   "cell_type": "code",
   "execution_count": 13,
   "metadata": {},
   "outputs": [],
   "source": [
    "v.ID"
   ]
  },
  {
   "cell_type": "code",
   "execution_count": 20,
   "metadata": {},
   "outputs": [],
   "source": [
    "import numpy as np"
   ]
  },
  {
   "cell_type": "code",
   "execution_count": 21,
   "metadata": {},
   "outputs": [
    {
     "data": {
      "text/plain": [
       "1"
      ]
     },
     "execution_count": 21,
     "metadata": {},
     "output_type": "execute_result"
    }
   ],
   "source": [
    "np.arange(10).ndim"
   ]
  },
  {
   "cell_type": "markdown",
   "metadata": {},
   "source": [
    "## Notes\n",
    "\n",
    "Write a function:\n",
    "\n",
    "```python\n",
    "def reorder_vcf(input_vcf, row_ids, output_vcf, discard_metadata=False):\n",
    "    \"\"\"Re-order the vcf file. Note: the output vcf \n",
    "    \n",
    "    Args:\n",
    "      input_vcf: path to a vcf file\n",
    "      row_ids List[int]: a list of integer numbers or a path \n",
    "        to a .txt file containing the shuffled rows\n",
    "      output_vcf: output vcf file path\n",
    "      discard_metadata: if True, the INFO field of the vcf is ignored\n",
    "    \n",
    "    1. Load the vcf into pandas\n",
    "    2. df_vcf.iloc[row_ids]\n",
    "    3. Store the data-frame into a vcf file\n",
    "    \"\"\"\n",
    "    pass \n",
    "\n",
    "\n",
    "def reorder_sparse_matrix(input_npz, row_ids, output_npz):\n",
    "    \"\"\"Re-order the vcf file. Note: the output vcf \n",
    "    \n",
    "    Args:\n",
    "      input_vcf: path to a .npz file\n",
    "      row_ids List[int]: a list of integer numbers or a path \n",
    "        to a .txt file containing the shuffled rows\n",
    "      output_npz: output .npz file path\n",
    "    \"\"\"\n",
    "    pass \n",
    "```"
   ]
  },
  {
   "cell_type": "code",
   "execution_count": 26,
   "metadata": {},
   "outputs": [
    {
     "data": {
      "text/plain": [
       "array([93, 42, 76, 29, 45, 17, 33,  7, 38, 49])"
      ]
     },
     "execution_count": 26,
     "metadata": {},
     "output_type": "execute_result"
    }
   ],
   "source": [
    "import pandas as pd\n",
    "\n",
    "vcf = \"/s/project/kipoi-cadd/data/raw/v1.4/training_data/GRCh37/example_100.vcf\"\n",
    "vcf_ds = pd.read_csv(vcf, sep=\"\\t\", header=None, comment=\"#\", usecols=[0])\n",
    "row_ids = np.arange(len(vcf_ds))\n",
    "np.random.shuffle(row_ids)\n",
    "row_ids[:10]"
   ]
  },
  {
   "cell_type": "code",
   "execution_count": 28,
   "metadata": {},
   "outputs": [
    {
     "name": "stdout",
     "output_type": "stream",
     "text": [
      "##fileformat=VCFv4.0\n",
      "#CHROM\tPOS\tID\tREF\tALT\tQUAL\tFILTER\tINFO\n",
      "chr1\t380577\t.\tT\tTT\t.\t.\t.\n",
      "chr1\t381581\t.\tAA\tA\t.\t.\t.\n",
      "chr1\t382073\t.\tT\tTT\t.\t.\t.\n",
      "chr1\t383722\t.\tCCTC\tC\t.\t.\t.\n",
      "chr1\t384279\t.\tT\tTT\t.\t.\t.\n",
      "chr1\t384386\t.\tCC\tC\t.\t.\t.\n",
      "chr1\t386695\t.\tC\tCC\t.\t.\t.\n",
      "chr1\t387054\t.\tA\tAT\t.\t.\t.\n"
     ]
    }
   ],
   "source": [
    "! head {vcf}"
   ]
  },
  {
   "cell_type": "code",
   "execution_count": 1,
   "metadata": {},
   "outputs": [
    {
     "name": "stderr",
     "output_type": "stream",
     "text": [
      "Using TensorFlow backend.\n"
     ]
    },
    {
     "name": "stdout",
     "output_type": "stream",
     "text": [
      "##fileformat=VCFv4.0\n",
      "#CHROM\tPOS\tID\tREF\tALT\tQUAL\tFILTER\tINFO\n",
      "22\t30527907\t.\tT\tC\t.\t.\t.\n",
      "22\t36171531\t.\tA\tC\t.\t.\t.\n",
      "22\t16361788\t.\tG\tA\t.\t.\t.\n",
      "22\t28748698\t.\tT\tC\t.\t.\t.\n",
      "22\t41396825\t.\tA\tG\t.\t.\t.\n",
      "22\t19732135\t.\tT\tA\t.\t.\t.\n",
      "22\t43975818\t.\tG\tC\t.\t.\t.\n",
      "22\t38038057\t.\tC\tT\t.\t.\t.\n"
     ]
    }
   ],
   "source": [
    "from kipoi_cadd.data_utils import load_pickle, dump_to_pickle\n",
    "import pandas as pd\n",
    "import numpy as np\n",
    "\n",
    "def reorder_vcf(input_vcf, row_ids, output_vcf, discard_metadata=False):\n",
    "    \"\"\"Re-order the vcf file. Note: the output vcf \n",
    "    \n",
    "    Args:\n",
    "      input_vcf: path to a vcf file\n",
    "      row_ids List[int]: a list of integer numbers or a path \n",
    "        to a .txt file containing the shuffled rows\n",
    "      output_vcf: output vcf file path\n",
    "      discard_metadata: if True, the INFO field of the vcf is ignored\n",
    "    \"\"\"\n",
    "    if isinstance(row_ids, str):\n",
    "        row_ids = load_pickle(row_ids)\n",
    "    \n",
    "    colnames = \"\"\n",
    "    with open(input_vcf, 'r') as f:\n",
    "        for l in f.readlines():\n",
    "            if \"#CHROM\" in l:\n",
    "                colnames=l.replace(\"\\n\", \"\").split(\"\\t\")\n",
    "                break\n",
    "    \n",
    "    vcf_df = pd.read_csv(input_vcf, sep=\"\\t\", header=None, names=colnames, comment=\"#\")\n",
    "    vcf_df = vcf_df.loc[row_ids]\n",
    "       \n",
    "    if discard_metadata:\n",
    "        vcf_df.drop(columns=['ID', 'QUAL', 'FILTER', 'INFO'], inplace=True)\n",
    "        header = \"##fileformat=VCFv4.0\\n\"\n",
    "        with open(output_vcf, 'w') as f:\n",
    "            f.write(header)\n",
    "        vcf_df.to_csv(output_vcf, sep=\"\\t\", mode='a', index=None)\n",
    "    else:\n",
    "        header_lines = \"\"\n",
    "        with open(input_vcf, 'r') as f:\n",
    "            for l in f.readlines():\n",
    "                if l.startswith(\"#\"): header_lines += l\n",
    "        with open(output_vcf, 'w') as f:\n",
    "            f.write(header_lines)\n",
    "        vcf_df.to_csv(output_vcf, sep=\"\\t\", mode='a', header=None, index=None)\n",
    "\n",
    "\n",
    "tmp_vcf = \"/s/project/kipoi-cadd/data/raw/v1.4/training_data/GRCh37/sample_chr22_GRCh37.vcf\"\n",
    "out_vcf = \"/s/project/kipoi-cadd/data/raw/v1.4/training_data/GRCh37/shuffled/sample_chr22_GRCh37.vcf\"\n",
    "out_ids = \"/s/project/kipoi-cadd/data/raw/v1.4/training_data/GRCh37/shuffled/sample_chr22_GRCh37.pkl\"\n",
    "# tmp_vcf = \"/s/project/kipoi-cadd/data/raw/v1.4/validation/clinVar-ExAC/clinvar_pathogenic_splice_site_GRCh37_original.vcf\"\n",
    "# tmp_vcf = \"/data/ouga/home/ag_gagneur/simancas/Downloads/UAVnhAumGekZZAJa.vcf\"\n",
    "vcf_ds = pd.read_csv(tmp_vcf, sep=\"\\t\", header=None, comment=\"#\", usecols=[0])\n",
    "row_ids = np.arange(len(vcf_ds))\n",
    "np.random.shuffle(row_ids)\n",
    "dump_to_pickle(out_ids, row_ids)\n",
    "reorder_vcf(tmp_vcf, row_ids, out_vcf, False)\n",
    "! head {out_vcf}"
   ]
  },
  {
   "cell_type": "code",
   "execution_count": 2,
   "metadata": {},
   "outputs": [
    {
     "name": "stdout",
     "output_type": "stream",
     "text": [
      "##fileformat=VCFv4.0\n",
      "#CHROM\tPOS\tID\tREF\tALT\tQUAL\tFILTER\tINFO\n",
      "22\t16139326\t.\tA\tG\t.\t.\t.\n",
      "22\t16139870\t.\tT\tC\t.\t.\t.\n",
      "22\t16139966\t.\tA\tG\t.\t.\t.\n",
      "22\t16140322\t.\tC\tT\t.\t.\t.\n",
      "22\t16140325\t.\tA\tG\t.\t.\t.\n",
      "22\t16141058\t.\tT\tC\t.\t.\t.\n",
      "22\t16141162\t.\tA\tG\t.\t.\t.\n",
      "22\t16141372\t.\tT\tC\t.\t.\t.\n"
     ]
    }
   ],
   "source": [
    "! head {tmp_vcf}"
   ]
  },
  {
   "cell_type": "code",
   "execution_count": 33,
   "metadata": {},
   "outputs": [
    {
     "data": {
      "text/plain": [
       "['#CHROM', 'POS', 'REF', 'ALT']"
      ]
     },
     "execution_count": 33,
     "metadata": {},
     "output_type": "execute_result"
    }
   ],
   "source": [
    "\"#CHROM\\tPOS\\tREF\\tALT\\n\".replace(\"\\n\", \"\").split(\"\\t\")"
   ]
  },
  {
   "cell_type": "code",
   "execution_count": 44,
   "metadata": {},
   "outputs": [
    {
     "name": "stdout",
     "output_type": "stream",
     "text": [
      "ExAC_MAF5p_all_GRCh37.vcf\n",
      "ExAC_MAF5p_missense_GRCh37.vcf\n",
      "INFO\n",
      "clinvar_20180729_pathogenic_all_GRCh37.csv.gz\n",
      "clinvar_20180729_pathogenic_all_GRCh37.tsv.gz\n",
      "clinvar_20180729_pathogenic_all_GRCh37.vcf\n",
      "clinvar_20180729_pathogenic_all_GRCh37_vep_annotated.tsv\n",
      "clinvar_20180729_pathogenic_all_GRCh37_vep_annotated.vcf\n",
      "clinvar_20180729_pathogenic_missense_GRCh37.vcf\n",
      "clinvar_pathogenic_splice_site_GRCh37.csv.gz\n",
      "clinvar_pathogenic_splice_site_GRCh37.tsv.gz\n",
      "clinvar_pathogenic_splice_site_GRCh37.vcf\n",
      "clinvar_pathogenic_splice_site_GRCh37.vcf.gz\n",
      "clinvar_pathogenic_splice_site_GRCh37.vcf.gz.tbi\n",
      "clinvar_pathogenic_splice_site_GRCh37_original.vcf\n",
      "sample_15_GRCh37.vcf\n",
      "sparse_matrices\n",
      "variant_ids\n"
     ]
    }
   ],
   "source": [
    "! ls /s/project/kipoi-cadd/data/raw/v1.4/validation/clinVar-ExAC/"
   ]
  },
  {
   "cell_type": "code",
   "execution_count": null,
   "metadata": {},
   "outputs": [],
   "source": [
    "def reorder_sparse_matrix(input_npz, row_ids, output_npz):\n",
    "    \"\"\"Re-order the vcf file. Note: the output vcf \n",
    "    \n",
    "    Args:\n",
    "      input_npz: path to a .npz file\n",
    "      row_ids List[int]: a list of integer numbers or a path \n",
    "        to a .txt file containing the shuffled rows\n",
    "      output_npz: output .npz file path\n",
    "    \"\"\"\n",
    "    if isinstance(row_ids, str):\n",
    "        row_ids = load_pickle(row_ids)\n",
    "    \n",
    "    npz = load_npz(input_npz)\n",
    "    npz = npz[row_ids]\n",
    "    save_npz(output_npz, npz)\n",
    "    "
   ]
  }
 ],
 "metadata": {
  "kernelspec": {
   "display_name": "Python [conda env:kipoi-cadd-mms]",
   "language": "python",
   "name": "conda-env-kipoi-cadd-mms-py"
  },
  "language_info": {
   "codemirror_mode": {
    "name": "ipython",
    "version": 3
   },
   "file_extension": ".py",
   "mimetype": "text/x-python",
   "name": "python",
   "nbconvert_exporter": "python",
   "pygments_lexer": "ipython3",
   "version": "3.6.7"
  }
 },
 "nbformat": 4,
 "nbformat_minor": 2
}
