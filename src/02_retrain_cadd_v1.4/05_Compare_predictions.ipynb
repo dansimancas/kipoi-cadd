{
 "cells": [
  {
   "cell_type": "markdown",
   "metadata": {},
   "source": [
    "## Obtain the last trained model and predict scores for 10k random variants"
   ]
  },
  {
   "cell_type": "code",
   "execution_count": 1,
   "metadata": {},
   "outputs": [
    {
     "name": "stderr",
     "output_type": "stream",
     "text": [
      "Using TensorFlow backend.\n"
     ]
    }
   ],
   "source": [
    "from sklearn.externals import joblib\n",
    "from kipoi_cadd.data import CaddSparseDataset\n",
    "from kipoi_cadd.utils import load_pickle, dump_to_pickle\n",
    "from tqdm import tqdm\n",
    "from math import log\n",
    "from kipoi_cadd.utils import variant_id_string\n",
    "from scipy.sparse import csr_matrix, load_npz\n",
    "import matplotlib.pyplot as plt\n",
    "import cyvcf2\n",
    "import numpy as np\n",
    "import pandas as pd"
   ]
  },
  {
   "cell_type": "code",
   "execution_count": 2,
   "metadata": {},
   "outputs": [],
   "source": [
    "training_dir = \"/s/project/kipoi-cadd/data/raw/v1.4/training_data/GRCh37/\"\n",
    "model_file = \"/tmp/gin-train/a8eb036bfe3a495bbbcfc434e1c59bdd/model.h5\"\n",
    "scaler_cadd_file = \"/s/project/kipoi-cadd/data/models/CADD1.4-GRCh37.scaler\"\n",
    "scaler_kipoicadd_file = \"/s/project/kipoi-cadd/data/models/KipoiCadd-GRCh37.scaler\"\n",
    "sample_10k_ids_file = training_dir + \"/variant_ids/sample_10k.pkl\"\n",
    "sample_10k_file = training_dir + \"/sparse_matrices/sample_10k.npz\"\n",
    "vars_to_compare = training_dir + \"sample_10k.vcf\"\n",
    "regions_txt = training_dir + \"sample_10k_regions.txt\""
   ]
  },
  {
   "cell_type": "code",
   "execution_count": null,
   "metadata": {},
   "outputs": [],
   "source": [
    "sample_10k_ids = load_pickle(sample_10k_ids_file)"
   ]
  },
  {
   "cell_type": "markdown",
   "metadata": {},
   "source": [
    "### Load the model and the variants to be compared"
   ]
  },
  {
   "cell_type": "code",
   "execution_count": 18,
   "metadata": {},
   "outputs": [],
   "source": [
    "clf = joblib.load(model_file)\n",
    "scaler_kipoicadd = joblib.load(scaler_kipoicadd_file)\n",
    "scaler_cadd = joblib.load(scaler_cadd_file)"
   ]
  },
  {
   "cell_type": "markdown",
   "metadata": {},
   "source": [
    "## Get VCF file for the selected variants"
   ]
  },
  {
   "cell_type": "code",
   "execution_count": 17,
   "metadata": {},
   "outputs": [],
   "source": [
    "def variants_to_basic_vcf(variants, output_file=None, n_lines=None):\n",
    "    vcf_string = \"\"\n",
    "    for i, var in enumerate(variants):\n",
    "        if isinstance(var, cyvcf2.Variant):\n",
    "            vcf_string += var.CHROM + \"\\t\" + var.POS + \"\\t\" + var.ID + \"\\t\" + var.REF + \"\\t\" + var.ALT[0] + \"\\n\"\n",
    "        else:\n",
    "            chrom, pos, ref, alt = var.split(\":\")\n",
    "            vcf_string += chrom + \"\\t\" + pos + \"\\tv\" + str(i+1) + \"\\t\" + ref + \"\\t\" + alt.split(\"'\")[1] + \"\\n\"\n",
    "        if n_lines is not None:\n",
    "            if i >= n_lines: break\n",
    "\n",
    "    if output_file is not None:\n",
    "        with open(output_file, \"w\") as f:\n",
    "            f.write(vcf_string)\n",
    "        return None\n",
    "    else:\n",
    "        return vcf_string\n",
    "    \n",
    "def variants_to_basic_regions(variants, output_file=None, n_lines=None):\n",
    "    region_df = {'CHROM': [], 'POS': [], 'REF': [], 'ALT': []}\n",
    "    for i, var in enumerate(variants):\n",
    "        if isinstance(var, cyvcf2.Variant):\n",
    "            # region_string += var.CHROM + \"\\t\" + var.POS + \"\\n\"\n",
    "            region_df['CHROM'].append(int(var.CHROM))\n",
    "            region_df['POS'].append(int(var.POS))\n",
    "            region_df['REF'].append(var.REF)\n",
    "            region_df['ALT'].append(var.ALT[0])\n",
    "        else:\n",
    "            chrom, pos, ref, alt = var.split(\":\")\n",
    "            # region_string += chrom + \"\\t\" + pos + \"\\n\"\n",
    "            if chrom == 'X' or chrom == 'Y':\n",
    "                region_df['CHROM'].append(chrom)                \n",
    "            else:\n",
    "                region_df['CHROM'].append(int(chrom))\n",
    "            region_df['POS'].append(int(pos))\n",
    "            region_df['REF'].append(ref)\n",
    "            region_df['ALT'].append(alt.split(\"'\")[1])\n",
    "    \n",
    "        if n_lines is not None:\n",
    "            if i >= n_lines: break\n",
    "    \n",
    "    df = pd.DataFrame(region_df)\n",
    "    df.sort_values(by=['CHROM', 'POS'], inplace=True)\n",
    "    # df['region'] = [':'.join([str(r.CHROM), str(r.POS) + \"-\" + str(r.POS), \"1/\" + r.ALT]) for r in df.itertuples()]\n",
    "    # SNP\n",
    "    # 5:140532-140532:1/C\n",
    "    if output_file is not None:\n",
    "        # df.region.to_csv(output_file, sep='\\t', index=None, header=None)\n",
    "        df.to_csv(output_file, sep='\\t', index=None, header=None)\n",
    "        return None\n",
    "    else:\n",
    "        return df\n",
    "\n",
    "# variants_to_basic_regions(sample_10k_ids, regions_txt)\n",
    "# variants_to_basic_vcf(sample_10k_ids, vars_to_compare)"
   ]
  },
  {
   "cell_type": "markdown",
   "metadata": {},
   "source": [
    "Use this script:\n",
    "``tabix -R /s/project/kipoi-cadd/data/raw/v1.4/training_data/GRCh37/sample_10k_regions.txt /s/project/kipoi-cadd/data/raw/v1.4/training_data/GRCh37/all.vcf.gz > /s/project/kipoi-cadd/data/raw/v1.4/training_data/GRCh37/sample_10k.vcf``"
   ]
  },
  {
   "cell_type": "markdown",
   "metadata": {},
   "source": [
    "## a. Use CADD's package to get their scores\n",
    "Used this command:\n",
    "`./CADD.sh -g GRCh37 -o /s/project/kipoi-cadd/data/raw/v1.4/training_data/GRCh37/sample_10k.tsv.gz /s/project/kipoi-cadd/data/raw/v1.4/training_data/GRCh37/sample_10k.vcf`"
   ]
  },
  {
   "cell_type": "code",
   "execution_count": 5,
   "metadata": {},
   "outputs": [],
   "source": [
    "cadd_vcf_output = training_dir + \"sample_10k.tsv.gz\""
   ]
  },
  {
   "cell_type": "code",
   "execution_count": 6,
   "metadata": {},
   "outputs": [
    {
     "name": "stdout",
     "output_type": "stream",
     "text": [
      "(10095, 6)\n"
     ]
    },
    {
     "data": {
      "text/html": [
       "<div>\n",
       "<style scoped>\n",
       "    .dataframe tbody tr th:only-of-type {\n",
       "        vertical-align: middle;\n",
       "    }\n",
       "\n",
       "    .dataframe tbody tr th {\n",
       "        vertical-align: top;\n",
       "    }\n",
       "\n",
       "    .dataframe thead th {\n",
       "        text-align: right;\n",
       "    }\n",
       "</style>\n",
       "<table border=\"1\" class=\"dataframe\">\n",
       "  <thead>\n",
       "    <tr style=\"text-align: right;\">\n",
       "      <th></th>\n",
       "      <th>CHROM</th>\n",
       "      <th>POS</th>\n",
       "      <th>REF</th>\n",
       "      <th>ALT</th>\n",
       "      <th>CADD_RAW</th>\n",
       "      <th>CADD_PHRED</th>\n",
       "    </tr>\n",
       "  </thead>\n",
       "  <tbody>\n",
       "    <tr>\n",
       "      <th>0</th>\n",
       "      <td>1</td>\n",
       "      <td>904778</td>\n",
       "      <td>T</td>\n",
       "      <td>C</td>\n",
       "      <td>0.003038</td>\n",
       "      <td>2.669</td>\n",
       "    </tr>\n",
       "    <tr>\n",
       "      <th>1</th>\n",
       "      <td>1</td>\n",
       "      <td>1211757</td>\n",
       "      <td>T</td>\n",
       "      <td>C</td>\n",
       "      <td>-1.025370</td>\n",
       "      <td>0.002</td>\n",
       "    </tr>\n",
       "    <tr>\n",
       "      <th>2</th>\n",
       "      <td>1</td>\n",
       "      <td>1343217</td>\n",
       "      <td>G</td>\n",
       "      <td>A</td>\n",
       "      <td>0.422567</td>\n",
       "      <td>8.626</td>\n",
       "    </tr>\n",
       "    <tr>\n",
       "      <th>3</th>\n",
       "      <td>1</td>\n",
       "      <td>1362172</td>\n",
       "      <td>A</td>\n",
       "      <td>G</td>\n",
       "      <td>0.005167</td>\n",
       "      <td>2.702</td>\n",
       "    </tr>\n",
       "    <tr>\n",
       "      <th>4</th>\n",
       "      <td>1</td>\n",
       "      <td>1880754</td>\n",
       "      <td>T</td>\n",
       "      <td>C</td>\n",
       "      <td>-0.279130</td>\n",
       "      <td>0.420</td>\n",
       "    </tr>\n",
       "  </tbody>\n",
       "</table>\n",
       "</div>"
      ],
      "text/plain": [
       "  CHROM      POS REF ALT  CADD_RAW  CADD_PHRED\n",
       "0     1   904778   T   C  0.003038       2.669\n",
       "1     1  1211757   T   C -1.025370       0.002\n",
       "2     1  1343217   G   A  0.422567       8.626\n",
       "3     1  1362172   A   G  0.005167       2.702\n",
       "4     1  1880754   T   C -0.279130       0.420"
      ]
     },
     "execution_count": 6,
     "metadata": {},
     "output_type": "execute_result"
    }
   ],
   "source": [
    "cadd_scores = pd.read_csv(cadd_vcf_output, sep='\\t', comment=\"#\", header=None, names=['CHROM', 'POS', 'REF', 'ALT', 'CADD_RAW', 'CADD_PHRED'])\n",
    "print(cadd_scores.shape)\n",
    "cadd_scores.head()"
   ]
  },
  {
   "cell_type": "code",
   "execution_count": 7,
   "metadata": {},
   "outputs": [
    {
     "data": {
      "image/png": "[encoded data removed]",
      "text/plain": [
       "<Figure size 432x288 with 1 Axes>"
      ]
     },
     "metadata": {
      "needs_background": "light"
     },
     "output_type": "display_data"
    }
   ],
   "source": [
    "plt.hist(cadd_scores.CADD_RAW, bins=60);\n",
    "plt.show()"
   ]
  },
  {
   "cell_type": "code",
   "execution_count": 8,
   "metadata": {},
   "outputs": [
    {
     "name": "stdout",
     "output_type": "stream",
     "text": [
      "(9999, 6)\n"
     ]
    }
   ],
   "source": [
    "desired = pd.read_csv(regions_txt, sep='\\t', header=None, names=['CHROM', 'POS', 'REF', 'ALT'])\n",
    "found_vars = pd.merge(desired, cadd_scores, how='inner', on=['CHROM', 'POS', 'REF', 'ALT'])\n",
    "print(found_vars.shape)"
   ]
  },
  {
   "cell_type": "code",
   "execution_count": 9,
   "metadata": {},
   "outputs": [],
   "source": [
    "found_var_ids = [variant_id_string(r.CHROM, r.POS, r.REF, r.ALT) for r in found_vars.itertuples()]"
   ]
  },
  {
   "cell_type": "code",
   "execution_count": 10,
   "metadata": {},
   "outputs": [
    {
     "name": "stderr",
     "output_type": "stream",
     "text": [
      "100%|██████████| 9999/9999 [00:25<00:00, 394.43it/s]\n"
     ]
    }
   ],
   "source": [
    "found_var_nums = []\n",
    "for found_var in tqdm(found_var_ids):\n",
    "    for var_num, var_id in sample_10k_ids.items():\n",
    "        if var_id == found_var:\n",
    "            found_var_nums.append(var_num)"
   ]
  },
  {
   "cell_type": "code",
   "execution_count": 11,
   "metadata": {},
   "outputs": [],
   "source": [
    "sdf = pd.DataFrame(sample_10k_ids, columns=['var_id'])\n",
    "sdf['locs'] = [x for x in range(sdf.shape[0])]"
   ]
  },
  {
   "cell_type": "code",
   "execution_count": 19,
   "metadata": {},
   "outputs": [
    {
     "data": {
      "text/plain": [
       "(9999, 904)"
      ]
     },
     "execution_count": 19,
     "metadata": {},
     "output_type": "execute_result"
    }
   ],
   "source": [
    "found_var_idx = sdf.loc[found_var_nums].locs\n",
    "sample_10k = load_npz(sample_10k_file)\n",
    "X_found_csr = sample_10k[found_var_idx, 1:]\n",
    "scaler_cadd.transform(X_found_csr)\n",
    "y_found = sample_10k[found_var_idx, 0].toarray().ravel()\n",
    "X_found_csr.shape"
   ]
  },
  {
   "cell_type": "code",
   "execution_count": 20,
   "metadata": {},
   "outputs": [
    {
     "data": {
      "text/plain": [
       "array([0., 0., 0., ..., 0., 1., 1.], dtype=float32)"
      ]
     },
     "execution_count": 20,
     "metadata": {},
     "output_type": "execute_result"
    }
   ],
   "source": [
    "y_found"
   ]
  },
  {
   "cell_type": "markdown",
   "metadata": {},
   "source": [
    "## Get log odd ratios of my scores\n",
    "Obtain log odd ratios:"
   ]
  },
  {
   "cell_type": "code",
   "execution_count": 24,
   "metadata": {},
   "outputs": [
    {
     "data": {
      "text/plain": [
       "array([-1.17476608e+04, -3.27527844e+01, -1.68456817e+06, ...,\n",
       "       -5.94736259e+03,  7.67662269e+00,  7.51650037e+00])"
      ]
     },
     "execution_count": 24,
     "metadata": {},
     "output_type": "execute_result"
    }
   ],
   "source": [
    "y_pred_kipoi_found = clf.decision_function(X_found_csr).flatten()\n",
    "y_pred_kipoi_found"
   ]
  },
  {
   "cell_type": "code",
   "execution_count": 27,
   "metadata": {},
   "outputs": [
    {
     "name": "stderr",
     "output_type": "stream",
     "text": [
      "/opt/modules/i12g/anaconda/3-5.0.1/envs/kipoi-cadd2/lib/python3.6/site-packages/sklearn/base.py:251: UserWarning: Trying to unpickle estimator LogisticRegression from version 0.19.1 when using version 0.20.0. This might lead to breaking code or invalid results. Use at your own risk.\n",
      "  UserWarning)\n",
      "/opt/modules/i12g/anaconda/3-5.0.1/envs/kipoi-cadd2/lib/python3.6/site-packages/sklearn/base.py:251: UserWarning: Trying to unpickle estimator StandardScaler from version 0.19.1 when using version 0.20.0. This might lead to breaking code or invalid results. Use at your own risk.\n",
      "  UserWarning)\n"
     ]
    },
    {
     "data": {
      "text/plain": [
       "array([-2.90280019e+00, -1.51981960e-01, -5.79633360e+03, ...,\n",
       "       -4.94693157e+00,  1.71736249e-02, -2.91023290e-01])"
      ]
     },
     "execution_count": 27,
     "metadata": {},
     "output_type": "execute_result"
    }
   ],
   "source": [
    "model_cadd_file = \"/s/project/kipoi-cadd/data/models/CADD1.4-GRCh37.mod\"\n",
    "model_cadd, scaler_cadd = joblib.load(model_cadd_file)\n",
    "\n",
    "sample_10k = load_npz(sample_10k_file)\n",
    "X_found_csr = sample_10k[found_var_idx, 1:]\n",
    "scaler_cadd.transform(X_found_csr)\n",
    "y_found = sample_10k[found_var_idx, 0].toarray().ravel()\n",
    "X_found_csr.shape\n",
    "\n",
    "y_pred_cadd = model_cadd.decision_function(X_found_csr).flatten()\n",
    "y_pred_cadd"
   ]
  },
  {
   "cell_type": "markdown",
   "metadata": {},
   "source": [
    "### b. 1. Calculate Pearson Correlation between my scores and theirs"
   ]
  },
  {
   "cell_type": "code",
   "execution_count": 25,
   "metadata": {},
   "outputs": [
    {
     "data": {
      "text/plain": [
       "(0.018407760599952087, 0.06567875551988807)"
      ]
     },
     "execution_count": 25,
     "metadata": {},
     "output_type": "execute_result"
    }
   ],
   "source": [
    "from scipy.stats import pearsonr\n",
    "pearsonr(y_pred_kipoi_found, found_vars.CADD_RAW)"
   ]
  },
  {
   "cell_type": "code",
   "execution_count": 26,
   "metadata": {},
   "outputs": [
    {
     "data": {
      "image/png": "[encoded data removed]",
      "text/plain": [
       "<Figure size 432x288 with 1 Axes>"
      ]
     },
     "metadata": {
      "needs_background": "light"
     },
     "output_type": "display_data"
    }
   ],
   "source": [
    "plt.scatter(y_pred_kipoi_found, found_vars.CADD_RAW);\n",
    "plt.show()"
   ]
  },
  {
   "cell_type": "markdown",
   "metadata": {},
   "source": [
    "## Evaluate accuracy by class"
   ]
  },
  {
   "cell_type": "code",
   "execution_count": 3,
   "metadata": {},
   "outputs": [
    {
     "name": "stderr",
     "output_type": "stream",
     "text": [
      "100%|██████████| 157/157 [00:00<00:00, 648.88it/s]\n"
     ]
    }
   ],
   "source": [
    "clf = joblib.load(model_file)\n",
    "ds = CaddDataset(lmdb_dir, shuff_10k_file)\n",
    "X, y = ds.load_all(shuffle=False)\n",
    "\n",
    "# Do the same process as the trainer\n",
    "X_sparse = csr_matrix(X, shape=None, dtype=np.float32, copy=True)\n",
    "X = X_sparse\n",
    "y = y.astype(np.float32)\n",
    "del X_sparse"
   ]
  },
  {
   "cell_type": "code",
   "execution_count": 22,
   "metadata": {},
   "outputs": [],
   "source": [
    "X_pos, y_pos = X[y.nonzero()[0],:], y[y.nonzero()[0]]\n",
    "X_neg, y_neg = X[np.where(y == 0)[0]], y[np.where(y == 0)[0]]"
   ]
  },
  {
   "cell_type": "code",
   "execution_count": 24,
   "metadata": {},
   "outputs": [
    {
     "data": {
      "text/plain": [
       "0.5378680203045685"
      ]
     },
     "execution_count": 24,
     "metadata": {},
     "output_type": "execute_result"
    }
   ],
   "source": [
    "score_pos = clf.score(X_pos, y_pos)\n",
    "score_pos"
   ]
  },
  {
   "cell_type": "code",
   "execution_count": 25,
   "metadata": {},
   "outputs": [
    {
     "data": {
      "text/plain": [
       "0.587192118226601"
      ]
     },
     "execution_count": 25,
     "metadata": {},
     "output_type": "execute_result"
    }
   ],
   "source": [
    "score_neg = clf.score(X_neg, y_neg)\n",
    "score_neg"
   ]
  },
  {
   "cell_type": "code",
   "execution_count": 19,
   "metadata": {},
   "outputs": [
    {
     "data": {
      "text/plain": [
       "19439457    13:97848895:T:['C']\n",
       "19010394    13:19188334:A:['G']\n",
       "25291760    3:196345832:C:['T']\n",
       "26115442    4:147359634:T:['C']\n",
       "25790477     4:85883965:T:['A']\n",
       "dtype: object"
      ]
     },
     "execution_count": 19,
     "metadata": {},
     "output_type": "execute_result"
    }
   ],
   "source": [
    "from kipoi_cadd.utils import load_pickle\n",
    "import pandas as pd\n",
    "\n",
    "allids = load_pickle(\"/s/project/kipoi-cadd/data/raw/v1.4/training_data/GRCh37/variant_ids/train.pkl\")\n",
    "allids.head()"
   ]
  }
 ],
 "metadata": {
  "kernelspec": {
   "display_name": "Python [conda env:kipoi-cadd2]",
   "language": "python",
   "name": "conda-env-kipoi-cadd2-py"
  },
  "language_info": {
   "codemirror_mode": {
    "name": "ipython",
    "version": 3
   },
   "file_extension": ".py",
   "mimetype": "text/x-python",
   "name": "python",
   "nbconvert_exporter": "python",
   "pygments_lexer": "ipython3",
   "version": "3.6.6"
  }
 },
 "nbformat": 4,
 "nbformat_minor": 2
}
