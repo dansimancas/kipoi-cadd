{
 "cells": [
  {
   "cell_type": "markdown",
   "metadata": {},
   "source": [
    "## Obtain the last trained model and predict scores for 10k random variants"
   ]
  },
  {
   "cell_type": "code",
   "execution_count": 5,
   "metadata": {},
   "outputs": [],
   "source": [
    "from sklearn.externals import joblib\n",
    "from kipoi_cadd.data import CaddSparseDataset\n",
    "from kipoi_cadd.utils import load_pickle, dump_to_pickle\n",
    "from tqdm import tqdm\n",
    "from math import log\n",
    "from kipoi_cadd.utils import variant_id_string\n",
    "from scipy.sparse import csr_matrix\n",
    "import matplotlib.pyplot as plt\n",
    "import cyvcf2\n",
    "import numpy as np\n",
    "import pandas as pd"
   ]
  },
  {
   "cell_type": "code",
   "execution_count": 16,
   "metadata": {},
   "outputs": [],
   "source": [
    "training_dir = \"/s/project/kipoi-cadd/data/raw/v1.4/training_data/GRCh37/\"\n",
    "model_file = \"/tmp/gin-train/340a604cd72541ac957145df90687ebf/model.h5\"\n",
    "scaler_file = \"/s/project/kipoi-cadd/data/models/CADD1.4-GRCh37.scaler\"\n",
    "sample_10k_ids_file = training_dir + \"/variant_ids/sample_10k.pkl\"\n",
    "sample_10k_file = training_dir + \"/sparse_matrices/sample_10k.npz\"\n",
    "vars_to_compare = training_dir + \"sample_10k.vcf\"\n",
    "regions_txt = training_dir + \"sample_10k_regions.txt\""
   ]
  },
  {
   "cell_type": "code",
   "execution_count": 2,
   "metadata": {},
   "outputs": [],
   "source": [
    "kipoi_features_dir = \"/s/project/kipoi-cadd/data/processed/v1.4/kipoi_features/GRCh37\"\n",
    "vars_to_compare = kipoi_features_dir + \"vars_to_compare.vcf\"\n",
    "regions_txt = kipoi_features_dir + \"regions.txt\"\n",
    "regions_output = kipoi_features_dir + \"regions_output.vcf\""
   ]
  },
  {
   "cell_type": "code",
   "execution_count": 3,
   "metadata": {},
   "outputs": [
    {
     "data": {
      "text/plain": [
       "1576330         2:67753726:G:['A']\n",
       "4899162         5:42327270:T:['C']\n",
       "17304765       10:83604667:A:['G']\n",
       "1660556         2:82712968:T:['C']\n",
       "32652416    5:49732570:A:['ATGCT']\n",
       "dtype: object"
      ]
     },
     "execution_count": 3,
     "metadata": {},
     "output_type": "execute_result"
    }
   ],
   "source": [
    "sample_10k_ids = load_pickle(sample_10k_ids_file)\n",
    "sample_10k_ids.head()"
   ]
  },
  {
   "cell_type": "code",
   "execution_count": 4,
   "metadata": {},
   "outputs": [
    {
     "data": {
      "image/png": "[encoded data removed]",
      "text/plain": [
       "<Figure size 432x288 with 1 Axes>"
      ]
     },
     "metadata": {
      "needs_background": "light"
     },
     "output_type": "display_data"
    }
   ],
   "source": [
    "plt.hist(sample_10k_ids.index.values, bins=30);\n",
    "plt.show()"
   ]
  },
  {
   "cell_type": "markdown",
   "metadata": {},
   "source": [
    "### Load the model and the variants to be compared"
   ]
  },
  {
   "cell_type": "code",
   "execution_count": 10,
   "metadata": {},
   "outputs": [],
   "source": [
    "clf = joblib.load(model_file)\n",
    "scaler = joblib.load(scaler_file)\n",
    "ds = CaddSparseDataset(sample_10k_file, sample_10k_ids_file, version=\"v1.4\")\n",
    "X, y = ds.load_all()"
   ]
  },
  {
   "cell_type": "code",
   "execution_count": 11,
   "metadata": {},
   "outputs": [],
   "source": [
    "# Do the same process as the trainer\n",
    "X_scaled = scaler.transform(X)"
   ]
  },
  {
   "cell_type": "code",
   "execution_count": 13,
   "metadata": {},
   "outputs": [
    {
     "data": {
      "text/plain": [
       "array([1., 0., 0., ..., 1., 1., 0.], dtype=float32)"
      ]
     },
     "execution_count": 13,
     "metadata": {},
     "output_type": "execute_result"
    }
   ],
   "source": [
    "y_pred_kipoi = clf.predict(X)\n",
    "y_pred_kipoi"
   ]
  },
  {
   "cell_type": "markdown",
   "metadata": {},
   "source": [
    "## Get VCF file for the selected variants"
   ]
  },
  {
   "cell_type": "code",
   "execution_count": 17,
   "metadata": {},
   "outputs": [],
   "source": [
    "def variants_to_basic_vcf(variants, output_file=None, n_lines=None):\n",
    "    vcf_string = \"\"\n",
    "    for i, var in enumerate(variants):\n",
    "        if isinstance(var, cyvcf2.Variant):\n",
    "            vcf_string += var.CHROM + \"\\t\" + var.POS + \"\\t\" + var.ID + \"\\t\" + var.REF + \"\\t\" + var.ALT[0] + \"\\n\"\n",
    "        else:\n",
    "            chrom, pos, ref, alt = var.split(\":\")\n",
    "            vcf_string += chrom + \"\\t\" + pos + \"\\tv\" + str(i+1) + \"\\t\" + ref + \"\\t\" + alt.split(\"'\")[1] + \"\\n\"\n",
    "        if n_lines is not None:\n",
    "            if i >= n_lines: break\n",
    "\n",
    "    if output_file is not None:\n",
    "        with open(output_file, \"w\") as f:\n",
    "            f.write(vcf_string)\n",
    "        return None\n",
    "    else:\n",
    "        return vcf_string\n",
    "    \n",
    "def variants_to_basic_regions(variants, output_file=None, n_lines=None):\n",
    "    region_df = {'CHROM': [], 'POS': [], 'REF': [], 'ALT': []}\n",
    "    for i, var in enumerate(variants):\n",
    "        if isinstance(var, cyvcf2.Variant):\n",
    "            # region_string += var.CHROM + \"\\t\" + var.POS + \"\\n\"\n",
    "            region_df['CHROM'].append(int(var.CHROM))\n",
    "            region_df['POS'].append(int(var.POS))\n",
    "            region_df['REF'].append(var.REF)\n",
    "            region_df['ALT'].append(var.ALT[0])\n",
    "        else:\n",
    "            chrom, pos, ref, alt = var.split(\":\")\n",
    "            # region_string += chrom + \"\\t\" + pos + \"\\n\"\n",
    "            if chrom == 'X' or chrom == 'Y':\n",
    "                region_df['CHROM'].append(chrom)                \n",
    "            else:\n",
    "                region_df['CHROM'].append(int(chrom))\n",
    "            region_df['POS'].append(int(pos))\n",
    "            region_df['REF'].append(ref)\n",
    "            region_df['ALT'].append(alt.split(\"'\")[1])\n",
    "    \n",
    "        if n_lines is not None:\n",
    "            if i >= n_lines: break\n",
    "    \n",
    "    df = pd.DataFrame(region_df)\n",
    "    df.sort_values(by=['CHROM', 'POS'], inplace=True)\n",
    "    # df['region'] = [':'.join([str(r.CHROM), str(r.POS) + \"-\" + str(r.POS), \"1/\" + r.ALT]) for r in df.itertuples()]\n",
    "    # SNP\n",
    "    # 5:140532-140532:1/C\n",
    "    if output_file is not None:\n",
    "        # df.region.to_csv(output_file, sep='\\t', index=None, header=None)\n",
    "        df.to_csv(output_file, sep='\\t', index=None, header=None)\n",
    "        return None\n",
    "    else:\n",
    "        return df\n",
    "\n",
    "variants_to_basic_regions(sample_10k_ids, regions_txt)\n",
    "# variants_to_basic_vcf(sample_10k_ids, vars_to_compare)"
   ]
  },
  {
   "cell_type": "markdown",
   "metadata": {},
   "source": [
    "Use this script:\n",
    "``tabix -R /s/project/kipoi-cadd/data/raw/v1.4/training_data/GRCh37/sample_10k_regions.txt /s/project/kipoi-cadd/data/raw/v1.4/training_data/GRCh37/all.vcf.gz > /s/project/kipoi-cadd/data/raw/v1.4/training_data/GRCh37/sample_10k.vcf``"
   ]
  },
  {
   "cell_type": "markdown",
   "metadata": {},
   "source": [
    "## a. Use CADD's package to get their scores\n",
    "Used this command:\n",
    "`./CADD.sh -g GRCh37 -o /s/project/kipoi-cadd/data/raw/v1.4/training_data/GRCh37/sample_10k.tsv.gz /s/project/kipoi-cadd/data/raw/v1.4/training_data/GRCh37/sample_10k.vcf`"
   ]
  },
  {
   "cell_type": "code",
   "execution_count": 18,
   "metadata": {},
   "outputs": [],
   "source": [
    "cadd_vcf_output = training_dir + \"sample_10k.tsv.gz\""
   ]
  },
  {
   "cell_type": "code",
   "execution_count": 25,
   "metadata": {},
   "outputs": [
    {
     "name": "stdout",
     "output_type": "stream",
     "text": [
      "(10095, 6)\n"
     ]
    },
    {
     "data": {
      "text/html": [
       "<div>\n",
       "<style scoped>\n",
       "    .dataframe tbody tr th:only-of-type {\n",
       "        vertical-align: middle;\n",
       "    }\n",
       "\n",
       "    .dataframe tbody tr th {\n",
       "        vertical-align: top;\n",
       "    }\n",
       "\n",
       "    .dataframe thead th {\n",
       "        text-align: right;\n",
       "    }\n",
       "</style>\n",
       "<table border=\"1\" class=\"dataframe\">\n",
       "  <thead>\n",
       "    <tr style=\"text-align: right;\">\n",
       "      <th></th>\n",
       "      <th>CHROM</th>\n",
       "      <th>POS</th>\n",
       "      <th>REF</th>\n",
       "      <th>ALT</th>\n",
       "      <th>CADD_RAW</th>\n",
       "      <th>CADD_PHRED</th>\n",
       "    </tr>\n",
       "  </thead>\n",
       "  <tbody>\n",
       "    <tr>\n",
       "      <th>0</th>\n",
       "      <td>1</td>\n",
       "      <td>904778</td>\n",
       "      <td>T</td>\n",
       "      <td>C</td>\n",
       "      <td>0.003038</td>\n",
       "      <td>2.669</td>\n",
       "    </tr>\n",
       "    <tr>\n",
       "      <th>1</th>\n",
       "      <td>1</td>\n",
       "      <td>1211757</td>\n",
       "      <td>T</td>\n",
       "      <td>C</td>\n",
       "      <td>-1.025370</td>\n",
       "      <td>0.002</td>\n",
       "    </tr>\n",
       "    <tr>\n",
       "      <th>2</th>\n",
       "      <td>1</td>\n",
       "      <td>1343217</td>\n",
       "      <td>G</td>\n",
       "      <td>A</td>\n",
       "      <td>0.422567</td>\n",
       "      <td>8.626</td>\n",
       "    </tr>\n",
       "    <tr>\n",
       "      <th>3</th>\n",
       "      <td>1</td>\n",
       "      <td>1362172</td>\n",
       "      <td>A</td>\n",
       "      <td>G</td>\n",
       "      <td>0.005167</td>\n",
       "      <td>2.702</td>\n",
       "    </tr>\n",
       "    <tr>\n",
       "      <th>4</th>\n",
       "      <td>1</td>\n",
       "      <td>1880754</td>\n",
       "      <td>T</td>\n",
       "      <td>C</td>\n",
       "      <td>-0.279130</td>\n",
       "      <td>0.420</td>\n",
       "    </tr>\n",
       "  </tbody>\n",
       "</table>\n",
       "</div>"
      ],
      "text/plain": [
       "  CHROM      POS REF ALT  CADD_RAW  CADD_PHRED\n",
       "0     1   904778   T   C  0.003038       2.669\n",
       "1     1  1211757   T   C -1.025370       0.002\n",
       "2     1  1343217   G   A  0.422567       8.626\n",
       "3     1  1362172   A   G  0.005167       2.702\n",
       "4     1  1880754   T   C -0.279130       0.420"
      ]
     },
     "execution_count": 25,
     "metadata": {},
     "output_type": "execute_result"
    }
   ],
   "source": [
    "cadd_scores = pd.read_csv(cadd_vcf_output, sep='\\t', comment=\"#\", header=None, names=['CHROM', 'POS', 'REF', 'ALT', 'CADD_RAW', 'CADD_PHRED'])\n",
    "print(cadd_scores.shape)\n",
    "cadd_scores.head()"
   ]
  },
  {
   "cell_type": "code",
   "execution_count": 22,
   "metadata": {},
   "outputs": [
    {
     "data": {
      "image/png": "[encoded data removed]",
      "text/plain": [
       "<Figure size 432x288 with 1 Axes>"
      ]
     },
     "metadata": {
      "needs_background": "light"
     },
     "output_type": "display_data"
    }
   ],
   "source": [
    "plt.hist(cadd_scores.CADD_RAW, bins=60);\n",
    "plt.show()"
   ]
  },
  {
   "cell_type": "code",
   "execution_count": 23,
   "metadata": {},
   "outputs": [
    {
     "name": "stdout",
     "output_type": "stream",
     "text": [
      "count    10095.000000\n",
      "mean         0.011406\n",
      "std          0.436945\n",
      "min         -1.561835\n",
      "25%         -0.187923\n",
      "50%         -0.043795\n",
      "75%          0.104526\n",
      "max          7.328400\n",
      "Name: CADD_RAW, dtype: float64\n"
     ]
    },
    {
     "data": {
      "text/plain": [
       "3365.0"
      ]
     },
     "execution_count": 23,
     "metadata": {},
     "output_type": "execute_result"
    }
   ],
   "source": [
    "print(cadd_scores.CADD_RAW.describe())\n",
    "cadd_scores.shape[0]/3"
   ]
  },
  {
   "cell_type": "code",
   "execution_count": 24,
   "metadata": {},
   "outputs": [
    {
     "data": {
      "text/html": [
       "<div>\n",
       "<style scoped>\n",
       "    .dataframe tbody tr th:only-of-type {\n",
       "        vertical-align: middle;\n",
       "    }\n",
       "\n",
       "    .dataframe tbody tr th {\n",
       "        vertical-align: top;\n",
       "    }\n",
       "\n",
       "    .dataframe thead th {\n",
       "        text-align: right;\n",
       "    }\n",
       "</style>\n",
       "<table border=\"1\" class=\"dataframe\">\n",
       "  <thead>\n",
       "    <tr style=\"text-align: right;\">\n",
       "      <th></th>\n",
       "      <th>CHROM</th>\n",
       "      <th>POS</th>\n",
       "      <th>REF</th>\n",
       "      <th>ALT</th>\n",
       "    </tr>\n",
       "  </thead>\n",
       "  <tbody>\n",
       "    <tr>\n",
       "      <th>0</th>\n",
       "      <td>1</td>\n",
       "      <td>904778</td>\n",
       "      <td>T</td>\n",
       "      <td>C</td>\n",
       "    </tr>\n",
       "    <tr>\n",
       "      <th>1</th>\n",
       "      <td>1</td>\n",
       "      <td>1211757</td>\n",
       "      <td>T</td>\n",
       "      <td>C</td>\n",
       "    </tr>\n",
       "    <tr>\n",
       "      <th>2</th>\n",
       "      <td>1</td>\n",
       "      <td>1343217</td>\n",
       "      <td>G</td>\n",
       "      <td>A</td>\n",
       "    </tr>\n",
       "    <tr>\n",
       "      <th>3</th>\n",
       "      <td>1</td>\n",
       "      <td>1362172</td>\n",
       "      <td>A</td>\n",
       "      <td>G</td>\n",
       "    </tr>\n",
       "    <tr>\n",
       "      <th>4</th>\n",
       "      <td>1</td>\n",
       "      <td>1846900</td>\n",
       "      <td>AA</td>\n",
       "      <td>A</td>\n",
       "    </tr>\n",
       "  </tbody>\n",
       "</table>\n",
       "</div>"
      ],
      "text/plain": [
       "  CHROM      POS REF ALT\n",
       "0     1   904778   T   C\n",
       "1     1  1211757   T   C\n",
       "2     1  1343217   G   A\n",
       "3     1  1362172   A   G\n",
       "4     1  1846900  AA   A"
      ]
     },
     "execution_count": 24,
     "metadata": {},
     "output_type": "execute_result"
    }
   ],
   "source": [
    "desired = pd.read_csv(regions_txt, sep='\\t', header=None, names=['CHROM', 'POS', 'REF', 'ALT'])\n",
    "desired.head()"
   ]
  },
  {
   "cell_type": "code",
   "execution_count": 26,
   "metadata": {},
   "outputs": [
    {
     "name": "stdout",
     "output_type": "stream",
     "text": [
      "(9999, 6)\n"
     ]
    }
   ],
   "source": [
    "found_vars = pd.merge(desired, cadd_scores, how='inner', on=['CHROM', 'POS', 'REF', 'ALT'])\n",
    "print(found_vars.shape)"
   ]
  },
  {
   "cell_type": "code",
   "execution_count": 27,
   "metadata": {},
   "outputs": [],
   "source": [
    "found_var_ids = [variant_id_string(r.CHROM, r.POS, r.REF, r.ALT) for r in found_vars.itertuples()]"
   ]
  },
  {
   "cell_type": "code",
   "execution_count": 29,
   "metadata": {},
   "outputs": [
    {
     "name": "stderr",
     "output_type": "stream",
     "text": [
      "100%|██████████| 9999/9999 [00:37<00:00, 263.94it/s]\n"
     ]
    }
   ],
   "source": [
    "found_var_nums = []\n",
    "for found_var in tqdm(found_var_ids):\n",
    "    for var_num, var_id in sample_10k_ids.items():\n",
    "        if var_id == found_var:\n",
    "            found_var_nums.append(var_num)"
   ]
  },
  {
   "cell_type": "code",
   "execution_count": 67,
   "metadata": {},
   "outputs": [],
   "source": [
    "sample_10k_sorted_file = training_dir + \"/sparse_matrices/sample_10k_sorted.npz\"\n",
    "sample_10k_ids_sorted_file = training_dir + \"/variant_ids/sample_10k_sorted.pkl\"\n",
    "found_var_ids = pro_training_dir + \"found_var_ids.pkl\"\n",
    "dump_to_pickle(found_var_ids, shuff_10k.loc[found_var_nums])"
   ]
  },
  {
   "cell_type": "code",
   "execution_count": 68,
   "metadata": {},
   "outputs": [],
   "source": [
    "ds_found = CaddDataset(lmdb_dir, found_var_ids)\n",
    "X_found, y_found = ds_found.load_all(shuffle=False)\n",
    "# Do the same process as the trainer\n",
    "X_sparse_found = csr_matrix(X_found, shape=None, dtype=np.float32, copy=True)\n",
    "X_found = X_sparse_found\n",
    "y_found = y_found.astype(np.float32)\n",
    "del X_sparse_found"
   ]
  },
  {
   "cell_type": "markdown",
   "metadata": {},
   "source": [
    "## Get log odd ratios of my scores\n",
    "Obtain log odd ratios:\n",
    "https://stats.idre.ucla.edu/stata/faq/how-do-i-interpret-odds-ratios-in-logistic-regression/"
   ]
  },
  {
   "cell_type": "code",
   "execution_count": 95,
   "metadata": {},
   "outputs": [],
   "source": [
    "y_pred_kipoi_found = clf.predict_proba(X_found)\n",
    "y_pred_kipoi_found = np.array([log(p[1]/p[0]) for p in y_pred_kipoi_found])"
   ]
  },
  {
   "cell_type": "markdown",
   "metadata": {},
   "source": [
    "### b. 1. Calculate Pearson Correlation between my scores and theirs"
   ]
  },
  {
   "cell_type": "code",
   "execution_count": 100,
   "metadata": {},
   "outputs": [
    {
     "data": {
      "text/plain": [
       "(0.7764666974344197, 0.0)"
      ]
     },
     "execution_count": 100,
     "metadata": {},
     "output_type": "execute_result"
    }
   ],
   "source": [
    "from scipy.stats import pearsonr\n",
    "pearsonr(y_pred_kipoi_found, found_vars.CADD_RAW)"
   ]
  },
  {
   "cell_type": "code",
   "execution_count": 99,
   "metadata": {},
   "outputs": [
    {
     "data": {
      "image/png": "[encoded data removed]",
      "text/plain": [
       "<Figure size 432x288 with 1 Axes>"
      ]
     },
     "metadata": {
      "needs_background": "light"
     },
     "output_type": "display_data"
    }
   ],
   "source": [
    "plt.scatter(y_pred_kipoi_found, found_vars.CADD_RAW);\n",
    "plt.show()"
   ]
  },
  {
   "cell_type": "markdown",
   "metadata": {},
   "source": [
    "## Evaluate accuracy by class"
   ]
  },
  {
   "cell_type": "code",
   "execution_count": 3,
   "metadata": {},
   "outputs": [
    {
     "name": "stderr",
     "output_type": "stream",
     "text": [
      "100%|██████████| 157/157 [00:00<00:00, 648.88it/s]\n"
     ]
    }
   ],
   "source": [
    "clf = joblib.load(model_file)\n",
    "ds = CaddDataset(lmdb_dir, shuff_10k_file)\n",
    "X, y = ds.load_all(shuffle=False)\n",
    "\n",
    "# Do the same process as the trainer\n",
    "X_sparse = csr_matrix(X, shape=None, dtype=np.float32, copy=True)\n",
    "X = X_sparse\n",
    "y = y.astype(np.float32)\n",
    "del X_sparse"
   ]
  },
  {
   "cell_type": "code",
   "execution_count": 22,
   "metadata": {},
   "outputs": [],
   "source": [
    "X_pos, y_pos = X[y.nonzero()[0],:], y[y.nonzero()[0]]\n",
    "X_neg, y_neg = X[np.where(y == 0)[0]], y[np.where(y == 0)[0]]"
   ]
  },
  {
   "cell_type": "code",
   "execution_count": 24,
   "metadata": {},
   "outputs": [
    {
     "data": {
      "text/plain": [
       "0.5378680203045685"
      ]
     },
     "execution_count": 24,
     "metadata": {},
     "output_type": "execute_result"
    }
   ],
   "source": [
    "score_pos = clf.score(X_pos, y_pos)\n",
    "score_pos"
   ]
  },
  {
   "cell_type": "code",
   "execution_count": 25,
   "metadata": {},
   "outputs": [
    {
     "data": {
      "text/plain": [
       "0.587192118226601"
      ]
     },
     "execution_count": 25,
     "metadata": {},
     "output_type": "execute_result"
    }
   ],
   "source": [
    "score_neg = clf.score(X_neg, y_neg)\n",
    "score_neg"
   ]
  },
  {
   "cell_type": "code",
   "execution_count": null,
   "metadata": {},
   "outputs": [],
   "source": []
  }
 ],
 "metadata": {
  "kernelspec": {
   "display_name": "Python [conda env:kipoi-cadd2]",
   "language": "python",
   "name": "conda-env-kipoi-cadd2-py"
  },
  "language_info": {
   "codemirror_mode": {
    "name": "ipython",
    "version": 3
   },
   "file_extension": ".py",
   "mimetype": "text/x-python",
   "name": "python",
   "nbconvert_exporter": "python",
   "pygments_lexer": "ipython3",
   "version": "3.6.6"
  }
 },
 "nbformat": 4,
 "nbformat_minor": 2
}
