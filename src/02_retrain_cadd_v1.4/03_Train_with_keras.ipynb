{
 "cells": [
  {
   "cell_type": "code",
   "execution_count": 1,
   "metadata": {},
   "outputs": [
    {
     "name": "stderr",
     "output_type": "stream",
     "text": [
      "Using TensorFlow backend.\n"
     ]
    }
   ],
   "source": [
    "from kipoi_cadd.data import CaddSparseDataset, cadd_sparse_train_valid_data"
   ]
  },
  {
   "cell_type": "code",
   "execution_count": 4,
   "metadata": {},
   "outputs": [],
   "source": [
    "train_npz_file = \"/s/project/kipoi-cadd/data/raw/v1.4/training_data/GRCh37/sparse_matrices/humanDerived_InDels.npz\"\n",
    "train_id_file = \"/s/project/kipoi-cadd/data/raw/v1.4/training_data/GRCh37/variant_ids/humanDerived_InDels.pkl\"\n",
    "valid_npz_file = \"/s/project/kipoi-cadd/data/raw/v1.4/training_data/GRCh37/sparse_matrices/simulation_InDels.npz\"\n",
    "valid_id_file = \"/s/project/kipoi-cadd/data/raw/v1.4/training_data/GRCh37/variant_ids/simulation_InDels.pkl\""
   ]
  },
  {
   "cell_type": "code",
   "execution_count": 5,
   "metadata": {},
   "outputs": [],
   "source": [
    "train_ds, valid_ds = cadd_sparse_train_valid_data(train_npz_file, train_id_file, valid_npz_file, valid_id_file)"
   ]
  },
  {
   "cell_type": "code",
   "execution_count": 6,
   "metadata": {},
   "outputs": [],
   "source": [
    "train_it = train_ds.batch_train_iter(\n",
    "    batch_size=256,\n",
    "    shuffle=True,\n",
    "    num_workers=8)"
   ]
  },
  {
   "cell_type": "code",
   "execution_count": 7,
   "metadata": {},
   "outputs": [],
   "source": [
    "re = next(train_it)"
   ]
  },
  {
   "cell_type": "code",
   "execution_count": 9,
   "metadata": {},
   "outputs": [
    {
     "name": "stdout",
     "output_type": "stream",
     "text": [
      "(256, 1, 904)\n"
     ]
    }
   ],
   "source": [
    "print(re[0].shape)"
   ]
  },
  {
   "cell_type": "code",
   "execution_count": 10,
   "metadata": {},
   "outputs": [
    {
     "data": {
      "text/plain": [
       "(256,)"
      ]
     },
     "execution_count": 10,
     "metadata": {},
     "output_type": "execute_result"
    }
   ],
   "source": [
    "re[1].shape"
   ]
  },
  {
   "cell_type": "code",
   "execution_count": 13,
   "metadata": {},
   "outputs": [
    {
     "data": {
      "text/plain": [
       "(904,)"
      ]
     },
     "execution_count": 13,
     "metadata": {},
     "output_type": "execute_result"
    }
   ],
   "source": [
    "train_ds[0]['inputs'].ravel().shape"
   ]
  },
  {
   "cell_type": "code",
   "execution_count": 17,
   "metadata": {},
   "outputs": [
    {
     "data": {
      "text/plain": [
       "{'inputs': array([1., 0., 0., ..., 0., 0., 0.], dtype=float16),\n",
       " 'targets': 1.0,\n",
       " 'metadata': {'variant_id': \"1:49000062:A:['G']\"}}"
      ]
     },
     "execution_count": 17,
     "metadata": {},
     "output_type": "execute_result"
    }
   ],
   "source": [
    "from kipoi_cadd.data import CaddDataset\n",
    "lmdb_dir = \"/s/project/kipoi-cadd/data/raw/v1.3/training_data/lmdb/\"\n",
    "variant_id_file = \"/s/project/kipoi-cadd/data/raw/v1.3/training_data/ids_10k.pkl\"\n",
    "ds = CaddDataset(lmdb_dir, variant_id_file)\n",
    "ds[0]"
   ]
  },
  {
   "cell_type": "code",
   "execution_count": 18,
   "metadata": {},
   "outputs": [
    {
     "data": {
      "text/plain": [
       "(1063,)"
      ]
     },
     "execution_count": 18,
     "metadata": {},
     "output_type": "execute_result"
    }
   ],
   "source": [
    "ds[0]['inputs'].shape"
   ]
  },
  {
   "cell_type": "code",
   "execution_count": null,
   "metadata": {},
   "outputs": [],
   "source": []
  }
 ],
 "metadata": {
  "kernelspec": {
   "display_name": "Python [conda env:kipoi-cadd2]",
   "language": "python",
   "name": "conda-env-kipoi-cadd2-py"
  },
  "language_info": {
   "codemirror_mode": {
    "name": "ipython",
    "version": 3
   },
   "file_extension": ".py",
   "mimetype": "text/x-python",
   "name": "python",
   "nbconvert_exporter": "python",
   "pygments_lexer": "ipython3",
   "version": "3.6.7"
  }
 },
 "nbformat": 4,
 "nbformat_minor": 2
}
