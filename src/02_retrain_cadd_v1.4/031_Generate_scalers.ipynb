{
 "cells": [
  {
   "cell_type": "code",
   "execution_count": 1,
   "metadata": {},
   "outputs": [
    {
     "name": "stderr",
     "output_type": "stream",
     "text": [
      "Using TensorFlow backend.\n"
     ]
    }
   ],
   "source": [
    "from sklearn.externals import joblib\n",
    "import matplotlib.pyplot as plt\n",
    "from sklearn.preprocessing import StandardScaler\n",
    "from kipoi_cadd.data import CaddSparseDataset, cadd_sparse_train_valid_data_one, sparse_cadd_dataset\n",
    "from kipoi_cadd.models import logistic_regression_keras\n",
    "from scipy.stats import pearsonr\n",
    "from sklearn.externals import joblib\n",
    "%matplotlib inline"
   ]
  },
  {
   "cell_type": "code",
   "execution_count": 4,
   "metadata": {},
   "outputs": [],
   "source": [
    "valid_npz_file = \"/s/project/kipoi-cadd/data/raw/v1.4/training_data/GRCh37/sparse_matrices/valid.npz\"\n",
    "valid_id_file = \"/s/project/kipoi-cadd/data/raw/v1.4/training_data/GRCh37/variant_ids/valid.pkl\"\n",
    "scaler_kipoicadd_valid_file = \"/s/project/kipoi-cadd/data/models/KipoiCadd_valid-GRCh37.scaler\""
   ]
  },
  {
   "cell_type": "code",
   "execution_count": 5,
   "metadata": {},
   "outputs": [
    {
     "data": {
      "text/plain": [
       "['/s/project/kipoi-cadd/data/models/KipoiCadd_train-GRCh37.scaler']"
      ]
     },
     "execution_count": 5,
     "metadata": {},
     "output_type": "execute_result"
    }
   ],
   "source": [
    "ds = CaddSparseDataset(valid_npz_file, valid_id_file, \"v1.4\")\n",
    "scaler_kipoicadd_valid = StandardScaler(copy=True, with_mean=False, with_std=True)\n",
    "X_valid, y_valid = ds.load_all()\n",
    "scaler_kipoicadd_valid.fit(X_valid)\n",
    "joblib.dump(scaler_kipoicadd_valid, scaler_kipoicadd_valid_file)"
   ]
  },
  {
   "cell_type": "code",
   "execution_count": null,
   "metadata": {},
   "outputs": [],
   "source": []
  }
 ],
 "metadata": {
  "kernelspec": {
   "display_name": "Python [conda env:kipoi-cadd2]",
   "language": "python",
   "name": "conda-env-kipoi-cadd2-py"
  },
  "language_info": {
   "codemirror_mode": {
    "name": "ipython",
    "version": 3
   },
   "file_extension": ".py",
   "mimetype": "text/x-python",
   "name": "python",
   "nbconvert_exporter": "python",
   "pygments_lexer": "ipython3",
   "version": "3.6.6"
  }
 },
 "nbformat": 4,
 "nbformat_minor": 2
}
