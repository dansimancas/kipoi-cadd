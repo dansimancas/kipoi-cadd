{
 "cells": [
  {
   "cell_type": "code",
   "execution_count": 1,
   "metadata": {},
   "outputs": [
    {
     "name": "stderr",
     "output_type": "stream",
     "text": [
      "Using TensorFlow backend.\n"
     ]
    }
   ],
   "source": [
    "import pandas as pd\n",
    "import numpy as np\n",
    "from kipoi_cadd.utils import load_pickle, dump_to_pickle"
   ]
  },
  {
   "cell_type": "code",
   "execution_count": 2,
   "metadata": {},
   "outputs": [],
   "source": [
    "def generate_variant_ids(inputfile, outputfile, separator='\\t',\n",
    "                         header=0,\n",
    "                         variant_cols=['Chrom', 'Pos', 'Ref', 'Alt'],\n",
    "                         dtype={'Chrom': 'str', 'Pos': np.int32, 'Ref': 'str',\n",
    "                                'Alt': 'str'}):\n",
    "    input_df = pd.read_csv(inputfile,\n",
    "                           sep=separator,\n",
    "                           header=header,\n",
    "                           usecols=variant_cols,\n",
    "                           # nrows=1000,\n",
    "                           dtype=dtype)\n",
    "    \n",
    "    if header is None:\n",
    "        # Make sure column numbers are reset\n",
    "        input_df = input_df.T.reset_index(drop=True).T\n",
    "    variant_ids = input_df.apply(\n",
    "        lambda row: ':'.join([str(row[0]), str(row[1]), row[2],\n",
    "                              str(row[3].split(','))]), axis=1)\n",
    "    \n",
    "    print(outputfile)\n",
    "    dump_to_pickle(outputfile, variant_ids)"
   ]
  },
  {
   "cell_type": "code",
   "execution_count": 3,
   "metadata": {},
   "outputs": [
    {
     "name": "stdout",
     "output_type": "stream",
     "text": [
      "/s/project/kipoi-cadd/data/raw/v1.4/validation/clinVar-ExAC/ExAC_MAF5p_all_GRCh37.pkl\n"
     ]
    }
   ],
   "source": [
    "# Standalone script to generate variant ids from vcf\n",
    "# from kipoi_cadd.utils import generate_variant_ids\n",
    "inputfile = \"/s/project/kipoi-cadd/data/raw/v1.4/validation/clinVar-ExAC/ExAC_MAF5p_all_GRCh37.vcf\"\n",
    "outputfile = \"/s/project/kipoi-cadd/data/raw/v1.4/validation/clinVar-ExAC/ExAC_MAF5p_all_GRCh37.pkl\"\n",
    "generate_variant_ids(inputfile, outputfile, variant_cols=[0,1,3,4], dtype={0:'str',1:'int32',3:'str',4:'str'}, header=None)"
   ]
  },
  {
   "cell_type": "code",
   "execution_count": 4,
   "metadata": {},
   "outputs": [],
   "source": [
    "clinvar_ids_file = \"/s/project/kipoi-cadd/data/raw/v1.4/validation/clinVar-ExAC/clinvar_20180729_pathogenic_all_GRCh37_ids.pkl\"\n",
    "exac_ids_file = \"/s/project/kipoi-cadd/data/raw/v1.4/validation/clinVar-ExAC/ExAC_MAF5p_all_GRCh37.pkl\"\n",
    "all_training_ids_file = \"/s/project/kipoi-cadd/data/raw/v1.4/training_data/GRCh37/variant_ids/all.pkl\""
   ]
  },
  {
   "cell_type": "code",
   "execution_count": 11,
   "metadata": {},
   "outputs": [],
   "source": [
    "clinvar_ids = load_pickle(clinvar_ids_file)\n",
    "all_training_ids = load_pickle(all_training_ids_file)\n",
    "exac_ids = load_pickle(exac_ids_file)\n",
    "# clinvar_ids.head()"
   ]
  },
  {
   "cell_type": "code",
   "execution_count": 12,
   "metadata": {},
   "outputs": [],
   "source": [
    "set_clinvar = set(clinvar_ids.values)\n",
    "set_all = set(all_training_ids.values)\n",
    "set_exac = set(exac_ids.values)"
   ]
  },
  {
   "cell_type": "code",
   "execution_count": 13,
   "metadata": {},
   "outputs": [
    {
     "data": {
      "text/plain": [
       "1326"
      ]
     },
     "execution_count": 13,
     "metadata": {},
     "output_type": "execute_result"
    }
   ],
   "source": [
    "len(set_exac & set_all)"
   ]
  },
  {
   "cell_type": "code",
   "execution_count": 10,
   "metadata": {},
   "outputs": [
    {
     "data": {
      "text/plain": [
       "260"
      ]
     },
     "execution_count": 10,
     "metadata": {},
     "output_type": "execute_result"
    }
   ],
   "source": [
    "len(set_clinvar & set_all)"
   ]
  },
  {
   "cell_type": "code",
   "execution_count": 14,
   "metadata": {},
   "outputs": [
    {
     "data": {
      "text/plain": [
       "19"
      ]
     },
     "execution_count": 14,
     "metadata": {},
     "output_type": "execute_result"
    }
   ],
   "source": [
    "len(set_clinvar & set_exac)"
   ]
  },
  {
   "cell_type": "code",
   "execution_count": 12,
   "metadata": {},
   "outputs": [
    {
     "data": {
      "text/plain": [
       "(100, 115)"
      ]
     },
     "execution_count": 12,
     "metadata": {},
     "output_type": "execute_result"
    }
   ],
   "source": [
    "clinvar_v13_file = \"/s/project/kipoi-cadd/data/raw/v1.3/validation/clinvar_ESP/clinvar_caddv1.3.tsv.gz\"\n",
    "clinvar_v13 = pd.read_csv(clinvar_v13_file, sep=\"\\t\", nrows=100)\n",
    "clinvar_v13.shape"
   ]
  }
 ],
 "metadata": {
  "kernelspec": {
   "display_name": "Python [conda env:kipoi-cadd2]",
   "language": "python",
   "name": "conda-env-kipoi-cadd2-py"
  },
  "language_info": {
   "codemirror_mode": {
    "name": "ipython",
    "version": 3
   },
   "file_extension": ".py",
   "mimetype": "text/x-python",
   "name": "python",
   "nbconvert_exporter": "python",
   "pygments_lexer": "ipython3",
   "version": "3.6.6"
  }
 },
 "nbformat": 4,
 "nbformat_minor": 2
}
