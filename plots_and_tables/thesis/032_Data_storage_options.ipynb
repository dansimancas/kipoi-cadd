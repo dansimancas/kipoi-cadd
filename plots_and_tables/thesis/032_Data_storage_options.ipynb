{
 "cells": [
  {
   "cell_type": "code",
   "execution_count": 1,
   "metadata": {},
   "outputs": [
    {
     "name": "stderr",
     "output_type": "stream",
     "text": [
      "Using TensorFlow backend.\n"
     ]
    }
   ],
   "source": [
    "from kipoi_cadd.data import CaddDataset\n",
    "import pyarrow as pa\n",
    "import blosc\n",
    "from matplotlib.ticker import FuncFormatter\n",
    "import pandas as pd\n",
    "from tqdm import tqdm\n",
    "import glob\n",
    "import os\n",
    "import matplotlib.pyplot as plt\n",
    "import time\n",
    "import random"
   ]
  },
  {
   "cell_type": "code",
   "execution_count": 12,
   "metadata": {},
   "outputs": [],
   "source": [
    "training_dir = \"/s/project/kipoi-cadd/data/raw/v1.3/training_data/\"\n",
    "lmdb_dir = training_dir + \"lmdb\"\n",
    "all_ids_file = training_dir + \"variant_ids.pkl\"\n",
    "big_csv = training_dir + \"training_data.imputed.csv\"\n",
    "folder_many_csv = training_dir + \"shuffle_splits/\"\n",
    "lmdb_variant_based = training_dir + \"lmdb/data.mdb\"\n",
    "lmdb_batch_based = \"\"\n",
    "sparse_matrix = training_dir + \"sparse_all.npz\""
   ]
  },
  {
   "cell_type": "markdown",
   "metadata": {},
   "source": [
    "## Data storage options\n",
    "Here is a comparisson of the methods used to persist the whole dataset.\n",
    "- One big csv file\n",
    "- Multiple csv files\n",
    "- LMDB (with 1 key -> 1 variant)\n",
    "- LMDB (with 1 key -> 1 batch of variants)\n",
    "- Sparse matrix as npz"
   ]
  },
  {
   "cell_type": "markdown",
   "metadata": {},
   "source": [
    "### 1. File sizes"
   ]
  },
  {
   "cell_type": "code",
   "execution_count": 3,
   "metadata": {},
   "outputs": [],
   "source": [
    "def sum_file_sizes(parent_folder, file_ext='.csv'):\n",
    "    files = glob.glob(parent_folder + \"/**/*\" + file_ext)\n",
    "    total_size = 0\n",
    "    for file in tqdm(files):\n",
    "        total_size += os.path.getsize(os.path.join(parent_folder, file))\n",
    "    return total_size"
   ]
  },
  {
   "cell_type": "code",
   "execution_count": null,
   "metadata": {},
   "outputs": [],
   "source": [
    "disk_spaces = {\n",
    "    'big_csv': {'size': 0, 'pretty': \"Big csv\"},\n",
    "    'many_csv': {'size': 0, 'pretty': \"Multiple csv's\"},\n",
    "    'lmdb_variant': {'size': 0, 'pretty': \"LMDB by variant\"},\n",
    "    'lmdb_batch': {'size': 0, 'pretty': \"LMDB by batch\"},\n",
    "    'sparse_matrix': {'size': 0, 'pretty': \"Sparse matrix\"}\n",
    "}\n",
    "disk_spaces['big_csv']['size'] = os.path.getsize(big_csv)\n",
    "disk_spaces['many_csv']['size'] = sum_file_sizes(folder_many_csv)\n",
    "disk_spaces['lmdb_variant']['size'] = os.path.getsize(lmdb_variant_based)\n",
    "disk_spaces['lmdb_batch']['size'] = os.path.getsize(lmdb_batch_based)\n",
    "disk_spaces['sparse_matrix']['size'] = os.path.getsize(sparse_matrix)\n",
    "disk_spaces"
   ]
  },
  {
   "cell_type": "code",
   "execution_count": 14,
   "metadata": {},
   "outputs": [
    {
     "data": {
      "text/html": [
       "<div>\n",
       "<style scoped>\n",
       "    .dataframe tbody tr th:only-of-type {\n",
       "        vertical-align: middle;\n",
       "    }\n",
       "\n",
       "    .dataframe tbody tr th {\n",
       "        vertical-align: top;\n",
       "    }\n",
       "\n",
       "    .dataframe thead th {\n",
       "        text-align: right;\n",
       "    }\n",
       "</style>\n",
       "<table border=\"1\" class=\"dataframe\">\n",
       "  <thead>\n",
       "    <tr style=\"text-align: right;\">\n",
       "      <th></th>\n",
       "      <th>types</th>\n",
       "      <th>pretty</th>\n",
       "      <th>spaces</th>\n",
       "    </tr>\n",
       "  </thead>\n",
       "  <tbody>\n",
       "    <tr>\n",
       "      <th>3</th>\n",
       "      <td>lmdb_batch</td>\n",
       "      <td>LMDB by batch</td>\n",
       "      <td>0</td>\n",
       "    </tr>\n",
       "    <tr>\n",
       "      <th>4</th>\n",
       "      <td>sparse_matrix</td>\n",
       "      <td>Sparse matrix</td>\n",
       "      <td>3068938172</td>\n",
       "    </tr>\n",
       "    <tr>\n",
       "      <th>0</th>\n",
       "      <td>big_csv</td>\n",
       "      <td>Big csv</td>\n",
       "      <td>79893951115</td>\n",
       "    </tr>\n",
       "    <tr>\n",
       "      <th>1</th>\n",
       "      <td>many_csv</td>\n",
       "      <td>Multiple csv's</td>\n",
       "      <td>80237677004</td>\n",
       "    </tr>\n",
       "    <tr>\n",
       "      <th>2</th>\n",
       "      <td>lmdb_variant</td>\n",
       "      <td>LMDB by variant</td>\n",
       "      <td>289145520128</td>\n",
       "    </tr>\n",
       "  </tbody>\n",
       "</table>\n",
       "</div>"
      ],
      "text/plain": [
       "           types           pretty        spaces\n",
       "3     lmdb_batch    LMDB by batch             0\n",
       "4  sparse_matrix    Sparse matrix    3068938172\n",
       "0        big_csv          Big csv   79893951115\n",
       "1       many_csv   Multiple csv's   80237677004\n",
       "2   lmdb_variant  LMDB by variant  289145520128"
      ]
     },
     "execution_count": 14,
     "metadata": {},
     "output_type": "execute_result"
    }
   ],
   "source": [
    "df = pd.DataFrame(data={\n",
    "    'types': list(disk_spaces.keys()),\n",
    "    'pretty': [val['pretty'] for val in list(disk_spaces.values())],\n",
    "    'spaces': [val['size'] for val in list(disk_spaces.values())],\n",
    "    })\n",
    "df.sort_values(by='spaces', inplace=True)\n",
    "df"
   ]
  },
  {
   "cell_type": "code",
   "execution_count": 6,
   "metadata": {},
   "outputs": [],
   "source": [
    "def gigabytes(x, pos):\n",
    "    'The two args are the value and tick position'\n",
    "    return '%3.0f GB' % (x*1e-9)\n",
    "\n",
    "formatter = FuncFormatter(gigabytes)"
   ]
  },
  {
   "cell_type": "code",
   "execution_count": 15,
   "metadata": {},
   "outputs": [
    {
     "data": {
      "image/png": "[encoded data removed]",
      "text/plain": [
       "<Figure size 432x288 with 1 Axes>"
      ]
     },
     "metadata": {
      "needs_background": "light"
     },
     "output_type": "display_data"
    }
   ],
   "source": [
    "fig, ax = plt.subplots()\n",
    "ax.yaxis.set_major_formatter(formatter)\n",
    "plt.bar(df.types, df.spaces);\n",
    "plt.xticks(list(df.types), df.pretty,\n",
    "           rotation=70)\n",
    "plt.show()"
   ]
  },
  {
   "cell_type": "markdown",
   "metadata": {},
   "source": [
    "### 1.1 Suplementary table"
   ]
  },
  {
   "cell_type": "code",
   "execution_count": 8,
   "metadata": {},
   "outputs": [
    {
     "data": {
      "text/html": [
       "<div>\n",
       "<style scoped>\n",
       "    .dataframe tbody tr th:only-of-type {\n",
       "        vertical-align: middle;\n",
       "    }\n",
       "\n",
       "    .dataframe tbody tr th {\n",
       "        vertical-align: top;\n",
       "    }\n",
       "\n",
       "    .dataframe thead th {\n",
       "        text-align: right;\n",
       "    }\n",
       "</style>\n",
       "<table border=\"1\" class=\"dataframe\">\n",
       "  <thead>\n",
       "    <tr style=\"text-align: right;\">\n",
       "      <th></th>\n",
       "      <th>Storage approach</th>\n",
       "      <th>Space in disk (bytes)</th>\n",
       "    </tr>\n",
       "  </thead>\n",
       "  <tbody>\n",
       "    <tr>\n",
       "      <th>2</th>\n",
       "      <td>LMDB by variant</td>\n",
       "      <td>289145520128</td>\n",
       "    </tr>\n",
       "    <tr>\n",
       "      <th>1</th>\n",
       "      <td>Multiple csv's</td>\n",
       "      <td>80237677004</td>\n",
       "    </tr>\n",
       "    <tr>\n",
       "      <th>0</th>\n",
       "      <td>Big csv</td>\n",
       "      <td>79893951115</td>\n",
       "    </tr>\n",
       "    <tr>\n",
       "      <th>3</th>\n",
       "      <td>LMDB by batch</td>\n",
       "      <td>0</td>\n",
       "    </tr>\n",
       "    <tr>\n",
       "      <th>4</th>\n",
       "      <td>Sparse matrix</td>\n",
       "      <td>0</td>\n",
       "    </tr>\n",
       "  </tbody>\n",
       "</table>\n",
       "</div>"
      ],
      "text/plain": [
       "  Storage approach  Space in disk (bytes)\n",
       "2  LMDB by variant           289145520128\n",
       "1   Multiple csv's            80237677004\n",
       "0          Big csv            79893951115\n",
       "3    LMDB by batch                      0\n",
       "4    Sparse matrix                      0"
      ]
     },
     "execution_count": 8,
     "metadata": {},
     "output_type": "execute_result"
    }
   ],
   "source": [
    "supp_table = df.sort_values(by='spaces', ascending=False)[['pretty', 'spaces']]\n",
    "supp_table = supp_table.rename(columns={'pretty': \"Storage approach\", 'spaces': \"Space in disk (bytes)\"})\n",
    "supp_table"
   ]
  },
  {
   "cell_type": "markdown",
   "metadata": {},
   "source": [
    "### 2. Load time per option\n",
    "We will test load times for 1 variant, 64, 1000, 100000, and 10000000 variants for all options listed above."
   ]
  },
  {
   "cell_type": "code",
   "execution_count": 9,
   "metadata": {},
   "outputs": [
    {
     "name": "stdout",
     "output_type": "stream",
     "text": [
      "0.06651639938354492\n"
     ]
    }
   ],
   "source": [
    "# LMDB by variant\n",
    "ds = CaddDataset(lmdb_dir, all_ids_file)\n",
    "idx = random.randint(1, 9999)\n",
    "start = time.time()\n",
    "item = ds.__getitem__(idx)\n",
    "end = time.time()\n",
    "disk_spaces['lmdb_variant']['load_1'] = end - start\n",
    "print(end - start)"
   ]
  },
  {
   "cell_type": "code",
   "execution_count": 10,
   "metadata": {},
   "outputs": [],
   "source": [
    "# Multiple csv's"
   ]
  },
  {
   "cell_type": "code",
   "execution_count": 11,
   "metadata": {},
   "outputs": [],
   "source": [
    "# Big csv"
   ]
  },
  {
   "cell_type": "code",
   "execution_count": 16,
   "metadata": {},
   "outputs": [],
   "source": [
    "# LMDB by batch"
   ]
  },
  {
   "cell_type": "code",
   "execution_count": null,
   "metadata": {},
   "outputs": [],
   "source": [
    "# Sparse matrix"
   ]
  }
 ],
 "metadata": {
  "kernelspec": {
   "display_name": "Python [conda env:kipoi-cadd2]",
   "language": "python",
   "name": "conda-env-kipoi-cadd2-py"
  },
  "language_info": {
   "codemirror_mode": {
    "name": "ipython",
    "version": 3
   },
   "file_extension": ".py",
   "mimetype": "text/x-python",
   "name": "python",
   "nbconvert_exporter": "python",
   "pygments_lexer": "ipython3",
   "version": "3.6.7"
  }
 },
 "nbformat": 4,
 "nbformat_minor": 2
}
