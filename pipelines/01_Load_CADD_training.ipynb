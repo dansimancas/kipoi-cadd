{
 "cells": [
  {
   "cell_type": "code",
   "execution_count": null,
   "metadata": {},
   "outputs": [],
   "source": [
    "import dask.dataframe as dd\n",
    "import pandas as pd"
   ]
  },
  {
   "cell_type": "markdown",
   "metadata": {},
   "source": [
    "## Data loading\n",
    "First, we load the training dataset, inspect it and determine how we want to partition it.\n",
    "According to the author, train.csv.gz is the *\"fully expanded variant set for direct training in a learning package\"*."
   ]
  },
  {
   "cell_type": "code",
   "execution_count": null,
   "metadata": {},
   "outputs": [],
   "source": [
    "cadd = '/s/project/kipoi-cadd/data/raw/v1.3/training_data/training_data.tsv.gz'\n",
    "cadd_df = pd.read_csv(cadd, sep='\\t', compression='gzip')\n",
    "cadd_df.head()"
   ]
  },
  {
   "cell_type": "markdown",
   "metadata": {},
   "source": [
    "## Replication of results\n",
    "- Aiming for CADD v1.3 which was trained using the Logistic Regression module from GraphLab Create v1.4\n",
    "- From their release notses: \"(..) we trained only one classifier using approximately 15 million human derived variants (newly extracted from EPO 6 primate alignments v75) versus approximately 15 million (newly) simulated variants. We used an L2 penalty of 1.0 and terminated training after 10 iterations.\""
   ]
  },
  {
   "cell_type": "code",
   "execution_count": null,
   "metadata": {},
   "outputs": [],
   "source": []
  }
 ],
 "metadata": {
  "kernelspec": {
   "display_name": "Python 3",
   "language": "python",
   "name": "python3"
  },
  "language_info": {
   "codemirror_mode": {
    "name": "ipython",
    "version": 3
   },
   "file_extension": ".py",
   "mimetype": "text/x-python",
   "name": "python",
   "nbconvert_exporter": "python",
   "pygments_lexer": "ipython3",
   "version": "3.6.7"
  }
 },
 "nbformat": 4,
 "nbformat_minor": 2
}
