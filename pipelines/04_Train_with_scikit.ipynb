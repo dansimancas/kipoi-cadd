{
 "cells": [
  {
   "cell_type": "markdown",
   "metadata": {},
   "source": [
    "# Train logistic regression with Scikit Learn\n",
    "Martin Kircher provided two training_data files: one is human readable and the other one is one-hot-encoded.\n",
    "Now we need to check that the information is actually in the same order."
   ]
  },
  {
   "cell_type": "code",
   "execution_count": 103,
   "metadata": {},
   "outputs": [],
   "source": [
    "import pandas as pd\n",
    "import numpy as np\n",
    "import sklearn\n",
    "from sklearn.model_selection import train_test_split\n",
    "from sklearn.model_selection import ShuffleSplit\n",
    "from sklearn.linear_model import LogisticRegression\n",
    "from sklearn.metrics import confusion_matrix"
   ]
  },
  {
   "cell_type": "markdown",
   "metadata": {},
   "source": [
    "## 1. Read in dataset with Dask"
   ]
  },
  {
   "cell_type": "code",
   "execution_count": 104,
   "metadata": {},
   "outputs": [
    {
     "data": {
      "text/html": [
       "<div>\n",
       "<style scoped>\n",
       "    .dataframe tbody tr th:only-of-type {\n",
       "        vertical-align: middle;\n",
       "    }\n",
       "\n",
       "    .dataframe tbody tr th {\n",
       "        vertical-align: top;\n",
       "    }\n",
       "\n",
       "    .dataframe thead th {\n",
       "        text-align: right;\n",
       "    }\n",
       "</style>\n",
       "<table border=\"1\" class=\"dataframe\">\n",
       "  <thead>\n",
       "    <tr style=\"text-align: right;\">\n",
       "      <th></th>\n",
       "      <th>y</th>\n",
       "      <th>Chrom</th>\n",
       "      <th>Pos</th>\n",
       "      <th>Ref</th>\n",
       "      <th>Alt</th>\n",
       "      <th>Type</th>\n",
       "      <th>Length</th>\n",
       "      <th>isTv</th>\n",
       "      <th>Consequence</th>\n",
       "      <th>GC</th>\n",
       "      <th>...</th>\n",
       "      <th>SIFTcat</th>\n",
       "      <th>SIFTval</th>\n",
       "      <th>mirSVR-Score.na</th>\n",
       "      <th>targetScan.na</th>\n",
       "      <th>cDNApos.na</th>\n",
       "      <th>CDSpos.na</th>\n",
       "      <th>protPos.na</th>\n",
       "      <th>Grantham.na</th>\n",
       "      <th>PolyPhenVal.na</th>\n",
       "      <th>SIFTval.na</th>\n",
       "    </tr>\n",
       "  </thead>\n",
       "  <tbody>\n",
       "    <tr>\n",
       "      <th>0</th>\n",
       "      <td>0</td>\n",
       "      <td>1</td>\n",
       "      <td>379177</td>\n",
       "      <td>T</td>\n",
       "      <td>G</td>\n",
       "      <td>SNV</td>\n",
       "      <td>0</td>\n",
       "      <td>1</td>\n",
       "      <td>NC</td>\n",
       "      <td>0.48</td>\n",
       "      <td>...</td>\n",
       "      <td>UD</td>\n",
       "      <td>0.0</td>\n",
       "      <td>1</td>\n",
       "      <td>1</td>\n",
       "      <td>0</td>\n",
       "      <td>1</td>\n",
       "      <td>1</td>\n",
       "      <td>1</td>\n",
       "      <td>1</td>\n",
       "      <td>1</td>\n",
       "    </tr>\n",
       "    <tr>\n",
       "      <th>1</th>\n",
       "      <td>0</td>\n",
       "      <td>1</td>\n",
       "      <td>379274</td>\n",
       "      <td>C</td>\n",
       "      <td>G</td>\n",
       "      <td>SNV</td>\n",
       "      <td>0</td>\n",
       "      <td>1</td>\n",
       "      <td>NC</td>\n",
       "      <td>0.54</td>\n",
       "      <td>...</td>\n",
       "      <td>UD</td>\n",
       "      <td>0.0</td>\n",
       "      <td>1</td>\n",
       "      <td>1</td>\n",
       "      <td>0</td>\n",
       "      <td>1</td>\n",
       "      <td>1</td>\n",
       "      <td>1</td>\n",
       "      <td>1</td>\n",
       "      <td>1</td>\n",
       "    </tr>\n",
       "    <tr>\n",
       "      <th>2</th>\n",
       "      <td>0</td>\n",
       "      <td>1</td>\n",
       "      <td>379476</td>\n",
       "      <td>A</td>\n",
       "      <td>T</td>\n",
       "      <td>SNV</td>\n",
       "      <td>0</td>\n",
       "      <td>1</td>\n",
       "      <td>UP</td>\n",
       "      <td>0.63</td>\n",
       "      <td>...</td>\n",
       "      <td>UD</td>\n",
       "      <td>0.0</td>\n",
       "      <td>1</td>\n",
       "      <td>1</td>\n",
       "      <td>1</td>\n",
       "      <td>1</td>\n",
       "      <td>1</td>\n",
       "      <td>1</td>\n",
       "      <td>1</td>\n",
       "      <td>1</td>\n",
       "    </tr>\n",
       "    <tr>\n",
       "      <th>3</th>\n",
       "      <td>0</td>\n",
       "      <td>1</td>\n",
       "      <td>379631</td>\n",
       "      <td>C</td>\n",
       "      <td>G</td>\n",
       "      <td>SNV</td>\n",
       "      <td>0</td>\n",
       "      <td>1</td>\n",
       "      <td>UP</td>\n",
       "      <td>0.34</td>\n",
       "      <td>...</td>\n",
       "      <td>UD</td>\n",
       "      <td>0.0</td>\n",
       "      <td>1</td>\n",
       "      <td>1</td>\n",
       "      <td>1</td>\n",
       "      <td>1</td>\n",
       "      <td>1</td>\n",
       "      <td>1</td>\n",
       "      <td>1</td>\n",
       "      <td>1</td>\n",
       "    </tr>\n",
       "    <tr>\n",
       "      <th>4</th>\n",
       "      <td>0</td>\n",
       "      <td>1</td>\n",
       "      <td>379724</td>\n",
       "      <td>A</td>\n",
       "      <td>G</td>\n",
       "      <td>SNV</td>\n",
       "      <td>0</td>\n",
       "      <td>0</td>\n",
       "      <td>UP</td>\n",
       "      <td>0.28</td>\n",
       "      <td>...</td>\n",
       "      <td>UD</td>\n",
       "      <td>0.0</td>\n",
       "      <td>1</td>\n",
       "      <td>1</td>\n",
       "      <td>1</td>\n",
       "      <td>1</td>\n",
       "      <td>1</td>\n",
       "      <td>1</td>\n",
       "      <td>1</td>\n",
       "      <td>1</td>\n",
       "    </tr>\n",
       "  </tbody>\n",
       "</table>\n",
       "<p>5 rows × 103 columns</p>\n",
       "</div>"
      ],
      "text/plain": [
       "   y  Chrom     Pos Ref Alt Type  Length  isTv Consequence    GC     ...      \\\n",
       "0  0      1  379177   T   G  SNV       0     1          NC  0.48     ...       \n",
       "1  0      1  379274   C   G  SNV       0     1          NC  0.54     ...       \n",
       "2  0      1  379476   A   T  SNV       0     1          UP  0.63     ...       \n",
       "3  0      1  379631   C   G  SNV       0     1          UP  0.34     ...       \n",
       "4  0      1  379724   A   G  SNV       0     0          UP  0.28     ...       \n",
       "\n",
       "   SIFTcat  SIFTval  mirSVR-Score.na  targetScan.na  cDNApos.na  CDSpos.na  \\\n",
       "0       UD      0.0                1              1           0          1   \n",
       "1       UD      0.0                1              1           0          1   \n",
       "2       UD      0.0                1              1           1          1   \n",
       "3       UD      0.0                1              1           1          1   \n",
       "4       UD      0.0                1              1           1          1   \n",
       "\n",
       "   protPos.na  Grantham.na  PolyPhenVal.na  SIFTval.na  \n",
       "0           1            1               1           1  \n",
       "1           1            1               1           1  \n",
       "2           1            1               1           1  \n",
       "3           1            1               1           1  \n",
       "4           1            1               1           1  \n",
       "\n",
       "[5 rows x 103 columns]"
      ]
     },
     "execution_count": 104,
     "metadata": {},
     "output_type": "execute_result"
    }
   ],
   "source": [
    "training = \"/s/project/kipoi-cadd/data/raw/v1.3/training_data/training_data.tsv\"\n",
    "training_imputed = \"/s/project/kipoi-cadd/data/raw/v1.3/training_data/training_data.imputed.csv\"\n",
    "\n",
    "training_df = pd.read_csv(training, sep='\\t', nrows=10000)\n",
    "training_imp_df = pd.read_csv(training_imputed, nrows=10000)\n",
    "training_df.head()"
   ]
  },
  {
   "cell_type": "code",
   "execution_count": 105,
   "metadata": {},
   "outputs": [
    {
     "name": "stderr",
     "output_type": "stream",
     "text": [
      "/opt/modules/i12g/anaconda/3-5.0.1/envs/kipoi-cadd2/lib/python3.6/site-packages/ipykernel/__main__.py:7: SettingWithCopyWarning: \n",
      "A value is trying to be set on a copy of a slice from a DataFrame\n",
      "\n",
      "See the caveats in the documentation: http://pandas.pydata.org/pandas-docs/stable/indexing.html#indexing-view-versus-copy\n"
     ]
    }
   ],
   "source": [
    "y = training_df.y\n",
    "X = training_imp_df.drop(columns=\"y\")\n",
    "\n",
    "# Inserting some artificial positive examples\n",
    "np.random.seed(10)\n",
    "msk = np.random.rand(len(y)) < 0.2\n",
    "y[msk] = 1"
   ]
  },
  {
   "cell_type": "code",
   "execution_count": 106,
   "metadata": {},
   "outputs": [],
   "source": [
    "X_train, X_test, y_train, y_test = train_test_split(X, y, train_size=0.8, test_size=0.2)"
   ]
  },
  {
   "cell_type": "code",
   "execution_count": 107,
   "metadata": {},
   "outputs": [
    {
     "name": "stdout",
     "output_type": "stream",
     "text": [
      "Droped 824 constant cols.\n"
     ]
    },
    {
     "name": "stderr",
     "output_type": "stream",
     "text": [
      "/opt/modules/i12g/anaconda/3-5.0.1/envs/kipoi-cadd2/lib/python3.6/site-packages/pandas/core/frame.py:3697: SettingWithCopyWarning: \n",
      "A value is trying to be set on a copy of a slice from a DataFrame\n",
      "\n",
      "See the caveats in the documentation: http://pandas.pydata.org/pandas-docs/stable/indexing.html#indexing-view-versus-copy\n",
      "  errors=errors)\n"
     ]
    }
   ],
   "source": [
    "# Drop constant columns\n",
    "constant_cols = set()\n",
    "dataset = X\n",
    "for col in dataset:\n",
    "    # print(dataset.shape, type(dataset))\n",
    "    # print(len(np.unique(dataset[col])))\n",
    "    if len(np.unique(dataset[col])) < 20 and col != 'y':\n",
    "        constant_cols.add(col)\n",
    "print(\"Droped\", len(constant_cols), \"constant cols.\")\n",
    "\n",
    "for dataset in [X_train, X_test, y_train, y_test]:\n",
    "    dataset.drop(columns=list(constant_cols), inplace=True, errors='ignore')\n",
    "\n",
    "X.drop(columns=list(constant_cols), inplace=True, errors='ignore')"
   ]
  },
  {
   "cell_type": "markdown",
   "metadata": {},
   "source": [
    "## 2. Split dataset into train and test"
   ]
  },
  {
   "cell_type": "code",
   "execution_count": 108,
   "metadata": {},
   "outputs": [
    {
     "data": {
      "text/plain": [
       "LogisticRegression(C=1.0, class_weight=None, dual=False, fit_intercept=True,\n",
       "          intercept_scaling=1, max_iter=100, multi_class='warn', n_jobs=10,\n",
       "          penalty='l2', random_state=None, solver='lbfgs', tol=0.0001,\n",
       "          verbose=0, warm_start=False)"
      ]
     },
     "execution_count": 108,
     "metadata": {},
     "output_type": "execute_result"
    }
   ],
   "source": [
    "lr = LogisticRegression(penalty='l2', solver='lbfgs', n_jobs=10)\n",
    "lr.fit(X_train, y_train)"
   ]
  },
  {
   "cell_type": "code",
   "execution_count": 109,
   "metadata": {},
   "outputs": [],
   "source": [
    "y_train_pred = lr.predict(X_train)"
   ]
  },
  {
   "cell_type": "code",
   "execution_count": 110,
   "metadata": {},
   "outputs": [
    {
     "name": "stdout",
     "output_type": "stream",
     "text": [
      "Read like \n",
      " tn, fp, \n",
      " fn, tp \n",
      "\n"
     ]
    },
    {
     "data": {
      "text/plain": [
       "array([[6304,    0],\n",
       "       [1695,    1]])"
      ]
     },
     "execution_count": 110,
     "metadata": {},
     "output_type": "execute_result"
    }
   ],
   "source": [
    "print(\"Read like \\n tn, fp, \\n fn, tp \\n\")\n",
    "tn, fp, fn, tp = confusion_matrix(y_train, y_train_pred).ravel()\n",
    "confusion_matrix(y_train, y_train_pred)"
   ]
  }
 ],
 "metadata": {
  "kernelspec": {
   "display_name": "Python [conda env:kipoi-cadd2]",
   "language": "python",
   "name": "conda-env-kipoi-cadd2-py"
  },
  "language_info": {
   "codemirror_mode": {
    "name": "ipython",
    "version": 3
   },
   "file_extension": ".py",
   "mimetype": "text/x-python",
   "name": "python",
   "nbconvert_exporter": "python",
   "pygments_lexer": "ipython3",
   "version": "3.6.6"
  }
 },
 "nbformat": 4,
 "nbformat_minor": 2
}
